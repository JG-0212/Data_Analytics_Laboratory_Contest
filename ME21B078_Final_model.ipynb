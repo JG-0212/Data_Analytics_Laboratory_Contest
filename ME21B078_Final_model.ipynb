{
 "cells": [
  {
   "cell_type": "code",
   "execution_count": 2,
   "metadata": {
    "execution": {
     "iopub.execute_input": "2024-11-14T15:11:17.635494Z",
     "iopub.status.busy": "2024-11-14T15:11:17.635060Z",
     "iopub.status.idle": "2024-11-14T15:11:30.935696Z",
     "shell.execute_reply": "2024-11-14T15:11:30.934898Z",
     "shell.execute_reply.started": "2024-11-14T15:11:17.635453Z"
    },
    "papermill": {
     "duration": 2.357765,
     "end_time": "2024-11-03T13:27:34.086603",
     "exception": false,
     "start_time": "2024-11-03T13:27:31.728838",
     "status": "completed"
    },
    "tags": []
   },
   "outputs": [],
   "source": [
    "#importing all libraries\n",
    "import numpy as np\n",
    "import pandas as pd\n",
    "import matplotlib.pyplot as plt\n",
    "import gc\n",
    "import string\n",
    "from tqdm import tqdm\n",
    "import pickle\n",
    "from sklearn.metrics import fbeta_score\n",
    "import seaborn as sns\n",
    "from sklearn.decomposition import PCA\n",
    "from sklearn.pipeline import make_pipeline\n",
    "import csv\n",
    "from collections import defaultdict\n",
    "from collections import Counter\n",
    "import tensorflow as tf\n",
    "from tensorflow.keras import backend as K\n",
    "from keras.utils import register_keras_serializable\n",
    "from tensorflow.keras.models import Sequential\n",
    "from tensorflow.keras.optimizers import Adam\n",
    "from tensorflow.keras import layers, models\n",
    "from tensorflow.keras.models import Model\n",
    "from tensorflow.keras.layers import Input, Conv1D, GlobalMaxPooling1D, Concatenate, Dense, Dropout\n",
    "from tensorflow.keras.optimizers import Adam\n",
    "import itertools\n",
    "from keras.callbacks import EarlyStopping\n",
    "from sklearn.preprocessing import MultiLabelBinarizer"
   ]
  },
  {
   "cell_type": "code",
   "execution_count": 3,
   "metadata": {
    "execution": {
     "iopub.execute_input": "2024-11-14T15:11:30.937667Z",
     "iopub.status.busy": "2024-11-14T15:11:30.937136Z",
     "iopub.status.idle": "2024-11-14T15:11:42.018941Z",
     "shell.execute_reply": "2024-11-14T15:11:42.017988Z",
     "shell.execute_reply.started": "2024-11-14T15:11:30.937632Z"
    },
    "papermill": {
     "duration": 8.372921,
     "end_time": "2024-11-03T13:27:42.502669",
     "exception": false,
     "start_time": "2024-11-03T13:27:34.129748",
     "status": "completed"
    },
    "tags": []
   },
   "outputs": [],
   "source": [
    "#loading the required data  (test and train are interchanged because with neural networks size wasn't an issue anymore)\n",
    "X_test,y_test,X_train,y_train = np.load('/kaggle/input/dal-train/embed_train.npy'),np.load('/kaggle/input/dal-train/labels_train.npy'),np.load('/kaggle/input/dal-train/embed_test.npy'),np.load('/kaggle/input/dal-train/labels_test.npy')\n",
    "real_test = np.load('/kaggle/input/dal-train/test_data.npy')"
   ]
  },
  {
   "cell_type": "code",
   "execution_count": null,
   "metadata": {},
   "outputs": [],
   "source": [
    "'''Code for loading data and removing the duplicate embeddings with misleading labels'''\n",
    "# da1 = np.load('embeddings_1.npy')\n",
    "# da2 = np.load('embeddings_2.npy')\n",
    "# da_all = np.vstack([da1,da2])\n",
    "# labels1 = pd.read_csv('icd_codes_1.txt',header = None)\n",
    "# labels1 = labels1[0].str.split(';')\n",
    "# labels2 = pd.read_csv('icd_codes_2.txt',header = None)\n",
    "# labels2 = labels2[0].str.split(';')\n",
    "# labels_all = pd.concat([labels1,labels2],axis = 0)\n",
    "# labels_all_tup = pd.Series([tuple(list) for list in labels_all])\n",
    "# data = pd.DataFrame(da_all)\n",
    "# data['Multilabels'] = labels_all_tup\n",
    "# data_uni = data.drop_duplicates(subset = data.columns[:-1],keep = False)\n",
    "# X,y = np.array(data_uni.iloc[:,:-1]),data_uni.iloc[:,-1]"
   ]
  },
  {
   "cell_type": "code",
   "execution_count": 4,
   "metadata": {
    "execution": {
     "iopub.execute_input": "2024-11-14T15:16:45.983114Z",
     "iopub.status.busy": "2024-11-14T15:16:45.982680Z",
     "iopub.status.idle": "2024-11-14T15:16:45.987582Z",
     "shell.execute_reply": "2024-11-14T15:16:45.986628Z",
     "shell.execute_reply.started": "2024-11-14T15:16:45.983075Z"
    },
    "papermill": {
     "duration": 0.019452,
     "end_time": "2024-11-03T13:27:43.218845",
     "exception": false,
     "start_time": "2024-11-03T13:27:43.199393",
     "status": "completed"
    },
    "tags": []
   },
   "outputs": [],
   "source": [
    "alphabets = list(string.ascii_uppercase)"
   ]
  },
  {
   "cell_type": "code",
   "execution_count": null,
   "metadata": {
    "papermill": {
     "duration": 0.031394,
     "end_time": "2024-11-03T13:27:43.292520",
     "exception": false,
     "start_time": "2024-11-03T13:27:43.261126",
     "status": "completed"
    },
    "tags": []
   },
   "outputs": [],
   "source": [
    "#mlb = MultiLabelBinarizer().fit(y_train)\n",
    "#mlb_letter = MultiLabelBinarizer().fit(y_starter_train)\n",
    "with open('/kaggle/input/dal-train/mlb.pkl','rb') as file:\n",
    "    mlb = pickle.load(file)\n",
    "with open('/kaggle/input/dal-train/mlb_letter.pkl','rb') as file:\n",
    "    mlb_letter = pickle.load(file)"
   ]
  },
  {
   "cell_type": "code",
   "execution_count": 6,
   "metadata": {
    "execution": {
     "iopub.execute_input": "2024-11-14T15:16:49.175760Z",
     "iopub.status.busy": "2024-11-14T15:16:49.175382Z",
     "iopub.status.idle": "2024-11-14T15:17:02.495754Z",
     "shell.execute_reply": "2024-11-14T15:17:02.494953Z",
     "shell.execute_reply.started": "2024-11-14T15:16:49.175723Z"
    },
    "papermill": {
     "duration": 27.407009,
     "end_time": "2024-11-03T13:28:10.712234",
     "exception": false,
     "start_time": "2024-11-03T13:27:43.305225",
     "status": "completed"
    },
    "tags": []
   },
   "outputs": [],
   "source": [
    "y_labels_train = mlb.inverse_transform(y_train)\n",
    "y_labels_test = mlb.inverse_transform(y_test)"
   ]
  },
  {
   "cell_type": "code",
   "execution_count": 7,
   "metadata": {
    "execution": {
     "iopub.execute_input": "2024-11-14T15:17:02.498220Z",
     "iopub.status.busy": "2024-11-14T15:17:02.497501Z",
     "iopub.status.idle": "2024-11-14T15:17:02.692873Z",
     "shell.execute_reply": "2024-11-14T15:17:02.692144Z",
     "shell.execute_reply.started": "2024-11-14T15:17:02.498176Z"
    },
    "papermill": {
     "duration": 0.388891,
     "end_time": "2024-11-03T13:28:11.114118",
     "exception": false,
     "start_time": "2024-11-03T13:28:10.725227",
     "status": "completed"
    },
    "tags": []
   },
   "outputs": [],
   "source": [
    "y_starter_train = [tuple(s[0] for s in tup) for tup in y_labels_train]\n",
    "y_starter_test = [tuple(s[0] for s in tup) for tup in y_labels_test]"
   ]
  },
  {
   "cell_type": "code",
   "execution_count": 8,
   "metadata": {
    "execution": {
     "iopub.execute_input": "2024-11-14T15:17:02.694274Z",
     "iopub.status.busy": "2024-11-14T15:17:02.693964Z",
     "iopub.status.idle": "2024-11-14T15:17:02.974644Z",
     "shell.execute_reply": "2024-11-14T15:17:02.973861Z",
     "shell.execute_reply.started": "2024-11-14T15:17:02.694242Z"
    },
    "papermill": {
     "duration": 0.56201,
     "end_time": "2024-11-03T13:28:11.688723",
     "exception": false,
     "start_time": "2024-11-03T13:28:11.126713",
     "status": "completed"
    },
    "tags": []
   },
   "outputs": [],
   "source": [
    "y_train_letter = mlb_letter.transform(y_starter_train)\n",
    "y_test_letter = mlb_letter.transform(y_starter_test)"
   ]
  },
  {
   "cell_type": "code",
   "execution_count": 29,
   "metadata": {
    "execution": {
     "iopub.execute_input": "2024-11-14T14:03:14.935120Z",
     "iopub.status.busy": "2024-11-14T14:03:14.934699Z",
     "iopub.status.idle": "2024-11-14T14:03:16.542492Z",
     "shell.execute_reply": "2024-11-14T14:03:16.541661Z",
     "shell.execute_reply.started": "2024-11-14T14:03:14.935082Z"
    }
   },
   "outputs": [],
   "source": [
    "'''Utility function for plotting the label distribution'''\n",
    "# def labels_in_cluster(cluster,labels_uni):\n",
    "#     '''\n",
    "#     cluster is a list of characters\n",
    "#     '''\n",
    "#     results = {}\n",
    "#     labels_all = [label for item in labels_uni for label in item]\n",
    "#     for cat in cluster:\n",
    "#         # print(set([label for label in labels_all if cat in label]))\n",
    "#         results[cat] = len(set([label for label in labels_all if label.startswith(cat)]))\n",
    "#     return results\n",
    "# label_dist_true = labels_in_cluster(alphabets,y_labels_train)"
   ]
  },
  {
   "cell_type": "code",
   "execution_count": 33,
   "metadata": {
    "execution": {
     "iopub.execute_input": "2024-11-14T14:05:32.521657Z",
     "iopub.status.busy": "2024-11-14T14:05:32.520739Z",
     "iopub.status.idle": "2024-11-14T14:06:38.854770Z",
     "shell.execute_reply": "2024-11-14T14:06:38.853777Z",
     "shell.execute_reply.started": "2024-11-14T14:05:32.521613Z"
    }
   },
   "outputs": [
    {
     "data": {
      "image/png": "[encoded data removed]",
      "text/plain": [
       "<Figure size 640x480 with 1 Axes>"
      ]
     },
     "metadata": {},
     "output_type": "display_data"
    },
    {
     "data": {
      "image/png": "[encoded data removed]",
      "text/plain": [
       "<Figure size 640x480 with 1 Axes>"
      ]
     },
     "metadata": {},
     "output_type": "display_data"
    },
    {
     "name": "stderr",
     "output_type": "stream",
     "text": [
      "0it [00:00, ?it/s]"
     ]
    },
    {
     "data": {
      "image/png": "[encoded data removed]",
      "text/plain": [
       "<Figure size 640x480 with 1 Axes>"
      ]
     },
     "metadata": {},
     "output_type": "display_data"
    },
    {
     "data": {
      "image/png": "[encoded data removed]",
      "text/plain": [
       "<Figure size 640x480 with 1 Axes>"
      ]
     },
     "metadata": {},
     "output_type": "display_data"
    },
    {
     "name": "stderr",
     "output_type": "stream",
     "text": [
      "0it [00:51, ?it/s]\n"
     ]
    }
   ],
   "source": [
    "'''Utility code for stratified sampling of the dataset'''\n",
    "# from skmultilearn.model_selection import IterativeStratification\n",
    "# stratifier = IterativeStratification(n_splits=5, order=1)\n",
    "\n",
    "\n",
    "# plt.figure(0)\n",
    "# alphas = label_dist_true.keys()\n",
    "# percents = np.fromiter(label_dist_true.values(),dtype = 'float32')\n",
    "# percents = percents*100/np.sum(percents)\n",
    "# plt.bar(alphas,percents)\n",
    "# plt.title('Original label distribution')\n",
    "# plt.show()\n",
    "\n",
    "# #Need to check individual label is fixed\n",
    "# clustering_count = Counter()\n",
    "# for ml in y_labels_train:\n",
    "#     clustering_count[ml] +=1\n",
    "\n",
    "# plt.figure(1)\n",
    "# plt.hist(clustering_count.values(),weights=np.ones(len(clustering_count.values())) / len(clustering_count.values()),bins = 10000)\n",
    "# plt.title('Original Multi label distribution')\n",
    "# plt.xlim(0,30)\n",
    "# plt.show()\n",
    "\n",
    "# # Split your dataset\n",
    "# # print(stratifier.split(data_uni.iloc[:,:-1], data_uni.iloc[:,-1]))\n",
    "# for train_indices,test_indices in tqdm(stratifier.split(X,y)):\n",
    "#     X_train_sample, y_train_sample = X[train_indices], y[train_indices]\n",
    "#     X_test_sample, y_test_sample =X[test_indices], y[test_indices]\n",
    "#     y_train_labels_sample = mlb.inverse_transform(np.array(y_train_sample))\n",
    "#     # print(y_train_labels[0])\n",
    "#     label_dist_sample = labels_in_cluster(alphabets,y_train_labels_sample)\n",
    "    \n",
    "#     plt.figure(0)\n",
    "#     alphas = label_dist_sample.keys()\n",
    "#     percents = np.fromiter(label_dist_sample.values(),dtype = 'float32')\n",
    "#     percents = percents*100/np.sum(percents)\n",
    "#     plt.bar(alphas,percents)\n",
    "#     plt.title('Sample label distribution')\n",
    "#     plt.show()\n",
    "#     #Need to check individual label is fixed\n",
    "#     clustering_count = Counter()\n",
    "#     for ml in y_train_labels_sample:\n",
    "#         clustering_count[ml] +=1\n",
    "    \n",
    "#     plt.figure(1)\n",
    "#     plt.hist(clustering_count.values(),weights=np.ones(len(clustering_count.values())) / len(clustering_count.values()),bins = 10000)\n",
    "#     plt.title('Sample Multi label distribution')\n",
    "#     plt.xlim(0,30)\n",
    "#     plt.show()\n",
    "#     break"
   ]
  },
  {
   "cell_type": "code",
   "execution_count": 13,
   "metadata": {
    "execution": {
     "iopub.execute_input": "2024-11-14T15:19:27.146832Z",
     "iopub.status.busy": "2024-11-14T15:19:27.146179Z",
     "iopub.status.idle": "2024-11-14T15:19:27.211490Z",
     "shell.execute_reply": "2024-11-14T15:19:27.210577Z",
     "shell.execute_reply.started": "2024-11-14T15:19:27.146791Z"
    }
   },
   "outputs": [
    {
     "name": "stdout",
     "output_type": "stream",
     "text": [
      "Counter({1: 17151, 2: 10874, 3: 5533, 4: 2843, 5: 1446, 6: 743, 7: 345, 8: 158, 9: 79, 10: 39, 11: 22, 12: 12, 14: 6, 13: 4, 16: 2, 15: 1})\n",
      "Counter({1: 25959, 2: 10335, 3: 2572, 4: 349, 5: 39, 6: 4})\n"
     ]
    }
   ],
   "source": [
    "final_length = np.sum(y_test,axis = 1)   #captures number of final labels assigned to each instance\n",
    "letter_length = np.sum(y_test_letter,axis = 1) # captures number of letters assigned to each instance\n",
    "print(Counter(final_length))\n",
    "print(Counter(letter_length))"
   ]
  },
  {
   "cell_type": "code",
   "execution_count": 14,
   "metadata": {
    "execution": {
     "iopub.execute_input": "2024-11-14T15:19:27.800450Z",
     "iopub.status.busy": "2024-11-14T15:19:27.800064Z",
     "iopub.status.idle": "2024-11-14T15:19:28.123568Z",
     "shell.execute_reply": "2024-11-14T15:19:28.122649Z",
     "shell.execute_reply.started": "2024-11-14T15:19:27.800415Z"
    }
   },
   "outputs": [
    {
     "data": {
      "image/png": "[encoded data removed]",
      "text/plain": [
       "<Figure size 640x480 with 1 Axes>"
      ]
     },
     "metadata": {},
     "output_type": "display_data"
    }
   ],
   "source": [
    "sns.countplot(x = final_length)\n",
    "plt.title('Distribution of number of final labels assigned to each data point')\n",
    "plt.show()"
   ]
  },
  {
   "cell_type": "code",
   "execution_count": 15,
   "metadata": {
    "execution": {
     "iopub.execute_input": "2024-11-14T15:19:28.343576Z",
     "iopub.status.busy": "2024-11-14T15:19:28.342793Z",
     "iopub.status.idle": "2024-11-14T15:19:28.582037Z",
     "shell.execute_reply": "2024-11-14T15:19:28.581086Z",
     "shell.execute_reply.started": "2024-11-14T15:19:28.343538Z"
    }
   },
   "outputs": [
    {
     "data": {
      "image/png": "[encoded data removed]",
      "text/plain": [
       "<Figure size 640x480 with 1 Axes>"
      ]
     },
     "metadata": {},
     "output_type": "display_data"
    }
   ],
   "source": [
    "sns.countplot(x = letter_length)\n",
    "plt.title('Distribution of number of letters assigned to each data point')\n",
    "plt.show()"
   ]
  },
  {
   "cell_type": "code",
   "execution_count": 16,
   "metadata": {
    "execution": {
     "iopub.execute_input": "2024-11-14T15:19:36.844122Z",
     "iopub.status.busy": "2024-11-14T15:19:36.843710Z",
     "iopub.status.idle": "2024-11-14T15:19:38.518735Z",
     "shell.execute_reply": "2024-11-14T15:19:38.517718Z",
     "shell.execute_reply.started": "2024-11-14T15:19:36.844082Z"
    }
   },
   "outputs": [
    {
     "data": {
      "image/png": "[encoded data removed]",
      "text/plain": [
       "<Figure size 1500x1500 with 2 Axes>"
      ]
     },
     "metadata": {},
     "output_type": "display_data"
    }
   ],
   "source": [
    "#co-occurence matrix\n",
    "com = y_test_letter.T@y_test_letter\n",
    "labels = [letter for letter in alphabets if letter!='P' and letter!='U']  # Replace with your actual labels\n",
    "\n",
    "# Plotting the heatmap with custom labels\n",
    "plt.figure(figsize=(15, 15))  # Adjust the figure size as needed\n",
    "sns.heatmap(com, annot=True, fmt=\"d\", cmap=\"YlGnBu\", cbar=True,\n",
    "            xticklabels=labels, yticklabels=labels)\n",
    "plt.title(\"Co-occurrence Matrix Heatmap\")\n",
    "plt.xlabel(\"Alphabet\")\n",
    "plt.ylabel(\"Alphabet\")\n",
    "plt.show()"
   ]
  },
  {
   "cell_type": "code",
   "execution_count": 8,
   "metadata": {
    "execution": {
     "iopub.execute_input": "2024-11-14T13:12:36.453639Z",
     "iopub.status.busy": "2024-11-14T13:12:36.452899Z",
     "iopub.status.idle": "2024-11-14T13:12:36.458448Z",
     "shell.execute_reply": "2024-11-14T13:12:36.457298Z",
     "shell.execute_reply.started": "2024-11-14T13:12:36.453593Z"
    }
   },
   "outputs": [],
   "source": [
    "mlabels = mlb.classes_"
   ]
  },
  {
   "cell_type": "code",
   "execution_count": 9,
   "metadata": {
    "execution": {
     "iopub.execute_input": "2024-11-14T13:12:36.460030Z",
     "iopub.status.busy": "2024-11-14T13:12:36.459734Z",
     "iopub.status.idle": "2024-11-14T13:12:36.698400Z",
     "shell.execute_reply": "2024-11-14T13:12:36.697344Z",
     "shell.execute_reply.started": "2024-11-14T13:12:36.459977Z"
    },
    "papermill": {
     "duration": 0.101462,
     "end_time": "2024-11-03T13:28:11.802699",
     "exception": false,
     "start_time": "2024-11-03T13:28:11.701237",
     "status": "completed"
    },
    "tags": []
   },
   "outputs": [
    {
     "data": {
      "text/plain": [
       "0"
      ]
     },
     "execution_count": 9,
     "metadata": {},
     "output_type": "execute_result"
    }
   ],
   "source": [
    "gc.collect()"
   ]
  },
  {
   "cell_type": "code",
   "execution_count": 10,
   "metadata": {
    "execution": {
     "iopub.execute_input": "2024-11-14T13:12:36.700217Z",
     "iopub.status.busy": "2024-11-14T13:12:36.699760Z",
     "iopub.status.idle": "2024-11-14T13:12:36.710630Z",
     "shell.execute_reply": "2024-11-14T13:12:36.709811Z",
     "shell.execute_reply.started": "2024-11-14T13:12:36.700171Z"
    }
   },
   "outputs": [],
   "source": [
    "'''Custom micro f2 fucntion because Keras doesn't have one'''\n",
    "@register_keras_serializable()\n",
    "def micro_f2(y_true, y_pred):\n",
    "    y_true = K.cast(y_true, tf.float32)\n",
    "    y_pred = K.cast(y_pred > 0.5, tf.float32)  # Threshold to get binary predictions\n",
    "    true_positives = K.sum(y_true * y_pred)\n",
    "    possible_positives = K.sum(y_true)\n",
    "    predicted_positives = K.sum(y_pred)\n",
    "    \n",
    "    precision = true_positives / (predicted_positives + K.epsilon())\n",
    "    recall = true_positives / (possible_positives + K.epsilon())\n",
    "    \n",
    "    f2 = (1 + 2**2) * (precision * recall) / (2**2 * precision + recall + K.epsilon())\n",
    "    return f2\n",
    "\n",
    "\n"
   ]
  },
  {
   "cell_type": "code",
   "execution_count": 11,
   "metadata": {
    "execution": {
     "iopub.execute_input": "2024-11-14T13:12:36.714097Z",
     "iopub.status.busy": "2024-11-14T13:12:36.713750Z",
     "iopub.status.idle": "2024-11-14T13:12:36.725923Z",
     "shell.execute_reply": "2024-11-14T13:12:36.724981Z",
     "shell.execute_reply.started": "2024-11-14T13:12:36.714064Z"
    }
   },
   "outputs": [],
   "source": [
    "'''Model architecture'''\n",
    "def build_model(input_length, num_labels, layer1 = 256, layer2 = 700, layer3 = 0.2):\n",
    "    model = models.Sequential()\n",
    "    model.add(layers.Input(shape=(1,input_length)))\n",
    "    model.add(layers.Bidirectional(layers.GRU(layer1, return_sequences=True)))\n",
    "    model.add(layers.Flatten())  # Flattening the output from the GRU layer\n",
    "    model.add(layers.Dense(layer2, activation='relu'))\n",
    "    model.add(layers.Dropout(layer3))\n",
    "    model.add(layers.Dense(num_labels, activation='sigmoid'))  # Sigmoid for multi-label classification\n",
    "    model.compile(optimizer='Adam',\n",
    "                  loss='binary_crossentropy',\n",
    "                  metrics=[micro_f2])\n",
    "\n",
    "    return model"
   ]
  },
  {
   "cell_type": "code",
   "execution_count": 12,
   "metadata": {
    "execution": {
     "iopub.execute_input": "2024-11-14T13:12:36.727349Z",
     "iopub.status.busy": "2024-11-14T13:12:36.727029Z",
     "iopub.status.idle": "2024-11-14T13:12:36.736337Z",
     "shell.execute_reply": "2024-11-14T13:12:36.735456Z",
     "shell.execute_reply.started": "2024-11-14T13:12:36.727304Z"
    }
   },
   "outputs": [],
   "source": [
    "'''Custom grid search process using itertools'''\n",
    "epochs1 = [5]\n",
    "batch_sizes1 = [128]\n",
    "es1 = [True]\n",
    "callback =EarlyStopping(monitor='val_micro_f2',mode = 'max',patience=5)\n",
    "params = list(itertools.product(epochs1,batch_sizes1,es1))\n"
   ]
  },
  {
   "cell_type": "code",
   "execution_count": 13,
   "metadata": {
    "execution": {
     "iopub.execute_input": "2024-11-14T13:12:36.738285Z",
     "iopub.status.busy": "2024-11-14T13:12:36.737539Z",
     "iopub.status.idle": "2024-11-14T13:13:30.845466Z",
     "shell.execute_reply": "2024-11-14T13:13:30.844459Z",
     "shell.execute_reply.started": "2024-11-14T13:12:36.738241Z"
    }
   },
   "outputs": [
    {
     "name": "stderr",
     "output_type": "stream",
     "text": [
      "  0%|          | 0/1 [00:00<?, ?it/s]"
     ]
    },
    {
     "name": "stdout",
     "output_type": "stream",
     "text": [
      "Epoch 1/5\n",
      "\u001b[1m1224/1224\u001b[0m \u001b[32m━━━━━━━━━━━━━━━━━━━━\u001b[0m\u001b[37m\u001b[0m \u001b[1m12s\u001b[0m 7ms/step - loss: 0.0551 - micro_f2: 0.8180 - val_loss: 0.0238 - val_micro_f2: 0.9150\n",
      "Epoch 2/5\n",
      "\u001b[1m1224/1224\u001b[0m \u001b[32m━━━━━━━━━━━━━━━━━━━━\u001b[0m\u001b[37m\u001b[0m \u001b[1m8s\u001b[0m 6ms/step - loss: 0.0218 - micro_f2: 0.9233 - val_loss: 0.0231 - val_micro_f2: 0.9209\n",
      "Epoch 3/5\n",
      "\u001b[1m1224/1224\u001b[0m \u001b[32m━━━━━━━━━━━━━━━━━━━━\u001b[0m\u001b[37m\u001b[0m \u001b[1m8s\u001b[0m 6ms/step - loss: 0.0189 - micro_f2: 0.9333 - val_loss: 0.0226 - val_micro_f2: 0.9242\n",
      "Epoch 4/5\n",
      "\u001b[1m1224/1224\u001b[0m \u001b[32m━━━━━━━━━━━━━━━━━━━━\u001b[0m\u001b[37m\u001b[0m \u001b[1m8s\u001b[0m 6ms/step - loss: 0.0163 - micro_f2: 0.9424 - val_loss: 0.0229 - val_micro_f2: 0.9264\n",
      "Epoch 5/5\n",
      "\u001b[1m1224/1224\u001b[0m \u001b[32m━━━━━━━━━━━━━━━━━━━━\u001b[0m\u001b[37m\u001b[0m \u001b[1m8s\u001b[0m 6ms/step - loss: 0.0141 - micro_f2: 0.9503 - val_loss: 0.0239 - val_micro_f2: 0.9254\n",
      "\u001b[1m3110/3110\u001b[0m \u001b[32m━━━━━━━━━━━━━━━━━━━━\u001b[0m\u001b[37m\u001b[0m \u001b[1m6s\u001b[0m 2ms/step\n"
     ]
    },
    {
     "name": "stderr",
     "output_type": "stream",
     "text": [
      "100%|██████████| 1/1 [00:54<00:00, 54.09s/it]\n"
     ]
    }
   ],
   "source": [
    "'''Iterating through the parameters and storing stage 1 predictions for stage 2'''\n",
    "pred1s = []\n",
    "for tup in tqdm(params):\n",
    "    epoch,batch_size,es = tup\n",
    "    stopper = []\n",
    "    if es == True:\n",
    "        stopper = callback\n",
    "    model1 = build_model(X_train.shape[1],y_train_letter.shape[1])\n",
    "    model1.fit(X_train.reshape(X_train.shape[0],1,X_train.shape[1]),y_train_letter, epochs = epoch, batch_size = batch_size,\\\n",
    "              callbacks = [callback], validation_data = (X_test.reshape(X_test.shape[0],1,X_test.shape[1]),y_test_letter))\n",
    "    pred1s.append(model1.predict(real_test.reshape(real_test.shape[0],1,real_test.shape[1]))>0.5)\n",
    "    "
   ]
  },
  {
   "cell_type": "code",
   "execution_count": 14,
   "metadata": {
    "execution": {
     "iopub.execute_input": "2024-11-14T13:13:30.847566Z",
     "iopub.status.busy": "2024-11-14T13:13:30.846877Z",
     "iopub.status.idle": "2024-11-14T13:13:30.853952Z",
     "shell.execute_reply": "2024-11-14T13:13:30.853061Z",
     "shell.execute_reply.started": "2024-11-14T13:13:30.847519Z"
    }
   },
   "outputs": [],
   "source": [
    "'''Custom function for filtering out data corresponding to single or a group of letters'''\n",
    "def filter_data_points(embeddings,labels, labels_to_check):\n",
    "    #choose rows who have atleast one entry in 'labels_to_check' and choose labels data only from 'labels_to_check' columns\n",
    "    interested_rows = np.any(labels[:, labels_to_check], axis=1)\n",
    "    interested_labels = labels[interested_rows]\n",
    "    filtered_labels = np.zeros((np.sum(interested_rows),labels.shape[1]))\n",
    "    filtered_labels[:,labels_to_check] += interested_labels[:,labels_to_check] \n",
    "    filtered_embeddings = embeddings[interested_rows]\n",
    "    return filtered_embeddings, filtered_labels"
   ]
  },
  {
   "cell_type": "code",
   "execution_count": 15,
   "metadata": {
    "execution": {
     "iopub.execute_input": "2024-11-14T13:13:30.855463Z",
     "iopub.status.busy": "2024-11-14T13:13:30.855167Z",
     "iopub.status.idle": "2024-11-14T13:13:30.869777Z",
     "shell.execute_reply": "2024-11-14T13:13:30.868790Z",
     "shell.execute_reply.started": "2024-11-14T13:13:30.855432Z"
    }
   },
   "outputs": [],
   "source": [
    "'''Tool for coupling letters'''\n",
    "coupler = defaultdict(list)\n",
    "coupler.update({'K':['B','I'],'N':['A'],'S':['V','W','X'],'T':['Y']})\n",
    "coupled = list(let for set in coupler.values() for let in set)"
   ]
  },
  {
   "cell_type": "code",
   "execution_count": 16,
   "metadata": {
    "execution": {
     "iopub.execute_input": "2024-11-14T13:13:30.871340Z",
     "iopub.status.busy": "2024-11-14T13:13:30.871016Z",
     "iopub.status.idle": "2024-11-14T13:13:30.884016Z",
     "shell.execute_reply": "2024-11-14T13:13:30.883120Z",
     "shell.execute_reply.started": "2024-11-14T13:13:30.871282Z"
    }
   },
   "outputs": [],
   "source": [
    "'''Grid search for stage 2 using itertools'''\n",
    "epochs2 = [20]\n",
    "batch_sizes2 = [128]\n",
    "params2 = list(itertools.product(epochs2,batch_sizes2))\n",
    "early_stopping = EarlyStopping(monitor='micro_f2',mode = 'max', patience=5, restore_best_weights=True)"
   ]
  },
  {
   "cell_type": "code",
   "execution_count": 17,
   "metadata": {
    "execution": {
     "iopub.execute_input": "2024-11-14T13:13:30.885564Z",
     "iopub.status.busy": "2024-11-14T13:13:30.885198Z",
     "iopub.status.idle": "2024-11-14T13:18:09.432496Z",
     "shell.execute_reply": "2024-11-14T13:18:09.431521Z",
     "shell.execute_reply.started": "2024-11-14T13:13:30.885531Z"
    }
   },
   "outputs": [
    {
     "name": "stderr",
     "output_type": "stream",
     "text": [
      "  0%|          | 0/1 [00:00<?, ?it/s]\n",
      "  0%|          | 0/26 [00:00<?, ?it/s]\u001b[A"
     ]
    },
    {
     "name": "stdout",
     "output_type": "stream",
     "text": [
      "C\n",
      "[]\n",
      "Epoch 1/20\n",
      "\u001b[1m44/44\u001b[0m \u001b[32m━━━━━━━━━━━━━━━━━━━━\u001b[0m\u001b[37m\u001b[0m \u001b[1m3s\u001b[0m 13ms/step - loss: 0.2154 - micro_f2: 0.2341 - val_loss: 0.0229 - val_micro_f2: 0.7633\n",
      "Epoch 2/20\n",
      "\u001b[1m44/44\u001b[0m \u001b[32m━━━━━━━━━━━━━━━━━━━━\u001b[0m\u001b[37m\u001b[0m \u001b[1m0s\u001b[0m 7ms/step - loss: 0.0214 - micro_f2: 0.7930 - val_loss: 0.0161 - val_micro_f2: 0.8537\n",
      "Epoch 3/20\n",
      "\u001b[1m44/44\u001b[0m \u001b[32m━━━━━━━━━━━━━━━━━━━━\u001b[0m\u001b[37m\u001b[0m \u001b[1m0s\u001b[0m 7ms/step - loss: 0.0158 - micro_f2: 0.8579 - val_loss: 0.0154 - val_micro_f2: 0.8615\n",
      "Epoch 4/20\n",
      "\u001b[1m44/44\u001b[0m \u001b[32m━━━━━━━━━━━━━━━━━━━━\u001b[0m\u001b[37m\u001b[0m \u001b[1m0s\u001b[0m 6ms/step - loss: 0.0140 - micro_f2: 0.8756 - val_loss: 0.0148 - val_micro_f2: 0.8870\n",
      "Epoch 5/20\n",
      "\u001b[1m44/44\u001b[0m \u001b[32m━━━━━━━━━━━━━━━━━━━━\u001b[0m\u001b[37m\u001b[0m \u001b[1m0s\u001b[0m 6ms/step - loss: 0.0114 - micro_f2: 0.9003 - val_loss: 0.0140 - val_micro_f2: 0.8779\n",
      "Epoch 6/20\n",
      "\u001b[1m44/44\u001b[0m \u001b[32m━━━━━━━━━━━━━━━━━━━━\u001b[0m\u001b[37m\u001b[0m \u001b[1m0s\u001b[0m 6ms/step - loss: 0.0099 - micro_f2: 0.9142 - val_loss: 0.0147 - val_micro_f2: 0.8790\n",
      "Epoch 7/20\n",
      "\u001b[1m44/44\u001b[0m \u001b[32m━━━━━━━━━━━━━━━━━━━━\u001b[0m\u001b[37m\u001b[0m \u001b[1m0s\u001b[0m 7ms/step - loss: 0.0092 - micro_f2: 0.9218 - val_loss: 0.0141 - val_micro_f2: 0.8815\n",
      "Epoch 8/20\n",
      "\u001b[1m44/44\u001b[0m \u001b[32m━━━━━━━━━━━━━━━━━━━━\u001b[0m\u001b[37m\u001b[0m \u001b[1m0s\u001b[0m 6ms/step - loss: 0.0080 - micro_f2: 0.9347 - val_loss: 0.0153 - val_micro_f2: 0.8802\n",
      "Epoch 9/20\n",
      "\u001b[1m44/44\u001b[0m \u001b[32m━━━━━━━━━━━━━━━━━━━━\u001b[0m\u001b[37m\u001b[0m \u001b[1m0s\u001b[0m 6ms/step - loss: 0.0071 - micro_f2: 0.9420 - val_loss: 0.0160 - val_micro_f2: 0.8705\n",
      "Epoch 10/20\n",
      "\u001b[1m44/44\u001b[0m \u001b[32m━━━━━━━━━━━━━━━━━━━━\u001b[0m\u001b[37m\u001b[0m \u001b[1m0s\u001b[0m 6ms/step - loss: 0.0073 - micro_f2: 0.9396 - val_loss: 0.0155 - val_micro_f2: 0.8866\n",
      "Epoch 11/20\n",
      "\u001b[1m44/44\u001b[0m \u001b[32m━━━━━━━━━━━━━━━━━━━━\u001b[0m\u001b[37m\u001b[0m \u001b[1m0s\u001b[0m 6ms/step - loss: 0.0056 - micro_f2: 0.9513 - val_loss: 0.0156 - val_micro_f2: 0.8772\n",
      "Epoch 12/20\n",
      "\u001b[1m44/44\u001b[0m \u001b[32m━━━━━━━━━━━━━━━━━━━━\u001b[0m\u001b[37m\u001b[0m \u001b[1m0s\u001b[0m 6ms/step - loss: 0.0057 - micro_f2: 0.9536 - val_loss: 0.0167 - val_micro_f2: 0.8834\n",
      "Epoch 13/20\n",
      "\u001b[1m44/44\u001b[0m \u001b[32m━━━━━━━━━━━━━━━━━━━━\u001b[0m\u001b[37m\u001b[0m \u001b[1m0s\u001b[0m 6ms/step - loss: 0.0048 - micro_f2: 0.9600 - val_loss: 0.0167 - val_micro_f2: 0.8751\n",
      "Epoch 14/20\n",
      "\u001b[1m44/44\u001b[0m \u001b[32m━━━━━━━━━━━━━━━━━━━━\u001b[0m\u001b[37m\u001b[0m \u001b[1m0s\u001b[0m 6ms/step - loss: 0.0045 - micro_f2: 0.9649 - val_loss: 0.0165 - val_micro_f2: 0.8778\n",
      "Epoch 15/20\n",
      "\u001b[1m44/44\u001b[0m \u001b[32m━━━━━━━━━━━━━━━━━━━━\u001b[0m\u001b[37m\u001b[0m \u001b[1m0s\u001b[0m 7ms/step - loss: 0.0036 - micro_f2: 0.9733 - val_loss: 0.0177 - val_micro_f2: 0.8754\n",
      "Epoch 16/20\n",
      "\u001b[1m44/44\u001b[0m \u001b[32m━━━━━━━━━━━━━━━━━━━━\u001b[0m\u001b[37m\u001b[0m \u001b[1m0s\u001b[0m 6ms/step - loss: 0.0040 - micro_f2: 0.9697 - val_loss: 0.0174 - val_micro_f2: 0.8865\n",
      "Epoch 17/20\n",
      "\u001b[1m44/44\u001b[0m \u001b[32m━━━━━━━━━━━━━━━━━━━━\u001b[0m\u001b[37m\u001b[0m \u001b[1m0s\u001b[0m 6ms/step - loss: 0.0030 - micro_f2: 0.9779 - val_loss: 0.0193 - val_micro_f2: 0.8757\n",
      "Epoch 18/20\n",
      "\u001b[1m44/44\u001b[0m \u001b[32m━━━━━━━━━━━━━━━━━━━━\u001b[0m\u001b[37m\u001b[0m \u001b[1m0s\u001b[0m 7ms/step - loss: 0.0026 - micro_f2: 0.9813 - val_loss: 0.0198 - val_micro_f2: 0.8832\n",
      "Epoch 19/20\n",
      "\u001b[1m44/44\u001b[0m \u001b[32m━━━━━━━━━━━━━━━━━━━━\u001b[0m\u001b[37m\u001b[0m \u001b[1m0s\u001b[0m 7ms/step - loss: 0.0023 - micro_f2: 0.9816 - val_loss: 0.0192 - val_micro_f2: 0.8777\n",
      "Epoch 20/20\n",
      "\u001b[1m44/44\u001b[0m \u001b[32m━━━━━━━━━━━━━━━━━━━━\u001b[0m\u001b[37m\u001b[0m \u001b[1m0s\u001b[0m 6ms/step - loss: 0.0024 - micro_f2: 0.9828 - val_loss: 0.0196 - val_micro_f2: 0.8796\n"
     ]
    },
    {
     "name": "stderr",
     "output_type": "stream",
     "text": [
      "\n",
      " 12%|█▏        | 3/26 [00:08<01:06,  2.89s/it]\u001b[A"
     ]
    },
    {
     "name": "stdout",
     "output_type": "stream",
     "text": [
      "D\n",
      "[]\n",
      "Epoch 1/20\n",
      "\u001b[1m107/107\u001b[0m \u001b[32m━━━━━━━━━━━━━━━━━━━━\u001b[0m\u001b[37m\u001b[0m \u001b[1m3s\u001b[0m 9ms/step - loss: 0.1510 - micro_f2: 0.2580 - val_loss: 0.0189 - val_micro_f2: 0.7519\n",
      "Epoch 2/20\n",
      "\u001b[1m107/107\u001b[0m \u001b[32m━━━━━━━━━━━━━━━━━━━━\u001b[0m\u001b[37m\u001b[0m \u001b[1m1s\u001b[0m 6ms/step - loss: 0.0183 - micro_f2: 0.7811 - val_loss: 0.0148 - val_micro_f2: 0.8179\n",
      "Epoch 3/20\n",
      "\u001b[1m107/107\u001b[0m \u001b[32m━━━━━━━━━━━━━━━━━━━━\u001b[0m\u001b[37m\u001b[0m \u001b[1m1s\u001b[0m 6ms/step - loss: 0.0144 - micro_f2: 0.8326 - val_loss: 0.0142 - val_micro_f2: 0.8206\n",
      "Epoch 4/20\n",
      "\u001b[1m107/107\u001b[0m \u001b[32m━━━━━━━━━━━━━━━━━━━━\u001b[0m\u001b[37m\u001b[0m \u001b[1m1s\u001b[0m 6ms/step - loss: 0.0123 - micro_f2: 0.8548 - val_loss: 0.0138 - val_micro_f2: 0.8404\n",
      "Epoch 5/20\n",
      "\u001b[1m107/107\u001b[0m \u001b[32m━━━━━━━━━━━━━━━━━━━━\u001b[0m\u001b[37m\u001b[0m \u001b[1m1s\u001b[0m 6ms/step - loss: 0.0106 - micro_f2: 0.8785 - val_loss: 0.0137 - val_micro_f2: 0.8355\n",
      "Epoch 6/20\n",
      "\u001b[1m107/107\u001b[0m \u001b[32m━━━━━━━━━━━━━━━━━━━━\u001b[0m\u001b[37m\u001b[0m \u001b[1m1s\u001b[0m 6ms/step - loss: 0.0095 - micro_f2: 0.8938 - val_loss: 0.0142 - val_micro_f2: 0.8273\n",
      "Epoch 7/20\n",
      "\u001b[1m107/107\u001b[0m \u001b[32m━━━━━━━━━━━━━━━━━━━━\u001b[0m\u001b[37m\u001b[0m \u001b[1m1s\u001b[0m 6ms/step - loss: 0.0086 - micro_f2: 0.9012 - val_loss: 0.0143 - val_micro_f2: 0.8346\n",
      "Epoch 8/20\n",
      "\u001b[1m107/107\u001b[0m \u001b[32m━━━━━━━━━━━━━━━━━━━━\u001b[0m\u001b[37m\u001b[0m \u001b[1m1s\u001b[0m 6ms/step - loss: 0.0077 - micro_f2: 0.9108 - val_loss: 0.0144 - val_micro_f2: 0.8291\n",
      "Epoch 9/20\n",
      "\u001b[1m107/107\u001b[0m \u001b[32m━━━━━━━━━━━━━━━━━━━━\u001b[0m\u001b[37m\u001b[0m \u001b[1m1s\u001b[0m 6ms/step - loss: 0.0066 - micro_f2: 0.9248 - val_loss: 0.0146 - val_micro_f2: 0.8353\n",
      "Epoch 10/20\n",
      "\u001b[1m107/107\u001b[0m \u001b[32m━━━━━━━━━━━━━━━━━━━━\u001b[0m\u001b[37m\u001b[0m \u001b[1m1s\u001b[0m 7ms/step - loss: 0.0056 - micro_f2: 0.9374 - val_loss: 0.0151 - val_micro_f2: 0.8376\n",
      "Epoch 11/20\n",
      "\u001b[1m107/107\u001b[0m \u001b[32m━━━━━━━━━━━━━━━━━━━━\u001b[0m\u001b[37m\u001b[0m \u001b[1m1s\u001b[0m 7ms/step - loss: 0.0051 - micro_f2: 0.9426 - val_loss: 0.0164 - val_micro_f2: 0.8303\n",
      "Epoch 12/20\n",
      "\u001b[1m107/107\u001b[0m \u001b[32m━━━━━━━━━━━━━━━━━━━━\u001b[0m\u001b[37m\u001b[0m \u001b[1m1s\u001b[0m 6ms/step - loss: 0.0045 - micro_f2: 0.9531 - val_loss: 0.0165 - val_micro_f2: 0.8293\n",
      "Epoch 13/20\n",
      "\u001b[1m107/107\u001b[0m \u001b[32m━━━━━━━━━━━━━━━━━━━━\u001b[0m\u001b[37m\u001b[0m \u001b[1m1s\u001b[0m 6ms/step - loss: 0.0041 - micro_f2: 0.9594 - val_loss: 0.0166 - val_micro_f2: 0.8385\n",
      "Epoch 14/20\n",
      "\u001b[1m107/107\u001b[0m \u001b[32m━━━━━━━━━━━━━━━━━━━━\u001b[0m\u001b[37m\u001b[0m \u001b[1m1s\u001b[0m 6ms/step - loss: 0.0033 - micro_f2: 0.9653 - val_loss: 0.0171 - val_micro_f2: 0.8348\n",
      "Epoch 15/20\n",
      "\u001b[1m107/107\u001b[0m \u001b[32m━━━━━━━━━━━━━━━━━━━━\u001b[0m\u001b[37m\u001b[0m \u001b[1m1s\u001b[0m 6ms/step - loss: 0.0029 - micro_f2: 0.9725 - val_loss: 0.0180 - val_micro_f2: 0.8367\n",
      "Epoch 16/20\n",
      "\u001b[1m107/107\u001b[0m \u001b[32m━━━━━━━━━━━━━━━━━━━━\u001b[0m\u001b[37m\u001b[0m \u001b[1m1s\u001b[0m 6ms/step - loss: 0.0028 - micro_f2: 0.9722 - val_loss: 0.0193 - val_micro_f2: 0.8349\n",
      "Epoch 17/20\n",
      "\u001b[1m107/107\u001b[0m \u001b[32m━━━━━━━━━━━━━━━━━━━━\u001b[0m\u001b[37m\u001b[0m \u001b[1m1s\u001b[0m 6ms/step - loss: 0.0027 - micro_f2: 0.9731 - val_loss: 0.0193 - val_micro_f2: 0.8316\n",
      "Epoch 18/20\n",
      "\u001b[1m107/107\u001b[0m \u001b[32m━━━━━━━━━━━━━━━━━━━━\u001b[0m\u001b[37m\u001b[0m \u001b[1m1s\u001b[0m 6ms/step - loss: 0.0022 - micro_f2: 0.9801 - val_loss: 0.0206 - val_micro_f2: 0.8377\n",
      "Epoch 19/20\n",
      "\u001b[1m107/107\u001b[0m \u001b[32m━━━━━━━━━━━━━━━━━━━━\u001b[0m\u001b[37m\u001b[0m \u001b[1m1s\u001b[0m 6ms/step - loss: 0.0020 - micro_f2: 0.9817 - val_loss: 0.0206 - val_micro_f2: 0.8332\n",
      "Epoch 20/20\n",
      "\u001b[1m107/107\u001b[0m \u001b[32m━━━━━━━━━━━━━━━━━━━━\u001b[0m\u001b[37m\u001b[0m \u001b[1m1s\u001b[0m 6ms/step - loss: 0.0016 - micro_f2: 0.9840 - val_loss: 0.0216 - val_micro_f2: 0.8385\n"
     ]
    },
    {
     "name": "stderr",
     "output_type": "stream",
     "text": [
      "\n",
      " 15%|█▌        | 4/26 [00:25<02:41,  7.33s/it]\u001b[A"
     ]
    },
    {
     "name": "stdout",
     "output_type": "stream",
     "text": [
      "E\n",
      "[]\n",
      "Epoch 1/20\n",
      "\u001b[1m29/29\u001b[0m \u001b[32m━━━━━━━━━━━━━━━━━━━━\u001b[0m\u001b[37m\u001b[0m \u001b[1m3s\u001b[0m 18ms/step - loss: 0.2452 - micro_f2: 0.4311 - val_loss: 0.0359 - val_micro_f2: 0.7808\n",
      "Epoch 2/20\n",
      "\u001b[1m29/29\u001b[0m \u001b[32m━━━━━━━━━━━━━━━━━━━━\u001b[0m\u001b[37m\u001b[0m \u001b[1m0s\u001b[0m 7ms/step - loss: 0.0343 - micro_f2: 0.8062 - val_loss: 0.0241 - val_micro_f2: 0.8770\n",
      "Epoch 3/20\n",
      "\u001b[1m29/29\u001b[0m \u001b[32m━━━━━━━━━━━━━━━━━━━━\u001b[0m\u001b[37m\u001b[0m \u001b[1m0s\u001b[0m 7ms/step - loss: 0.0248 - micro_f2: 0.8741 - val_loss: 0.0226 - val_micro_f2: 0.8957\n",
      "Epoch 4/20\n",
      "\u001b[1m29/29\u001b[0m \u001b[32m━━━━━━━━━━━━━━━━━━━━\u001b[0m\u001b[37m\u001b[0m \u001b[1m0s\u001b[0m 7ms/step - loss: 0.0185 - micro_f2: 0.9072 - val_loss: 0.0211 - val_micro_f2: 0.9121\n",
      "Epoch 5/20\n",
      "\u001b[1m29/29\u001b[0m \u001b[32m━━━━━━━━━━━━━━━━━━━━\u001b[0m\u001b[37m\u001b[0m \u001b[1m0s\u001b[0m 7ms/step - loss: 0.0158 - micro_f2: 0.9309 - val_loss: 0.0226 - val_micro_f2: 0.9066\n",
      "Epoch 6/20\n",
      "\u001b[1m29/29\u001b[0m \u001b[32m━━━━━━━━━━━━━━━━━━━━\u001b[0m\u001b[37m\u001b[0m \u001b[1m0s\u001b[0m 7ms/step - loss: 0.0144 - micro_f2: 0.9339 - val_loss: 0.0214 - val_micro_f2: 0.9119\n",
      "Epoch 7/20\n",
      "\u001b[1m29/29\u001b[0m \u001b[32m━━━━━━━━━━━━━━━━━━━━\u001b[0m\u001b[37m\u001b[0m \u001b[1m0s\u001b[0m 7ms/step - loss: 0.0130 - micro_f2: 0.9427 - val_loss: 0.0212 - val_micro_f2: 0.9111\n",
      "Epoch 8/20\n",
      "\u001b[1m29/29\u001b[0m \u001b[32m━━━━━━━━━━━━━━━━━━━━\u001b[0m\u001b[37m\u001b[0m \u001b[1m0s\u001b[0m 8ms/step - loss: 0.0110 - micro_f2: 0.9507 - val_loss: 0.0205 - val_micro_f2: 0.9203\n",
      "Epoch 9/20\n",
      "\u001b[1m29/29\u001b[0m \u001b[32m━━━━━━━━━━━━━━━━━━━━\u001b[0m\u001b[37m\u001b[0m \u001b[1m0s\u001b[0m 8ms/step - loss: 0.0099 - micro_f2: 0.9577 - val_loss: 0.0221 - val_micro_f2: 0.9188\n",
      "Epoch 10/20\n",
      "\u001b[1m29/29\u001b[0m \u001b[32m━━━━━━━━━━━━━━━━━━━━\u001b[0m\u001b[37m\u001b[0m \u001b[1m0s\u001b[0m 9ms/step - loss: 0.0081 - micro_f2: 0.9654 - val_loss: 0.0215 - val_micro_f2: 0.9218\n",
      "Epoch 11/20\n",
      "\u001b[1m29/29\u001b[0m \u001b[32m━━━━━━━━━━━━━━━━━━━━\u001b[0m\u001b[37m\u001b[0m \u001b[1m0s\u001b[0m 8ms/step - loss: 0.0077 - micro_f2: 0.9661 - val_loss: 0.0236 - val_micro_f2: 0.9157\n",
      "Epoch 12/20\n",
      "\u001b[1m29/29\u001b[0m \u001b[32m━━━━━━━━━━━━━━━━━━━━\u001b[0m\u001b[37m\u001b[0m \u001b[1m0s\u001b[0m 8ms/step - loss: 0.0069 - micro_f2: 0.9710 - val_loss: 0.0236 - val_micro_f2: 0.9150\n",
      "Epoch 13/20\n",
      "\u001b[1m29/29\u001b[0m \u001b[32m━━━━━━━━━━━━━━━━━━━━\u001b[0m\u001b[37m\u001b[0m \u001b[1m0s\u001b[0m 7ms/step - loss: 0.0066 - micro_f2: 0.9720 - val_loss: 0.0238 - val_micro_f2: 0.9228\n",
      "Epoch 14/20\n",
      "\u001b[1m29/29\u001b[0m \u001b[32m━━━━━━━━━━━━━━━━━━━━\u001b[0m\u001b[37m\u001b[0m \u001b[1m0s\u001b[0m 7ms/step - loss: 0.0054 - micro_f2: 0.9787 - val_loss: 0.0289 - val_micro_f2: 0.9002\n",
      "Epoch 15/20\n",
      "\u001b[1m29/29\u001b[0m \u001b[32m━━━━━━━━━━━━━━━━━━━━\u001b[0m\u001b[37m\u001b[0m \u001b[1m0s\u001b[0m 7ms/step - loss: 0.0060 - micro_f2: 0.9730 - val_loss: 0.0264 - val_micro_f2: 0.9211\n",
      "Epoch 16/20\n",
      "\u001b[1m29/29\u001b[0m \u001b[32m━━━━━━━━━━━━━━━━━━━━\u001b[0m\u001b[37m\u001b[0m \u001b[1m0s\u001b[0m 7ms/step - loss: 0.0052 - micro_f2: 0.9787 - val_loss: 0.0263 - val_micro_f2: 0.9116\n",
      "Epoch 17/20\n",
      "\u001b[1m29/29\u001b[0m \u001b[32m━━━━━━━━━━━━━━━━━━━━\u001b[0m\u001b[37m\u001b[0m \u001b[1m0s\u001b[0m 7ms/step - loss: 0.0044 - micro_f2: 0.9819 - val_loss: 0.0277 - val_micro_f2: 0.9196\n",
      "Epoch 18/20\n",
      "\u001b[1m29/29\u001b[0m \u001b[32m━━━━━━━━━━━━━━━━━━━━\u001b[0m\u001b[37m\u001b[0m \u001b[1m0s\u001b[0m 7ms/step - loss: 0.0034 - micro_f2: 0.9878 - val_loss: 0.0282 - val_micro_f2: 0.9149\n",
      "Epoch 19/20\n",
      "\u001b[1m29/29\u001b[0m \u001b[32m━━━━━━━━━━━━━━━━━━━━\u001b[0m\u001b[37m\u001b[0m \u001b[1m0s\u001b[0m 7ms/step - loss: 0.0030 - micro_f2: 0.9904 - val_loss: 0.0296 - val_micro_f2: 0.9068\n",
      "Epoch 20/20\n",
      "\u001b[1m29/29\u001b[0m \u001b[32m━━━━━━━━━━━━━━━━━━━━\u001b[0m\u001b[37m\u001b[0m \u001b[1m0s\u001b[0m 7ms/step - loss: 0.0031 - micro_f2: 0.9877 - val_loss: 0.0290 - val_micro_f2: 0.9130\n"
     ]
    },
    {
     "name": "stderr",
     "output_type": "stream",
     "text": [
      "\n",
      " 19%|█▉        | 5/26 [00:32<02:34,  7.37s/it]\u001b[A"
     ]
    },
    {
     "name": "stdout",
     "output_type": "stream",
     "text": [
      "F\n",
      "[]\n",
      "Epoch 1/20\n",
      "\u001b[1m15/15\u001b[0m \u001b[32m━━━━━━━━━━━━━━━━━━━━\u001b[0m\u001b[37m\u001b[0m \u001b[1m2s\u001b[0m 28ms/step - loss: 0.2956 - micro_f2: 0.6204 - val_loss: 0.1180 - val_micro_f2: 0.7931\n",
      "Epoch 2/20\n",
      "\u001b[1m15/15\u001b[0m \u001b[32m━━━━━━━━━━━━━━━━━━━━\u001b[0m\u001b[37m\u001b[0m \u001b[1m0s\u001b[0m 7ms/step - loss: 0.0868 - micro_f2: 0.8393 - val_loss: 0.1183 - val_micro_f2: 0.8356\n",
      "Epoch 3/20\n",
      "\u001b[1m15/15\u001b[0m \u001b[32m━━━━━━━━━━━━━━━━━━━━\u001b[0m\u001b[37m\u001b[0m \u001b[1m0s\u001b[0m 8ms/step - loss: 0.0750 - micro_f2: 0.8667 - val_loss: 0.0946 - val_micro_f2: 0.8186\n",
      "Epoch 4/20\n",
      "\u001b[1m15/15\u001b[0m \u001b[32m━━━━━━━━━━━━━━━━━━━━\u001b[0m\u001b[37m\u001b[0m \u001b[1m0s\u001b[0m 8ms/step - loss: 0.0709 - micro_f2: 0.8863 - val_loss: 0.1090 - val_micro_f2: 0.8176\n",
      "Epoch 5/20\n",
      "\u001b[1m15/15\u001b[0m \u001b[32m━━━━━━━━━━━━━━━━━━━━\u001b[0m\u001b[37m\u001b[0m \u001b[1m0s\u001b[0m 8ms/step - loss: 0.0700 - micro_f2: 0.8717 - val_loss: 0.0979 - val_micro_f2: 0.8255\n",
      "Epoch 6/20\n",
      "\u001b[1m15/15\u001b[0m \u001b[32m━━━━━━━━━━━━━━━━━━━━\u001b[0m\u001b[37m\u001b[0m \u001b[1m0s\u001b[0m 8ms/step - loss: 0.0589 - micro_f2: 0.8977 - val_loss: 0.0921 - val_micro_f2: 0.8414\n",
      "Epoch 7/20\n",
      "\u001b[1m15/15\u001b[0m \u001b[32m━━━━━━━━━━━━━━━━━━━━\u001b[0m\u001b[37m\u001b[0m \u001b[1m0s\u001b[0m 8ms/step - loss: 0.0567 - micro_f2: 0.9094 - val_loss: 0.0881 - val_micro_f2: 0.8467\n",
      "Epoch 8/20\n",
      "\u001b[1m15/15\u001b[0m \u001b[32m━━━━━━━━━━━━━━━━━━━━\u001b[0m\u001b[37m\u001b[0m \u001b[1m0s\u001b[0m 8ms/step - loss: 0.0610 - micro_f2: 0.8940 - val_loss: 0.0986 - val_micro_f2: 0.8466\n",
      "Epoch 9/20\n",
      "\u001b[1m15/15\u001b[0m \u001b[32m━━━━━━━━━━━━━━━━━━━━\u001b[0m\u001b[37m\u001b[0m \u001b[1m0s\u001b[0m 8ms/step - loss: 0.0593 - micro_f2: 0.9035 - val_loss: 0.0919 - val_micro_f2: 0.8370\n",
      "Epoch 10/20\n",
      "\u001b[1m15/15\u001b[0m \u001b[32m━━━━━━━━━━━━━━━━━━━━\u001b[0m\u001b[37m\u001b[0m \u001b[1m0s\u001b[0m 8ms/step - loss: 0.0609 - micro_f2: 0.8978 - val_loss: 0.0938 - val_micro_f2: 0.8312\n",
      "Epoch 11/20\n",
      "\u001b[1m15/15\u001b[0m \u001b[32m━━━━━━━━━━━━━━━━━━━━\u001b[0m\u001b[37m\u001b[0m \u001b[1m0s\u001b[0m 7ms/step - loss: 0.0569 - micro_f2: 0.9055 - val_loss: 0.0896 - val_micro_f2: 0.8387\n",
      "Epoch 12/20\n",
      "\u001b[1m15/15\u001b[0m \u001b[32m━━━━━━━━━━━━━━━━━━━━\u001b[0m\u001b[37m\u001b[0m \u001b[1m0s\u001b[0m 8ms/step - loss: 0.0600 - micro_f2: 0.8992 - val_loss: 0.0868 - val_micro_f2: 0.8591\n",
      "Epoch 13/20\n",
      "\u001b[1m15/15\u001b[0m \u001b[32m━━━━━━━━━━━━━━━━━━━━\u001b[0m\u001b[37m\u001b[0m \u001b[1m0s\u001b[0m 7ms/step - loss: 0.0565 - micro_f2: 0.9089 - val_loss: 0.0990 - val_micro_f2: 0.8401\n",
      "Epoch 14/20\n",
      "\u001b[1m15/15\u001b[0m \u001b[32m━━━━━━━━━━━━━━━━━━━━\u001b[0m\u001b[37m\u001b[0m \u001b[1m0s\u001b[0m 9ms/step - loss: 0.0527 - micro_f2: 0.9155 - val_loss: 0.0987 - val_micro_f2: 0.8362\n",
      "Epoch 15/20\n",
      "\u001b[1m15/15\u001b[0m \u001b[32m━━━━━━━━━━━━━━━━━━━━\u001b[0m\u001b[37m\u001b[0m \u001b[1m0s\u001b[0m 8ms/step - loss: 0.0542 - micro_f2: 0.9041 - val_loss: 0.0953 - val_micro_f2: 0.8421\n",
      "Epoch 16/20\n",
      "\u001b[1m15/15\u001b[0m \u001b[32m━━━━━━━━━━━━━━━━━━━━\u001b[0m\u001b[37m\u001b[0m \u001b[1m0s\u001b[0m 8ms/step - loss: 0.0491 - micro_f2: 0.9238 - val_loss: 0.1084 - val_micro_f2: 0.8386\n",
      "Epoch 17/20\n",
      "\u001b[1m15/15\u001b[0m \u001b[32m━━━━━━━━━━━━━━━━━━━━\u001b[0m\u001b[37m\u001b[0m \u001b[1m0s\u001b[0m 8ms/step - loss: 0.0568 - micro_f2: 0.9091 - val_loss: 0.0991 - val_micro_f2: 0.8473\n",
      "Epoch 18/20\n",
      "\u001b[1m15/15\u001b[0m \u001b[32m━━━━━━━━━━━━━━━━━━━━\u001b[0m\u001b[37m\u001b[0m \u001b[1m0s\u001b[0m 7ms/step - loss: 0.0488 - micro_f2: 0.9198 - val_loss: 0.1216 - val_micro_f2: 0.8458\n",
      "Epoch 19/20\n",
      "\u001b[1m15/15\u001b[0m \u001b[32m━━━━━━━━━━━━━━━━━━━━\u001b[0m\u001b[37m\u001b[0m \u001b[1m0s\u001b[0m 7ms/step - loss: 0.0567 - micro_f2: 0.9076 - val_loss: 0.1280 - val_micro_f2: 0.8374\n",
      "Epoch 20/20\n",
      "\u001b[1m15/15\u001b[0m \u001b[32m━━━━━━━━━━━━━━━━━━━━\u001b[0m\u001b[37m\u001b[0m \u001b[1m0s\u001b[0m 8ms/step - loss: 0.0565 - micro_f2: 0.9111 - val_loss: 0.1072 - val_micro_f2: 0.8395\n"
     ]
    },
    {
     "name": "stderr",
     "output_type": "stream",
     "text": [
      "\n",
      " 23%|██▎       | 6/26 [00:37<02:13,  6.67s/it]\u001b[A"
     ]
    },
    {
     "name": "stdout",
     "output_type": "stream",
     "text": [
      "G\n",
      "[]\n",
      "Epoch 1/20\n",
      "\u001b[1m66/66\u001b[0m \u001b[32m━━━━━━━━━━━━━━━━━━━━\u001b[0m\u001b[37m\u001b[0m \u001b[1m3s\u001b[0m 11ms/step - loss: 0.1539 - micro_f2: 0.5624 - val_loss: 0.0168 - val_micro_f2: 0.8916\n",
      "Epoch 2/20\n",
      "\u001b[1m66/66\u001b[0m \u001b[32m━━━━━━━━━━━━━━━━━━━━\u001b[0m\u001b[37m\u001b[0m \u001b[1m0s\u001b[0m 6ms/step - loss: 0.0176 - micro_f2: 0.8976 - val_loss: 0.0138 - val_micro_f2: 0.9079\n",
      "Epoch 3/20\n",
      "\u001b[1m66/66\u001b[0m \u001b[32m━━━━━━━━━━━━━━━━━━━━\u001b[0m\u001b[37m\u001b[0m \u001b[1m0s\u001b[0m 6ms/step - loss: 0.0150 - micro_f2: 0.9123 - val_loss: 0.0133 - val_micro_f2: 0.9214\n",
      "Epoch 4/20\n",
      "\u001b[1m66/66\u001b[0m \u001b[32m━━━━━━━━━━━━━━━━━━━━\u001b[0m\u001b[37m\u001b[0m \u001b[1m0s\u001b[0m 6ms/step - loss: 0.0136 - micro_f2: 0.9180 - val_loss: 0.0124 - val_micro_f2: 0.9196\n",
      "Epoch 5/20\n",
      "\u001b[1m66/66\u001b[0m \u001b[32m━━━━━━━━━━━━━━━━━━━━\u001b[0m\u001b[37m\u001b[0m \u001b[1m0s\u001b[0m 6ms/step - loss: 0.0123 - micro_f2: 0.9276 - val_loss: 0.0123 - val_micro_f2: 0.9260\n",
      "Epoch 6/20\n",
      "\u001b[1m66/66\u001b[0m \u001b[32m━━━━━━━━━━━━━━━━━━━━\u001b[0m\u001b[37m\u001b[0m \u001b[1m0s\u001b[0m 6ms/step - loss: 0.0107 - micro_f2: 0.9356 - val_loss: 0.0125 - val_micro_f2: 0.9227\n",
      "Epoch 7/20\n",
      "\u001b[1m66/66\u001b[0m \u001b[32m━━━━━━━━━━━━━━━━━━━━\u001b[0m\u001b[37m\u001b[0m \u001b[1m0s\u001b[0m 6ms/step - loss: 0.0097 - micro_f2: 0.9420 - val_loss: 0.0123 - val_micro_f2: 0.9172\n",
      "Epoch 8/20\n",
      "\u001b[1m66/66\u001b[0m \u001b[32m━━━━━━━━━━━━━━━━━━━━\u001b[0m\u001b[37m\u001b[0m \u001b[1m0s\u001b[0m 6ms/step - loss: 0.0098 - micro_f2: 0.9398 - val_loss: 0.0128 - val_micro_f2: 0.9221\n",
      "Epoch 9/20\n",
      "\u001b[1m66/66\u001b[0m \u001b[32m━━━━━━━━━━━━━━━━━━━━\u001b[0m\u001b[37m\u001b[0m \u001b[1m0s\u001b[0m 6ms/step - loss: 0.0086 - micro_f2: 0.9526 - val_loss: 0.0126 - val_micro_f2: 0.9198\n",
      "Epoch 10/20\n",
      "\u001b[1m66/66\u001b[0m \u001b[32m━━━━━━━━━━━━━━━━━━━━\u001b[0m\u001b[37m\u001b[0m \u001b[1m0s\u001b[0m 6ms/step - loss: 0.0095 - micro_f2: 0.9446 - val_loss: 0.0131 - val_micro_f2: 0.9239\n",
      "Epoch 11/20\n",
      "\u001b[1m66/66\u001b[0m \u001b[32m━━━━━━━━━━━━━━━━━━━━\u001b[0m\u001b[37m\u001b[0m \u001b[1m0s\u001b[0m 6ms/step - loss: 0.0084 - micro_f2: 0.9503 - val_loss: 0.0138 - val_micro_f2: 0.9240\n",
      "Epoch 12/20\n",
      "\u001b[1m66/66\u001b[0m \u001b[32m━━━━━━━━━━━━━━━━━━━━\u001b[0m\u001b[37m\u001b[0m \u001b[1m0s\u001b[0m 6ms/step - loss: 0.0072 - micro_f2: 0.9562 - val_loss: 0.0140 - val_micro_f2: 0.9231\n",
      "Epoch 13/20\n",
      "\u001b[1m66/66\u001b[0m \u001b[32m━━━━━━━━━━━━━━━━━━━━\u001b[0m\u001b[37m\u001b[0m \u001b[1m0s\u001b[0m 6ms/step - loss: 0.0078 - micro_f2: 0.9545 - val_loss: 0.0145 - val_micro_f2: 0.9208\n",
      "Epoch 14/20\n",
      "\u001b[1m66/66\u001b[0m \u001b[32m━━━━━━━━━━━━━━━━━━━━\u001b[0m\u001b[37m\u001b[0m \u001b[1m0s\u001b[0m 6ms/step - loss: 0.0067 - micro_f2: 0.9628 - val_loss: 0.0150 - val_micro_f2: 0.9242\n",
      "Epoch 15/20\n",
      "\u001b[1m66/66\u001b[0m \u001b[32m━━━━━━━━━━━━━━━━━━━━\u001b[0m\u001b[37m\u001b[0m \u001b[1m0s\u001b[0m 6ms/step - loss: 0.0061 - micro_f2: 0.9659 - val_loss: 0.0149 - val_micro_f2: 0.9174\n",
      "Epoch 16/20\n",
      "\u001b[1m66/66\u001b[0m \u001b[32m━━━━━━━━━━━━━━━━━━━━\u001b[0m\u001b[37m\u001b[0m \u001b[1m0s\u001b[0m 6ms/step - loss: 0.0060 - micro_f2: 0.9634 - val_loss: 0.0142 - val_micro_f2: 0.9238\n",
      "Epoch 17/20\n",
      "\u001b[1m66/66\u001b[0m \u001b[32m━━━━━━━━━━━━━━━━━━━━\u001b[0m\u001b[37m\u001b[0m \u001b[1m0s\u001b[0m 6ms/step - loss: 0.0057 - micro_f2: 0.9667 - val_loss: 0.0149 - val_micro_f2: 0.9220\n",
      "Epoch 18/20\n",
      "\u001b[1m66/66\u001b[0m \u001b[32m━━━━━━━━━━━━━━━━━━━━\u001b[0m\u001b[37m\u001b[0m \u001b[1m0s\u001b[0m 7ms/step - loss: 0.0058 - micro_f2: 0.9654 - val_loss: 0.0145 - val_micro_f2: 0.9237\n",
      "Epoch 19/20\n",
      "\u001b[1m66/66\u001b[0m \u001b[32m━━━━━━━━━━━━━━━━━━━━\u001b[0m\u001b[37m\u001b[0m \u001b[1m0s\u001b[0m 6ms/step - loss: 0.0057 - micro_f2: 0.9641 - val_loss: 0.0150 - val_micro_f2: 0.9236\n",
      "Epoch 20/20\n",
      "\u001b[1m66/66\u001b[0m \u001b[32m━━━━━━━━━━━━━━━━━━━━\u001b[0m\u001b[37m\u001b[0m \u001b[1m0s\u001b[0m 6ms/step - loss: 0.0050 - micro_f2: 0.9718 - val_loss: 0.0158 - val_micro_f2: 0.9213\n"
     ]
    },
    {
     "name": "stderr",
     "output_type": "stream",
     "text": [
      "\n",
      " 27%|██▋       | 7/26 [00:49<02:33,  8.10s/it]\u001b[A"
     ]
    },
    {
     "name": "stdout",
     "output_type": "stream",
     "text": [
      "H\n",
      "[]\n",
      "Epoch 1/20\n",
      "\u001b[1m224/224\u001b[0m \u001b[32m━━━━━━━━━━━━━━━━━━━━\u001b[0m\u001b[37m\u001b[0m \u001b[1m4s\u001b[0m 8ms/step - loss: 0.0888 - micro_f2: 0.2184 - val_loss: 0.0103 - val_micro_f2: 0.6242\n",
      "Epoch 2/20\n",
      "\u001b[1m224/224\u001b[0m \u001b[32m━━━━━━━━━━━━━━━━━━━━\u001b[0m\u001b[37m\u001b[0m \u001b[1m1s\u001b[0m 6ms/step - loss: 0.0108 - micro_f2: 0.6333 - val_loss: 0.0085 - val_micro_f2: 0.6905\n",
      "Epoch 3/20\n",
      "\u001b[1m224/224\u001b[0m \u001b[32m━━━━━━━━━━━━━━━━━━━━\u001b[0m\u001b[37m\u001b[0m \u001b[1m1s\u001b[0m 6ms/step - loss: 0.0088 - micro_f2: 0.7006 - val_loss: 0.0080 - val_micro_f2: 0.7267\n",
      "Epoch 4/20\n",
      "\u001b[1m224/224\u001b[0m \u001b[32m━━━━━━━━━━━━━━━━━━━━\u001b[0m\u001b[37m\u001b[0m \u001b[1m1s\u001b[0m 6ms/step - loss: 0.0080 - micro_f2: 0.7280 - val_loss: 0.0078 - val_micro_f2: 0.7371\n",
      "Epoch 5/20\n",
      "\u001b[1m224/224\u001b[0m \u001b[32m━━━━━━━━━━━━━━━━━━━━\u001b[0m\u001b[37m\u001b[0m \u001b[1m1s\u001b[0m 6ms/step - loss: 0.0073 - micro_f2: 0.7487 - val_loss: 0.0077 - val_micro_f2: 0.7421\n",
      "Epoch 6/20\n",
      "\u001b[1m224/224\u001b[0m \u001b[32m━━━━━━━━━━━━━━━━━━━━\u001b[0m\u001b[37m\u001b[0m \u001b[1m1s\u001b[0m 6ms/step - loss: 0.0070 - micro_f2: 0.7597 - val_loss: 0.0076 - val_micro_f2: 0.7444\n",
      "Epoch 7/20\n",
      "\u001b[1m224/224\u001b[0m \u001b[32m━━━━━━━━━━━━━━━━━━━━\u001b[0m\u001b[37m\u001b[0m \u001b[1m2s\u001b[0m 7ms/step - loss: 0.0065 - micro_f2: 0.7751 - val_loss: 0.0076 - val_micro_f2: 0.7544\n",
      "Epoch 8/20\n",
      "\u001b[1m224/224\u001b[0m \u001b[32m━━━━━━━━━━━━━━━━━━━━\u001b[0m\u001b[37m\u001b[0m \u001b[1m1s\u001b[0m 6ms/step - loss: 0.0062 - micro_f2: 0.7835 - val_loss: 0.0077 - val_micro_f2: 0.7478\n",
      "Epoch 9/20\n",
      "\u001b[1m224/224\u001b[0m \u001b[32m━━━━━━━━━━━━━━━━━━━━\u001b[0m\u001b[37m\u001b[0m \u001b[1m1s\u001b[0m 6ms/step - loss: 0.0058 - micro_f2: 0.7991 - val_loss: 0.0078 - val_micro_f2: 0.7426\n",
      "Epoch 10/20\n",
      "\u001b[1m224/224\u001b[0m \u001b[32m━━━━━━━━━━━━━━━━━━━━\u001b[0m\u001b[37m\u001b[0m \u001b[1m1s\u001b[0m 6ms/step - loss: 0.0054 - micro_f2: 0.8145 - val_loss: 0.0079 - val_micro_f2: 0.7548\n",
      "Epoch 11/20\n",
      "\u001b[1m224/224\u001b[0m \u001b[32m━━━━━━━━━━━━━━━━━━━━\u001b[0m\u001b[37m\u001b[0m \u001b[1m1s\u001b[0m 6ms/step - loss: 0.0051 - micro_f2: 0.8214 - val_loss: 0.0080 - val_micro_f2: 0.7579\n",
      "Epoch 12/20\n",
      "\u001b[1m224/224\u001b[0m \u001b[32m━━━━━━━━━━━━━━━━━━━━\u001b[0m\u001b[37m\u001b[0m \u001b[1m1s\u001b[0m 6ms/step - loss: 0.0048 - micro_f2: 0.8354 - val_loss: 0.0082 - val_micro_f2: 0.7572\n",
      "Epoch 13/20\n",
      "\u001b[1m224/224\u001b[0m \u001b[32m━━━━━━━━━━━━━━━━━━━━\u001b[0m\u001b[37m\u001b[0m \u001b[1m1s\u001b[0m 6ms/step - loss: 0.0044 - micro_f2: 0.8488 - val_loss: 0.0084 - val_micro_f2: 0.7530\n",
      "Epoch 14/20\n",
      "\u001b[1m224/224\u001b[0m \u001b[32m━━━━━━━━━━━━━━━━━━━━\u001b[0m\u001b[37m\u001b[0m \u001b[1m1s\u001b[0m 6ms/step - loss: 0.0042 - micro_f2: 0.8573 - val_loss: 0.0086 - val_micro_f2: 0.7532\n",
      "Epoch 15/20\n",
      "\u001b[1m224/224\u001b[0m \u001b[32m━━━━━━━━━━━━━━━━━━━━\u001b[0m\u001b[37m\u001b[0m \u001b[1m1s\u001b[0m 6ms/step - loss: 0.0040 - micro_f2: 0.8655 - val_loss: 0.0088 - val_micro_f2: 0.7422\n",
      "Epoch 16/20\n",
      "\u001b[1m224/224\u001b[0m \u001b[32m━━━━━━━━━━━━━━━━━━━━\u001b[0m\u001b[37m\u001b[0m \u001b[1m1s\u001b[0m 6ms/step - loss: 0.0038 - micro_f2: 0.8747 - val_loss: 0.0090 - val_micro_f2: 0.7544\n",
      "Epoch 17/20\n",
      "\u001b[1m224/224\u001b[0m \u001b[32m━━━━━━━━━━━━━━━━━━━━\u001b[0m\u001b[37m\u001b[0m \u001b[1m1s\u001b[0m 6ms/step - loss: 0.0035 - micro_f2: 0.8837 - val_loss: 0.0092 - val_micro_f2: 0.7517\n",
      "Epoch 18/20\n",
      "\u001b[1m224/224\u001b[0m \u001b[32m━━━━━━━━━━━━━━━━━━━━\u001b[0m\u001b[37m\u001b[0m \u001b[1m1s\u001b[0m 6ms/step - loss: 0.0033 - micro_f2: 0.8914 - val_loss: 0.0096 - val_micro_f2: 0.7514\n",
      "Epoch 19/20\n",
      "\u001b[1m224/224\u001b[0m \u001b[32m━━━━━━━━━━━━━━━━━━━━\u001b[0m\u001b[37m\u001b[0m \u001b[1m1s\u001b[0m 6ms/step - loss: 0.0031 - micro_f2: 0.9008 - val_loss: 0.0098 - val_micro_f2: 0.7571\n",
      "Epoch 20/20\n",
      "\u001b[1m224/224\u001b[0m \u001b[32m━━━━━━━━━━━━━━━━━━━━\u001b[0m\u001b[37m\u001b[0m \u001b[1m1s\u001b[0m 6ms/step - loss: 0.0029 - micro_f2: 0.9072 - val_loss: 0.0103 - val_micro_f2: 0.7492\n"
     ]
    },
    {
     "name": "stderr",
     "output_type": "stream",
     "text": [
      "\n",
      " 31%|███       | 8/26 [01:21<04:36, 15.38s/it]\u001b[A"
     ]
    },
    {
     "name": "stdout",
     "output_type": "stream",
     "text": [
      "J\n",
      "[]\n",
      "Epoch 1/20\n",
      "\u001b[1m240/240\u001b[0m \u001b[32m━━━━━━━━━━━━━━━━━━━━\u001b[0m\u001b[37m\u001b[0m \u001b[1m4s\u001b[0m 7ms/step - loss: 0.0968 - micro_f2: 0.6851 - val_loss: 0.0343 - val_micro_f2: 0.8647\n",
      "Epoch 2/20\n",
      "\u001b[1m240/240\u001b[0m \u001b[32m━━━━━━━━━━━━━━━━━━━━\u001b[0m\u001b[37m\u001b[0m \u001b[1m1s\u001b[0m 6ms/step - loss: 0.0322 - micro_f2: 0.8597 - val_loss: 0.0324 - val_micro_f2: 0.8479\n",
      "Epoch 3/20\n",
      "\u001b[1m240/240\u001b[0m \u001b[32m━━━━━━━━━━━━━━━━━━━━\u001b[0m\u001b[37m\u001b[0m \u001b[1m2s\u001b[0m 6ms/step - loss: 0.0292 - micro_f2: 0.8718 - val_loss: 0.0316 - val_micro_f2: 0.8643\n",
      "Epoch 4/20\n",
      "\u001b[1m240/240\u001b[0m \u001b[32m━━━━━━━━━━━━━━━━━━━━\u001b[0m\u001b[37m\u001b[0m \u001b[1m1s\u001b[0m 6ms/step - loss: 0.0268 - micro_f2: 0.8798 - val_loss: 0.0314 - val_micro_f2: 0.8719\n",
      "Epoch 5/20\n",
      "\u001b[1m240/240\u001b[0m \u001b[32m━━━━━━━━━━━━━━━━━━━━\u001b[0m\u001b[37m\u001b[0m \u001b[1m1s\u001b[0m 6ms/step - loss: 0.0254 - micro_f2: 0.8888 - val_loss: 0.0318 - val_micro_f2: 0.8664\n",
      "Epoch 6/20\n",
      "\u001b[1m240/240\u001b[0m \u001b[32m━━━━━━━━━━━━━━━━━━━━\u001b[0m\u001b[37m\u001b[0m \u001b[1m1s\u001b[0m 6ms/step - loss: 0.0239 - micro_f2: 0.8943 - val_loss: 0.0322 - val_micro_f2: 0.8693\n",
      "Epoch 7/20\n",
      "\u001b[1m240/240\u001b[0m \u001b[32m━━━━━━━━━━━━━━━━━━━━\u001b[0m\u001b[37m\u001b[0m \u001b[1m2s\u001b[0m 7ms/step - loss: 0.0232 - micro_f2: 0.8979 - val_loss: 0.0323 - val_micro_f2: 0.8663\n",
      "Epoch 8/20\n",
      "\u001b[1m240/240\u001b[0m \u001b[32m━━━━━━━━━━━━━━━━━━━━\u001b[0m\u001b[37m\u001b[0m \u001b[1m2s\u001b[0m 6ms/step - loss: 0.0214 - micro_f2: 0.9040 - val_loss: 0.0325 - val_micro_f2: 0.8679\n",
      "Epoch 9/20\n",
      "\u001b[1m240/240\u001b[0m \u001b[32m━━━━━━━━━━━━━━━━━━━━\u001b[0m\u001b[37m\u001b[0m \u001b[1m2s\u001b[0m 6ms/step - loss: 0.0207 - micro_f2: 0.9080 - val_loss: 0.0340 - val_micro_f2: 0.8677\n",
      "Epoch 10/20\n",
      "\u001b[1m240/240\u001b[0m \u001b[32m━━━━━━━━━━━━━━━━━━━━\u001b[0m\u001b[37m\u001b[0m \u001b[1m1s\u001b[0m 6ms/step - loss: 0.0186 - micro_f2: 0.9194 - val_loss: 0.0352 - val_micro_f2: 0.8649\n",
      "Epoch 11/20\n",
      "\u001b[1m240/240\u001b[0m \u001b[32m━━━━━━━━━━━━━━━━━━━━\u001b[0m\u001b[37m\u001b[0m \u001b[1m1s\u001b[0m 6ms/step - loss: 0.0180 - micro_f2: 0.9221 - val_loss: 0.0356 - val_micro_f2: 0.8683\n",
      "Epoch 12/20\n",
      "\u001b[1m240/240\u001b[0m \u001b[32m━━━━━━━━━━━━━━━━━━━━\u001b[0m\u001b[37m\u001b[0m \u001b[1m1s\u001b[0m 6ms/step - loss: 0.0165 - micro_f2: 0.9289 - val_loss: 0.0384 - val_micro_f2: 0.8737\n",
      "Epoch 13/20\n",
      "\u001b[1m240/240\u001b[0m \u001b[32m━━━━━━━━━━━━━━━━━━━━\u001b[0m\u001b[37m\u001b[0m \u001b[1m1s\u001b[0m 6ms/step - loss: 0.0160 - micro_f2: 0.9305 - val_loss: 0.0388 - val_micro_f2: 0.8697\n",
      "Epoch 14/20\n",
      "\u001b[1m240/240\u001b[0m \u001b[32m━━━━━━━━━━━━━━━━━━━━\u001b[0m\u001b[37m\u001b[0m \u001b[1m1s\u001b[0m 6ms/step - loss: 0.0149 - micro_f2: 0.9346 - val_loss: 0.0407 - val_micro_f2: 0.8659\n",
      "Epoch 15/20\n",
      "\u001b[1m240/240\u001b[0m \u001b[32m━━━━━━━━━━━━━━━━━━━━\u001b[0m\u001b[37m\u001b[0m \u001b[1m1s\u001b[0m 6ms/step - loss: 0.0139 - micro_f2: 0.9397 - val_loss: 0.0416 - val_micro_f2: 0.8676\n",
      "Epoch 16/20\n",
      "\u001b[1m240/240\u001b[0m \u001b[32m━━━━━━━━━━━━━━━━━━━━\u001b[0m\u001b[37m\u001b[0m \u001b[1m2s\u001b[0m 6ms/step - loss: 0.0129 - micro_f2: 0.9450 - val_loss: 0.0438 - val_micro_f2: 0.8655\n",
      "Epoch 17/20\n",
      "\u001b[1m240/240\u001b[0m \u001b[32m━━━━━━━━━━━━━━━━━━━━\u001b[0m\u001b[37m\u001b[0m \u001b[1m1s\u001b[0m 6ms/step - loss: 0.0125 - micro_f2: 0.9462 - val_loss: 0.0447 - val_micro_f2: 0.8618\n",
      "Epoch 18/20\n",
      "\u001b[1m240/240\u001b[0m \u001b[32m━━━━━━━━━━━━━━━━━━━━\u001b[0m\u001b[37m\u001b[0m \u001b[1m1s\u001b[0m 6ms/step - loss: 0.0119 - micro_f2: 0.9486 - val_loss: 0.0468 - val_micro_f2: 0.8670\n",
      "Epoch 19/20\n",
      "\u001b[1m240/240\u001b[0m \u001b[32m━━━━━━━━━━━━━━━━━━━━\u001b[0m\u001b[37m\u001b[0m \u001b[1m1s\u001b[0m 6ms/step - loss: 0.0106 - micro_f2: 0.9557 - val_loss: 0.0486 - val_micro_f2: 0.8588\n",
      "Epoch 20/20\n",
      "\u001b[1m240/240\u001b[0m \u001b[32m━━━━━━━━━━━━━━━━━━━━\u001b[0m\u001b[37m\u001b[0m \u001b[1m1s\u001b[0m 6ms/step - loss: 0.0103 - micro_f2: 0.9560 - val_loss: 0.0509 - val_micro_f2: 0.8621\n"
     ]
    },
    {
     "name": "stderr",
     "output_type": "stream",
     "text": [
      "\n",
      " 38%|███▊      | 10/26 [01:54<04:16, 16.05s/it]\u001b[A"
     ]
    },
    {
     "name": "stdout",
     "output_type": "stream",
     "text": [
      "K\n",
      "['B', 'I']\n",
      "Epoch 1/20\n",
      "\u001b[1m270/270\u001b[0m \u001b[32m━━━━━━━━━━━━━━━━━━━━\u001b[0m\u001b[37m\u001b[0m \u001b[1m4s\u001b[0m 7ms/step - loss: 0.0851 - micro_f2: 0.3546 - val_loss: 0.0123 - val_micro_f2: 0.7806\n",
      "Epoch 2/20\n",
      "\u001b[1m270/270\u001b[0m \u001b[32m━━━━━━━━━━━━━━━━━━━━\u001b[0m\u001b[37m\u001b[0m \u001b[1m2s\u001b[0m 6ms/step - loss: 0.0117 - micro_f2: 0.7838 - val_loss: 0.0102 - val_micro_f2: 0.8210\n",
      "Epoch 3/20\n",
      "\u001b[1m270/270\u001b[0m \u001b[32m━━━━━━━━━━━━━━━━━━━━\u001b[0m\u001b[37m\u001b[0m \u001b[1m2s\u001b[0m 6ms/step - loss: 0.0095 - micro_f2: 0.8313 - val_loss: 0.0092 - val_micro_f2: 0.8459\n",
      "Epoch 4/20\n",
      "\u001b[1m270/270\u001b[0m \u001b[32m━━━━━━━━━━━━━━━━━━━━\u001b[0m\u001b[37m\u001b[0m \u001b[1m2s\u001b[0m 7ms/step - loss: 0.0081 - micro_f2: 0.8585 - val_loss: 0.0089 - val_micro_f2: 0.8546\n",
      "Epoch 5/20\n",
      "\u001b[1m270/270\u001b[0m \u001b[32m━━━━━━━━━━━━━━━━━━━━\u001b[0m\u001b[37m\u001b[0m \u001b[1m3s\u001b[0m 7ms/step - loss: 0.0072 - micro_f2: 0.8753 - val_loss: 0.0088 - val_micro_f2: 0.8594\n",
      "Epoch 6/20\n",
      "\u001b[1m270/270\u001b[0m \u001b[32m━━━━━━━━━━━━━━━━━━━━\u001b[0m\u001b[37m\u001b[0m \u001b[1m2s\u001b[0m 6ms/step - loss: 0.0063 - micro_f2: 0.8904 - val_loss: 0.0087 - val_micro_f2: 0.8616\n",
      "Epoch 7/20\n",
      "\u001b[1m270/270\u001b[0m \u001b[32m━━━━━━━━━━━━━━━━━━━━\u001b[0m\u001b[37m\u001b[0m \u001b[1m2s\u001b[0m 6ms/step - loss: 0.0055 - micro_f2: 0.9053 - val_loss: 0.0091 - val_micro_f2: 0.8524\n",
      "Epoch 8/20\n",
      "\u001b[1m270/270\u001b[0m \u001b[32m━━━━━━━━━━━━━━━━━━━━\u001b[0m\u001b[37m\u001b[0m \u001b[1m2s\u001b[0m 6ms/step - loss: 0.0048 - micro_f2: 0.9169 - val_loss: 0.0091 - val_micro_f2: 0.8651\n",
      "Epoch 9/20\n",
      "\u001b[1m270/270\u001b[0m \u001b[32m━━━━━━━━━━━━━━━━━━━━\u001b[0m\u001b[37m\u001b[0m \u001b[1m2s\u001b[0m 6ms/step - loss: 0.0042 - micro_f2: 0.9295 - val_loss: 0.0092 - val_micro_f2: 0.8676\n",
      "Epoch 10/20\n",
      "\u001b[1m270/270\u001b[0m \u001b[32m━━━━━━━━━━━━━━━━━━━━\u001b[0m\u001b[37m\u001b[0m \u001b[1m2s\u001b[0m 6ms/step - loss: 0.0036 - micro_f2: 0.9402 - val_loss: 0.0096 - val_micro_f2: 0.8708\n",
      "Epoch 11/20\n",
      "\u001b[1m270/270\u001b[0m \u001b[32m━━━━━━━━━━━━━━━━━━━━\u001b[0m\u001b[37m\u001b[0m \u001b[1m2s\u001b[0m 6ms/step - loss: 0.0032 - micro_f2: 0.9485 - val_loss: 0.0100 - val_micro_f2: 0.8687\n",
      "Epoch 12/20\n",
      "\u001b[1m270/270\u001b[0m \u001b[32m━━━━━━━━━━━━━━━━━━━━\u001b[0m\u001b[37m\u001b[0m \u001b[1m2s\u001b[0m 6ms/step - loss: 0.0029 - micro_f2: 0.9537 - val_loss: 0.0104 - val_micro_f2: 0.8668\n",
      "Epoch 13/20\n",
      "\u001b[1m270/270\u001b[0m \u001b[32m━━━━━━━━━━━━━━━━━━━━\u001b[0m\u001b[37m\u001b[0m \u001b[1m2s\u001b[0m 6ms/step - loss: 0.0025 - micro_f2: 0.9608 - val_loss: 0.0110 - val_micro_f2: 0.8664\n",
      "Epoch 14/20\n",
      "\u001b[1m270/270\u001b[0m \u001b[32m━━━━━━━━━━━━━━━━━━━━\u001b[0m\u001b[37m\u001b[0m \u001b[1m2s\u001b[0m 6ms/step - loss: 0.0023 - micro_f2: 0.9645 - val_loss: 0.0117 - val_micro_f2: 0.8599\n",
      "Epoch 15/20\n",
      "\u001b[1m270/270\u001b[0m \u001b[32m━━━━━━━━━━━━━━━━━━━━\u001b[0m\u001b[37m\u001b[0m \u001b[1m2s\u001b[0m 6ms/step - loss: 0.0020 - micro_f2: 0.9698 - val_loss: 0.0119 - val_micro_f2: 0.8680\n",
      "Epoch 16/20\n",
      "\u001b[1m270/270\u001b[0m \u001b[32m━━━━━━━━━━━━━━━━━━━━\u001b[0m\u001b[37m\u001b[0m \u001b[1m2s\u001b[0m 6ms/step - loss: 0.0019 - micro_f2: 0.9703 - val_loss: 0.0125 - val_micro_f2: 0.8685\n",
      "Epoch 17/20\n",
      "\u001b[1m270/270\u001b[0m \u001b[32m━━━━━━━━━━━━━━━━━━━━\u001b[0m\u001b[37m\u001b[0m \u001b[1m2s\u001b[0m 6ms/step - loss: 0.0017 - micro_f2: 0.9735 - val_loss: 0.0129 - val_micro_f2: 0.8655\n",
      "Epoch 18/20\n",
      "\u001b[1m270/270\u001b[0m \u001b[32m━━━━━━━━━━━━━━━━━━━━\u001b[0m\u001b[37m\u001b[0m \u001b[1m2s\u001b[0m 6ms/step - loss: 0.0016 - micro_f2: 0.9759 - val_loss: 0.0132 - val_micro_f2: 0.8648\n",
      "Epoch 19/20\n",
      "\u001b[1m270/270\u001b[0m \u001b[32m━━━━━━━━━━━━━━━━━━━━\u001b[0m\u001b[37m\u001b[0m \u001b[1m2s\u001b[0m 6ms/step - loss: 0.0015 - micro_f2: 0.9783 - val_loss: 0.0134 - val_micro_f2: 0.8667\n",
      "Epoch 20/20\n",
      "\u001b[1m270/270\u001b[0m \u001b[32m━━━━━━━━━━━━━━━━━━━━\u001b[0m\u001b[37m\u001b[0m \u001b[1m2s\u001b[0m 6ms/step - loss: 0.0015 - micro_f2: 0.9777 - val_loss: 0.0140 - val_micro_f2: 0.8650\n"
     ]
    },
    {
     "name": "stderr",
     "output_type": "stream",
     "text": [
      "\n",
      " 42%|████▏     | 11/26 [02:33<05:24, 21.66s/it]\u001b[A"
     ]
    },
    {
     "name": "stdout",
     "output_type": "stream",
     "text": [
      "L\n",
      "[]\n",
      "Epoch 1/20\n",
      "\u001b[1m62/62\u001b[0m \u001b[32m━━━━━━━━━━━━━━━━━━━━\u001b[0m\u001b[37m\u001b[0m \u001b[1m3s\u001b[0m 11ms/step - loss: 0.2019 - micro_f2: 0.2812 - val_loss: 0.0468 - val_micro_f2: 0.5664\n",
      "Epoch 2/20\n",
      "\u001b[1m62/62\u001b[0m \u001b[32m━━━━━━━━━━━━━━━━━━━━\u001b[0m\u001b[37m\u001b[0m \u001b[1m0s\u001b[0m 6ms/step - loss: 0.0472 - micro_f2: 0.6160 - val_loss: 0.0403 - val_micro_f2: 0.6829\n",
      "Epoch 3/20\n",
      "\u001b[1m62/62\u001b[0m \u001b[32m━━━━━━━━━━━━━━━━━━━━\u001b[0m\u001b[37m\u001b[0m \u001b[1m0s\u001b[0m 7ms/step - loss: 0.0400 - micro_f2: 0.6838 - val_loss: 0.0389 - val_micro_f2: 0.6810\n",
      "Epoch 4/20\n",
      "\u001b[1m62/62\u001b[0m \u001b[32m━━━━━━━━━━━━━━━━━━━━\u001b[0m\u001b[37m\u001b[0m \u001b[1m1s\u001b[0m 8ms/step - loss: 0.0366 - micro_f2: 0.7006 - val_loss: 0.0387 - val_micro_f2: 0.6911\n",
      "Epoch 5/20\n",
      "\u001b[1m62/62\u001b[0m \u001b[32m━━━━━━━━━━━━━━━━━━━━\u001b[0m\u001b[37m\u001b[0m \u001b[1m0s\u001b[0m 7ms/step - loss: 0.0327 - micro_f2: 0.7339 - val_loss: 0.0384 - val_micro_f2: 0.6878\n",
      "Epoch 6/20\n",
      "\u001b[1m62/62\u001b[0m \u001b[32m━━━━━━━━━━━━━━━━━━━━\u001b[0m\u001b[37m\u001b[0m \u001b[1m0s\u001b[0m 6ms/step - loss: 0.0301 - micro_f2: 0.7490 - val_loss: 0.0385 - val_micro_f2: 0.6993\n",
      "Epoch 7/20\n",
      "\u001b[1m62/62\u001b[0m \u001b[32m━━━━━━━━━━━━━━━━━━━━\u001b[0m\u001b[37m\u001b[0m \u001b[1m0s\u001b[0m 6ms/step - loss: 0.0270 - micro_f2: 0.7756 - val_loss: 0.0396 - val_micro_f2: 0.6954\n",
      "Epoch 8/20\n",
      "\u001b[1m62/62\u001b[0m \u001b[32m━━━━━━━━━━━━━━━━━━━━\u001b[0m\u001b[37m\u001b[0m \u001b[1m0s\u001b[0m 6ms/step - loss: 0.0246 - micro_f2: 0.8028 - val_loss: 0.0410 - val_micro_f2: 0.7091\n",
      "Epoch 9/20\n",
      "\u001b[1m62/62\u001b[0m \u001b[32m━━━━━━━━━━━━━━━━━━━━\u001b[0m\u001b[37m\u001b[0m \u001b[1m0s\u001b[0m 6ms/step - loss: 0.0224 - micro_f2: 0.8205 - val_loss: 0.0412 - val_micro_f2: 0.7038\n",
      "Epoch 10/20\n",
      "\u001b[1m62/62\u001b[0m \u001b[32m━━━━━━━━━━━━━━━━━━━━\u001b[0m\u001b[37m\u001b[0m \u001b[1m0s\u001b[0m 6ms/step - loss: 0.0205 - micro_f2: 0.8405 - val_loss: 0.0435 - val_micro_f2: 0.7092\n",
      "Epoch 11/20\n",
      "\u001b[1m62/62\u001b[0m \u001b[32m━━━━━━━━━━━━━━━━━━━━\u001b[0m\u001b[37m\u001b[0m \u001b[1m0s\u001b[0m 6ms/step - loss: 0.0181 - micro_f2: 0.8641 - val_loss: 0.0453 - val_micro_f2: 0.7084\n",
      "Epoch 12/20\n",
      "\u001b[1m62/62\u001b[0m \u001b[32m━━━━━━━━━━━━━━━━━━━━\u001b[0m\u001b[37m\u001b[0m \u001b[1m0s\u001b[0m 6ms/step - loss: 0.0166 - micro_f2: 0.8757 - val_loss: 0.0468 - val_micro_f2: 0.7068\n",
      "Epoch 13/20\n",
      "\u001b[1m62/62\u001b[0m \u001b[32m━━━━━━━━━━━━━━━━━━━━\u001b[0m\u001b[37m\u001b[0m \u001b[1m0s\u001b[0m 6ms/step - loss: 0.0143 - micro_f2: 0.8911 - val_loss: 0.0493 - val_micro_f2: 0.7013\n",
      "Epoch 14/20\n",
      "\u001b[1m62/62\u001b[0m \u001b[32m━━━━━━━━━━━━━━━━━━━━\u001b[0m\u001b[37m\u001b[0m \u001b[1m0s\u001b[0m 6ms/step - loss: 0.0123 - micro_f2: 0.9072 - val_loss: 0.0529 - val_micro_f2: 0.7018\n",
      "Epoch 15/20\n",
      "\u001b[1m62/62\u001b[0m \u001b[32m━━━━━━━━━━━━━━━━━━━━\u001b[0m\u001b[37m\u001b[0m \u001b[1m0s\u001b[0m 6ms/step - loss: 0.0123 - micro_f2: 0.9119 - val_loss: 0.0542 - val_micro_f2: 0.6936\n",
      "Epoch 16/20\n",
      "\u001b[1m62/62\u001b[0m \u001b[32m━━━━━━━━━━━━━━━━━━━━\u001b[0m\u001b[37m\u001b[0m \u001b[1m0s\u001b[0m 6ms/step - loss: 0.0101 - micro_f2: 0.9263 - val_loss: 0.0571 - val_micro_f2: 0.7165\n",
      "Epoch 17/20\n",
      "\u001b[1m62/62\u001b[0m \u001b[32m━━━━━━━━━━━━━━━━━━━━\u001b[0m\u001b[37m\u001b[0m \u001b[1m0s\u001b[0m 6ms/step - loss: 0.0094 - micro_f2: 0.9337 - val_loss: 0.0565 - val_micro_f2: 0.7111\n",
      "Epoch 18/20\n",
      "\u001b[1m62/62\u001b[0m \u001b[32m━━━━━━━━━━━━━━━━━━━━\u001b[0m\u001b[37m\u001b[0m \u001b[1m0s\u001b[0m 6ms/step - loss: 0.0086 - micro_f2: 0.9403 - val_loss: 0.0599 - val_micro_f2: 0.7044\n",
      "Epoch 19/20\n",
      "\u001b[1m62/62\u001b[0m \u001b[32m━━━━━━━━━━━━━━━━━━━━\u001b[0m\u001b[37m\u001b[0m \u001b[1m0s\u001b[0m 7ms/step - loss: 0.0077 - micro_f2: 0.9479 - val_loss: 0.0630 - val_micro_f2: 0.7049\n",
      "Epoch 20/20\n",
      "\u001b[1m62/62\u001b[0m \u001b[32m━━━━━━━━━━━━━━━━━━━━\u001b[0m\u001b[37m\u001b[0m \u001b[1m0s\u001b[0m 6ms/step - loss: 0.0060 - micro_f2: 0.9601 - val_loss: 0.0638 - val_micro_f2: 0.7006\n"
     ]
    },
    {
     "name": "stderr",
     "output_type": "stream",
     "text": [
      "\n",
      " 46%|████▌     | 12/26 [02:45<04:26, 19.03s/it]\u001b[A"
     ]
    },
    {
     "name": "stdout",
     "output_type": "stream",
     "text": [
      "M\n",
      "[]\n",
      "Epoch 1/20\n",
      "\u001b[1m104/104\u001b[0m \u001b[32m━━━━━━━━━━━━━━━━━━━━\u001b[0m\u001b[37m\u001b[0m \u001b[1m3s\u001b[0m 9ms/step - loss: 0.1423 - micro_f2: 0.1481 - val_loss: 0.0122 - val_micro_f2: 0.5124\n",
      "Epoch 2/20\n",
      "\u001b[1m104/104\u001b[0m \u001b[32m━━━━━━━━━━━━━━━━━━━━\u001b[0m\u001b[37m\u001b[0m \u001b[1m1s\u001b[0m 6ms/step - loss: 0.0110 - micro_f2: 0.5684 - val_loss: 0.0077 - val_micro_f2: 0.6968\n",
      "Epoch 3/20\n",
      "\u001b[1m104/104\u001b[0m \u001b[32m━━━━━━━━━━━━━━━━━━━━\u001b[0m\u001b[37m\u001b[0m \u001b[1m1s\u001b[0m 6ms/step - loss: 0.0077 - micro_f2: 0.7066 - val_loss: 0.0063 - val_micro_f2: 0.7554\n",
      "Epoch 4/20\n",
      "\u001b[1m104/104\u001b[0m \u001b[32m━━━━━━━━━━━━━━━━━━━━\u001b[0m\u001b[37m\u001b[0m \u001b[1m1s\u001b[0m 6ms/step - loss: 0.0060 - micro_f2: 0.7673 - val_loss: 0.0056 - val_micro_f2: 0.7897\n",
      "Epoch 5/20\n",
      "\u001b[1m104/104\u001b[0m \u001b[32m━━━━━━━━━━━━━━━━━━━━\u001b[0m\u001b[37m\u001b[0m \u001b[1m1s\u001b[0m 6ms/step - loss: 0.0051 - micro_f2: 0.8045 - val_loss: 0.0052 - val_micro_f2: 0.8157\n",
      "Epoch 6/20\n",
      "\u001b[1m104/104\u001b[0m \u001b[32m━━━━━━━━━━━━━━━━━━━━\u001b[0m\u001b[37m\u001b[0m \u001b[1m1s\u001b[0m 6ms/step - loss: 0.0044 - micro_f2: 0.8337 - val_loss: 0.0050 - val_micro_f2: 0.8136\n",
      "Epoch 7/20\n",
      "\u001b[1m104/104\u001b[0m \u001b[32m━━━━━━━━━━━━━━━━━━━━\u001b[0m\u001b[37m\u001b[0m \u001b[1m1s\u001b[0m 6ms/step - loss: 0.0038 - micro_f2: 0.8554 - val_loss: 0.0048 - val_micro_f2: 0.8301\n",
      "Epoch 8/20\n",
      "\u001b[1m104/104\u001b[0m \u001b[32m━━━━━━━━━━━━━━━━━━━━\u001b[0m\u001b[37m\u001b[0m \u001b[1m1s\u001b[0m 6ms/step - loss: 0.0036 - micro_f2: 0.8617 - val_loss: 0.0047 - val_micro_f2: 0.8356\n",
      "Epoch 9/20\n",
      "\u001b[1m104/104\u001b[0m \u001b[32m━━━━━━━━━━━━━━━━━━━━\u001b[0m\u001b[37m\u001b[0m \u001b[1m1s\u001b[0m 6ms/step - loss: 0.0031 - micro_f2: 0.8826 - val_loss: 0.0047 - val_micro_f2: 0.8378\n",
      "Epoch 10/20\n",
      "\u001b[1m104/104\u001b[0m \u001b[32m━━━━━━━━━━━━━━━━━━━━\u001b[0m\u001b[37m\u001b[0m \u001b[1m1s\u001b[0m 6ms/step - loss: 0.0028 - micro_f2: 0.8935 - val_loss: 0.0048 - val_micro_f2: 0.8367\n",
      "Epoch 11/20\n",
      "\u001b[1m104/104\u001b[0m \u001b[32m━━━━━━━━━━━━━━━━━━━━\u001b[0m\u001b[37m\u001b[0m \u001b[1m1s\u001b[0m 6ms/step - loss: 0.0025 - micro_f2: 0.9057 - val_loss: 0.0049 - val_micro_f2: 0.8387\n",
      "Epoch 12/20\n",
      "\u001b[1m104/104\u001b[0m \u001b[32m━━━━━━━━━━━━━━━━━━━━\u001b[0m\u001b[37m\u001b[0m \u001b[1m1s\u001b[0m 6ms/step - loss: 0.0023 - micro_f2: 0.9147 - val_loss: 0.0049 - val_micro_f2: 0.8380\n",
      "Epoch 13/20\n",
      "\u001b[1m104/104\u001b[0m \u001b[32m━━━━━━━━━━━━━━━━━━━━\u001b[0m\u001b[37m\u001b[0m \u001b[1m1s\u001b[0m 6ms/step - loss: 0.0020 - micro_f2: 0.9277 - val_loss: 0.0051 - val_micro_f2: 0.8481\n",
      "Epoch 14/20\n",
      "\u001b[1m104/104\u001b[0m \u001b[32m━━━━━━━━━━━━━━━━━━━━\u001b[0m\u001b[37m\u001b[0m \u001b[1m1s\u001b[0m 6ms/step - loss: 0.0018 - micro_f2: 0.9356 - val_loss: 0.0051 - val_micro_f2: 0.8394\n",
      "Epoch 15/20\n",
      "\u001b[1m104/104\u001b[0m \u001b[32m━━━━━━━━━━━━━━━━━━━━\u001b[0m\u001b[37m\u001b[0m \u001b[1m1s\u001b[0m 7ms/step - loss: 0.0016 - micro_f2: 0.9449 - val_loss: 0.0053 - val_micro_f2: 0.8491\n",
      "Epoch 16/20\n",
      "\u001b[1m104/104\u001b[0m \u001b[32m━━━━━━━━━━━━━━━━━━━━\u001b[0m\u001b[37m\u001b[0m \u001b[1m1s\u001b[0m 6ms/step - loss: 0.0017 - micro_f2: 0.9463 - val_loss: 0.0052 - val_micro_f2: 0.8465\n",
      "Epoch 17/20\n",
      "\u001b[1m104/104\u001b[0m \u001b[32m━━━━━━━━━━━━━━━━━━━━\u001b[0m\u001b[37m\u001b[0m \u001b[1m1s\u001b[0m 6ms/step - loss: 0.0014 - micro_f2: 0.9530 - val_loss: 0.0054 - val_micro_f2: 0.8481\n",
      "Epoch 18/20\n",
      "\u001b[1m104/104\u001b[0m \u001b[32m━━━━━━━━━━━━━━━━━━━━\u001b[0m\u001b[37m\u001b[0m \u001b[1m1s\u001b[0m 6ms/step - loss: 0.0011 - micro_f2: 0.9664 - val_loss: 0.0054 - val_micro_f2: 0.8471\n",
      "Epoch 19/20\n",
      "\u001b[1m104/104\u001b[0m \u001b[32m━━━━━━━━━━━━━━━━━━━━\u001b[0m\u001b[37m\u001b[0m \u001b[1m1s\u001b[0m 6ms/step - loss: 0.0011 - micro_f2: 0.9655 - val_loss: 0.0056 - val_micro_f2: 0.8450\n",
      "Epoch 20/20\n",
      "\u001b[1m104/104\u001b[0m \u001b[32m━━━━━━━━━━━━━━━━━━━━\u001b[0m\u001b[37m\u001b[0m \u001b[1m1s\u001b[0m 6ms/step - loss: 9.4766e-04 - micro_f2: 0.9709 - val_loss: 0.0058 - val_micro_f2: 0.8430\n"
     ]
    },
    {
     "name": "stderr",
     "output_type": "stream",
     "text": [
      "\n",
      " 50%|█████     | 13/26 [03:01<03:59, 18.45s/it]\u001b[A"
     ]
    },
    {
     "name": "stdout",
     "output_type": "stream",
     "text": [
      "N\n",
      "['A']\n",
      "Epoch 1/20\n",
      "\u001b[1m201/201\u001b[0m \u001b[32m━━━━━━━━━━━━━━━━━━━━\u001b[0m\u001b[37m\u001b[0m \u001b[1m4s\u001b[0m 8ms/step - loss: 0.1028 - micro_f2: 0.3351 - val_loss: 0.0143 - val_micro_f2: 0.7623\n",
      "Epoch 2/20\n",
      "\u001b[1m201/201\u001b[0m \u001b[32m━━━━━━━━━━━━━━━━━━━━\u001b[0m\u001b[37m\u001b[0m \u001b[1m1s\u001b[0m 6ms/step - loss: 0.0134 - micro_f2: 0.7740 - val_loss: 0.0123 - val_micro_f2: 0.7967\n",
      "Epoch 3/20\n",
      "\u001b[1m201/201\u001b[0m \u001b[32m━━━━━━━━━━━━━━━━━━━━\u001b[0m\u001b[37m\u001b[0m \u001b[1m1s\u001b[0m 6ms/step - loss: 0.0111 - micro_f2: 0.8191 - val_loss: 0.0118 - val_micro_f2: 0.8205\n",
      "Epoch 4/20\n",
      "\u001b[1m201/201\u001b[0m \u001b[32m━━━━━━━━━━━━━━━━━━━━\u001b[0m\u001b[37m\u001b[0m \u001b[1m1s\u001b[0m 7ms/step - loss: 0.0100 - micro_f2: 0.8380 - val_loss: 0.0118 - val_micro_f2: 0.8143\n",
      "Epoch 5/20\n",
      "\u001b[1m201/201\u001b[0m \u001b[32m━━━━━━━━━━━━━━━━━━━━\u001b[0m\u001b[37m\u001b[0m \u001b[1m1s\u001b[0m 6ms/step - loss: 0.0091 - micro_f2: 0.8526 - val_loss: 0.0117 - val_micro_f2: 0.8187\n",
      "Epoch 6/20\n",
      "\u001b[1m201/201\u001b[0m \u001b[32m━━━━━━━━━━━━━━━━━━━━\u001b[0m\u001b[37m\u001b[0m \u001b[1m1s\u001b[0m 6ms/step - loss: 0.0082 - micro_f2: 0.8659 - val_loss: 0.0118 - val_micro_f2: 0.8226\n",
      "Epoch 7/20\n",
      "\u001b[1m201/201\u001b[0m \u001b[32m━━━━━━━━━━━━━━━━━━━━\u001b[0m\u001b[37m\u001b[0m \u001b[1m1s\u001b[0m 6ms/step - loss: 0.0076 - micro_f2: 0.8801 - val_loss: 0.0118 - val_micro_f2: 0.8269\n",
      "Epoch 8/20\n",
      "\u001b[1m201/201\u001b[0m \u001b[32m━━━━━━━━━━━━━━━━━━━━\u001b[0m\u001b[37m\u001b[0m \u001b[1m1s\u001b[0m 6ms/step - loss: 0.0067 - micro_f2: 0.8942 - val_loss: 0.0120 - val_micro_f2: 0.8313\n",
      "Epoch 9/20\n",
      "\u001b[1m201/201\u001b[0m \u001b[32m━━━━━━━━━━━━━━━━━━━━\u001b[0m\u001b[37m\u001b[0m \u001b[1m1s\u001b[0m 6ms/step - loss: 0.0062 - micro_f2: 0.9019 - val_loss: 0.0126 - val_micro_f2: 0.8252\n",
      "Epoch 10/20\n",
      "\u001b[1m201/201\u001b[0m \u001b[32m━━━━━━━━━━━━━━━━━━━━\u001b[0m\u001b[37m\u001b[0m \u001b[1m1s\u001b[0m 6ms/step - loss: 0.0055 - micro_f2: 0.9128 - val_loss: 0.0124 - val_micro_f2: 0.8352\n",
      "Epoch 11/20\n",
      "\u001b[1m201/201\u001b[0m \u001b[32m━━━━━━━━━━━━━━━━━━━━\u001b[0m\u001b[37m\u001b[0m \u001b[1m1s\u001b[0m 6ms/step - loss: 0.0049 - micro_f2: 0.9258 - val_loss: 0.0134 - val_micro_f2: 0.8229\n",
      "Epoch 12/20\n",
      "\u001b[1m201/201\u001b[0m \u001b[32m━━━━━━━━━━━━━━━━━━━━\u001b[0m\u001b[37m\u001b[0m \u001b[1m1s\u001b[0m 6ms/step - loss: 0.0044 - micro_f2: 0.9331 - val_loss: 0.0133 - val_micro_f2: 0.8378\n",
      "Epoch 13/20\n",
      "\u001b[1m201/201\u001b[0m \u001b[32m━━━━━━━━━━━━━━━━━━━━\u001b[0m\u001b[37m\u001b[0m \u001b[1m1s\u001b[0m 6ms/step - loss: 0.0039 - micro_f2: 0.9415 - val_loss: 0.0142 - val_micro_f2: 0.8256\n",
      "Epoch 14/20\n",
      "\u001b[1m201/201\u001b[0m \u001b[32m━━━━━━━━━━━━━━━━━━━━\u001b[0m\u001b[37m\u001b[0m \u001b[1m1s\u001b[0m 6ms/step - loss: 0.0035 - micro_f2: 0.9479 - val_loss: 0.0145 - val_micro_f2: 0.8266\n",
      "Epoch 15/20\n",
      "\u001b[1m201/201\u001b[0m \u001b[32m━━━━━━━━━━━━━━━━━━━━\u001b[0m\u001b[37m\u001b[0m \u001b[1m1s\u001b[0m 6ms/step - loss: 0.0030 - micro_f2: 0.9557 - val_loss: 0.0153 - val_micro_f2: 0.8339\n",
      "Epoch 16/20\n",
      "\u001b[1m201/201\u001b[0m \u001b[32m━━━━━━━━━━━━━━━━━━━━\u001b[0m\u001b[37m\u001b[0m \u001b[1m1s\u001b[0m 6ms/step - loss: 0.0028 - micro_f2: 0.9599 - val_loss: 0.0159 - val_micro_f2: 0.8265\n",
      "Epoch 17/20\n",
      "\u001b[1m201/201\u001b[0m \u001b[32m━━━━━━━━━━━━━━━━━━━━\u001b[0m\u001b[37m\u001b[0m \u001b[1m1s\u001b[0m 6ms/step - loss: 0.0025 - micro_f2: 0.9651 - val_loss: 0.0166 - val_micro_f2: 0.8349\n",
      "Epoch 18/20\n",
      "\u001b[1m201/201\u001b[0m \u001b[32m━━━━━━━━━━━━━━━━━━━━\u001b[0m\u001b[37m\u001b[0m \u001b[1m1s\u001b[0m 6ms/step - loss: 0.0022 - micro_f2: 0.9709 - val_loss: 0.0176 - val_micro_f2: 0.8216\n",
      "Epoch 19/20\n",
      "\u001b[1m201/201\u001b[0m \u001b[32m━━━━━━━━━━━━━━━━━━━━\u001b[0m\u001b[37m\u001b[0m \u001b[1m1s\u001b[0m 6ms/step - loss: 0.0020 - micro_f2: 0.9728 - val_loss: 0.0179 - val_micro_f2: 0.8269\n",
      "Epoch 20/20\n",
      "\u001b[1m201/201\u001b[0m \u001b[32m━━━━━━━━━━━━━━━━━━━━\u001b[0m\u001b[37m\u001b[0m \u001b[1m1s\u001b[0m 6ms/step - loss: 0.0019 - micro_f2: 0.9745 - val_loss: 0.0183 - val_micro_f2: 0.8262\n"
     ]
    },
    {
     "name": "stderr",
     "output_type": "stream",
     "text": [
      "\n",
      " 54%|█████▍    | 14/26 [03:30<04:15, 21.30s/it]\u001b[A"
     ]
    },
    {
     "name": "stdout",
     "output_type": "stream",
     "text": [
      "O\n",
      "[]\n",
      "Epoch 1/20\n",
      "\u001b[1m12/12\u001b[0m \u001b[32m━━━━━━━━━━━━━━━━━━━━\u001b[0m\u001b[37m\u001b[0m \u001b[1m2s\u001b[0m 33ms/step - loss: 0.2706 - micro_f2: 0.9211 - val_loss: 0.0769 - val_micro_f2: 0.9764\n",
      "Epoch 2/20\n",
      "\u001b[1m12/12\u001b[0m \u001b[32m━━━━━━━━━━━━━━━━━━━━\u001b[0m\u001b[37m\u001b[0m \u001b[1m0s\u001b[0m 8ms/step - loss: 0.0584 - micro_f2: 0.9763 - val_loss: 0.0759 - val_micro_f2: 0.9719\n",
      "Epoch 3/20\n",
      "\u001b[1m12/12\u001b[0m \u001b[32m━━━━━━━━━━━━━━━━━━━━\u001b[0m\u001b[37m\u001b[0m \u001b[1m0s\u001b[0m 8ms/step - loss: 0.0607 - micro_f2: 0.9750 - val_loss: 0.0813 - val_micro_f2: 0.9755\n",
      "Epoch 4/20\n",
      "\u001b[1m12/12\u001b[0m \u001b[32m━━━━━━━━━━━━━━━━━━━━\u001b[0m\u001b[37m\u001b[0m \u001b[1m0s\u001b[0m 8ms/step - loss: 0.0544 - micro_f2: 0.9797 - val_loss: 0.0763 - val_micro_f2: 0.9759\n",
      "Epoch 5/20\n",
      "\u001b[1m12/12\u001b[0m \u001b[32m━━━━━━━━━━━━━━━━━━━━\u001b[0m\u001b[37m\u001b[0m \u001b[1m0s\u001b[0m 8ms/step - loss: 0.0427 - micro_f2: 0.9832 - val_loss: 0.0891 - val_micro_f2: 0.9749\n",
      "Epoch 6/20\n",
      "\u001b[1m12/12\u001b[0m \u001b[32m━━━━━━━━━━━━━━━━━━━━\u001b[0m\u001b[37m\u001b[0m \u001b[1m0s\u001b[0m 8ms/step - loss: 0.0552 - micro_f2: 0.9800 - val_loss: 0.0761 - val_micro_f2: 0.9760\n",
      "Epoch 7/20\n",
      "\u001b[1m12/12\u001b[0m \u001b[32m━━━━━━━━━━━━━━━━━━━━\u001b[0m\u001b[37m\u001b[0m \u001b[1m0s\u001b[0m 8ms/step - loss: 0.0411 - micro_f2: 0.9850 - val_loss: 0.0772 - val_micro_f2: 0.9755\n",
      "Epoch 8/20\n",
      "\u001b[1m12/12\u001b[0m \u001b[32m━━━━━━━━━━━━━━━━━━━━\u001b[0m\u001b[37m\u001b[0m \u001b[1m0s\u001b[0m 8ms/step - loss: 0.0414 - micro_f2: 0.9846 - val_loss: 0.0805 - val_micro_f2: 0.9820\n",
      "Epoch 9/20\n",
      "\u001b[1m12/12\u001b[0m \u001b[32m━━━━━━━━━━━━━━━━━━━━\u001b[0m\u001b[37m\u001b[0m \u001b[1m0s\u001b[0m 8ms/step - loss: 0.0434 - micro_f2: 0.9840 - val_loss: 0.0864 - val_micro_f2: 0.9760\n",
      "Epoch 10/20\n",
      "\u001b[1m12/12\u001b[0m \u001b[32m━━━━━━━━━━━━━━━━━━━━\u001b[0m\u001b[37m\u001b[0m \u001b[1m0s\u001b[0m 8ms/step - loss: 0.0315 - micro_f2: 0.9871 - val_loss: 0.0899 - val_micro_f2: 0.9755\n",
      "Epoch 11/20\n",
      "\u001b[1m12/12\u001b[0m \u001b[32m━━━━━━━━━━━━━━━━━━━━\u001b[0m\u001b[37m\u001b[0m \u001b[1m0s\u001b[0m 8ms/step - loss: 0.0299 - micro_f2: 0.9894 - val_loss: 0.0972 - val_micro_f2: 0.9729\n",
      "Epoch 12/20\n",
      "\u001b[1m12/12\u001b[0m \u001b[32m━━━━━━━━━━━━━━━━━━━━\u001b[0m\u001b[37m\u001b[0m \u001b[1m0s\u001b[0m 8ms/step - loss: 0.0246 - micro_f2: 0.9903 - val_loss: 0.0891 - val_micro_f2: 0.9769\n",
      "Epoch 13/20\n",
      "\u001b[1m12/12\u001b[0m \u001b[32m━━━━━━━━━━━━━━━━━━━━\u001b[0m\u001b[37m\u001b[0m \u001b[1m0s\u001b[0m 9ms/step - loss: 0.0303 - micro_f2: 0.9891 - val_loss: 0.0933 - val_micro_f2: 0.9739\n",
      "Epoch 14/20\n",
      "\u001b[1m12/12\u001b[0m \u001b[32m━━━━━━━━━━━━━━━━━━━━\u001b[0m\u001b[37m\u001b[0m \u001b[1m0s\u001b[0m 8ms/step - loss: 0.0217 - micro_f2: 0.9901 - val_loss: 0.0982 - val_micro_f2: 0.9770\n",
      "Epoch 15/20\n",
      "\u001b[1m12/12\u001b[0m \u001b[32m━━━━━━━━━━━━━━━━━━━━\u001b[0m\u001b[37m\u001b[0m \u001b[1m0s\u001b[0m 8ms/step - loss: 0.0195 - micro_f2: 0.9936 - val_loss: 0.1074 - val_micro_f2: 0.9714\n",
      "Epoch 16/20\n",
      "\u001b[1m12/12\u001b[0m \u001b[32m━━━━━━━━━━━━━━━━━━━━\u001b[0m\u001b[37m\u001b[0m \u001b[1m0s\u001b[0m 8ms/step - loss: 0.0255 - micro_f2: 0.9904 - val_loss: 0.1161 - val_micro_f2: 0.9755\n",
      "Epoch 17/20\n",
      "\u001b[1m12/12\u001b[0m \u001b[32m━━━━━━━━━━━━━━━━━━━━\u001b[0m\u001b[37m\u001b[0m \u001b[1m0s\u001b[0m 8ms/step - loss: 0.0299 - micro_f2: 0.9849 - val_loss: 0.0991 - val_micro_f2: 0.9740\n",
      "Epoch 18/20\n",
      "\u001b[1m12/12\u001b[0m \u001b[32m━━━━━━━━━━━━━━━━━━━━\u001b[0m\u001b[37m\u001b[0m \u001b[1m0s\u001b[0m 9ms/step - loss: 0.0300 - micro_f2: 0.9823 - val_loss: 0.1087 - val_micro_f2: 0.9744\n",
      "Epoch 19/20\n",
      "\u001b[1m12/12\u001b[0m \u001b[32m━━━━━━━━━━━━━━━━━━━━\u001b[0m\u001b[37m\u001b[0m \u001b[1m0s\u001b[0m 8ms/step - loss: 0.0157 - micro_f2: 0.9936 - val_loss: 0.1008 - val_micro_f2: 0.9750\n",
      "Epoch 20/20\n",
      "\u001b[1m12/12\u001b[0m \u001b[32m━━━━━━━━━━━━━━━━━━━━\u001b[0m\u001b[37m\u001b[0m \u001b[1m0s\u001b[0m 8ms/step - loss: 0.0177 - micro_f2: 0.9919 - val_loss: 0.1263 - val_micro_f2: 0.9705\n"
     ]
    },
    {
     "name": "stderr",
     "output_type": "stream",
     "text": [
      "\n",
      " 58%|█████▊    | 15/26 [03:35<03:02, 16.57s/it]\u001b[A"
     ]
    },
    {
     "name": "stdout",
     "output_type": "stream",
     "text": [
      "Q\n",
      "[]\n",
      "Epoch 1/20\n",
      "\u001b[1m19/19\u001b[0m \u001b[32m━━━━━━━━━━━━━━━━━━━━\u001b[0m\u001b[37m\u001b[0m \u001b[1m2s\u001b[0m 23ms/step - loss: 0.3146 - micro_f2: 0.3571 - val_loss: 0.0381 - val_micro_f2: 0.8271\n",
      "Epoch 2/20\n",
      "\u001b[1m19/19\u001b[0m \u001b[32m━━━━━━━━━━━━━━━━━━━━\u001b[0m\u001b[37m\u001b[0m \u001b[1m0s\u001b[0m 8ms/step - loss: 0.0336 - micro_f2: 0.8304 - val_loss: 0.0164 - val_micro_f2: 0.8985\n",
      "Epoch 3/20\n",
      "\u001b[1m19/19\u001b[0m \u001b[32m━━━━━━━━━━━━━━━━━━━━\u001b[0m\u001b[37m\u001b[0m \u001b[1m0s\u001b[0m 8ms/step - loss: 0.0150 - micro_f2: 0.9095 - val_loss: 0.0115 - val_micro_f2: 0.9284\n",
      "Epoch 4/20\n",
      "\u001b[1m19/19\u001b[0m \u001b[32m━━━━━━━━━━━━━━━━━━━━\u001b[0m\u001b[37m\u001b[0m \u001b[1m0s\u001b[0m 7ms/step - loss: 0.0110 - micro_f2: 0.9401 - val_loss: 0.0096 - val_micro_f2: 0.9352\n",
      "Epoch 5/20\n",
      "\u001b[1m19/19\u001b[0m \u001b[32m━━━━━━━━━━━━━━━━━━━━\u001b[0m\u001b[37m\u001b[0m \u001b[1m0s\u001b[0m 8ms/step - loss: 0.0081 - micro_f2: 0.9555 - val_loss: 0.0086 - val_micro_f2: 0.9568\n",
      "Epoch 6/20\n",
      "\u001b[1m19/19\u001b[0m \u001b[32m━━━━━━━━━━━━━━━━━━━━\u001b[0m\u001b[37m\u001b[0m \u001b[1m0s\u001b[0m 7ms/step - loss: 0.0063 - micro_f2: 0.9708 - val_loss: 0.0089 - val_micro_f2: 0.9452\n",
      "Epoch 7/20\n",
      "\u001b[1m19/19\u001b[0m \u001b[32m━━━━━━━━━━━━━━━━━━━━\u001b[0m\u001b[37m\u001b[0m \u001b[1m0s\u001b[0m 8ms/step - loss: 0.0052 - micro_f2: 0.9759 - val_loss: 0.0099 - val_micro_f2: 0.9396\n",
      "Epoch 8/20\n",
      "\u001b[1m19/19\u001b[0m \u001b[32m━━━━━━━━━━━━━━━━━━━━\u001b[0m\u001b[37m\u001b[0m \u001b[1m0s\u001b[0m 7ms/step - loss: 0.0046 - micro_f2: 0.9751 - val_loss: 0.0093 - val_micro_f2: 0.9517\n",
      "Epoch 9/20\n",
      "\u001b[1m19/19\u001b[0m \u001b[32m━━━━━━━━━━━━━━━━━━━━\u001b[0m\u001b[37m\u001b[0m \u001b[1m0s\u001b[0m 7ms/step - loss: 0.0046 - micro_f2: 0.9787 - val_loss: 0.0097 - val_micro_f2: 0.9461\n",
      "Epoch 10/20\n",
      "\u001b[1m19/19\u001b[0m \u001b[32m━━━━━━━━━━━━━━━━━━━━\u001b[0m\u001b[37m\u001b[0m \u001b[1m0s\u001b[0m 7ms/step - loss: 0.0036 - micro_f2: 0.9816 - val_loss: 0.0094 - val_micro_f2: 0.9524\n",
      "Epoch 11/20\n",
      "\u001b[1m19/19\u001b[0m \u001b[32m━━━━━━━━━━━━━━━━━━━━\u001b[0m\u001b[37m\u001b[0m \u001b[1m0s\u001b[0m 8ms/step - loss: 0.0032 - micro_f2: 0.9859 - val_loss: 0.0088 - val_micro_f2: 0.9632\n",
      "Epoch 12/20\n",
      "\u001b[1m19/19\u001b[0m \u001b[32m━━━━━━━━━━━━━━━━━━━━\u001b[0m\u001b[37m\u001b[0m \u001b[1m0s\u001b[0m 7ms/step - loss: 0.0026 - micro_f2: 0.9871 - val_loss: 0.0095 - val_micro_f2: 0.9571\n",
      "Epoch 13/20\n",
      "\u001b[1m19/19\u001b[0m \u001b[32m━━━━━━━━━━━━━━━━━━━━\u001b[0m\u001b[37m\u001b[0m \u001b[1m0s\u001b[0m 7ms/step - loss: 0.0029 - micro_f2: 0.9881 - val_loss: 0.0116 - val_micro_f2: 0.9383\n",
      "Epoch 14/20\n",
      "\u001b[1m19/19\u001b[0m \u001b[32m━━━━━━━━━━━━━━━━━━━━\u001b[0m\u001b[37m\u001b[0m \u001b[1m0s\u001b[0m 7ms/step - loss: 0.0027 - micro_f2: 0.9867 - val_loss: 0.0088 - val_micro_f2: 0.9570\n",
      "Epoch 15/20\n",
      "\u001b[1m19/19\u001b[0m \u001b[32m━━━━━━━━━━━━━━━━━━━━\u001b[0m\u001b[37m\u001b[0m \u001b[1m0s\u001b[0m 7ms/step - loss: 0.0023 - micro_f2: 0.9917 - val_loss: 0.0097 - val_micro_f2: 0.9466\n",
      "Epoch 16/20\n",
      "\u001b[1m19/19\u001b[0m \u001b[32m━━━━━━━━━━━━━━━━━━━━\u001b[0m\u001b[37m\u001b[0m \u001b[1m0s\u001b[0m 7ms/step - loss: 0.0018 - micro_f2: 0.9922 - val_loss: 0.0099 - val_micro_f2: 0.9539\n",
      "Epoch 17/20\n",
      "\u001b[1m19/19\u001b[0m \u001b[32m━━━━━━━━━━━━━━━━━━━━\u001b[0m\u001b[37m\u001b[0m \u001b[1m0s\u001b[0m 7ms/step - loss: 0.0023 - micro_f2: 0.9913 - val_loss: 0.0105 - val_micro_f2: 0.9527\n",
      "Epoch 18/20\n",
      "\u001b[1m19/19\u001b[0m \u001b[32m━━━━━━━━━━━━━━━━━━━━\u001b[0m\u001b[37m\u001b[0m \u001b[1m0s\u001b[0m 7ms/step - loss: 0.0025 - micro_f2: 0.9882 - val_loss: 0.0117 - val_micro_f2: 0.9568\n",
      "Epoch 19/20\n",
      "\u001b[1m19/19\u001b[0m \u001b[32m━━━━━━━━━━━━━━━━━━━━\u001b[0m\u001b[37m\u001b[0m \u001b[1m0s\u001b[0m 7ms/step - loss: 0.0016 - micro_f2: 0.9937 - val_loss: 0.0105 - val_micro_f2: 0.9606\n",
      "Epoch 20/20\n",
      "\u001b[1m19/19\u001b[0m \u001b[32m━━━━━━━━━━━━━━━━━━━━\u001b[0m\u001b[37m\u001b[0m \u001b[1m0s\u001b[0m 7ms/step - loss: 0.0011 - micro_f2: 0.9962 - val_loss: 0.0111 - val_micro_f2: 0.9611\n"
     ]
    },
    {
     "name": "stderr",
     "output_type": "stream",
     "text": [
      "\n",
      " 65%|██████▌   | 17/26 [03:40<01:33, 10.39s/it]\u001b[A"
     ]
    },
    {
     "name": "stdout",
     "output_type": "stream",
     "text": [
      "R\n",
      "[]\n",
      "Epoch 1/20\n",
      "\u001b[1m77/77\u001b[0m \u001b[32m━━━━━━━━━━━━━━━━━━━━\u001b[0m\u001b[37m\u001b[0m \u001b[1m3s\u001b[0m 10ms/step - loss: 0.1758 - micro_f2: 0.2575 - val_loss: 0.0229 - val_micro_f2: 0.7141\n",
      "Epoch 2/20\n",
      "\u001b[1m77/77\u001b[0m \u001b[32m━━━━━━━━━━━━━━━━━━━━\u001b[0m\u001b[37m\u001b[0m \u001b[1m0s\u001b[0m 6ms/step - loss: 0.0201 - micro_f2: 0.7656 - val_loss: 0.0149 - val_micro_f2: 0.8417\n",
      "Epoch 3/20\n",
      "\u001b[1m77/77\u001b[0m \u001b[32m━━━━━━━━━━━━━━━━━━━━\u001b[0m\u001b[37m\u001b[0m \u001b[1m1s\u001b[0m 6ms/step - loss: 0.0133 - micro_f2: 0.8573 - val_loss: 0.0127 - val_micro_f2: 0.8619\n",
      "Epoch 4/20\n",
      "\u001b[1m77/77\u001b[0m \u001b[32m━━━━━━━━━━━━━━━━━━━━\u001b[0m\u001b[37m\u001b[0m \u001b[1m1s\u001b[0m 6ms/step - loss: 0.0107 - micro_f2: 0.8874 - val_loss: 0.0120 - val_micro_f2: 0.8749\n",
      "Epoch 5/20\n",
      "\u001b[1m77/77\u001b[0m \u001b[32m━━━━━━━━━━━━━━━━━━━━\u001b[0m\u001b[37m\u001b[0m \u001b[1m0s\u001b[0m 6ms/step - loss: 0.0090 - micro_f2: 0.9058 - val_loss: 0.0119 - val_micro_f2: 0.8797\n",
      "Epoch 6/20\n",
      "\u001b[1m77/77\u001b[0m \u001b[32m━━━━━━━━━━━━━━━━━━━━\u001b[0m\u001b[37m\u001b[0m \u001b[1m1s\u001b[0m 6ms/step - loss: 0.0072 - micro_f2: 0.9265 - val_loss: 0.0122 - val_micro_f2: 0.8841\n",
      "Epoch 7/20\n",
      "\u001b[1m77/77\u001b[0m \u001b[32m━━━━━━━━━━━━━━━━━━━━\u001b[0m\u001b[37m\u001b[0m \u001b[1m0s\u001b[0m 6ms/step - loss: 0.0062 - micro_f2: 0.9402 - val_loss: 0.0125 - val_micro_f2: 0.8724\n",
      "Epoch 8/20\n",
      "\u001b[1m77/77\u001b[0m \u001b[32m━━━━━━━━━━━━━━━━━━━━\u001b[0m\u001b[37m\u001b[0m \u001b[1m0s\u001b[0m 6ms/step - loss: 0.0053 - micro_f2: 0.9447 - val_loss: 0.0121 - val_micro_f2: 0.8845\n",
      "Epoch 9/20\n",
      "\u001b[1m77/77\u001b[0m \u001b[32m━━━━━━━━━━━━━━━━━━━━\u001b[0m\u001b[37m\u001b[0m \u001b[1m1s\u001b[0m 7ms/step - loss: 0.0044 - micro_f2: 0.9620 - val_loss: 0.0126 - val_micro_f2: 0.8798\n",
      "Epoch 10/20\n",
      "\u001b[1m77/77\u001b[0m \u001b[32m━━━━━━━━━━━━━━━━━━━━\u001b[0m\u001b[37m\u001b[0m \u001b[1m1s\u001b[0m 6ms/step - loss: 0.0040 - micro_f2: 0.9630 - val_loss: 0.0131 - val_micro_f2: 0.8887\n",
      "Epoch 11/20\n",
      "\u001b[1m77/77\u001b[0m \u001b[32m━━━━━━━━━━━━━━━━━━━━\u001b[0m\u001b[37m\u001b[0m \u001b[1m1s\u001b[0m 6ms/step - loss: 0.0031 - micro_f2: 0.9724 - val_loss: 0.0136 - val_micro_f2: 0.8814\n",
      "Epoch 12/20\n",
      "\u001b[1m77/77\u001b[0m \u001b[32m━━━━━━━━━━━━━━━━━━━━\u001b[0m\u001b[37m\u001b[0m \u001b[1m1s\u001b[0m 6ms/step - loss: 0.0027 - micro_f2: 0.9782 - val_loss: 0.0139 - val_micro_f2: 0.8834\n",
      "Epoch 13/20\n",
      "\u001b[1m77/77\u001b[0m \u001b[32m━━━━━━━━━━━━━━━━━━━━\u001b[0m\u001b[37m\u001b[0m \u001b[1m1s\u001b[0m 6ms/step - loss: 0.0025 - micro_f2: 0.9772 - val_loss: 0.0138 - val_micro_f2: 0.8898\n",
      "Epoch 14/20\n",
      "\u001b[1m77/77\u001b[0m \u001b[32m━━━━━━━━━━━━━━━━━━━━\u001b[0m\u001b[37m\u001b[0m \u001b[1m1s\u001b[0m 6ms/step - loss: 0.0022 - micro_f2: 0.9811 - val_loss: 0.0148 - val_micro_f2: 0.8780\n",
      "Epoch 15/20\n",
      "\u001b[1m77/77\u001b[0m \u001b[32m━━━━━━━━━━━━━━━━━━━━\u001b[0m\u001b[37m\u001b[0m \u001b[1m0s\u001b[0m 6ms/step - loss: 0.0019 - micro_f2: 0.9838 - val_loss: 0.0142 - val_micro_f2: 0.8914\n",
      "Epoch 16/20\n",
      "\u001b[1m77/77\u001b[0m \u001b[32m━━━━━━━━━━━━━━━━━━━━\u001b[0m\u001b[37m\u001b[0m \u001b[1m1s\u001b[0m 6ms/step - loss: 0.0018 - micro_f2: 0.9859 - val_loss: 0.0148 - val_micro_f2: 0.8876\n",
      "Epoch 17/20\n",
      "\u001b[1m77/77\u001b[0m \u001b[32m━━━━━━━━━━━━━━━━━━━━\u001b[0m\u001b[37m\u001b[0m \u001b[1m0s\u001b[0m 6ms/step - loss: 0.0017 - micro_f2: 0.9856 - val_loss: 0.0154 - val_micro_f2: 0.8870\n",
      "Epoch 18/20\n",
      "\u001b[1m77/77\u001b[0m \u001b[32m━━━━━━━━━━━━━━━━━━━━\u001b[0m\u001b[37m\u001b[0m \u001b[1m0s\u001b[0m 6ms/step - loss: 0.0015 - micro_f2: 0.9884 - val_loss: 0.0158 - val_micro_f2: 0.8848\n",
      "Epoch 19/20\n",
      "\u001b[1m77/77\u001b[0m \u001b[32m━━━━━━━━━━━━━━━━━━━━\u001b[0m\u001b[37m\u001b[0m \u001b[1m0s\u001b[0m 6ms/step - loss: 0.0013 - micro_f2: 0.9891 - val_loss: 0.0165 - val_micro_f2: 0.8902\n",
      "Epoch 20/20\n",
      "\u001b[1m77/77\u001b[0m \u001b[32m━━━━━━━━━━━━━━━━━━━━\u001b[0m\u001b[37m\u001b[0m \u001b[1m1s\u001b[0m 6ms/step - loss: 0.0012 - micro_f2: 0.9898 - val_loss: 0.0167 - val_micro_f2: 0.8880\n"
     ]
    },
    {
     "name": "stderr",
     "output_type": "stream",
     "text": [
      "\n",
      " 69%|██████▉   | 18/26 [03:53<01:27, 11.00s/it]\u001b[A"
     ]
    },
    {
     "name": "stdout",
     "output_type": "stream",
     "text": [
      "S\n",
      "['V', 'W', 'X']\n",
      "Epoch 1/20\n",
      "\u001b[1m21/21\u001b[0m \u001b[32m━━━━━━━━━━━━━━━━━━━━\u001b[0m\u001b[37m\u001b[0m \u001b[1m2s\u001b[0m 21ms/step - loss: 0.3289 - micro_f2: 0.0968 - val_loss: 0.0580 - val_micro_f2: 0.3739\n",
      "Epoch 2/20\n",
      "\u001b[1m21/21\u001b[0m \u001b[32m━━━━━━━━━━━━━━━━━━━━\u001b[0m\u001b[37m\u001b[0m \u001b[1m0s\u001b[0m 7ms/step - loss: 0.0471 - micro_f2: 0.3963 - val_loss: 0.0275 - val_micro_f2: 0.5447\n",
      "Epoch 3/20\n",
      "\u001b[1m21/21\u001b[0m \u001b[32m━━━━━━━━━━━━━━━━━━━━\u001b[0m\u001b[37m\u001b[0m \u001b[1m0s\u001b[0m 7ms/step - loss: 0.0249 - micro_f2: 0.5724 - val_loss: 0.0193 - val_micro_f2: 0.6666\n",
      "Epoch 4/20\n",
      "\u001b[1m21/21\u001b[0m \u001b[32m━━━━━━━━━━━━━━━━━━━━\u001b[0m\u001b[37m\u001b[0m \u001b[1m0s\u001b[0m 7ms/step - loss: 0.0175 - micro_f2: 0.6871 - val_loss: 0.0155 - val_micro_f2: 0.7498\n",
      "Epoch 5/20\n",
      "\u001b[1m21/21\u001b[0m \u001b[32m━━━━━━━━━━━━━━━━━━━━\u001b[0m\u001b[37m\u001b[0m \u001b[1m0s\u001b[0m 7ms/step - loss: 0.0138 - micro_f2: 0.7504 - val_loss: 0.0133 - val_micro_f2: 0.7861\n",
      "Epoch 6/20\n",
      "\u001b[1m21/21\u001b[0m \u001b[32m━━━━━━━━━━━━━━━━━━━━\u001b[0m\u001b[37m\u001b[0m \u001b[1m0s\u001b[0m 7ms/step - loss: 0.0111 - micro_f2: 0.8044 - val_loss: 0.0121 - val_micro_f2: 0.8124\n",
      "Epoch 7/20\n",
      "\u001b[1m21/21\u001b[0m \u001b[32m━━━━━━━━━━━━━━━━━━━━\u001b[0m\u001b[37m\u001b[0m \u001b[1m0s\u001b[0m 7ms/step - loss: 0.0095 - micro_f2: 0.8490 - val_loss: 0.0110 - val_micro_f2: 0.8260\n",
      "Epoch 8/20\n",
      "\u001b[1m21/21\u001b[0m \u001b[32m━━━━━━━━━━━━━━━━━━━━\u001b[0m\u001b[37m\u001b[0m \u001b[1m0s\u001b[0m 7ms/step - loss: 0.0081 - micro_f2: 0.8653 - val_loss: 0.0104 - val_micro_f2: 0.8481\n",
      "Epoch 9/20\n",
      "\u001b[1m21/21\u001b[0m \u001b[32m━━━━━━━━━━━━━━━━━━━━\u001b[0m\u001b[37m\u001b[0m \u001b[1m0s\u001b[0m 7ms/step - loss: 0.0073 - micro_f2: 0.8850 - val_loss: 0.0102 - val_micro_f2: 0.8533\n",
      "Epoch 10/20\n",
      "\u001b[1m21/21\u001b[0m \u001b[32m━━━━━━━━━━━━━━━━━━━━\u001b[0m\u001b[37m\u001b[0m \u001b[1m0s\u001b[0m 9ms/step - loss: 0.0066 - micro_f2: 0.9021 - val_loss: 0.0102 - val_micro_f2: 0.8515\n",
      "Epoch 11/20\n",
      "\u001b[1m21/21\u001b[0m \u001b[32m━━━━━━━━━━━━━━━━━━━━\u001b[0m\u001b[37m\u001b[0m \u001b[1m0s\u001b[0m 7ms/step - loss: 0.0058 - micro_f2: 0.9096 - val_loss: 0.0101 - val_micro_f2: 0.8630\n",
      "Epoch 12/20\n",
      "\u001b[1m21/21\u001b[0m \u001b[32m━━━━━━━━━━━━━━━━━━━━\u001b[0m\u001b[37m\u001b[0m \u001b[1m0s\u001b[0m 7ms/step - loss: 0.0054 - micro_f2: 0.9178 - val_loss: 0.0098 - val_micro_f2: 0.8582\n",
      "Epoch 13/20\n",
      "\u001b[1m21/21\u001b[0m \u001b[32m━━━━━━━━━━━━━━━━━━━━\u001b[0m\u001b[37m\u001b[0m \u001b[1m0s\u001b[0m 7ms/step - loss: 0.0047 - micro_f2: 0.9273 - val_loss: 0.0102 - val_micro_f2: 0.8669\n",
      "Epoch 14/20\n",
      "\u001b[1m21/21\u001b[0m \u001b[32m━━━━━━━━━━━━━━━━━━━━\u001b[0m\u001b[37m\u001b[0m \u001b[1m0s\u001b[0m 7ms/step - loss: 0.0042 - micro_f2: 0.9414 - val_loss: 0.0100 - val_micro_f2: 0.8672\n",
      "Epoch 15/20\n",
      "\u001b[1m21/21\u001b[0m \u001b[32m━━━━━━━━━━━━━━━━━━━━\u001b[0m\u001b[37m\u001b[0m \u001b[1m0s\u001b[0m 8ms/step - loss: 0.0043 - micro_f2: 0.9402 - val_loss: 0.0102 - val_micro_f2: 0.8727\n",
      "Epoch 16/20\n",
      "\u001b[1m21/21\u001b[0m \u001b[32m━━━━━━━━━━━━━━━━━━━━\u001b[0m\u001b[37m\u001b[0m \u001b[1m0s\u001b[0m 7ms/step - loss: 0.0034 - micro_f2: 0.9565 - val_loss: 0.0104 - val_micro_f2: 0.8672\n",
      "Epoch 17/20\n",
      "\u001b[1m21/21\u001b[0m \u001b[32m━━━━━━━━━━━━━━━━━━━━\u001b[0m\u001b[37m\u001b[0m \u001b[1m0s\u001b[0m 7ms/step - loss: 0.0037 - micro_f2: 0.9465 - val_loss: 0.0102 - val_micro_f2: 0.8750\n",
      "Epoch 18/20\n",
      "\u001b[1m21/21\u001b[0m \u001b[32m━━━━━━━━━━━━━━━━━━━━\u001b[0m\u001b[37m\u001b[0m \u001b[1m0s\u001b[0m 8ms/step - loss: 0.0031 - micro_f2: 0.9611 - val_loss: 0.0105 - val_micro_f2: 0.8762\n",
      "Epoch 19/20\n",
      "\u001b[1m21/21\u001b[0m \u001b[32m━━━━━━━━━━━━━━━━━━━━\u001b[0m\u001b[37m\u001b[0m \u001b[1m0s\u001b[0m 7ms/step - loss: 0.0026 - micro_f2: 0.9686 - val_loss: 0.0106 - val_micro_f2: 0.8665\n",
      "Epoch 20/20\n",
      "\u001b[1m21/21\u001b[0m \u001b[32m━━━━━━━━━━━━━━━━━━━━\u001b[0m\u001b[37m\u001b[0m \u001b[1m0s\u001b[0m 7ms/step - loss: 0.0024 - micro_f2: 0.9703 - val_loss: 0.0111 - val_micro_f2: 0.8655\n"
     ]
    },
    {
     "name": "stderr",
     "output_type": "stream",
     "text": [
      "\n",
      " 73%|███████▎  | 19/26 [03:59<01:08,  9.72s/it]\u001b[A"
     ]
    },
    {
     "name": "stdout",
     "output_type": "stream",
     "text": [
      "T\n",
      "['Y']\n",
      "Epoch 1/20\n",
      "\u001b[1m28/28\u001b[0m \u001b[32m━━━━━━━━━━━━━━━━━━━━\u001b[0m\u001b[37m\u001b[0m \u001b[1m3s\u001b[0m 17ms/step - loss: 0.2874 - micro_f2: 0.2383 - val_loss: 0.0621 - val_micro_f2: 0.6031\n",
      "Epoch 2/20\n",
      "\u001b[1m28/28\u001b[0m \u001b[32m━━━━━━━━━━━━━━━━━━━━\u001b[0m\u001b[37m\u001b[0m \u001b[1m0s\u001b[0m 6ms/step - loss: 0.0564 - micro_f2: 0.6569 - val_loss: 0.0459 - val_micro_f2: 0.7067\n",
      "Epoch 3/20\n",
      "\u001b[1m28/28\u001b[0m \u001b[32m━━━━━━━━━━━━━━━━━━━━\u001b[0m\u001b[37m\u001b[0m \u001b[1m0s\u001b[0m 6ms/step - loss: 0.0435 - micro_f2: 0.7277 - val_loss: 0.0424 - val_micro_f2: 0.7565\n",
      "Epoch 4/20\n",
      "\u001b[1m28/28\u001b[0m \u001b[32m━━━━━━━━━━━━━━━━━━━━\u001b[0m\u001b[37m\u001b[0m \u001b[1m0s\u001b[0m 7ms/step - loss: 0.0372 - micro_f2: 0.7757 - val_loss: 0.0427 - val_micro_f2: 0.7546\n",
      "Epoch 5/20\n",
      "\u001b[1m28/28\u001b[0m \u001b[32m━━━━━━━━━━━━━━━━━━━━\u001b[0m\u001b[37m\u001b[0m \u001b[1m0s\u001b[0m 6ms/step - loss: 0.0358 - micro_f2: 0.7857 - val_loss: 0.0392 - val_micro_f2: 0.7669\n",
      "Epoch 6/20\n",
      "\u001b[1m28/28\u001b[0m \u001b[32m━━━━━━━━━━━━━━━━━━━━\u001b[0m\u001b[37m\u001b[0m \u001b[1m0s\u001b[0m 7ms/step - loss: 0.0322 - micro_f2: 0.8108 - val_loss: 0.0401 - val_micro_f2: 0.7823\n",
      "Epoch 7/20\n",
      "\u001b[1m28/28\u001b[0m \u001b[32m━━━━━━━━━━━━━━━━━━━━\u001b[0m\u001b[37m\u001b[0m \u001b[1m0s\u001b[0m 6ms/step - loss: 0.0288 - micro_f2: 0.8314 - val_loss: 0.0398 - val_micro_f2: 0.7820\n",
      "Epoch 8/20\n",
      "\u001b[1m28/28\u001b[0m \u001b[32m━━━━━━━━━━━━━━━━━━━━\u001b[0m\u001b[37m\u001b[0m \u001b[1m0s\u001b[0m 6ms/step - loss: 0.0253 - micro_f2: 0.8557 - val_loss: 0.0421 - val_micro_f2: 0.7921\n",
      "Epoch 9/20\n",
      "\u001b[1m28/28\u001b[0m \u001b[32m━━━━━━━━━━━━━━━━━━━━\u001b[0m\u001b[37m\u001b[0m \u001b[1m0s\u001b[0m 7ms/step - loss: 0.0234 - micro_f2: 0.8769 - val_loss: 0.0432 - val_micro_f2: 0.7875\n",
      "Epoch 10/20\n",
      "\u001b[1m28/28\u001b[0m \u001b[32m━━━━━━━━━━━━━━━━━━━━\u001b[0m\u001b[37m\u001b[0m \u001b[1m0s\u001b[0m 7ms/step - loss: 0.0205 - micro_f2: 0.8912 - val_loss: 0.0436 - val_micro_f2: 0.7752\n",
      "Epoch 11/20\n",
      "\u001b[1m28/28\u001b[0m \u001b[32m━━━━━━━━━━━━━━━━━━━━\u001b[0m\u001b[37m\u001b[0m \u001b[1m0s\u001b[0m 7ms/step - loss: 0.0190 - micro_f2: 0.9043 - val_loss: 0.0451 - val_micro_f2: 0.7760\n",
      "Epoch 12/20\n",
      "\u001b[1m28/28\u001b[0m \u001b[32m━━━━━━━━━━━━━━━━━━━━\u001b[0m\u001b[37m\u001b[0m \u001b[1m0s\u001b[0m 7ms/step - loss: 0.0160 - micro_f2: 0.9078 - val_loss: 0.0461 - val_micro_f2: 0.7827\n",
      "Epoch 13/20\n",
      "\u001b[1m28/28\u001b[0m \u001b[32m━━━━━━━━━━━━━━━━━━━━\u001b[0m\u001b[37m\u001b[0m \u001b[1m0s\u001b[0m 7ms/step - loss: 0.0132 - micro_f2: 0.9365 - val_loss: 0.0481 - val_micro_f2: 0.7832\n",
      "Epoch 14/20\n",
      "\u001b[1m28/28\u001b[0m \u001b[32m━━━━━━━━━━━━━━━━━━━━\u001b[0m\u001b[37m\u001b[0m \u001b[1m0s\u001b[0m 6ms/step - loss: 0.0128 - micro_f2: 0.9374 - val_loss: 0.0539 - val_micro_f2: 0.7860\n",
      "Epoch 15/20\n",
      "\u001b[1m28/28\u001b[0m \u001b[32m━━━━━━━━━━━━━━━━━━━━\u001b[0m\u001b[37m\u001b[0m \u001b[1m0s\u001b[0m 7ms/step - loss: 0.0131 - micro_f2: 0.9340 - val_loss: 0.0507 - val_micro_f2: 0.7978\n",
      "Epoch 16/20\n",
      "\u001b[1m28/28\u001b[0m \u001b[32m━━━━━━━━━━━━━━━━━━━━\u001b[0m\u001b[37m\u001b[0m \u001b[1m0s\u001b[0m 6ms/step - loss: 0.0100 - micro_f2: 0.9534 - val_loss: 0.0513 - val_micro_f2: 0.7901\n",
      "Epoch 17/20\n",
      "\u001b[1m28/28\u001b[0m \u001b[32m━━━━━━━━━━━━━━━━━━━━\u001b[0m\u001b[37m\u001b[0m \u001b[1m0s\u001b[0m 7ms/step - loss: 0.0075 - micro_f2: 0.9712 - val_loss: 0.0539 - val_micro_f2: 0.7922\n",
      "Epoch 18/20\n",
      "\u001b[1m28/28\u001b[0m \u001b[32m━━━━━━━━━━━━━━━━━━━━\u001b[0m\u001b[37m\u001b[0m \u001b[1m0s\u001b[0m 6ms/step - loss: 0.0070 - micro_f2: 0.9680 - val_loss: 0.0560 - val_micro_f2: 0.7922\n",
      "Epoch 19/20\n",
      "\u001b[1m28/28\u001b[0m \u001b[32m━━━━━━━━━━━━━━━━━━━━\u001b[0m\u001b[37m\u001b[0m \u001b[1m0s\u001b[0m 7ms/step - loss: 0.0061 - micro_f2: 0.9716 - val_loss: 0.0589 - val_micro_f2: 0.7809\n",
      "Epoch 20/20\n",
      "\u001b[1m28/28\u001b[0m \u001b[32m━━━━━━━━━━━━━━━━━━━━\u001b[0m\u001b[37m\u001b[0m \u001b[1m0s\u001b[0m 7ms/step - loss: 0.0068 - micro_f2: 0.9703 - val_loss: 0.0612 - val_micro_f2: 0.7739\n"
     ]
    },
    {
     "name": "stderr",
     "output_type": "stream",
     "text": [
      "\n",
      " 77%|███████▋  | 20/26 [04:06<00:53,  8.99s/it]\u001b[A"
     ]
    },
    {
     "name": "stdout",
     "output_type": "stream",
     "text": [
      "Z\n",
      "[]\n",
      "Epoch 1/20\n",
      "\u001b[1m220/220\u001b[0m \u001b[32m━━━━━━━━━━━━━━━━━━━━\u001b[0m\u001b[37m\u001b[0m \u001b[1m4s\u001b[0m 8ms/step - loss: 0.0879 - micro_f2: 0.5598 - val_loss: 0.0106 - val_micro_f2: 0.8458\n",
      "Epoch 2/20\n",
      "\u001b[1m220/220\u001b[0m \u001b[32m━━━━━━━━━━━━━━━━━━━━\u001b[0m\u001b[37m\u001b[0m \u001b[1m1s\u001b[0m 6ms/step - loss: 0.0101 - micro_f2: 0.8599 - val_loss: 0.0092 - val_micro_f2: 0.8734\n",
      "Epoch 3/20\n",
      "\u001b[1m220/220\u001b[0m \u001b[32m━━━━━━━━━━━━━━━━━━━━\u001b[0m\u001b[37m\u001b[0m \u001b[1m2s\u001b[0m 7ms/step - loss: 0.0081 - micro_f2: 0.8884 - val_loss: 0.0087 - val_micro_f2: 0.8759\n",
      "Epoch 4/20\n",
      "\u001b[1m220/220\u001b[0m \u001b[32m━━━━━━━━━━━━━━━━━━━━\u001b[0m\u001b[37m\u001b[0m \u001b[1m1s\u001b[0m 6ms/step - loss: 0.0068 - micro_f2: 0.9042 - val_loss: 0.0085 - val_micro_f2: 0.8833\n",
      "Epoch 5/20\n",
      "\u001b[1m220/220\u001b[0m \u001b[32m━━━━━━━━━━━━━━━━━━━━\u001b[0m\u001b[37m\u001b[0m \u001b[1m1s\u001b[0m 6ms/step - loss: 0.0059 - micro_f2: 0.9180 - val_loss: 0.0085 - val_micro_f2: 0.8813\n",
      "Epoch 6/20\n",
      "\u001b[1m220/220\u001b[0m \u001b[32m━━━━━━━━━━━━━━━━━━━━\u001b[0m\u001b[37m\u001b[0m \u001b[1m1s\u001b[0m 6ms/step - loss: 0.0050 - micro_f2: 0.9320 - val_loss: 0.0090 - val_micro_f2: 0.8811\n",
      "Epoch 7/20\n",
      "\u001b[1m220/220\u001b[0m \u001b[32m━━━━━━━━━━━━━━━━━━━━\u001b[0m\u001b[37m\u001b[0m \u001b[1m1s\u001b[0m 6ms/step - loss: 0.0043 - micro_f2: 0.9409 - val_loss: 0.0088 - val_micro_f2: 0.8875\n",
      "Epoch 8/20\n",
      "\u001b[1m220/220\u001b[0m \u001b[32m━━━━━━━━━━━━━━━━━━━━\u001b[0m\u001b[37m\u001b[0m \u001b[1m1s\u001b[0m 6ms/step - loss: 0.0035 - micro_f2: 0.9530 - val_loss: 0.0095 - val_micro_f2: 0.8852\n",
      "Epoch 9/20\n",
      "\u001b[1m220/220\u001b[0m \u001b[32m━━━━━━━━━━━━━━━━━━━━\u001b[0m\u001b[37m\u001b[0m \u001b[1m1s\u001b[0m 6ms/step - loss: 0.0031 - micro_f2: 0.9604 - val_loss: 0.0099 - val_micro_f2: 0.8899\n",
      "Epoch 10/20\n",
      "\u001b[1m220/220\u001b[0m \u001b[32m━━━━━━━━━━━━━━━━━━━━\u001b[0m\u001b[37m\u001b[0m \u001b[1m1s\u001b[0m 6ms/step - loss: 0.0026 - micro_f2: 0.9679 - val_loss: 0.0103 - val_micro_f2: 0.8872\n",
      "Epoch 11/20\n",
      "\u001b[1m220/220\u001b[0m \u001b[32m━━━━━━━━━━━━━━━━━━━━\u001b[0m\u001b[37m\u001b[0m \u001b[1m1s\u001b[0m 6ms/step - loss: 0.0021 - micro_f2: 0.9734 - val_loss: 0.0109 - val_micro_f2: 0.8836\n",
      "Epoch 12/20\n",
      "\u001b[1m220/220\u001b[0m \u001b[32m━━━━━━━━━━━━━━━━━━━━\u001b[0m\u001b[37m\u001b[0m \u001b[1m1s\u001b[0m 6ms/step - loss: 0.0018 - micro_f2: 0.9778 - val_loss: 0.0116 - val_micro_f2: 0.8857\n",
      "Epoch 13/20\n",
      "\u001b[1m220/220\u001b[0m \u001b[32m━━━━━━━━━━━━━━━━━━━━\u001b[0m\u001b[37m\u001b[0m \u001b[1m1s\u001b[0m 6ms/step - loss: 0.0016 - micro_f2: 0.9815 - val_loss: 0.0120 - val_micro_f2: 0.8854\n",
      "Epoch 14/20\n",
      "\u001b[1m220/220\u001b[0m \u001b[32m━━━━━━━━━━━━━━━━━━━━\u001b[0m\u001b[37m\u001b[0m \u001b[1m1s\u001b[0m 6ms/step - loss: 0.0014 - micro_f2: 0.9829 - val_loss: 0.0128 - val_micro_f2: 0.8851\n",
      "Epoch 15/20\n",
      "\u001b[1m220/220\u001b[0m \u001b[32m━━━━━━━━━━━━━━━━━━━━\u001b[0m\u001b[37m\u001b[0m \u001b[1m1s\u001b[0m 6ms/step - loss: 0.0012 - micro_f2: 0.9855 - val_loss: 0.0136 - val_micro_f2: 0.8820\n",
      "Epoch 16/20\n",
      "\u001b[1m220/220\u001b[0m \u001b[32m━━━━━━━━━━━━━━━━━━━━\u001b[0m\u001b[37m\u001b[0m \u001b[1m1s\u001b[0m 6ms/step - loss: 0.0013 - micro_f2: 0.9847 - val_loss: 0.0138 - val_micro_f2: 0.8872\n",
      "Epoch 17/20\n",
      "\u001b[1m220/220\u001b[0m \u001b[32m━━━━━━━━━━━━━━━━━━━━\u001b[0m\u001b[37m\u001b[0m \u001b[1m1s\u001b[0m 6ms/step - loss: 0.0010 - micro_f2: 0.9882 - val_loss: 0.0151 - val_micro_f2: 0.8791\n",
      "Epoch 18/20\n",
      "\u001b[1m220/220\u001b[0m \u001b[32m━━━━━━━━━━━━━━━━━━━━\u001b[0m\u001b[37m\u001b[0m \u001b[1m1s\u001b[0m 6ms/step - loss: 9.4274e-04 - micro_f2: 0.9896 - val_loss: 0.0146 - val_micro_f2: 0.8878\n",
      "Epoch 19/20\n",
      "\u001b[1m220/220\u001b[0m \u001b[32m━━━━━━━━━━━━━━━━━━━━\u001b[0m\u001b[37m\u001b[0m \u001b[1m1s\u001b[0m 6ms/step - loss: 8.4784e-04 - micro_f2: 0.9910 - val_loss: 0.0154 - val_micro_f2: 0.8849\n",
      "Epoch 20/20\n",
      "\u001b[1m220/220\u001b[0m \u001b[32m━━━━━━━━━━━━━━━━━━━━\u001b[0m\u001b[37m\u001b[0m \u001b[1m1s\u001b[0m 6ms/step - loss: 8.5105e-04 - micro_f2: 0.9905 - val_loss: 0.0159 - val_micro_f2: 0.8873\n"
     ]
    },
    {
     "name": "stderr",
     "output_type": "stream",
     "text": [
      "\n",
      "100%|██████████| 26/26 [04:38<00:00, 10.69s/it]\u001b[A\n",
      "100%|██████████| 1/1 [04:38<00:00, 278.53s/it]\n"
     ]
    }
   ],
   "source": [
    "'''Second stage training'''\n",
    "models2_all = []\n",
    "\n",
    "for tup in tqdm(params2):\n",
    "    epoch,batch_size = tup\n",
    "    models2 = {}\n",
    "    for letter in tqdm(alphabets):\n",
    "        indices  = [ind for ind,s in enumerate(mlabels) if s.startswith(letter)]\n",
    "        if len(indices) == 0 or letter in coupled:\n",
    "            models2[letter] = []\n",
    "            continue\n",
    "        else:\n",
    "            for sec_letter in coupler[letter]:\n",
    "                sec_indices = [ind for ind,s in enumerate(mlabels) if s.startswith(sec_letter)]\n",
    "                indices.extend(sec_indices)\n",
    "            print(letter)\n",
    "            print(coupler[letter])\n",
    "            filtered_data,filtered_labels = filter_data_points(X_train,y_train,indices)\n",
    "        \n",
    "            filtered_valid_data,filtered_valid_labels = filter_data_points(X_test,y_test,indices)\n",
    "            model = build_model(filtered_data.shape[1],len(indices))\n",
    "            model.fit(filtered_data.reshape(filtered_data.shape[0],1,filtered_data.shape[1]),filtered_labels[:,indices],epochs = epoch,batch_size = batch_size,\n",
    "                      callbacks = [],validation_data = (filtered_valid_data.reshape(filtered_valid_data.shape[0],1,filtered_valid_data.shape[1]),filtered_valid_labels[:,indices]))\n",
    "            models2[letter] = model\n",
    "            \n",
    "    models2_all.append(models2)\n",
    "    gc.collect()"
   ]
  },
  {
   "cell_type": "code",
   "execution_count": 18,
   "metadata": {
    "execution": {
     "iopub.execute_input": "2024-11-14T13:18:09.434513Z",
     "iopub.status.busy": "2024-11-14T13:18:09.433984Z",
     "iopub.status.idle": "2024-11-14T13:18:09.941931Z",
     "shell.execute_reply": "2024-11-14T13:18:09.940927Z",
     "shell.execute_reply.started": "2024-11-14T13:18:09.434467Z"
    }
   },
   "outputs": [
    {
     "data": {
      "text/plain": [
       "0"
      ]
     },
     "execution_count": 18,
     "metadata": {},
     "output_type": "execute_result"
    }
   ],
   "source": [
    "gc.collect()"
   ]
  },
  {
   "cell_type": "code",
   "execution_count": 25,
   "metadata": {
    "execution": {
     "iopub.execute_input": "2024-11-14T13:23:14.690522Z",
     "iopub.status.busy": "2024-11-14T13:23:14.689546Z",
     "iopub.status.idle": "2024-11-14T13:23:50.567281Z",
     "shell.execute_reply": "2024-11-14T13:23:50.566449Z",
     "shell.execute_reply.started": "2024-11-14T13:23:14.690469Z"
    }
   },
   "outputs": [
    {
     "name": "stdout",
     "output_type": "stream",
     "text": [
      "\u001b[1m4893/4893\u001b[0m \u001b[32m━━━━━━━━━━━━━━━━━━━━\u001b[0m\u001b[37m\u001b[0m \u001b[1m8s\u001b[0m 2ms/step\n"
     ]
    },
    {
     "name": "stderr",
     "output_type": "stream",
     "text": [
      "  0%|          | 0/26 [00:00<?, ?it/s]"
     ]
    },
    {
     "name": "stdout",
     "output_type": "stream",
     "text": [
      "\u001b[1m169/169\u001b[0m \u001b[32m━━━━━━━━━━━━━━━━━━━━\u001b[0m\u001b[37m\u001b[0m \u001b[1m0s\u001b[0m 2ms/step\n"
     ]
    },
    {
     "name": "stderr",
     "output_type": "stream",
     "text": [
      " 12%|█▏        | 3/26 [00:00<00:03,  6.17it/s]"
     ]
    },
    {
     "name": "stdout",
     "output_type": "stream",
     "text": [
      "\u001b[1m438/438\u001b[0m \u001b[32m━━━━━━━━━━━━━━━━━━━━\u001b[0m\u001b[37m\u001b[0m \u001b[1m1s\u001b[0m 2ms/step\n"
     ]
    },
    {
     "name": "stderr",
     "output_type": "stream",
     "text": [
      " 15%|█▌        | 4/26 [00:01<00:12,  1.83it/s]"
     ]
    },
    {
     "name": "stdout",
     "output_type": "stream",
     "text": [
      "\u001b[1m114/114\u001b[0m \u001b[32m━━━━━━━━━━━━━━━━━━━━\u001b[0m\u001b[37m\u001b[0m \u001b[1m0s\u001b[0m 2ms/step\n"
     ]
    },
    {
     "name": "stderr",
     "output_type": "stream",
     "text": [
      " 19%|█▉        | 5/26 [00:02<00:10,  2.07it/s]"
     ]
    },
    {
     "name": "stdout",
     "output_type": "stream",
     "text": [
      "\u001b[1m58/58\u001b[0m \u001b[32m━━━━━━━━━━━━━━━━━━━━\u001b[0m\u001b[37m\u001b[0m \u001b[1m0s\u001b[0m 2ms/step\n"
     ]
    },
    {
     "name": "stderr",
     "output_type": "stream",
     "text": [
      " 23%|██▎       | 6/26 [00:02<00:07,  2.54it/s]"
     ]
    },
    {
     "name": "stdout",
     "output_type": "stream",
     "text": [
      "\u001b[1m258/258\u001b[0m \u001b[32m━━━━━━━━━━━━━━━━━━━━\u001b[0m\u001b[37m\u001b[0m \u001b[1m0s\u001b[0m 2ms/step\n"
     ]
    },
    {
     "name": "stderr",
     "output_type": "stream",
     "text": [
      " 27%|██▋       | 7/26 [00:03<00:09,  1.96it/s]"
     ]
    },
    {
     "name": "stdout",
     "output_type": "stream",
     "text": [
      "\u001b[1m899/899\u001b[0m \u001b[32m━━━━━━━━━━━━━━━━━━━━\u001b[0m\u001b[37m\u001b[0m \u001b[1m2s\u001b[0m 2ms/step\n"
     ]
    },
    {
     "name": "stderr",
     "output_type": "stream",
     "text": [
      " 31%|███       | 8/26 [00:05<00:21,  1.19s/it]"
     ]
    },
    {
     "name": "stdout",
     "output_type": "stream",
     "text": [
      "\u001b[1m961/961\u001b[0m \u001b[32m━━━━━━━━━━━━━━━━━━━━\u001b[0m\u001b[37m\u001b[0m \u001b[1m2s\u001b[0m 2ms/step\n"
     ]
    },
    {
     "name": "stderr",
     "output_type": "stream",
     "text": [
      " 38%|███▊      | 10/26 [00:08<00:20,  1.28s/it]"
     ]
    },
    {
     "name": "stdout",
     "output_type": "stream",
     "text": [
      "\u001b[1m1075/1075\u001b[0m \u001b[32m━━━━━━━━━━━━━━━━━━━━\u001b[0m\u001b[37m\u001b[0m \u001b[1m2s\u001b[0m 2ms/step\n"
     ]
    },
    {
     "name": "stderr",
     "output_type": "stream",
     "text": [
      " 42%|████▏     | 11/26 [00:11<00:26,  1.78s/it]"
     ]
    },
    {
     "name": "stdout",
     "output_type": "stream",
     "text": [
      "\u001b[1m231/231\u001b[0m \u001b[32m━━━━━━━━━━━━━━━━━━━━\u001b[0m\u001b[37m\u001b[0m \u001b[1m0s\u001b[0m 2ms/step\n"
     ]
    },
    {
     "name": "stderr",
     "output_type": "stream",
     "text": [
      " 46%|████▌     | 12/26 [00:12<00:20,  1.49s/it]"
     ]
    },
    {
     "name": "stdout",
     "output_type": "stream",
     "text": [
      "\u001b[1m412/412\u001b[0m \u001b[32m━━━━━━━━━━━━━━━━━━━━\u001b[0m\u001b[37m\u001b[0m \u001b[1m1s\u001b[0m 2ms/step\n"
     ]
    },
    {
     "name": "stderr",
     "output_type": "stream",
     "text": [
      " 50%|█████     | 13/26 [00:13<00:18,  1.43s/it]"
     ]
    },
    {
     "name": "stdout",
     "output_type": "stream",
     "text": [
      "\u001b[1m807/807\u001b[0m \u001b[32m━━━━━━━━━━━━━━━━━━━━\u001b[0m\u001b[37m\u001b[0m \u001b[1m1s\u001b[0m 2ms/step\n"
     ]
    },
    {
     "name": "stderr",
     "output_type": "stream",
     "text": [
      " 54%|█████▍    | 14/26 [00:16<00:20,  1.69s/it]"
     ]
    },
    {
     "name": "stdout",
     "output_type": "stream",
     "text": [
      "\u001b[1m46/46\u001b[0m \u001b[32m━━━━━━━━━━━━━━━━━━━━\u001b[0m\u001b[37m\u001b[0m \u001b[1m0s\u001b[0m 2ms/step\n"
     ]
    },
    {
     "name": "stderr",
     "output_type": "stream",
     "text": [
      " 58%|█████▊    | 15/26 [00:16<00:13,  1.26s/it]"
     ]
    },
    {
     "name": "stdout",
     "output_type": "stream",
     "text": [
      "\u001b[1m73/73\u001b[0m \u001b[32m━━━━━━━━━━━━━━━━━━━━\u001b[0m\u001b[37m\u001b[0m \u001b[1m0s\u001b[0m 2ms/step\n"
     ]
    },
    {
     "name": "stderr",
     "output_type": "stream",
     "text": [
      " 65%|██████▌   | 17/26 [00:16<00:06,  1.34it/s]"
     ]
    },
    {
     "name": "stdout",
     "output_type": "stream",
     "text": [
      "\u001b[1m279/279\u001b[0m \u001b[32m━━━━━━━━━━━━━━━━━━━━\u001b[0m\u001b[37m\u001b[0m \u001b[1m0s\u001b[0m 2ms/step\n"
     ]
    },
    {
     "name": "stderr",
     "output_type": "stream",
     "text": [
      " 69%|██████▉   | 18/26 [00:17<00:06,  1.32it/s]"
     ]
    },
    {
     "name": "stdout",
     "output_type": "stream",
     "text": [
      "\u001b[1m82/82\u001b[0m \u001b[32m━━━━━━━━━━━━━━━━━━━━\u001b[0m\u001b[37m\u001b[0m \u001b[1m0s\u001b[0m 2ms/step\n"
     ]
    },
    {
     "name": "stderr",
     "output_type": "stream",
     "text": [
      " 73%|███████▎  | 19/26 [00:17<00:04,  1.58it/s]"
     ]
    },
    {
     "name": "stdout",
     "output_type": "stream",
     "text": [
      "\u001b[1m105/105\u001b[0m \u001b[32m━━━━━━━━━━━━━━━━━━━━\u001b[0m\u001b[37m\u001b[0m \u001b[1m0s\u001b[0m 2ms/step\n"
     ]
    },
    {
     "name": "stderr",
     "output_type": "stream",
     "text": [
      " 77%|███████▋  | 20/26 [00:18<00:03,  1.81it/s]"
     ]
    },
    {
     "name": "stdout",
     "output_type": "stream",
     "text": [
      "\u001b[1m819/819\u001b[0m \u001b[32m━━━━━━━━━━━━━━━━━━━━\u001b[0m\u001b[37m\u001b[0m \u001b[1m1s\u001b[0m 2ms/step\n"
     ]
    },
    {
     "name": "stderr",
     "output_type": "stream",
     "text": [
      "100%|██████████| 26/26 [00:20<00:00,  1.28it/s]\n"
     ]
    },
    {
     "name": "stdout",
     "output_type": "stream",
     "text": [
      "tf.Tensor(0.95551986, shape=(), dtype=float32)\n"
     ]
    }
   ],
   "source": [
    "'''Final model train performance'''\n",
    "pred_train = model1.predict(X_train.reshape(X_train.shape[0],1,X_train.shape[1]))>0.5\n",
    "print(micro_f2(final_pred(X_train.reshape(X_train.shape[0],1,X_train.shape[1]),pred_train,mlabels,models2),y_train))"
   ]
  },
  {
   "cell_type": "code",
   "execution_count": 19,
   "metadata": {
    "execution": {
     "iopub.execute_input": "2024-11-14T13:18:09.943977Z",
     "iopub.status.busy": "2024-11-14T13:18:09.943333Z",
     "iopub.status.idle": "2024-11-14T13:18:09.954629Z",
     "shell.execute_reply": "2024-11-14T13:18:09.953775Z",
     "shell.execute_reply.started": "2024-11-14T13:18:09.943930Z"
    },
    "papermill": {
     "duration": 0.031483,
     "end_time": "2024-11-03T15:35:34.112889",
     "exception": false,
     "start_time": "2024-11-03T15:35:34.081406",
     "status": "completed"
    },
    "tags": []
   },
   "outputs": [],
   "source": [
    "'''Utility function for 2nd stage prediction'''\n",
    "def final_pred(X_test,pred_1,mlabels,models):\n",
    "    pred_2 = np.zeros((X_test.shape[0],len(mlabels)))\n",
    "    ind = 0\n",
    "    for letter in tqdm(alphabets):\n",
    "        indices  = [ind for ind,s in enumerate(mlabels) if s.startswith(letter)]\n",
    "\n",
    "        if letter == 'P' or letter == 'U':\n",
    "            continue\n",
    "        reqd_data = np.any(pred_1[:,ind].reshape(-1,1),axis = 1)  #all rows where the pred_1 is 1 for the given letter\n",
    "        reqd_model = models[letter]\n",
    "        X_reqd = X_test[reqd_data,:]\n",
    "        ind +=1\n",
    "        if np.sum(reqd_data) == 0:\n",
    "            continue\n",
    "        elif letter in coupled:\n",
    "            continue\n",
    "        else:\n",
    "            for sec_letter in coupler[letter]:\n",
    "                sec_indices = [ind for ind,s in enumerate(mlabels) if s.startswith(sec_letter)]\n",
    "                indices.extend(sec_indices)\n",
    "\n",
    "            pred_2[np.ix_(reqd_data,indices)] += reqd_model.predict(X_reqd)>0.5               \n",
    "                \n",
    "    return pred_2"
   ]
  },
  {
   "cell_type": "code",
   "execution_count": 24,
   "metadata": {
    "execution": {
     "iopub.execute_input": "2024-11-14T13:22:20.654352Z",
     "iopub.status.busy": "2024-11-14T13:22:20.653932Z",
     "iopub.status.idle": "2024-11-14T13:22:29.837794Z",
     "shell.execute_reply": "2024-11-14T13:22:29.836655Z",
     "shell.execute_reply.started": "2024-11-14T13:22:20.654315Z"
    }
   },
   "outputs": [
    {
     "name": "stdout",
     "output_type": "stream",
     "text": [
      "\u001b[1m1227/1227\u001b[0m \u001b[32m━━━━━━━━━━━━━━━━━━━━\u001b[0m\u001b[37m\u001b[0m \u001b[1m2s\u001b[0m 2ms/step\n"
     ]
    },
    {
     "name": "stderr",
     "output_type": "stream",
     "text": [
      "  0%|          | 0/26 [00:00<?, ?it/s]"
     ]
    },
    {
     "name": "stdout",
     "output_type": "stream",
     "text": [
      "\u001b[1m44/44\u001b[0m \u001b[32m━━━━━━━━━━━━━━━━━━━━\u001b[0m\u001b[37m\u001b[0m \u001b[1m0s\u001b[0m 2ms/step\n"
     ]
    },
    {
     "name": "stderr",
     "output_type": "stream",
     "text": [
      " 12%|█▏        | 3/26 [00:00<00:01, 17.60it/s]"
     ]
    },
    {
     "name": "stdout",
     "output_type": "stream",
     "text": [
      "\u001b[1m114/114\u001b[0m \u001b[32m━━━━━━━━━━━━━━━━━━━━\u001b[0m\u001b[37m\u001b[0m \u001b[1m0s\u001b[0m 2ms/step\n",
      "\u001b[1m29/29\u001b[0m \u001b[32m━━━━━━━━━━━━━━━━━━━━\u001b[0m\u001b[37m\u001b[0m \u001b[1m0s\u001b[0m 2ms/step \n"
     ]
    },
    {
     "name": "stderr",
     "output_type": "stream",
     "text": [
      " 19%|█▉        | 5/26 [00:00<00:03,  6.96it/s]"
     ]
    },
    {
     "name": "stdout",
     "output_type": "stream",
     "text": [
      "\u001b[1m15/15\u001b[0m \u001b[32m━━━━━━━━━━━━━━━━━━━━\u001b[0m\u001b[37m\u001b[0m \u001b[1m0s\u001b[0m 2ms/step \n",
      "\u001b[1m64/64\u001b[0m \u001b[32m━━━━━━━━━━━━━━━━━━━━\u001b[0m\u001b[37m\u001b[0m \u001b[1m0s\u001b[0m 2ms/step\n"
     ]
    },
    {
     "name": "stderr",
     "output_type": "stream",
     "text": [
      " 27%|██▋       | 7/26 [00:00<00:02,  6.84it/s]"
     ]
    },
    {
     "name": "stdout",
     "output_type": "stream",
     "text": [
      "\u001b[1m229/229\u001b[0m \u001b[32m━━━━━━━━━━━━━━━━━━━━\u001b[0m\u001b[37m\u001b[0m \u001b[1m0s\u001b[0m 2ms/step\n"
     ]
    },
    {
     "name": "stderr",
     "output_type": "stream",
     "text": [
      " 31%|███       | 8/26 [00:01<00:04,  3.84it/s]"
     ]
    },
    {
     "name": "stdout",
     "output_type": "stream",
     "text": [
      "\u001b[1m238/238\u001b[0m \u001b[32m━━━━━━━━━━━━━━━━━━━━\u001b[0m\u001b[37m\u001b[0m \u001b[1m0s\u001b[0m 2ms/step\n"
     ]
    },
    {
     "name": "stderr",
     "output_type": "stream",
     "text": [
      " 38%|███▊      | 10/26 [00:02<00:04,  3.57it/s]"
     ]
    },
    {
     "name": "stdout",
     "output_type": "stream",
     "text": [
      "\u001b[1m274/274\u001b[0m \u001b[32m━━━━━━━━━━━━━━━━━━━━\u001b[0m\u001b[37m\u001b[0m \u001b[1m0s\u001b[0m 2ms/step\n"
     ]
    },
    {
     "name": "stderr",
     "output_type": "stream",
     "text": [
      " 42%|████▏     | 11/26 [00:03<00:05,  2.52it/s]"
     ]
    },
    {
     "name": "stdout",
     "output_type": "stream",
     "text": [
      "\u001b[1m58/58\u001b[0m \u001b[32m━━━━━━━━━━━━━━━━━━━━\u001b[0m\u001b[37m\u001b[0m \u001b[1m0s\u001b[0m 2ms/step\n"
     ]
    },
    {
     "name": "stderr",
     "output_type": "stream",
     "text": [
      " 46%|████▌     | 12/26 [00:03<00:04,  2.86it/s]"
     ]
    },
    {
     "name": "stdout",
     "output_type": "stream",
     "text": [
      "\u001b[1m106/106\u001b[0m \u001b[32m━━━━━━━━━━━━━━━━━━━━\u001b[0m\u001b[37m\u001b[0m \u001b[1m0s\u001b[0m 2ms/step\n"
     ]
    },
    {
     "name": "stderr",
     "output_type": "stream",
     "text": [
      " 50%|█████     | 13/26 [00:03<00:04,  2.85it/s]"
     ]
    },
    {
     "name": "stdout",
     "output_type": "stream",
     "text": [
      "\u001b[1m201/201\u001b[0m \u001b[32m━━━━━━━━━━━━━━━━━━━━\u001b[0m\u001b[37m\u001b[0m \u001b[1m0s\u001b[0m 2ms/step\n"
     ]
    },
    {
     "name": "stderr",
     "output_type": "stream",
     "text": [
      " 54%|█████▍    | 14/26 [00:04<00:04,  2.43it/s]"
     ]
    },
    {
     "name": "stdout",
     "output_type": "stream",
     "text": [
      "\u001b[1m12/12\u001b[0m \u001b[32m━━━━━━━━━━━━━━━━━━━━\u001b[0m\u001b[37m\u001b[0m \u001b[1m0s\u001b[0m 2ms/step \n",
      "\u001b[1m18/18\u001b[0m \u001b[32m━━━━━━━━━━━━━━━━━━━━\u001b[0m\u001b[37m\u001b[0m \u001b[1m0s\u001b[0m 2ms/step \n"
     ]
    },
    {
     "name": "stderr",
     "output_type": "stream",
     "text": [
      " 65%|██████▌   | 17/26 [00:04<00:02,  4.41it/s]"
     ]
    },
    {
     "name": "stdout",
     "output_type": "stream",
     "text": [
      "\u001b[1m73/73\u001b[0m \u001b[32m━━━━━━━━━━━━━━━━━━━━\u001b[0m\u001b[37m\u001b[0m \u001b[1m0s\u001b[0m 2ms/step\n"
     ]
    },
    {
     "name": "stderr",
     "output_type": "stream",
     "text": [
      " 69%|██████▉   | 18/26 [00:04<00:01,  4.38it/s]"
     ]
    },
    {
     "name": "stdout",
     "output_type": "stream",
     "text": [
      "\u001b[1m22/22\u001b[0m \u001b[32m━━━━━━━━━━━━━━━━━━━━\u001b[0m\u001b[37m\u001b[0m \u001b[1m0s\u001b[0m 2ms/step \n"
     ]
    },
    {
     "name": "stderr",
     "output_type": "stream",
     "text": [
      " 73%|███████▎  | 19/26 [00:04<00:01,  4.94it/s]"
     ]
    },
    {
     "name": "stdout",
     "output_type": "stream",
     "text": [
      "\u001b[1m26/26\u001b[0m \u001b[32m━━━━━━━━━━━━━━━━━━━━\u001b[0m\u001b[37m\u001b[0m \u001b[1m0s\u001b[0m 2ms/step \n"
     ]
    },
    {
     "name": "stderr",
     "output_type": "stream",
     "text": [
      " 77%|███████▋  | 20/26 [00:04<00:01,  5.47it/s]"
     ]
    },
    {
     "name": "stdout",
     "output_type": "stream",
     "text": [
      "\u001b[1m207/207\u001b[0m \u001b[32m━━━━━━━━━━━━━━━━━━━━\u001b[0m\u001b[37m\u001b[0m \u001b[1m0s\u001b[0m 2ms/step\n"
     ]
    },
    {
     "name": "stderr",
     "output_type": "stream",
     "text": [
      "100%|██████████| 26/26 [00:05<00:00,  4.79it/s]\n"
     ]
    },
    {
     "name": "stdout",
     "output_type": "stream",
     "text": [
      "tf.Tensor(0.83781624, shape=(), dtype=float32)\n"
     ]
    }
   ],
   "source": [
    "'''Final model validation performance'''\n",
    "pred_valid = model1.predict(X_test.reshape(X_test.shape[0],1,X_test.shape[1]))>0.5\n",
    "print(micro_f2(final_pred(X_test.reshape(X_test.shape[0],1,X_test.shape[1]),pred_valid,mlabels,models2),y_test))"
   ]
  },
  {
   "cell_type": "code",
   "execution_count": 20,
   "metadata": {
    "execution": {
     "iopub.execute_input": "2024-11-14T13:18:09.956034Z",
     "iopub.status.busy": "2024-11-14T13:18:09.955707Z",
     "iopub.status.idle": "2024-11-14T13:18:10.464452Z",
     "shell.execute_reply": "2024-11-14T13:18:10.463458Z",
     "shell.execute_reply.started": "2024-11-14T13:18:09.955971Z"
    },
    "papermill": {
     "duration": 0.141802,
     "end_time": "2024-11-03T15:35:34.325693",
     "exception": false,
     "start_time": "2024-11-03T15:35:34.183891",
     "status": "completed"
    },
    "tags": []
   },
   "outputs": [
    {
     "data": {
      "text/plain": [
       "0"
      ]
     },
     "execution_count": 20,
     "metadata": {},
     "output_type": "execute_result"
    }
   ],
   "source": [
    "gc.collect()"
   ]
  },
  {
   "cell_type": "code",
   "execution_count": 21,
   "metadata": {
    "execution": {
     "iopub.execute_input": "2024-11-14T13:18:10.466151Z",
     "iopub.status.busy": "2024-11-14T13:18:10.465745Z",
     "iopub.status.idle": "2024-11-14T13:18:42.840396Z",
     "shell.execute_reply": "2024-11-14T13:18:42.839391Z",
     "shell.execute_reply.started": "2024-11-14T13:18:10.466106Z"
    }
   },
   "outputs": [
    {
     "name": "stderr",
     "output_type": "stream",
     "text": [
      "  0%|          | 0/26 [00:00<?, ?it/s]"
     ]
    },
    {
     "name": "stdout",
     "output_type": "stream",
     "text": [
      "\u001b[1m12/12\u001b[0m \u001b[32m━━━━━━━━━━━━━━━━━━━━\u001b[0m\u001b[37m\u001b[0m \u001b[1m0s\u001b[0m 15ms/step\n"
     ]
    },
    {
     "name": "stderr",
     "output_type": "stream",
     "text": [
      " 12%|█▏        | 3/26 [00:00<00:03,  7.65it/s]"
     ]
    },
    {
     "name": "stdout",
     "output_type": "stream",
     "text": [
      "\u001b[1m514/514\u001b[0m \u001b[32m━━━━━━━━━━━━━━━━━━━━\u001b[0m\u001b[37m\u001b[0m \u001b[1m1s\u001b[0m 2ms/step\n"
     ]
    },
    {
     "name": "stderr",
     "output_type": "stream",
     "text": [
      " 15%|█▌        | 4/26 [00:02<00:14,  1.50it/s]"
     ]
    },
    {
     "name": "stdout",
     "output_type": "stream",
     "text": [
      "\u001b[1m21/21\u001b[0m \u001b[32m━━━━━━━━━━━━━━━━━━━━\u001b[0m\u001b[37m\u001b[0m \u001b[1m0s\u001b[0m 9ms/step\n"
     ]
    },
    {
     "name": "stderr",
     "output_type": "stream",
     "text": [
      " 19%|█▉        | 5/26 [00:02<00:12,  1.71it/s]"
     ]
    },
    {
     "name": "stdout",
     "output_type": "stream",
     "text": [
      "\u001b[1m2/2\u001b[0m \u001b[32m━━━━━━━━━━━━━━━━━━━━\u001b[0m\u001b[37m\u001b[0m \u001b[1m0s\u001b[0m 155ms/step\n"
     ]
    },
    {
     "name": "stderr",
     "output_type": "stream",
     "text": [
      " 23%|██▎       | 6/26 [00:02<00:10,  1.93it/s]"
     ]
    },
    {
     "name": "stdout",
     "output_type": "stream",
     "text": [
      "\u001b[1m202/202\u001b[0m \u001b[32m━━━━━━━━━━━━━━━━━━━━\u001b[0m\u001b[37m\u001b[0m \u001b[1m1s\u001b[0m 2ms/step\n"
     ]
    },
    {
     "name": "stderr",
     "output_type": "stream",
     "text": [
      " 27%|██▋       | 7/26 [00:03<00:11,  1.60it/s]"
     ]
    },
    {
     "name": "stdout",
     "output_type": "stream",
     "text": [
      "\u001b[1m2/2\u001b[0m \u001b[32m━━━━━━━━━━━━━━━━━━━━\u001b[0m\u001b[37m\u001b[0m \u001b[1m0s\u001b[0m 153ms/step\n"
     ]
    },
    {
     "name": "stderr",
     "output_type": "stream",
     "text": [
      " 31%|███       | 8/26 [00:04<00:09,  1.84it/s]"
     ]
    },
    {
     "name": "stdout",
     "output_type": "stream",
     "text": [
      "\u001b[1m4/4\u001b[0m \u001b[32m━━━━━━━━━━━━━━━━━━━━\u001b[0m\u001b[37m\u001b[0m \u001b[1m0s\u001b[0m 55ms/step\n"
     ]
    },
    {
     "name": "stderr",
     "output_type": "stream",
     "text": [
      " 38%|███▊      | 10/26 [00:04<00:06,  2.64it/s]"
     ]
    },
    {
     "name": "stdout",
     "output_type": "stream",
     "text": [
      "\u001b[1m1421/1421\u001b[0m \u001b[32m━━━━━━━━━━━━━━━━━━━━\u001b[0m\u001b[37m\u001b[0m \u001b[1m3s\u001b[0m 2ms/step\n"
     ]
    },
    {
     "name": "stderr",
     "output_type": "stream",
     "text": [
      " 42%|████▏     | 11/26 [00:09<00:21,  1.45s/it]"
     ]
    },
    {
     "name": "stdout",
     "output_type": "stream",
     "text": [
      "\u001b[1m21/21\u001b[0m \u001b[32m━━━━━━━━━━━━━━━━━━━━\u001b[0m\u001b[37m\u001b[0m \u001b[1m0s\u001b[0m 9ms/step\n"
     ]
    },
    {
     "name": "stderr",
     "output_type": "stream",
     "text": [
      " 46%|████▌     | 12/26 [00:09<00:16,  1.18s/it]"
     ]
    },
    {
     "name": "stdout",
     "output_type": "stream",
     "text": [
      "\u001b[1m1004/1004\u001b[0m \u001b[32m━━━━━━━━━━━━━━━━━━━━\u001b[0m\u001b[37m\u001b[0m \u001b[1m2s\u001b[0m 2ms/step\n"
     ]
    },
    {
     "name": "stderr",
     "output_type": "stream",
     "text": [
      " 50%|█████     | 13/26 [00:12<00:22,  1.77s/it]"
     ]
    },
    {
     "name": "stdout",
     "output_type": "stream",
     "text": [
      "\u001b[1m169/169\u001b[0m \u001b[32m━━━━━━━━━━━━━━━━━━━━\u001b[0m\u001b[37m\u001b[0m \u001b[1m1s\u001b[0m 3ms/step\n"
     ]
    },
    {
     "name": "stderr",
     "output_type": "stream",
     "text": [
      " 54%|█████▍    | 14/26 [00:13<00:17,  1.50s/it]"
     ]
    },
    {
     "name": "stdout",
     "output_type": "stream",
     "text": [
      "\u001b[1m32/32\u001b[0m \u001b[32m━━━━━━━━━━━━━━━━━━━━\u001b[0m\u001b[37m\u001b[0m \u001b[1m0s\u001b[0m 7ms/step\n"
     ]
    },
    {
     "name": "stderr",
     "output_type": "stream",
     "text": [
      " 65%|██████▌   | 17/26 [00:14<00:06,  1.31it/s]"
     ]
    },
    {
     "name": "stdout",
     "output_type": "stream",
     "text": [
      "\u001b[1m59/59\u001b[0m \u001b[32m━━━━━━━━━━━━━━━━━━━━\u001b[0m\u001b[37m\u001b[0m \u001b[1m0s\u001b[0m 4ms/step\n"
     ]
    },
    {
     "name": "stderr",
     "output_type": "stream",
     "text": [
      " 69%|██████▉   | 18/26 [00:14<00:05,  1.41it/s]"
     ]
    },
    {
     "name": "stdout",
     "output_type": "stream",
     "text": [
      "\u001b[1m490/490\u001b[0m \u001b[32m━━━━━━━━━━━━━━━━━━━━\u001b[0m\u001b[37m\u001b[0m \u001b[1m1s\u001b[0m 2ms/step\n"
     ]
    },
    {
     "name": "stderr",
     "output_type": "stream",
     "text": [
      " 73%|███████▎  | 19/26 [00:16<00:06,  1.08it/s]"
     ]
    },
    {
     "name": "stdout",
     "output_type": "stream",
     "text": [
      "\u001b[1m33/33\u001b[0m \u001b[32m━━━━━━━━━━━━━━━━━━━━\u001b[0m\u001b[37m\u001b[0m \u001b[1m0s\u001b[0m 7ms/step\n"
     ]
    },
    {
     "name": "stderr",
     "output_type": "stream",
     "text": [
      " 77%|███████▋  | 20/26 [00:16<00:04,  1.23it/s]"
     ]
    },
    {
     "name": "stdout",
     "output_type": "stream",
     "text": [
      "\u001b[1m988/988\u001b[0m \u001b[32m━━━━━━━━━━━━━━━━━━━━\u001b[0m\u001b[37m\u001b[0m \u001b[1m2s\u001b[0m 2ms/step\n"
     ]
    },
    {
     "name": "stderr",
     "output_type": "stream",
     "text": [
      "100%|██████████| 26/26 [00:19<00:00,  1.30it/s]\n"
     ]
    },
    {
     "name": "stdout",
     "output_type": "stream",
     "text": [
      "output_exc_less_freq:(5, 128, True),2:(20, 128).csv has 3097 empty values\n",
      "Data saved to output_exc_less_freq:(5, 128, True),2:(20, 128).csv\n"
     ]
    }
   ],
   "source": [
    "'''Final prediction and conversion into csv file'''\n",
    "for param,pred_1 in zip(params,pred1s):\n",
    "    for param2,models2 in zip(params2,models2_all):\n",
    "        pred_2 = mlb.inverse_transform(final_pred(real_test.reshape(real_test.shape[0],1,real_test.shape[1]),pred_1,mlabels,models2))\n",
    "        empty_pred = [i for i,pred in enumerate(pred_2) if pred == ()]\n",
    "        filename = f\"output_exc_less_freq:{param},2:{param2}.csv\"\n",
    "        print(f\"{filename} has {len(empty_pred)} empty values\")\n",
    "        with open(filename, mode='w', newline='') as file:\n",
    "            writer = csv.writer(file)\n",
    "            writer.writerow([\"id\", \"labels\"])\n",
    "            for idx, labels in enumerate(pred_2, start=1):\n",
    "                writer.writerow([idx, \";\".join(labels)])\n",
    "        print(f\"Data saved to {filename}\")\n",
    "        gc.collect()\n",
    "        "
   ]
  }
 ],
 "metadata": {
  "kaggle": {
   "accelerator": "gpu",
   "dataSources": [
    {
     "datasetId": 6017693,
     "sourceId": 9815294,
     "sourceType": "datasetVersion"
    }
   ],
   "isGpuEnabled": true,
   "isInternetEnabled": true,
   "language": "python",
   "sourceType": "notebook"
  },
  "kernelspec": {
   "display_name": "Python 3 (ipykernel)",
   "language": "python",
   "name": "python3"
  },
  "language_info": {
   "codemirror_mode": {
    "name": "ipython",
    "version": 3
   },
   "file_extension": ".py",
   "mimetype": "text/x-python",
   "name": "python",
   "nbconvert_exporter": "python",
   "pygments_lexer": "ipython3",
   "version": "3.12.4"
  },
  "papermill": {
   "default_parameters": {},
   "duration": 7784.493087,
   "end_time": "2024-11-03T15:37:13.512126",
   "environment_variables": {},
   "exception": null,
   "input_path": "__notebook__.ipynb",
   "output_path": "__notebook__.ipynb",
   "parameters": {},
   "start_time": "2024-11-03T13:27:29.019039",
   "version": "2.6.0"
  }
 },
 "nbformat": 4,
 "nbformat_minor": 4
}
