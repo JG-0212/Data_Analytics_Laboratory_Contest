{
 "cells": [
  {
   "cell_type": "code",
   "execution_count": 1,
   "id": "2d8792ed",
   "metadata": {
    "execution": {
     "iopub.execute_input": "2024-11-07T19:24:52.257005Z",
     "iopub.status.busy": "2024-11-07T19:24:52.256536Z",
     "iopub.status.idle": "2024-11-07T19:24:54.529316Z",
     "shell.execute_reply": "2024-11-07T19:24:54.528352Z"
    },
    "papermill": {
     "duration": 2.286598,
     "end_time": "2024-11-07T19:24:54.531686",
     "exception": false,
     "start_time": "2024-11-07T19:24:52.245088",
     "status": "completed"
    },
    "tags": []
   },
   "outputs": [],
   "source": [
    "import numpy as np\n",
    "\n",
    "import pandas as pd\n",
    "\n",
    "import matplotlib.pyplot as plt\n",
    "\n",
    "import gc\n",
    "\n",
    "import string\n",
    "\n",
    "from tqdm import tqdm\n",
    "\n",
    "import pickle\n",
    "\n",
    "from sklearn.metrics import fbeta_score\n",
    "\n",
    "import seaborn as sns"
   ]
  },
  {
   "cell_type": "code",
   "execution_count": null,
   "id": "106fe16e",
   "metadata": {
    "papermill": {
     "duration": 0.009392,
     "end_time": "2024-11-07T19:24:54.552256",
     "exception": false,
     "start_time": "2024-11-07T19:24:54.542864",
     "status": "completed"
    },
    "tags": []
   },
   "outputs": [],
   "source": []
  },
  {
   "cell_type": "code",
   "execution_count": 2,
   "id": "04a50a80",
   "metadata": {
    "execution": {
     "iopub.execute_input": "2024-11-07T19:24:54.572429Z",
     "iopub.status.busy": "2024-11-07T19:24:54.572021Z",
     "iopub.status.idle": "2024-11-07T19:24:54.575980Z",
     "shell.execute_reply": "2024-11-07T19:24:54.575169Z"
    },
    "papermill": {
     "duration": 0.016194,
     "end_time": "2024-11-07T19:24:54.577855",
     "exception": false,
     "start_time": "2024-11-07T19:24:54.561661",
     "status": "completed"
    },
    "tags": []
   },
   "outputs": [],
   "source": [
    "## store the embeddings and one hot encodings using np.save()"
   ]
  },
  {
   "cell_type": "code",
   "execution_count": 3,
   "id": "b7c485ca",
   "metadata": {
    "execution": {
     "iopub.execute_input": "2024-11-07T19:24:54.598024Z",
     "iopub.status.busy": "2024-11-07T19:24:54.597291Z",
     "iopub.status.idle": "2024-11-07T19:25:03.466917Z",
     "shell.execute_reply": "2024-11-07T19:25:03.465826Z"
    },
    "papermill": {
     "duration": 8.882636,
     "end_time": "2024-11-07T19:25:03.469855",
     "exception": false,
     "start_time": "2024-11-07T19:24:54.587219",
     "status": "completed"
    },
    "tags": []
   },
   "outputs": [],
   "source": [
    "X_test,y_test,X_train,y_train = np.load('/kaggle/input/dal-train/embed_train.npy'),np.load('/kaggle/input/dal-train/labels_train.npy'),np.load('/kaggle/input/dal-train/embed_test.npy'),np.load('/kaggle/input/dal-train/labels_test.npy')"
   ]
  },
  {
   "cell_type": "code",
   "execution_count": 4,
   "id": "c28ccbcc",
   "metadata": {
    "execution": {
     "iopub.execute_input": "2024-11-07T19:25:03.497943Z",
     "iopub.status.busy": "2024-11-07T19:25:03.497616Z",
     "iopub.status.idle": "2024-11-07T19:25:04.139372Z",
     "shell.execute_reply": "2024-11-07T19:25:04.138304Z"
    },
    "papermill": {
     "duration": 0.658724,
     "end_time": "2024-11-07T19:25:04.142333",
     "exception": false,
     "start_time": "2024-11-07T19:25:03.483609",
     "status": "completed"
    },
    "tags": []
   },
   "outputs": [],
   "source": [
    "X_train = np.vstack((X_train,X_test))\n",
    "\n",
    "y_train = np.vstack((y_train,y_test))"
   ]
  },
  {
   "cell_type": "code",
   "execution_count": 5,
   "id": "89d357b8",
   "metadata": {
    "execution": {
     "iopub.execute_input": "2024-11-07T19:25:04.167844Z",
     "iopub.status.busy": "2024-11-07T19:25:04.167162Z",
     "iopub.status.idle": "2024-11-07T19:25:04.171919Z",
     "shell.execute_reply": "2024-11-07T19:25:04.171035Z"
    },
    "papermill": {
     "duration": 0.017952,
     "end_time": "2024-11-07T19:25:04.174280",
     "exception": false,
     "start_time": "2024-11-07T19:25:04.156328",
     "status": "completed"
    },
    "tags": []
   },
   "outputs": [],
   "source": [
    "alphabets = list(string.ascii_uppercase)"
   ]
  },
  {
   "cell_type": "code",
   "execution_count": 6,
   "id": "9590eb4a",
   "metadata": {
    "execution": {
     "iopub.execute_input": "2024-11-07T19:25:04.197826Z",
     "iopub.status.busy": "2024-11-07T19:25:04.197243Z",
     "iopub.status.idle": "2024-11-07T19:25:04.201431Z",
     "shell.execute_reply": "2024-11-07T19:25:04.200604Z"
    },
    "papermill": {
     "duration": 0.016467,
     "end_time": "2024-11-07T19:25:04.203356",
     "exception": false,
     "start_time": "2024-11-07T19:25:04.186889",
     "status": "completed"
    },
    "tags": []
   },
   "outputs": [],
   "source": [
    "# store both the multi label binarizer models"
   ]
  },
  {
   "cell_type": "code",
   "execution_count": 7,
   "id": "16ecd556",
   "metadata": {
    "execution": {
     "iopub.execute_input": "2024-11-07T19:25:04.223655Z",
     "iopub.status.busy": "2024-11-07T19:25:04.223107Z",
     "iopub.status.idle": "2024-11-07T19:25:04.241691Z",
     "shell.execute_reply": "2024-11-07T19:25:04.240701Z"
    },
    "papermill": {
     "duration": 0.030936,
     "end_time": "2024-11-07T19:25:04.243824",
     "exception": false,
     "start_time": "2024-11-07T19:25:04.212888",
     "status": "completed"
    },
    "tags": []
   },
   "outputs": [
    {
     "name": "stderr",
     "output_type": "stream",
     "text": [
      "/opt/conda/lib/python3.10/site-packages/sklearn/base.py:318: UserWarning: Trying to unpickle estimator MultiLabelBinarizer from version 1.5.1 when using version 1.2.2. This might lead to breaking code or invalid results. Use at your own risk. For more info please refer to:\n",
      "https://scikit-learn.org/stable/model_persistence.html#security-maintainability-limitations\n",
      "  warnings.warn(\n"
     ]
    }
   ],
   "source": [
    "with open('/kaggle/input/dal-train/mlb.pkl','rb') as file:\n",
    "\n",
    "    mlb = pickle.load(file)\n",
    "\n",
    "with open('/kaggle/input/dal-train/mlb_letter.pkl','rb') as file:\n",
    "\n",
    "    mlb_letter = pickle.load(file)"
   ]
  },
  {
   "cell_type": "code",
   "execution_count": 8,
   "id": "8dd87b09",
   "metadata": {
    "execution": {
     "iopub.execute_input": "2024-11-07T19:25:04.264200Z",
     "iopub.status.busy": "2024-11-07T19:25:04.263898Z",
     "iopub.status.idle": "2024-11-07T19:25:20.739350Z",
     "shell.execute_reply": "2024-11-07T19:25:20.738528Z"
    },
    "papermill": {
     "duration": 16.488659,
     "end_time": "2024-11-07T19:25:20.742039",
     "exception": false,
     "start_time": "2024-11-07T19:25:04.253380",
     "status": "completed"
    },
    "tags": []
   },
   "outputs": [],
   "source": [
    "#y_train_letter\n",
    "\n",
    "y_labels_train = mlb.inverse_transform(y_train)\n",
    "\n",
    "y_labels_test = mlb.inverse_transform(y_test)"
   ]
  },
  {
   "cell_type": "code",
   "execution_count": 9,
   "id": "408d4f34",
   "metadata": {
    "execution": {
     "iopub.execute_input": "2024-11-07T19:25:20.764160Z",
     "iopub.status.busy": "2024-11-07T19:25:20.763315Z",
     "iopub.status.idle": "2024-11-07T19:25:20.994138Z",
     "shell.execute_reply": "2024-11-07T19:25:20.993205Z"
    },
    "papermill": {
     "duration": 0.243551,
     "end_time": "2024-11-07T19:25:20.996128",
     "exception": false,
     "start_time": "2024-11-07T19:25:20.752577",
     "status": "completed"
    },
    "tags": []
   },
   "outputs": [],
   "source": [
    "y_starter_train = [tuple(s[0] for s in tup) for tup in y_labels_train]\n",
    "\n",
    "y_starter_test = [tuple(s[0] for s in tup) for tup in y_labels_test]"
   ]
  },
  {
   "cell_type": "code",
   "execution_count": 10,
   "id": "5dd7c59b",
   "metadata": {
    "execution": {
     "iopub.execute_input": "2024-11-07T19:25:21.016354Z",
     "iopub.status.busy": "2024-11-07T19:25:21.016047Z",
     "iopub.status.idle": "2024-11-07T19:25:21.350042Z",
     "shell.execute_reply": "2024-11-07T19:25:21.349035Z"
    },
    "papermill": {
     "duration": 0.346789,
     "end_time": "2024-11-07T19:25:21.352488",
     "exception": false,
     "start_time": "2024-11-07T19:25:21.005699",
     "status": "completed"
    },
    "tags": []
   },
   "outputs": [],
   "source": [
    "y_train_letter = mlb_letter.transform(y_starter_train)\n",
    "\n",
    "y_test_letter = mlb_letter.transform(y_starter_test)"
   ]
  },
  {
   "cell_type": "code",
   "execution_count": 11,
   "id": "2d0f5168",
   "metadata": {
    "execution": {
     "iopub.execute_input": "2024-11-07T19:25:21.373498Z",
     "iopub.status.busy": "2024-11-07T19:25:21.372752Z",
     "iopub.status.idle": "2024-11-07T19:25:23.581499Z",
     "shell.execute_reply": "2024-11-07T19:25:23.580569Z"
    },
    "papermill": {
     "duration": 2.223229,
     "end_time": "2024-11-07T19:25:23.585636",
     "exception": false,
     "start_time": "2024-11-07T19:25:21.362407",
     "status": "completed"
    },
    "tags": []
   },
   "outputs": [
    {
     "data": {
      "image/png": "[encoded data removed]",
      "text/plain": [
       "<Figure size 1500x1500 with 2 Axes>"
      ]
     },
     "metadata": {},
     "output_type": "display_data"
    }
   ],
   "source": [
    "#co-occurence matrix\n",
    "com = y_train_letter.T@y_train_letter\n",
    "labels = [letter for letter in alphabets if letter!='P' and letter!='U']  # Replace with your actual labels\n",
    "\n",
    "# Plotting the heatmap with custom labels\n",
    "plt.figure(figsize=(15, 15))  # Adjust the figure size as needed\n",
    "sns.heatmap(com, annot=True, fmt=\"d\", cmap=\"YlGnBu\", cbar=True,\n",
    "            xticklabels=labels, yticklabels=labels)\n",
    "plt.title(\"Co-occurrence Matrix Heatmap\")\n",
    "plt.xlabel(\"Alphabet\")\n",
    "plt.ylabel(\"Alphabet\")\n",
    "plt.show()\n"
   ]
  },
  {
   "cell_type": "code",
   "execution_count": 12,
   "id": "887c1d7d",
   "metadata": {
    "execution": {
     "iopub.execute_input": "2024-11-07T19:25:23.611389Z",
     "iopub.status.busy": "2024-11-07T19:25:23.611071Z",
     "iopub.status.idle": "2024-11-07T19:25:23.627173Z",
     "shell.execute_reply": "2024-11-07T19:25:23.626355Z"
    },
    "papermill": {
     "duration": 0.032027,
     "end_time": "2024-11-07T19:25:23.629948",
     "exception": false,
     "start_time": "2024-11-07T19:25:23.597921",
     "status": "completed"
    },
    "tags": []
   },
   "outputs": [
    {
     "name": "stderr",
     "output_type": "stream",
     "text": [
      "100%|██████████| 26/26 [00:00<00:00, 3346.28it/s]"
     ]
    },
    {
     "name": "stdout",
     "output_type": "stream",
     "text": [
      "A\n",
      "V\n",
      "W\n",
      "X\n",
      "Y\n"
     ]
    },
    {
     "name": "stderr",
     "output_type": "stream",
     "text": [
      "\n"
     ]
    }
   ],
   "source": [
    "mlabels = mlb.classes_\n",
    "for letter in tqdm(alphabets):\n",
    "    # X should be embeddings, y should be multilabels\n",
    "    indices  = [ind for ind,s in enumerate(mlabels) if s.startswith(letter)]\n",
    "    if len(indices) == 1:\n",
    "        print(letter)"
   ]
  },
  {
   "cell_type": "code",
   "execution_count": 13,
   "id": "7eb392f7",
   "metadata": {
    "execution": {
     "iopub.execute_input": "2024-11-07T19:25:23.656649Z",
     "iopub.status.busy": "2024-11-07T19:25:23.656361Z",
     "iopub.status.idle": "2024-11-07T19:25:23.661319Z",
     "shell.execute_reply": "2024-11-07T19:25:23.660489Z"
    },
    "papermill": {
     "duration": 0.020597,
     "end_time": "2024-11-07T19:25:23.663246",
     "exception": false,
     "start_time": "2024-11-07T19:25:23.642649",
     "status": "completed"
    },
    "tags": []
   },
   "outputs": [],
   "source": [
    "from collections import defaultdict\n",
    "coupler = defaultdict(list)\n",
    "coupler.update({'K':['B','I'],'N':['A'],'S':['V','W','X'],'T':['Y']})\n",
    "coupled = list(let for set in coupler.values() for let in set)"
   ]
  },
  {
   "cell_type": "code",
   "execution_count": 14,
   "id": "f4e808d4",
   "metadata": {
    "execution": {
     "iopub.execute_input": "2024-11-07T19:25:23.689532Z",
     "iopub.status.busy": "2024-11-07T19:25:23.689256Z",
     "iopub.status.idle": "2024-11-07T19:25:23.692773Z",
     "shell.execute_reply": "2024-11-07T19:25:23.691940Z"
    },
    "papermill": {
     "duration": 0.018819,
     "end_time": "2024-11-07T19:25:23.694686",
     "exception": false,
     "start_time": "2024-11-07T19:25:23.675867",
     "status": "completed"
    },
    "tags": []
   },
   "outputs": [],
   "source": [
    "## couple labels "
   ]
  },
  {
   "cell_type": "code",
   "execution_count": 15,
   "id": "e8ad66d4",
   "metadata": {
    "execution": {
     "iopub.execute_input": "2024-11-07T19:25:23.720727Z",
     "iopub.status.busy": "2024-11-07T19:25:23.720465Z",
     "iopub.status.idle": "2024-11-07T19:25:23.818650Z",
     "shell.execute_reply": "2024-11-07T19:25:23.817762Z"
    },
    "papermill": {
     "duration": 0.11352,
     "end_time": "2024-11-07T19:25:23.820739",
     "exception": false,
     "start_time": "2024-11-07T19:25:23.707219",
     "status": "completed"
    },
    "tags": []
   },
   "outputs": [
    {
     "data": {
      "text/plain": [
       "44512"
      ]
     },
     "execution_count": 15,
     "metadata": {},
     "output_type": "execute_result"
    }
   ],
   "source": [
    "gc.collect()"
   ]
  },
  {
   "cell_type": "code",
   "execution_count": 16,
   "id": "5334e33b",
   "metadata": {
    "execution": {
     "iopub.execute_input": "2024-11-07T19:25:23.850028Z",
     "iopub.status.busy": "2024-11-07T19:25:23.849709Z",
     "iopub.status.idle": "2024-11-07T19:25:35.265940Z",
     "shell.execute_reply": "2024-11-07T19:25:35.264922Z"
    },
    "papermill": {
     "duration": 11.433727,
     "end_time": "2024-11-07T19:25:35.268749",
     "exception": false,
     "start_time": "2024-11-07T19:25:23.835022",
     "status": "completed"
    },
    "tags": []
   },
   "outputs": [],
   "source": [
    "import tensorflow as tf\n",
    "from tensorflow.keras import backend as K\n",
    "\n",
    "def micro_f2(y_true, y_pred):\n",
    "    y_true = K.cast(y_true, tf.float32)\n",
    "    y_pred = K.cast(y_pred > 0.5, tf.float32)  # Threshold to get binary predictions\n",
    "    true_positives = K.sum(y_true * y_pred)\n",
    "    possible_positives = K.sum(y_true)\n",
    "    predicted_positives = K.sum(y_pred)\n",
    "    \n",
    "    precision = true_positives / (predicted_positives + K.epsilon())\n",
    "    recall = true_positives / (possible_positives + K.epsilon())\n",
    "    \n",
    "    f2 = (1 + 2**2) * (precision * recall) / (2**2 * precision + recall + K.epsilon())\n",
    "    return f2\n",
    "\n",
    "\n"
   ]
  },
  {
   "cell_type": "code",
   "execution_count": 17,
   "id": "0950eab1",
   "metadata": {
    "execution": {
     "iopub.execute_input": "2024-11-07T19:25:35.302559Z",
     "iopub.status.busy": "2024-11-07T19:25:35.301956Z",
     "iopub.status.idle": "2024-11-07T19:25:35.313925Z",
     "shell.execute_reply": "2024-11-07T19:25:35.313046Z"
    },
    "papermill": {
     "duration": 0.027778,
     "end_time": "2024-11-07T19:25:35.315905",
     "exception": false,
     "start_time": "2024-11-07T19:25:35.288127",
     "status": "completed"
    },
    "tags": []
   },
   "outputs": [],
   "source": [
    "from tensorflow.keras.models import Sequential\n",
    "from tensorflow.keras.layers import Dense\n",
    "from tensorflow.keras.optimizers import Adam\n",
    "from tensorflow.keras import layers, models\n",
    "from tensorflow.keras.models import Model\n",
    "from tensorflow.keras.layers import Input, Conv1D, GlobalMaxPooling1D, Concatenate, Dense, Dropout\n",
    "from tensorflow.keras.optimizers import Adam\n",
    "\n",
    "\n",
    "def build_model(input_length, num_labels):\n",
    "    model = models.Sequential()\n",
    "\n",
    "    # Word Embedding Layer dim 128\n",
    "\n",
    "    # Bidirectional GRU Layer\n",
    "    model.add(layers.Bidirectional(layers.GRU(256, return_sequences=True)))\n",
    "\n",
    "    # Fully Connected Layer 1\n",
    "    model.add(layers.Flatten())  # Flattening the output from the GRU layer\n",
    "    model.add(layers.Dense(700, activation='relu'))\n",
    "    model.add(layers.Dropout(0.2))\n",
    "\n",
    "    # Fully Connected Layer 2 (Output Layer)\n",
    "    model.add(layers.Dense(num_labels, activation='sigmoid'))  # Sigmoid for multi-label classification\n",
    "\n",
    "    # Compile the model\n",
    "    model.compile(optimizer='adam',\n",
    "                  loss='binary_crossentropy',\n",
    "                  metrics=[micro_f2])\n",
    "\n",
    "    return model\n",
    "\n",
    "\n",
    "\n"
   ]
  },
  {
   "cell_type": "code",
   "execution_count": 18,
   "id": "5c2fa3c8",
   "metadata": {
    "execution": {
     "iopub.execute_input": "2024-11-07T19:25:35.343646Z",
     "iopub.status.busy": "2024-11-07T19:25:35.342780Z",
     "iopub.status.idle": "2024-11-07T19:31:37.144893Z",
     "shell.execute_reply": "2024-11-07T19:31:37.143849Z"
    },
    "papermill": {
     "duration": 361.818136,
     "end_time": "2024-11-07T19:31:37.146884",
     "exception": false,
     "start_time": "2024-11-07T19:25:35.328748",
     "status": "completed"
    },
    "tags": []
   },
   "outputs": [
    {
     "name": "stdout",
     "output_type": "stream",
     "text": [
      "Epoch 1/20\n",
      "\u001b[1m3060/3060\u001b[0m \u001b[32m━━━━━━━━━━━━━━━━━━━━\u001b[0m\u001b[37m\u001b[0m \u001b[1m22s\u001b[0m 6ms/step - loss: 0.0424 - micro_f2: 0.8539\n",
      "Epoch 2/20\n",
      "\u001b[1m3060/3060\u001b[0m \u001b[32m━━━━━━━━━━━━━━━━━━━━\u001b[0m\u001b[37m\u001b[0m \u001b[1m18s\u001b[0m 6ms/step - loss: 0.0217 - micro_f2: 0.9242\n",
      "Epoch 3/20\n",
      "\u001b[1m3060/3060\u001b[0m \u001b[32m━━━━━━━━━━━━━━━━━━━━\u001b[0m\u001b[37m\u001b[0m \u001b[1m17s\u001b[0m 6ms/step - loss: 0.0189 - micro_f2: 0.9329\n",
      "Epoch 4/20\n",
      "\u001b[1m3060/3060\u001b[0m \u001b[32m━━━━━━━━━━━━━━━━━━━━\u001b[0m\u001b[37m\u001b[0m \u001b[1m18s\u001b[0m 6ms/step - loss: 0.0167 - micro_f2: 0.9408\n",
      "Epoch 5/20\n",
      "\u001b[1m3060/3060\u001b[0m \u001b[32m━━━━━━━━━━━━━━━━━━━━\u001b[0m\u001b[37m\u001b[0m \u001b[1m17s\u001b[0m 6ms/step - loss: 0.0149 - micro_f2: 0.9469\n",
      "Epoch 6/20\n",
      "\u001b[1m3060/3060\u001b[0m \u001b[32m━━━━━━━━━━━━━━━━━━━━\u001b[0m\u001b[37m\u001b[0m \u001b[1m17s\u001b[0m 6ms/step - loss: 0.0136 - micro_f2: 0.9518\n",
      "Epoch 7/20\n",
      "\u001b[1m3060/3060\u001b[0m \u001b[32m━━━━━━━━━━━━━━━━━━━━\u001b[0m\u001b[37m\u001b[0m \u001b[1m18s\u001b[0m 6ms/step - loss: 0.0123 - micro_f2: 0.9563\n",
      "Epoch 8/20\n",
      "\u001b[1m3060/3060\u001b[0m \u001b[32m━━━━━━━━━━━━━━━━━━━━\u001b[0m\u001b[37m\u001b[0m \u001b[1m18s\u001b[0m 6ms/step - loss: 0.0113 - micro_f2: 0.9605\n",
      "Epoch 9/20\n",
      "\u001b[1m3060/3060\u001b[0m \u001b[32m━━━━━━━━━━━━━━━━━━━━\u001b[0m\u001b[37m\u001b[0m \u001b[1m18s\u001b[0m 6ms/step - loss: 0.0105 - micro_f2: 0.9634\n",
      "Epoch 10/20\n",
      "\u001b[1m3060/3060\u001b[0m \u001b[32m━━━━━━━━━━━━━━━━━━━━\u001b[0m\u001b[37m\u001b[0m \u001b[1m17s\u001b[0m 6ms/step - loss: 0.0097 - micro_f2: 0.9664\n",
      "Epoch 11/20\n",
      "\u001b[1m3060/3060\u001b[0m \u001b[32m━━━━━━━━━━━━━━━━━━━━\u001b[0m\u001b[37m\u001b[0m \u001b[1m18s\u001b[0m 6ms/step - loss: 0.0091 - micro_f2: 0.9683\n",
      "Epoch 12/20\n",
      "\u001b[1m3060/3060\u001b[0m \u001b[32m━━━━━━━━━━━━━━━━━━━━\u001b[0m\u001b[37m\u001b[0m \u001b[1m18s\u001b[0m 6ms/step - loss: 0.0084 - micro_f2: 0.9709\n",
      "Epoch 13/20\n",
      "\u001b[1m3060/3060\u001b[0m \u001b[32m━━━━━━━━━━━━━━━━━━━━\u001b[0m\u001b[37m\u001b[0m \u001b[1m18s\u001b[0m 6ms/step - loss: 0.0080 - micro_f2: 0.9721\n",
      "Epoch 14/20\n",
      "\u001b[1m3060/3060\u001b[0m \u001b[32m━━━━━━━━━━━━━━━━━━━━\u001b[0m\u001b[37m\u001b[0m \u001b[1m18s\u001b[0m 6ms/step - loss: 0.0078 - micro_f2: 0.9732\n",
      "Epoch 15/20\n",
      "\u001b[1m3060/3060\u001b[0m \u001b[32m━━━━━━━━━━━━━━━━━━━━\u001b[0m\u001b[37m\u001b[0m \u001b[1m18s\u001b[0m 6ms/step - loss: 0.0074 - micro_f2: 0.9748\n",
      "Epoch 16/20\n",
      "\u001b[1m3060/3060\u001b[0m \u001b[32m━━━━━━━━━━━━━━━━━━━━\u001b[0m\u001b[37m\u001b[0m \u001b[1m18s\u001b[0m 6ms/step - loss: 0.0071 - micro_f2: 0.9758\n",
      "Epoch 17/20\n",
      "\u001b[1m3060/3060\u001b[0m \u001b[32m━━━━━━━━━━━━━━━━━━━━\u001b[0m\u001b[37m\u001b[0m \u001b[1m19s\u001b[0m 6ms/step - loss: 0.0068 - micro_f2: 0.9771\n",
      "Epoch 18/20\n",
      "\u001b[1m3060/3060\u001b[0m \u001b[32m━━━━━━━━━━━━━━━━━━━━\u001b[0m\u001b[37m\u001b[0m \u001b[1m18s\u001b[0m 6ms/step - loss: 0.0065 - micro_f2: 0.9780\n",
      "Epoch 19/20\n",
      "\u001b[1m3060/3060\u001b[0m \u001b[32m━━━━━━━━━━━━━━━━━━━━\u001b[0m\u001b[37m\u001b[0m \u001b[1m18s\u001b[0m 6ms/step - loss: 0.0064 - micro_f2: 0.9788\n",
      "Epoch 20/20\n",
      "\u001b[1m3060/3060\u001b[0m \u001b[32m━━━━━━━━━━━━━━━━━━━━\u001b[0m\u001b[37m\u001b[0m \u001b[1m18s\u001b[0m 6ms/step - loss: 0.0062 - micro_f2: 0.9791\n"
     ]
    },
    {
     "data": {
      "text/plain": [
       "<keras.src.callbacks.history.History at 0x7d48e1951300>"
      ]
     },
     "execution_count": 18,
     "metadata": {},
     "output_type": "execute_result"
    }
   ],
   "source": [
    "# first stage for letters\n",
    "model1 = build_model(X_train.shape[1],y_train_letter.shape[1])\n",
    "model1.fit(X_train.reshape(X_train.shape[0],1,X_train.shape[1]),y_train_letter, epochs = 20, batch_size = 64)"
   ]
  },
  {
   "cell_type": "code",
   "execution_count": 19,
   "id": "6569928a",
   "metadata": {
    "execution": {
     "iopub.execute_input": "2024-11-07T19:31:38.261760Z",
     "iopub.status.busy": "2024-11-07T19:31:38.261370Z",
     "iopub.status.idle": "2024-11-07T19:31:38.267427Z",
     "shell.execute_reply": "2024-11-07T19:31:38.266525Z"
    },
    "papermill": {
     "duration": 0.564561,
     "end_time": "2024-11-07T19:31:38.269332",
     "exception": false,
     "start_time": "2024-11-07T19:31:37.704771",
     "status": "completed"
    },
    "tags": []
   },
   "outputs": [],
   "source": [
    "def filter_data_points(embeddings,labels, labels_to_check):\n",
    "    #choose rows who have atleast one entry in 'labels_to_check' and choose labels data only from 'labels_to_check' columns\n",
    "    interested_rows = np.any(labels[:, labels_to_check], axis=1)\n",
    "    interested_labels = labels[interested_rows]\n",
    "    filtered_labels = np.zeros((np.sum(interested_rows),labels.shape[1]))\n",
    "    filtered_labels[:,labels_to_check] += interested_labels[:,labels_to_check] \n",
    "    filtered_embeddings = embeddings[interested_rows]\n",
    "    return filtered_embeddings, filtered_labels"
   ]
  },
  {
   "cell_type": "code",
   "execution_count": 20,
   "id": "4d168301",
   "metadata": {
    "execution": {
     "iopub.execute_input": "2024-11-07T19:31:39.428693Z",
     "iopub.status.busy": "2024-11-07T19:31:39.428303Z",
     "iopub.status.idle": "2024-11-07T19:50:48.318530Z",
     "shell.execute_reply": "2024-11-07T19:50:48.317437Z"
    },
    "papermill": {
     "duration": 1149.453574,
     "end_time": "2024-11-07T19:50:48.320485",
     "exception": false,
     "start_time": "2024-11-07T19:31:38.866911",
     "status": "completed"
    },
    "tags": []
   },
   "outputs": [
    {
     "name": "stderr",
     "output_type": "stream",
     "text": [
      "  0%|          | 0/26 [00:00<?, ?it/s]"
     ]
    },
    {
     "name": "stdout",
     "output_type": "stream",
     "text": [
      "C\n",
      "[]\n",
      "Epoch 1/20\n",
      "\u001b[1m219/219\u001b[0m \u001b[32m━━━━━━━━━━━━━━━━━━━━\u001b[0m\u001b[37m\u001b[0m \u001b[1m4s\u001b[0m 8ms/step - loss: 0.0966 - micro_f2: 0.5328 - val_loss: 0.0139 - val_micro_f2: 0.8709\n",
      "Epoch 2/20\n",
      "\u001b[1m219/219\u001b[0m \u001b[32m━━━━━━━━━━━━━━━━━━━━\u001b[0m\u001b[37m\u001b[0m \u001b[1m1s\u001b[0m 6ms/step - loss: 0.0151 - micro_f2: 0.8649 - val_loss: 0.0111 - val_micro_f2: 0.9025\n",
      "Epoch 3/20\n",
      "\u001b[1m219/219\u001b[0m \u001b[32m━━━━━━━━━━━━━━━━━━━━\u001b[0m\u001b[37m\u001b[0m \u001b[1m1s\u001b[0m 6ms/step - loss: 0.0119 - micro_f2: 0.8943 - val_loss: 0.0097 - val_micro_f2: 0.9231\n",
      "Epoch 4/20\n",
      "\u001b[1m219/219\u001b[0m \u001b[32m━━━━━━━━━━━━━━━━━━━━\u001b[0m\u001b[37m\u001b[0m \u001b[1m1s\u001b[0m 6ms/step - loss: 0.0104 - micro_f2: 0.9104 - val_loss: 0.0080 - val_micro_f2: 0.9346\n",
      "Epoch 5/20\n",
      "\u001b[1m219/219\u001b[0m \u001b[32m━━━━━━━━━━━━━━━━━━━━\u001b[0m\u001b[37m\u001b[0m \u001b[1m1s\u001b[0m 6ms/step - loss: 0.0088 - micro_f2: 0.9247 - val_loss: 0.0071 - val_micro_f2: 0.9403\n",
      "Epoch 6/20\n",
      "\u001b[1m219/219\u001b[0m \u001b[32m━━━━━━━━━━━━━━━━━━━━\u001b[0m\u001b[37m\u001b[0m \u001b[1m1s\u001b[0m 6ms/step - loss: 0.0076 - micro_f2: 0.9362 - val_loss: 0.0067 - val_micro_f2: 0.9426\n",
      "Epoch 7/20\n",
      "\u001b[1m219/219\u001b[0m \u001b[32m━━━━━━━━━━━━━━━━━━━━\u001b[0m\u001b[37m\u001b[0m \u001b[1m1s\u001b[0m 6ms/step - loss: 0.0069 - micro_f2: 0.9397 - val_loss: 0.0057 - val_micro_f2: 0.9538\n",
      "Epoch 8/20\n",
      "\u001b[1m219/219\u001b[0m \u001b[32m━━━━━━━━━━━━━━━━━━━━\u001b[0m\u001b[37m\u001b[0m \u001b[1m1s\u001b[0m 6ms/step - loss: 0.0061 - micro_f2: 0.9480 - val_loss: 0.0059 - val_micro_f2: 0.9510\n",
      "Epoch 9/20\n",
      "\u001b[1m219/219\u001b[0m \u001b[32m━━━━━━━━━━━━━━━━━━━━\u001b[0m\u001b[37m\u001b[0m \u001b[1m1s\u001b[0m 6ms/step - loss: 0.0055 - micro_f2: 0.9531 - val_loss: 0.0047 - val_micro_f2: 0.9601\n",
      "Epoch 10/20\n",
      "\u001b[1m219/219\u001b[0m \u001b[32m━━━━━━━━━━━━━━━━━━━━\u001b[0m\u001b[37m\u001b[0m \u001b[1m2s\u001b[0m 7ms/step - loss: 0.0047 - micro_f2: 0.9606 - val_loss: 0.0041 - val_micro_f2: 0.9650\n",
      "Epoch 11/20\n",
      "\u001b[1m219/219\u001b[0m \u001b[32m━━━━━━━━━━━━━━━━━━━━\u001b[0m\u001b[37m\u001b[0m \u001b[1m1s\u001b[0m 7ms/step - loss: 0.0043 - micro_f2: 0.9646 - val_loss: 0.0039 - val_micro_f2: 0.9683\n",
      "Epoch 12/20\n",
      "\u001b[1m219/219\u001b[0m \u001b[32m━━━━━━━━━━━━━━━━━━━━\u001b[0m\u001b[37m\u001b[0m \u001b[1m1s\u001b[0m 6ms/step - loss: 0.0038 - micro_f2: 0.9686 - val_loss: 0.0031 - val_micro_f2: 0.9736\n",
      "Epoch 13/20\n",
      "\u001b[1m219/219\u001b[0m \u001b[32m━━━━━━━━━━━━━━━━━━━━\u001b[0m\u001b[37m\u001b[0m \u001b[1m1s\u001b[0m 6ms/step - loss: 0.0035 - micro_f2: 0.9725 - val_loss: 0.0039 - val_micro_f2: 0.9704\n",
      "Epoch 14/20\n",
      "\u001b[1m219/219\u001b[0m \u001b[32m━━━━━━━━━━━━━━━━━━━━\u001b[0m\u001b[37m\u001b[0m \u001b[1m1s\u001b[0m 6ms/step - loss: 0.0037 - micro_f2: 0.9695 - val_loss: 0.0027 - val_micro_f2: 0.9773\n",
      "Epoch 15/20\n",
      "\u001b[1m219/219\u001b[0m \u001b[32m━━━━━━━━━━━━━━━━━━━━\u001b[0m\u001b[37m\u001b[0m \u001b[1m1s\u001b[0m 6ms/step - loss: 0.0028 - micro_f2: 0.9780 - val_loss: 0.0026 - val_micro_f2: 0.9756\n",
      "Epoch 16/20\n",
      "\u001b[1m219/219\u001b[0m \u001b[32m━━━━━━━━━━━━━━━━━━━━\u001b[0m\u001b[37m\u001b[0m \u001b[1m1s\u001b[0m 6ms/step - loss: 0.0028 - micro_f2: 0.9782 - val_loss: 0.0024 - val_micro_f2: 0.9823\n",
      "Epoch 17/20\n",
      "\u001b[1m219/219\u001b[0m \u001b[32m━━━━━━━━━━━━━━━━━━━━\u001b[0m\u001b[37m\u001b[0m \u001b[1m1s\u001b[0m 6ms/step - loss: 0.0029 - micro_f2: 0.9777 - val_loss: 0.0021 - val_micro_f2: 0.9835\n",
      "Epoch 18/20\n",
      "\u001b[1m219/219\u001b[0m \u001b[32m━━━━━━━━━━━━━━━━━━━━\u001b[0m\u001b[37m\u001b[0m \u001b[1m1s\u001b[0m 6ms/step - loss: 0.0027 - micro_f2: 0.9780 - val_loss: 0.0024 - val_micro_f2: 0.9827\n",
      "Epoch 19/20\n",
      "\u001b[1m219/219\u001b[0m \u001b[32m━━━━━━━━━━━━━━━━━━━━\u001b[0m\u001b[37m\u001b[0m \u001b[1m1s\u001b[0m 6ms/step - loss: 0.0027 - micro_f2: 0.9800 - val_loss: 0.0018 - val_micro_f2: 0.9862\n",
      "Epoch 20/20\n",
      "\u001b[1m219/219\u001b[0m \u001b[32m━━━━━━━━━━━━━━━━━━━━\u001b[0m\u001b[37m\u001b[0m \u001b[1m1s\u001b[0m 7ms/step - loss: 0.0024 - micro_f2: 0.9821 - val_loss: 0.0026 - val_micro_f2: 0.9787\n"
     ]
    },
    {
     "name": "stderr",
     "output_type": "stream",
     "text": [
      " 12%|█▏        | 3/26 [00:31<03:57, 10.34s/it]"
     ]
    },
    {
     "name": "stdout",
     "output_type": "stream",
     "text": [
      "D\n",
      "[]\n",
      "Epoch 1/20\n",
      "\u001b[1m532/532\u001b[0m \u001b[32m━━━━━━━━━━━━━━━━━━━━\u001b[0m\u001b[37m\u001b[0m \u001b[1m5s\u001b[0m 6ms/step - loss: 0.0632 - micro_f2: 0.5455 - val_loss: 0.0131 - val_micro_f2: 0.8420\n",
      "Epoch 2/20\n",
      "\u001b[1m532/532\u001b[0m \u001b[32m━━━━━━━━━━━━━━━━━━━━\u001b[0m\u001b[37m\u001b[0m \u001b[1m3s\u001b[0m 6ms/step - loss: 0.0139 - micro_f2: 0.8410 - val_loss: 0.0103 - val_micro_f2: 0.8548\n",
      "Epoch 3/20\n",
      "\u001b[1m532/532\u001b[0m \u001b[32m━━━━━━━━━━━━━━━━━━━━\u001b[0m\u001b[37m\u001b[0m \u001b[1m3s\u001b[0m 6ms/step - loss: 0.0114 - micro_f2: 0.8656 - val_loss: 0.0086 - val_micro_f2: 0.8885\n",
      "Epoch 4/20\n",
      "\u001b[1m532/532\u001b[0m \u001b[32m━━━━━━━━━━━━━━━━━━━━\u001b[0m\u001b[37m\u001b[0m \u001b[1m3s\u001b[0m 6ms/step - loss: 0.0096 - micro_f2: 0.8878 - val_loss: 0.0073 - val_micro_f2: 0.9105\n",
      "Epoch 5/20\n",
      "\u001b[1m532/532\u001b[0m \u001b[32m━━━━━━━━━━━━━━━━━━━━\u001b[0m\u001b[37m\u001b[0m \u001b[1m3s\u001b[0m 6ms/step - loss: 0.0083 - micro_f2: 0.9053 - val_loss: 0.0063 - val_micro_f2: 0.9150\n",
      "Epoch 6/20\n",
      "\u001b[1m532/532\u001b[0m \u001b[32m━━━━━━━━━━━━━━━━━━━━\u001b[0m\u001b[37m\u001b[0m \u001b[1m3s\u001b[0m 6ms/step - loss: 0.0069 - micro_f2: 0.9195 - val_loss: 0.0055 - val_micro_f2: 0.9267\n",
      "Epoch 7/20\n",
      "\u001b[1m532/532\u001b[0m \u001b[32m━━━━━━━━━━━━━━━━━━━━\u001b[0m\u001b[37m\u001b[0m \u001b[1m3s\u001b[0m 6ms/step - loss: 0.0063 - micro_f2: 0.9304 - val_loss: 0.0045 - val_micro_f2: 0.9469\n",
      "Epoch 8/20\n",
      "\u001b[1m532/532\u001b[0m \u001b[32m━━━━━━━━━━━━━━━━━━━━\u001b[0m\u001b[37m\u001b[0m \u001b[1m3s\u001b[0m 6ms/step - loss: 0.0051 - micro_f2: 0.9435 - val_loss: 0.0042 - val_micro_f2: 0.9446\n",
      "Epoch 9/20\n",
      "\u001b[1m532/532\u001b[0m \u001b[32m━━━━━━━━━━━━━━━━━━━━\u001b[0m\u001b[37m\u001b[0m \u001b[1m3s\u001b[0m 6ms/step - loss: 0.0046 - micro_f2: 0.9479 - val_loss: 0.0032 - val_micro_f2: 0.9610\n",
      "Epoch 10/20\n",
      "\u001b[1m532/532\u001b[0m \u001b[32m━━━━━━━━━━━━━━━━━━━━\u001b[0m\u001b[37m\u001b[0m \u001b[1m3s\u001b[0m 6ms/step - loss: 0.0040 - micro_f2: 0.9573 - val_loss: 0.0035 - val_micro_f2: 0.9611\n",
      "Epoch 11/20\n",
      "\u001b[1m532/532\u001b[0m \u001b[32m━━━━━━━━━━━━━━━━━━━━\u001b[0m\u001b[37m\u001b[0m \u001b[1m3s\u001b[0m 6ms/step - loss: 0.0037 - micro_f2: 0.9604 - val_loss: 0.0028 - val_micro_f2: 0.9677\n",
      "Epoch 12/20\n",
      "\u001b[1m532/532\u001b[0m \u001b[32m━━━━━━━━━━━━━━━━━━━━\u001b[0m\u001b[37m\u001b[0m \u001b[1m3s\u001b[0m 6ms/step - loss: 0.0033 - micro_f2: 0.9651 - val_loss: 0.0026 - val_micro_f2: 0.9695\n",
      "Epoch 13/20\n",
      "\u001b[1m532/532\u001b[0m \u001b[32m━━━━━━━━━━━━━━━━━━━━\u001b[0m\u001b[37m\u001b[0m \u001b[1m3s\u001b[0m 6ms/step - loss: 0.0032 - micro_f2: 0.9665 - val_loss: 0.0023 - val_micro_f2: 0.9705\n",
      "Epoch 14/20\n",
      "\u001b[1m532/532\u001b[0m \u001b[32m━━━━━━━━━━━━━━━━━━━━\u001b[0m\u001b[37m\u001b[0m \u001b[1m3s\u001b[0m 6ms/step - loss: 0.0027 - micro_f2: 0.9712 - val_loss: 0.0018 - val_micro_f2: 0.9784\n",
      "Epoch 15/20\n",
      "\u001b[1m532/532\u001b[0m \u001b[32m━━━━━━━━━━━━━━━━━━━━\u001b[0m\u001b[37m\u001b[0m \u001b[1m3s\u001b[0m 6ms/step - loss: 0.0025 - micro_f2: 0.9731 - val_loss: 0.0023 - val_micro_f2: 0.9710\n",
      "Epoch 16/20\n",
      "\u001b[1m532/532\u001b[0m \u001b[32m━━━━━━━━━━━━━━━━━━━━\u001b[0m\u001b[37m\u001b[0m \u001b[1m5s\u001b[0m 6ms/step - loss: 0.0024 - micro_f2: 0.9738 - val_loss: 0.0019 - val_micro_f2: 0.9779\n",
      "Epoch 17/20\n",
      "\u001b[1m532/532\u001b[0m \u001b[32m━━━━━━━━━━━━━━━━━━━━\u001b[0m\u001b[37m\u001b[0m \u001b[1m3s\u001b[0m 6ms/step - loss: 0.0024 - micro_f2: 0.9762 - val_loss: 0.0018 - val_micro_f2: 0.9805\n",
      "Epoch 18/20\n",
      "\u001b[1m532/532\u001b[0m \u001b[32m━━━━━━━━━━━━━━━━━━━━\u001b[0m\u001b[37m\u001b[0m \u001b[1m3s\u001b[0m 6ms/step - loss: 0.0021 - micro_f2: 0.9772 - val_loss: 0.0014 - val_micro_f2: 0.9843\n",
      "Epoch 19/20\n",
      "\u001b[1m532/532\u001b[0m \u001b[32m━━━━━━━━━━━━━━━━━━━━\u001b[0m\u001b[37m\u001b[0m \u001b[1m3s\u001b[0m 6ms/step - loss: 0.0020 - micro_f2: 0.9795 - val_loss: 0.0015 - val_micro_f2: 0.9832\n",
      "Epoch 20/20\n",
      "\u001b[1m532/532\u001b[0m \u001b[32m━━━━━━━━━━━━━━━━━━━━\u001b[0m\u001b[37m\u001b[0m \u001b[1m3s\u001b[0m 6ms/step - loss: 0.0021 - micro_f2: 0.9789 - val_loss: 0.0015 - val_micro_f2: 0.9833\n"
     ]
    },
    {
     "name": "stderr",
     "output_type": "stream",
     "text": [
      " 15%|█▌        | 4/26 [01:37<10:28, 28.58s/it]"
     ]
    },
    {
     "name": "stdout",
     "output_type": "stream",
     "text": [
      "E\n",
      "[]\n",
      "Epoch 1/20\n",
      "\u001b[1m145/145\u001b[0m \u001b[32m━━━━━━━━━━━━━━━━━━━━\u001b[0m\u001b[37m\u001b[0m \u001b[1m4s\u001b[0m 9ms/step - loss: 0.1077 - micro_f2: 0.6470 - val_loss: 0.0211 - val_micro_f2: 0.8967\n",
      "Epoch 2/20\n",
      "\u001b[1m145/145\u001b[0m \u001b[32m━━━━━━━━━━━━━━━━━━━━\u001b[0m\u001b[37m\u001b[0m \u001b[1m1s\u001b[0m 6ms/step - loss: 0.0217 - micro_f2: 0.9025 - val_loss: 0.0149 - val_micro_f2: 0.9301\n",
      "Epoch 3/20\n",
      "\u001b[1m145/145\u001b[0m \u001b[32m━━━━━━━━━━━━━━━━━━━━\u001b[0m\u001b[37m\u001b[0m \u001b[1m1s\u001b[0m 6ms/step - loss: 0.0175 - micro_f2: 0.9173 - val_loss: 0.0136 - val_micro_f2: 0.9555\n",
      "Epoch 4/20\n",
      "\u001b[1m145/145\u001b[0m \u001b[32m━━━━━━━━━━━━━━━━━━━━\u001b[0m\u001b[37m\u001b[0m \u001b[1m1s\u001b[0m 6ms/step - loss: 0.0131 - micro_f2: 0.9421 - val_loss: 0.0098 - val_micro_f2: 0.9565\n",
      "Epoch 5/20\n",
      "\u001b[1m145/145\u001b[0m \u001b[32m━━━━━━━━━━━━━━━━━━━━\u001b[0m\u001b[37m\u001b[0m \u001b[1m1s\u001b[0m 6ms/step - loss: 0.0111 - micro_f2: 0.9536 - val_loss: 0.0091 - val_micro_f2: 0.9588\n",
      "Epoch 6/20\n",
      "\u001b[1m145/145\u001b[0m \u001b[32m━━━━━━━━━━━━━━━━━━━━\u001b[0m\u001b[37m\u001b[0m \u001b[1m1s\u001b[0m 6ms/step - loss: 0.0107 - micro_f2: 0.9527 - val_loss: 0.0079 - val_micro_f2: 0.9732\n",
      "Epoch 7/20\n",
      "\u001b[1m145/145\u001b[0m \u001b[32m━━━━━━━━━━━━━━━━━━━━\u001b[0m\u001b[37m\u001b[0m \u001b[1m1s\u001b[0m 7ms/step - loss: 0.0090 - micro_f2: 0.9611 - val_loss: 0.0080 - val_micro_f2: 0.9693\n",
      "Epoch 8/20\n",
      "\u001b[1m145/145\u001b[0m \u001b[32m━━━━━━━━━━━━━━━━━━━━\u001b[0m\u001b[37m\u001b[0m \u001b[1m1s\u001b[0m 6ms/step - loss: 0.0077 - micro_f2: 0.9681 - val_loss: 0.0057 - val_micro_f2: 0.9734\n",
      "Epoch 9/20\n",
      "\u001b[1m145/145\u001b[0m \u001b[32m━━━━━━━━━━━━━━━━━━━━\u001b[0m\u001b[37m\u001b[0m \u001b[1m1s\u001b[0m 6ms/step - loss: 0.0064 - micro_f2: 0.9694 - val_loss: 0.0054 - val_micro_f2: 0.9776\n",
      "Epoch 10/20\n",
      "\u001b[1m145/145\u001b[0m \u001b[32m━━━━━━━━━━━━━━━━━━━━\u001b[0m\u001b[37m\u001b[0m \u001b[1m1s\u001b[0m 6ms/step - loss: 0.0058 - micro_f2: 0.9716 - val_loss: 0.0053 - val_micro_f2: 0.9781\n",
      "Epoch 11/20\n",
      "\u001b[1m145/145\u001b[0m \u001b[32m━━━━━━━━━━━━━━━━━━━━\u001b[0m\u001b[37m\u001b[0m \u001b[1m1s\u001b[0m 7ms/step - loss: 0.0066 - micro_f2: 0.9725 - val_loss: 0.0055 - val_micro_f2: 0.9829\n",
      "Epoch 12/20\n",
      "\u001b[1m145/145\u001b[0m \u001b[32m━━━━━━━━━━━━━━━━━━━━\u001b[0m\u001b[37m\u001b[0m \u001b[1m1s\u001b[0m 7ms/step - loss: 0.0057 - micro_f2: 0.9788 - val_loss: 0.0057 - val_micro_f2: 0.9798\n",
      "Epoch 13/20\n",
      "\u001b[1m145/145\u001b[0m \u001b[32m━━━━━━━━━━━━━━━━━━━━\u001b[0m\u001b[37m\u001b[0m \u001b[1m1s\u001b[0m 6ms/step - loss: 0.0055 - micro_f2: 0.9775 - val_loss: 0.0047 - val_micro_f2: 0.9824\n",
      "Epoch 14/20\n",
      "\u001b[1m145/145\u001b[0m \u001b[32m━━━━━━━━━━━━━━━━━━━━\u001b[0m\u001b[37m\u001b[0m \u001b[1m1s\u001b[0m 6ms/step - loss: 0.0044 - micro_f2: 0.9802 - val_loss: 0.0039 - val_micro_f2: 0.9831\n",
      "Epoch 15/20\n",
      "\u001b[1m145/145\u001b[0m \u001b[32m━━━━━━━━━━━━━━━━━━━━\u001b[0m\u001b[37m\u001b[0m \u001b[1m1s\u001b[0m 6ms/step - loss: 0.0039 - micro_f2: 0.9853 - val_loss: 0.0043 - val_micro_f2: 0.9806\n",
      "Epoch 16/20\n",
      "\u001b[1m145/145\u001b[0m \u001b[32m━━━━━━━━━━━━━━━━━━━━\u001b[0m\u001b[37m\u001b[0m \u001b[1m1s\u001b[0m 6ms/step - loss: 0.0043 - micro_f2: 0.9798 - val_loss: 0.0035 - val_micro_f2: 0.9840\n",
      "Epoch 17/20\n",
      "\u001b[1m145/145\u001b[0m \u001b[32m━━━━━━━━━━━━━━━━━━━━\u001b[0m\u001b[37m\u001b[0m \u001b[1m1s\u001b[0m 6ms/step - loss: 0.0036 - micro_f2: 0.9855 - val_loss: 0.0051 - val_micro_f2: 0.9816\n",
      "Epoch 18/20\n",
      "\u001b[1m145/145\u001b[0m \u001b[32m━━━━━━━━━━━━━━━━━━━━\u001b[0m\u001b[37m\u001b[0m \u001b[1m1s\u001b[0m 6ms/step - loss: 0.0044 - micro_f2: 0.9829 - val_loss: 0.0036 - val_micro_f2: 0.9844\n",
      "Epoch 19/20\n",
      "\u001b[1m145/145\u001b[0m \u001b[32m━━━━━━━━━━━━━━━━━━━━\u001b[0m\u001b[37m\u001b[0m \u001b[1m1s\u001b[0m 6ms/step - loss: 0.0036 - micro_f2: 0.9842 - val_loss: 0.0046 - val_micro_f2: 0.9843\n",
      "Epoch 20/20\n",
      "\u001b[1m145/145\u001b[0m \u001b[32m━━━━━━━━━━━━━━━━━━━━\u001b[0m\u001b[37m\u001b[0m \u001b[1m1s\u001b[0m 6ms/step - loss: 0.0038 - micro_f2: 0.9856 - val_loss: 0.0037 - val_micro_f2: 0.9848\n"
     ]
    },
    {
     "name": "stderr",
     "output_type": "stream",
     "text": [
      " 19%|█▉        | 5/26 [02:00<09:18, 26.60s/it]"
     ]
    },
    {
     "name": "stdout",
     "output_type": "stream",
     "text": [
      "F\n",
      "[]\n",
      "Epoch 1/20\n",
      "\u001b[1m72/72\u001b[0m \u001b[32m━━━━━━━━━━━━━━━━━━━━\u001b[0m\u001b[37m\u001b[0m \u001b[1m3s\u001b[0m 11ms/step - loss: 0.1717 - micro_f2: 0.7592 - val_loss: 0.0986 - val_micro_f2: 0.8395\n",
      "Epoch 2/20\n",
      "\u001b[1m72/72\u001b[0m \u001b[32m━━━━━━━━━━━━━━━━━━━━\u001b[0m\u001b[37m\u001b[0m \u001b[1m0s\u001b[0m 7ms/step - loss: 0.0797 - micro_f2: 0.8716 - val_loss: 0.0804 - val_micro_f2: 0.8595\n",
      "Epoch 3/20\n",
      "\u001b[1m72/72\u001b[0m \u001b[32m━━━━━━━━━━━━━━━━━━━━\u001b[0m\u001b[37m\u001b[0m \u001b[1m0s\u001b[0m 6ms/step - loss: 0.0713 - micro_f2: 0.8702 - val_loss: 0.0965 - val_micro_f2: 0.8586\n",
      "Epoch 4/20\n",
      "\u001b[1m72/72\u001b[0m \u001b[32m━━━━━━━━━━━━━━━━━━━━\u001b[0m\u001b[37m\u001b[0m \u001b[1m0s\u001b[0m 6ms/step - loss: 0.0774 - micro_f2: 0.8785 - val_loss: 0.0874 - val_micro_f2: 0.8625\n",
      "Epoch 5/20\n",
      "\u001b[1m72/72\u001b[0m \u001b[32m━━━━━━━━━━━━━━━━━━━━\u001b[0m\u001b[37m\u001b[0m \u001b[1m0s\u001b[0m 6ms/step - loss: 0.0666 - micro_f2: 0.8887 - val_loss: 0.0798 - val_micro_f2: 0.8682\n",
      "Epoch 6/20\n",
      "\u001b[1m72/72\u001b[0m \u001b[32m━━━━━━━━━━━━━━━━━━━━\u001b[0m\u001b[37m\u001b[0m \u001b[1m0s\u001b[0m 6ms/step - loss: 0.0617 - micro_f2: 0.8895 - val_loss: 0.0754 - val_micro_f2: 0.8529\n",
      "Epoch 7/20\n",
      "\u001b[1m72/72\u001b[0m \u001b[32m━━━━━━━━━━━━━━━━━━━━\u001b[0m\u001b[37m\u001b[0m \u001b[1m0s\u001b[0m 6ms/step - loss: 0.0632 - micro_f2: 0.8929 - val_loss: 0.0837 - val_micro_f2: 0.8685\n",
      "Epoch 8/20\n",
      "\u001b[1m72/72\u001b[0m \u001b[32m━━━━━━━━━━━━━━━━━━━━\u001b[0m\u001b[37m\u001b[0m \u001b[1m0s\u001b[0m 6ms/step - loss: 0.0665 - micro_f2: 0.8861 - val_loss: 0.0744 - val_micro_f2: 0.8659\n",
      "Epoch 9/20\n",
      "\u001b[1m72/72\u001b[0m \u001b[32m━━━━━━━━━━━━━━━━━━━━\u001b[0m\u001b[37m\u001b[0m \u001b[1m0s\u001b[0m 7ms/step - loss: 0.0606 - micro_f2: 0.8975 - val_loss: 0.0763 - val_micro_f2: 0.8554\n",
      "Epoch 10/20\n",
      "\u001b[1m72/72\u001b[0m \u001b[32m━━━━━━━━━━━━━━━━━━━━\u001b[0m\u001b[37m\u001b[0m \u001b[1m0s\u001b[0m 7ms/step - loss: 0.0586 - micro_f2: 0.8985 - val_loss: 0.0683 - val_micro_f2: 0.8744\n",
      "Epoch 11/20\n",
      "\u001b[1m72/72\u001b[0m \u001b[32m━━━━━━━━━━━━━━━━━━━━\u001b[0m\u001b[37m\u001b[0m \u001b[1m0s\u001b[0m 6ms/step - loss: 0.0603 - micro_f2: 0.8948 - val_loss: 0.0694 - val_micro_f2: 0.8755\n",
      "Epoch 12/20\n",
      "\u001b[1m72/72\u001b[0m \u001b[32m━━━━━━━━━━━━━━━━━━━━\u001b[0m\u001b[37m\u001b[0m \u001b[1m0s\u001b[0m 6ms/step - loss: 0.0557 - micro_f2: 0.9051 - val_loss: 0.0732 - val_micro_f2: 0.8736\n",
      "Epoch 13/20\n",
      "\u001b[1m72/72\u001b[0m \u001b[32m━━━━━━━━━━━━━━━━━━━━\u001b[0m\u001b[37m\u001b[0m \u001b[1m0s\u001b[0m 6ms/step - loss: 0.0544 - micro_f2: 0.9084 - val_loss: 0.0664 - val_micro_f2: 0.8721\n",
      "Epoch 14/20\n",
      "\u001b[1m72/72\u001b[0m \u001b[32m━━━━━━━━━━━━━━━━━━━━\u001b[0m\u001b[37m\u001b[0m \u001b[1m0s\u001b[0m 6ms/step - loss: 0.0559 - micro_f2: 0.8992 - val_loss: 0.0717 - val_micro_f2: 0.8745\n",
      "Epoch 15/20\n",
      "\u001b[1m72/72\u001b[0m \u001b[32m━━━━━━━━━━━━━━━━━━━━\u001b[0m\u001b[37m\u001b[0m \u001b[1m0s\u001b[0m 6ms/step - loss: 0.0572 - micro_f2: 0.8958 - val_loss: 0.0708 - val_micro_f2: 0.8791\n",
      "Epoch 16/20\n",
      "\u001b[1m72/72\u001b[0m \u001b[32m━━━━━━━━━━━━━━━━━━━━\u001b[0m\u001b[37m\u001b[0m \u001b[1m0s\u001b[0m 6ms/step - loss: 0.0537 - micro_f2: 0.9144 - val_loss: 0.0700 - val_micro_f2: 0.8722\n",
      "Epoch 17/20\n",
      "\u001b[1m72/72\u001b[0m \u001b[32m━━━━━━━━━━━━━━━━━━━━\u001b[0m\u001b[37m\u001b[0m \u001b[1m0s\u001b[0m 6ms/step - loss: 0.0549 - micro_f2: 0.9009 - val_loss: 0.0671 - val_micro_f2: 0.8815\n",
      "Epoch 18/20\n",
      "\u001b[1m72/72\u001b[0m \u001b[32m━━━━━━━━━━━━━━━━━━━━\u001b[0m\u001b[37m\u001b[0m \u001b[1m0s\u001b[0m 6ms/step - loss: 0.0520 - micro_f2: 0.9133 - val_loss: 0.0653 - val_micro_f2: 0.8735\n",
      "Epoch 19/20\n",
      "\u001b[1m72/72\u001b[0m \u001b[32m━━━━━━━━━━━━━━━━━━━━\u001b[0m\u001b[37m\u001b[0m \u001b[1m0s\u001b[0m 6ms/step - loss: 0.0587 - micro_f2: 0.8951 - val_loss: 0.0670 - val_micro_f2: 0.8826\n",
      "Epoch 20/20\n",
      "\u001b[1m72/72\u001b[0m \u001b[32m━━━━━━━━━━━━━━━━━━━━\u001b[0m\u001b[37m\u001b[0m \u001b[1m0s\u001b[0m 6ms/step - loss: 0.0539 - micro_f2: 0.9061 - val_loss: 0.0715 - val_micro_f2: 0.8841\n"
     ]
    },
    {
     "name": "stderr",
     "output_type": "stream",
     "text": [
      " 23%|██▎       | 6/26 [02:12<07:23, 22.18s/it]"
     ]
    },
    {
     "name": "stdout",
     "output_type": "stream",
     "text": [
      "G\n",
      "[]\n",
      "Epoch 1/20\n",
      "\u001b[1m330/330\u001b[0m \u001b[32m━━━━━━━━━━━━━━━━━━━━\u001b[0m\u001b[37m\u001b[0m \u001b[1m5s\u001b[0m 7ms/step - loss: 0.0691 - micro_f2: 0.7401 - val_loss: 0.0119 - val_micro_f2: 0.9217\n",
      "Epoch 2/20\n",
      "\u001b[1m330/330\u001b[0m \u001b[32m━━━━━━━━━━━━━━━━━━━━\u001b[0m\u001b[37m\u001b[0m \u001b[1m2s\u001b[0m 6ms/step - loss: 0.0149 - micro_f2: 0.9157 - val_loss: 0.0104 - val_micro_f2: 0.9389\n",
      "Epoch 3/20\n",
      "\u001b[1m330/330\u001b[0m \u001b[32m━━━━━━━━━━━━━━━━━━━━\u001b[0m\u001b[37m\u001b[0m \u001b[1m2s\u001b[0m 6ms/step - loss: 0.0125 - micro_f2: 0.9295 - val_loss: 0.0094 - val_micro_f2: 0.9303\n",
      "Epoch 4/20\n",
      "\u001b[1m330/330\u001b[0m \u001b[32m━━━━━━━━━━━━━━━━━━━━\u001b[0m\u001b[37m\u001b[0m \u001b[1m2s\u001b[0m 7ms/step - loss: 0.0113 - micro_f2: 0.9304 - val_loss: 0.0079 - val_micro_f2: 0.9456\n",
      "Epoch 5/20\n",
      "\u001b[1m330/330\u001b[0m \u001b[32m━━━━━━━━━━━━━━━━━━━━\u001b[0m\u001b[37m\u001b[0m \u001b[1m2s\u001b[0m 6ms/step - loss: 0.0098 - micro_f2: 0.9421 - val_loss: 0.0074 - val_micro_f2: 0.9550\n",
      "Epoch 6/20\n",
      "\u001b[1m330/330\u001b[0m \u001b[32m━━━━━━━━━━━━━━━━━━━━\u001b[0m\u001b[37m\u001b[0m \u001b[1m2s\u001b[0m 6ms/step - loss: 0.0089 - micro_f2: 0.9494 - val_loss: 0.0077 - val_micro_f2: 0.9488\n",
      "Epoch 7/20\n",
      "\u001b[1m330/330\u001b[0m \u001b[32m━━━━━━━━━━━━━━━━━━━━\u001b[0m\u001b[37m\u001b[0m \u001b[1m2s\u001b[0m 6ms/step - loss: 0.0094 - micro_f2: 0.9447 - val_loss: 0.0070 - val_micro_f2: 0.9562\n",
      "Epoch 8/20\n",
      "\u001b[1m330/330\u001b[0m \u001b[32m━━━━━━━━━━━━━━━━━━━━\u001b[0m\u001b[37m\u001b[0m \u001b[1m2s\u001b[0m 6ms/step - loss: 0.0086 - micro_f2: 0.9460 - val_loss: 0.0066 - val_micro_f2: 0.9547\n",
      "Epoch 9/20\n",
      "\u001b[1m330/330\u001b[0m \u001b[32m━━━━━━━━━━━━━━━━━━━━\u001b[0m\u001b[37m\u001b[0m \u001b[1m2s\u001b[0m 6ms/step - loss: 0.0082 - micro_f2: 0.9516 - val_loss: 0.0063 - val_micro_f2: 0.9595\n",
      "Epoch 10/20\n",
      "\u001b[1m330/330\u001b[0m \u001b[32m━━━━━━━━━━━━━━━━━━━━\u001b[0m\u001b[37m\u001b[0m \u001b[1m2s\u001b[0m 6ms/step - loss: 0.0073 - micro_f2: 0.9557 - val_loss: 0.0063 - val_micro_f2: 0.9638\n",
      "Epoch 11/20\n",
      "\u001b[1m330/330\u001b[0m \u001b[32m━━━━━━━━━━━━━━━━━━━━\u001b[0m\u001b[37m\u001b[0m \u001b[1m2s\u001b[0m 6ms/step - loss: 0.0075 - micro_f2: 0.9553 - val_loss: 0.0066 - val_micro_f2: 0.9600\n",
      "Epoch 12/20\n",
      "\u001b[1m330/330\u001b[0m \u001b[32m━━━━━━━━━━━━━━━━━━━━\u001b[0m\u001b[37m\u001b[0m \u001b[1m2s\u001b[0m 6ms/step - loss: 0.0071 - micro_f2: 0.9576 - val_loss: 0.0052 - val_micro_f2: 0.9649\n",
      "Epoch 13/20\n",
      "\u001b[1m330/330\u001b[0m \u001b[32m━━━━━━━━━━━━━━━━━━━━\u001b[0m\u001b[37m\u001b[0m \u001b[1m2s\u001b[0m 6ms/step - loss: 0.0074 - micro_f2: 0.9573 - val_loss: 0.0050 - val_micro_f2: 0.9671\n",
      "Epoch 14/20\n",
      "\u001b[1m330/330\u001b[0m \u001b[32m━━━━━━━━━━━━━━━━━━━━\u001b[0m\u001b[37m\u001b[0m \u001b[1m2s\u001b[0m 6ms/step - loss: 0.0062 - micro_f2: 0.9643 - val_loss: 0.0053 - val_micro_f2: 0.9615\n",
      "Epoch 15/20\n",
      "\u001b[1m330/330\u001b[0m \u001b[32m━━━━━━━━━━━━━━━━━━━━\u001b[0m\u001b[37m\u001b[0m \u001b[1m2s\u001b[0m 6ms/step - loss: 0.0060 - micro_f2: 0.9626 - val_loss: 0.0057 - val_micro_f2: 0.9636\n",
      "Epoch 16/20\n",
      "\u001b[1m330/330\u001b[0m \u001b[32m━━━━━━━━━━━━━━━━━━━━\u001b[0m\u001b[37m\u001b[0m \u001b[1m2s\u001b[0m 6ms/step - loss: 0.0067 - micro_f2: 0.9605 - val_loss: 0.0047 - val_micro_f2: 0.9664\n",
      "Epoch 17/20\n",
      "\u001b[1m330/330\u001b[0m \u001b[32m━━━━━━━━━━━━━━━━━━━━\u001b[0m\u001b[37m\u001b[0m \u001b[1m2s\u001b[0m 6ms/step - loss: 0.0064 - micro_f2: 0.9606 - val_loss: 0.0052 - val_micro_f2: 0.9647\n",
      "Epoch 18/20\n",
      "\u001b[1m330/330\u001b[0m \u001b[32m━━━━━━━━━━━━━━━━━━━━\u001b[0m\u001b[37m\u001b[0m \u001b[1m2s\u001b[0m 6ms/step - loss: 0.0064 - micro_f2: 0.9601 - val_loss: 0.0051 - val_micro_f2: 0.9689\n",
      "Epoch 19/20\n",
      "\u001b[1m330/330\u001b[0m \u001b[32m━━━━━━━━━━━━━━━━━━━━\u001b[0m\u001b[37m\u001b[0m \u001b[1m2s\u001b[0m 6ms/step - loss: 0.0065 - micro_f2: 0.9614 - val_loss: 0.0047 - val_micro_f2: 0.9676\n",
      "Epoch 20/20\n",
      "\u001b[1m330/330\u001b[0m \u001b[32m━━━━━━━━━━━━━━━━━━━━\u001b[0m\u001b[37m\u001b[0m \u001b[1m2s\u001b[0m 6ms/step - loss: 0.0060 - micro_f2: 0.9660 - val_loss: 0.0047 - val_micro_f2: 0.9683\n"
     ]
    },
    {
     "name": "stderr",
     "output_type": "stream",
     "text": [
      " 27%|██▋       | 7/26 [02:57<09:12, 29.09s/it]"
     ]
    },
    {
     "name": "stdout",
     "output_type": "stream",
     "text": [
      "H\n",
      "[]\n",
      "Epoch 1/20\n",
      "\u001b[1m1121/1121\u001b[0m \u001b[32m━━━━━━━━━━━━━━━━━━━━\u001b[0m\u001b[37m\u001b[0m \u001b[1m10s\u001b[0m 7ms/step - loss: 0.0357 - micro_f2: 0.4536 - val_loss: 0.0077 - val_micro_f2: 0.7323\n",
      "Epoch 2/20\n",
      "\u001b[1m1121/1121\u001b[0m \u001b[32m━━━━━━━━━━━━━━━━━━━━\u001b[0m\u001b[37m\u001b[0m \u001b[1m7s\u001b[0m 6ms/step - loss: 0.0085 - micro_f2: 0.7141 - val_loss: 0.0068 - val_micro_f2: 0.7522\n",
      "Epoch 3/20\n",
      "\u001b[1m1121/1121\u001b[0m \u001b[32m━━━━━━━━━━━━━━━━━━━━\u001b[0m\u001b[37m\u001b[0m \u001b[1m7s\u001b[0m 6ms/step - loss: 0.0076 - micro_f2: 0.7439 - val_loss: 0.0063 - val_micro_f2: 0.7804\n",
      "Epoch 4/20\n",
      "\u001b[1m1121/1121\u001b[0m \u001b[32m━━━━━━━━━━━━━━━━━━━━\u001b[0m\u001b[37m\u001b[0m \u001b[1m7s\u001b[0m 6ms/step - loss: 0.0070 - micro_f2: 0.7629 - val_loss: 0.0057 - val_micro_f2: 0.7969\n",
      "Epoch 5/20\n",
      "\u001b[1m1121/1121\u001b[0m \u001b[32m━━━━━━━━━━━━━━━━━━━━\u001b[0m\u001b[37m\u001b[0m \u001b[1m7s\u001b[0m 6ms/step - loss: 0.0066 - micro_f2: 0.7746 - val_loss: 0.0053 - val_micro_f2: 0.8148\n",
      "Epoch 6/20\n",
      "\u001b[1m1121/1121\u001b[0m \u001b[32m━━━━━━━━━━━━━━━━━━━━\u001b[0m\u001b[37m\u001b[0m \u001b[1m7s\u001b[0m 6ms/step - loss: 0.0060 - micro_f2: 0.7933 - val_loss: 0.0049 - val_micro_f2: 0.8296\n",
      "Epoch 7/20\n",
      "\u001b[1m1121/1121\u001b[0m \u001b[32m━━━━━━━━━━━━━━━━━━━━\u001b[0m\u001b[37m\u001b[0m \u001b[1m7s\u001b[0m 6ms/step - loss: 0.0056 - micro_f2: 0.8062 - val_loss: 0.0044 - val_micro_f2: 0.8487\n",
      "Epoch 8/20\n",
      "\u001b[1m1121/1121\u001b[0m \u001b[32m━━━━━━━━━━━━━━━━━━━━\u001b[0m\u001b[37m\u001b[0m \u001b[1m7s\u001b[0m 6ms/step - loss: 0.0052 - micro_f2: 0.8208 - val_loss: 0.0042 - val_micro_f2: 0.8505\n",
      "Epoch 9/20\n",
      "\u001b[1m1121/1121\u001b[0m \u001b[32m━━━━━━━━━━━━━━━━━━━━\u001b[0m\u001b[37m\u001b[0m \u001b[1m7s\u001b[0m 6ms/step - loss: 0.0049 - micro_f2: 0.8334 - val_loss: 0.0039 - val_micro_f2: 0.8610\n",
      "Epoch 10/20\n",
      "\u001b[1m1121/1121\u001b[0m \u001b[32m━━━━━━━━━━━━━━━━━━━━\u001b[0m\u001b[37m\u001b[0m \u001b[1m7s\u001b[0m 6ms/step - loss: 0.0045 - micro_f2: 0.8456 - val_loss: 0.0037 - val_micro_f2: 0.8703\n",
      "Epoch 11/20\n",
      "\u001b[1m1121/1121\u001b[0m \u001b[32m━━━━━━━━━━━━━━━━━━━━\u001b[0m\u001b[37m\u001b[0m \u001b[1m7s\u001b[0m 6ms/step - loss: 0.0043 - micro_f2: 0.8535 - val_loss: 0.0034 - val_micro_f2: 0.8831\n",
      "Epoch 12/20\n",
      "\u001b[1m1121/1121\u001b[0m \u001b[32m━━━━━━━━━━━━━━━━━━━━\u001b[0m\u001b[37m\u001b[0m \u001b[1m7s\u001b[0m 6ms/step - loss: 0.0041 - micro_f2: 0.8608 - val_loss: 0.0032 - val_micro_f2: 0.8899\n",
      "Epoch 13/20\n",
      "\u001b[1m1121/1121\u001b[0m \u001b[32m━━━━━━━━━━━━━━━━━━━━\u001b[0m\u001b[37m\u001b[0m \u001b[1m7s\u001b[0m 6ms/step - loss: 0.0038 - micro_f2: 0.8758 - val_loss: 0.0030 - val_micro_f2: 0.8958\n",
      "Epoch 14/20\n",
      "\u001b[1m1121/1121\u001b[0m \u001b[32m━━━━━━━━━━━━━━━━━━━━\u001b[0m\u001b[37m\u001b[0m \u001b[1m7s\u001b[0m 6ms/step - loss: 0.0036 - micro_f2: 0.8795 - val_loss: 0.0028 - val_micro_f2: 0.9031\n",
      "Epoch 15/20\n",
      "\u001b[1m1121/1121\u001b[0m \u001b[32m━━━━━━━━━━━━━━━━━━━━\u001b[0m\u001b[37m\u001b[0m \u001b[1m7s\u001b[0m 6ms/step - loss: 0.0035 - micro_f2: 0.8832 - val_loss: 0.0027 - val_micro_f2: 0.9006\n",
      "Epoch 16/20\n",
      "\u001b[1m1121/1121\u001b[0m \u001b[32m━━━━━━━━━━━━━━━━━━━━\u001b[0m\u001b[37m\u001b[0m \u001b[1m7s\u001b[0m 6ms/step - loss: 0.0033 - micro_f2: 0.8912 - val_loss: 0.0025 - val_micro_f2: 0.9131\n",
      "Epoch 17/20\n",
      "\u001b[1m1121/1121\u001b[0m \u001b[32m━━━━━━━━━━━━━━━━━━━━\u001b[0m\u001b[37m\u001b[0m \u001b[1m7s\u001b[0m 6ms/step - loss: 0.0032 - micro_f2: 0.8935 - val_loss: 0.0024 - val_micro_f2: 0.9166\n",
      "Epoch 18/20\n",
      "\u001b[1m1121/1121\u001b[0m \u001b[32m━━━━━━━━━━━━━━━━━━━━\u001b[0m\u001b[37m\u001b[0m \u001b[1m7s\u001b[0m 6ms/step - loss: 0.0030 - micro_f2: 0.9014 - val_loss: 0.0024 - val_micro_f2: 0.9191\n",
      "Epoch 19/20\n",
      "\u001b[1m1121/1121\u001b[0m \u001b[32m━━━━━━━━━━━━━━━━━━━━\u001b[0m\u001b[37m\u001b[0m \u001b[1m7s\u001b[0m 6ms/step - loss: 0.0030 - micro_f2: 0.8989 - val_loss: 0.0022 - val_micro_f2: 0.9231\n",
      "Epoch 20/20\n",
      "\u001b[1m1121/1121\u001b[0m \u001b[32m━━━━━━━━━━━━━━━━━━━━\u001b[0m\u001b[37m\u001b[0m \u001b[1m7s\u001b[0m 6ms/step - loss: 0.0028 - micro_f2: 0.9080 - val_loss: 0.0022 - val_micro_f2: 0.9203\n"
     ]
    },
    {
     "name": "stderr",
     "output_type": "stream",
     "text": [
      " 31%|███       | 8/26 [05:21<19:16, 64.23s/it]"
     ]
    },
    {
     "name": "stdout",
     "output_type": "stream",
     "text": [
      "J\n",
      "[]\n",
      "Epoch 1/20\n",
      "\u001b[1m1198/1198\u001b[0m \u001b[32m━━━━━━━━━━━━━━━━━━━━\u001b[0m\u001b[37m\u001b[0m \u001b[1m10s\u001b[0m 6ms/step - loss: 0.0576 - micro_f2: 0.7830 - val_loss: 0.0302 - val_micro_f2: 0.8667\n",
      "Epoch 2/20\n",
      "\u001b[1m1198/1198\u001b[0m \u001b[32m━━━━━━━━━━━━━━━━━━━━\u001b[0m\u001b[37m\u001b[0m \u001b[1m7s\u001b[0m 6ms/step - loss: 0.0316 - micro_f2: 0.8643 - val_loss: 0.0279 - val_micro_f2: 0.8774\n",
      "Epoch 3/20\n",
      "\u001b[1m1198/1198\u001b[0m \u001b[32m━━━━━━━━━━━━━━━━━━━━\u001b[0m\u001b[37m\u001b[0m \u001b[1m7s\u001b[0m 6ms/step - loss: 0.0295 - micro_f2: 0.8723 - val_loss: 0.0271 - val_micro_f2: 0.8753\n",
      "Epoch 4/20\n",
      "\u001b[1m1198/1198\u001b[0m \u001b[32m━━━━━━━━━━━━━━━━━━━━\u001b[0m\u001b[37m\u001b[0m \u001b[1m7s\u001b[0m 6ms/step - loss: 0.0273 - micro_f2: 0.8822 - val_loss: 0.0252 - val_micro_f2: 0.8914\n",
      "Epoch 5/20\n",
      "\u001b[1m1198/1198\u001b[0m \u001b[32m━━━━━━━━━━━━━━━━━━━━\u001b[0m\u001b[37m\u001b[0m \u001b[1m7s\u001b[0m 6ms/step - loss: 0.0265 - micro_f2: 0.8840 - val_loss: 0.0244 - val_micro_f2: 0.8992\n",
      "Epoch 6/20\n",
      "\u001b[1m1198/1198\u001b[0m \u001b[32m━━━━━━━━━━━━━━━━━━━━\u001b[0m\u001b[37m\u001b[0m \u001b[1m8s\u001b[0m 6ms/step - loss: 0.0249 - micro_f2: 0.8911 - val_loss: 0.0223 - val_micro_f2: 0.9055\n",
      "Epoch 7/20\n",
      "\u001b[1m1198/1198\u001b[0m \u001b[32m━━━━━━━━━━━━━━━━━━━━\u001b[0m\u001b[37m\u001b[0m \u001b[1m10s\u001b[0m 6ms/step - loss: 0.0241 - micro_f2: 0.8936 - val_loss: 0.0216 - val_micro_f2: 0.9011\n",
      "Epoch 8/20\n",
      "\u001b[1m1198/1198\u001b[0m \u001b[32m━━━━━━━━━━━━━━━━━━━━\u001b[0m\u001b[37m\u001b[0m \u001b[1m7s\u001b[0m 6ms/step - loss: 0.0228 - micro_f2: 0.8982 - val_loss: 0.0208 - val_micro_f2: 0.9070\n",
      "Epoch 9/20\n",
      "\u001b[1m1198/1198\u001b[0m \u001b[32m━━━━━━━━━━━━━━━━━━━━\u001b[0m\u001b[37m\u001b[0m \u001b[1m7s\u001b[0m 6ms/step - loss: 0.0219 - micro_f2: 0.9036 - val_loss: 0.0197 - val_micro_f2: 0.9080\n",
      "Epoch 10/20\n",
      "\u001b[1m1198/1198\u001b[0m \u001b[32m━━━━━━━━━━━━━━━━━━━━\u001b[0m\u001b[37m\u001b[0m \u001b[1m7s\u001b[0m 6ms/step - loss: 0.0208 - micro_f2: 0.9095 - val_loss: 0.0182 - val_micro_f2: 0.9226\n",
      "Epoch 11/20\n",
      "\u001b[1m1198/1198\u001b[0m \u001b[32m━━━━━━━━━━━━━━━━━━━━\u001b[0m\u001b[37m\u001b[0m \u001b[1m7s\u001b[0m 6ms/step - loss: 0.0199 - micro_f2: 0.9111 - val_loss: 0.0176 - val_micro_f2: 0.9237\n",
      "Epoch 12/20\n",
      "\u001b[1m1198/1198\u001b[0m \u001b[32m━━━━━━━━━━━━━━━━━━━━\u001b[0m\u001b[37m\u001b[0m \u001b[1m7s\u001b[0m 6ms/step - loss: 0.0195 - micro_f2: 0.9131 - val_loss: 0.0166 - val_micro_f2: 0.9265\n",
      "Epoch 13/20\n",
      "\u001b[1m1198/1198\u001b[0m \u001b[32m━━━━━━━━━━━━━━━━━━━━\u001b[0m\u001b[37m\u001b[0m \u001b[1m7s\u001b[0m 6ms/step - loss: 0.0181 - micro_f2: 0.9195 - val_loss: 0.0158 - val_micro_f2: 0.9259\n",
      "Epoch 14/20\n",
      "\u001b[1m1198/1198\u001b[0m \u001b[32m━━━━━━━━━━━━━━━━━━━━\u001b[0m\u001b[37m\u001b[0m \u001b[1m7s\u001b[0m 6ms/step - loss: 0.0175 - micro_f2: 0.9227 - val_loss: 0.0156 - val_micro_f2: 0.9306\n",
      "Epoch 15/20\n",
      "\u001b[1m1198/1198\u001b[0m \u001b[32m━━━━━━━━━━━━━━━━━━━━\u001b[0m\u001b[37m\u001b[0m \u001b[1m7s\u001b[0m 6ms/step - loss: 0.0168 - micro_f2: 0.9246 - val_loss: 0.0145 - val_micro_f2: 0.9377\n",
      "Epoch 16/20\n",
      "\u001b[1m1198/1198\u001b[0m \u001b[32m━━━━━━━━━━━━━━━━━━━━\u001b[0m\u001b[37m\u001b[0m \u001b[1m7s\u001b[0m 6ms/step - loss: 0.0164 - micro_f2: 0.9275 - val_loss: 0.0140 - val_micro_f2: 0.9409\n",
      "Epoch 17/20\n",
      "\u001b[1m1198/1198\u001b[0m \u001b[32m━━━━━━━━━━━━━━━━━━━━\u001b[0m\u001b[37m\u001b[0m \u001b[1m7s\u001b[0m 6ms/step - loss: 0.0154 - micro_f2: 0.9321 - val_loss: 0.0133 - val_micro_f2: 0.9414\n",
      "Epoch 18/20\n",
      "\u001b[1m1198/1198\u001b[0m \u001b[32m━━━━━━━━━━━━━━━━━━━━\u001b[0m\u001b[37m\u001b[0m \u001b[1m7s\u001b[0m 6ms/step - loss: 0.0148 - micro_f2: 0.9333 - val_loss: 0.0129 - val_micro_f2: 0.9462\n",
      "Epoch 19/20\n",
      "\u001b[1m1198/1198\u001b[0m \u001b[32m━━━━━━━━━━━━━━━━━━━━\u001b[0m\u001b[37m\u001b[0m \u001b[1m7s\u001b[0m 6ms/step - loss: 0.0143 - micro_f2: 0.9377 - val_loss: 0.0122 - val_micro_f2: 0.9535\n",
      "Epoch 20/20\n",
      "\u001b[1m1198/1198\u001b[0m \u001b[32m━━━━━━━━━━━━━━━━━━━━\u001b[0m\u001b[37m\u001b[0m \u001b[1m7s\u001b[0m 6ms/step - loss: 0.0136 - micro_f2: 0.9415 - val_loss: 0.0123 - val_micro_f2: 0.9493\n"
     ]
    },
    {
     "name": "stderr",
     "output_type": "stream",
     "text": [
      " 38%|███▊      | 10/26 [07:54<18:37, 69.86s/it]"
     ]
    },
    {
     "name": "stdout",
     "output_type": "stream",
     "text": [
      "K\n",
      "['B', 'I']\n",
      "Epoch 1/20\n",
      "\u001b[1m1352/1352\u001b[0m \u001b[32m━━━━━━━━━━━━━━━━━━━━\u001b[0m\u001b[37m\u001b[0m \u001b[1m11s\u001b[0m 6ms/step - loss: 0.0370 - micro_f2: 0.5798 - val_loss: 0.0089 - val_micro_f2: 0.8435\n",
      "Epoch 2/20\n",
      "\u001b[1m1352/1352\u001b[0m \u001b[32m━━━━━━━━━━━━━━━━━━━━\u001b[0m\u001b[37m\u001b[0m \u001b[1m8s\u001b[0m 6ms/step - loss: 0.0096 - micro_f2: 0.8349 - val_loss: 0.0070 - val_micro_f2: 0.8866\n",
      "Epoch 3/20\n",
      "\u001b[1m1352/1352\u001b[0m \u001b[32m━━━━━━━━━━━━━━━━━━━━\u001b[0m\u001b[37m\u001b[0m \u001b[1m8s\u001b[0m 6ms/step - loss: 0.0079 - micro_f2: 0.8654 - val_loss: 0.0058 - val_micro_f2: 0.9017\n",
      "Epoch 4/20\n",
      "\u001b[1m1352/1352\u001b[0m \u001b[32m━━━━━━━━━━━━━━━━━━━━\u001b[0m\u001b[37m\u001b[0m \u001b[1m8s\u001b[0m 6ms/step - loss: 0.0068 - micro_f2: 0.8851 - val_loss: 0.0049 - val_micro_f2: 0.9167\n",
      "Epoch 5/20\n",
      "\u001b[1m1352/1352\u001b[0m \u001b[32m━━━━━━━━━━━━━━━━━━━━\u001b[0m\u001b[37m\u001b[0m \u001b[1m8s\u001b[0m 6ms/step - loss: 0.0059 - micro_f2: 0.9012 - val_loss: 0.0043 - val_micro_f2: 0.9298\n",
      "Epoch 6/20\n",
      "\u001b[1m1352/1352\u001b[0m \u001b[32m━━━━━━━━━━━━━━━━━━━━\u001b[0m\u001b[37m\u001b[0m \u001b[1m8s\u001b[0m 6ms/step - loss: 0.0050 - micro_f2: 0.9150 - val_loss: 0.0034 - val_micro_f2: 0.9483\n",
      "Epoch 7/20\n",
      "\u001b[1m1352/1352\u001b[0m \u001b[32m━━━━━━━━━━━━━━━━━━━━\u001b[0m\u001b[37m\u001b[0m \u001b[1m8s\u001b[0m 6ms/step - loss: 0.0043 - micro_f2: 0.9274 - val_loss: 0.0032 - val_micro_f2: 0.9478\n",
      "Epoch 8/20\n",
      "\u001b[1m1352/1352\u001b[0m \u001b[32m━━━━━━━━━━━━━━━━━━━━\u001b[0m\u001b[37m\u001b[0m \u001b[1m8s\u001b[0m 6ms/step - loss: 0.0039 - micro_f2: 0.9350 - val_loss: 0.0027 - val_micro_f2: 0.9588\n",
      "Epoch 9/20\n",
      "\u001b[1m1352/1352\u001b[0m \u001b[32m━━━━━━━━━━━━━━━━━━━━\u001b[0m\u001b[37m\u001b[0m \u001b[1m8s\u001b[0m 6ms/step - loss: 0.0035 - micro_f2: 0.9429 - val_loss: 0.0024 - val_micro_f2: 0.9565\n",
      "Epoch 10/20\n",
      "\u001b[1m1352/1352\u001b[0m \u001b[32m━━━━━━━━━━━━━━━━━━━━\u001b[0m\u001b[37m\u001b[0m \u001b[1m9s\u001b[0m 6ms/step - loss: 0.0033 - micro_f2: 0.9460 - val_loss: 0.0023 - val_micro_f2: 0.9593\n",
      "Epoch 11/20\n",
      "\u001b[1m1352/1352\u001b[0m \u001b[32m━━━━━━━━━━━━━━━━━━━━\u001b[0m\u001b[37m\u001b[0m \u001b[1m8s\u001b[0m 6ms/step - loss: 0.0030 - micro_f2: 0.9518 - val_loss: 0.0021 - val_micro_f2: 0.9655\n",
      "Epoch 12/20\n",
      "\u001b[1m1352/1352\u001b[0m \u001b[32m━━━━━━━━━━━━━━━━━━━━\u001b[0m\u001b[37m\u001b[0m \u001b[1m8s\u001b[0m 6ms/step - loss: 0.0028 - micro_f2: 0.9539 - val_loss: 0.0019 - val_micro_f2: 0.9687\n",
      "Epoch 13/20\n",
      "\u001b[1m1352/1352\u001b[0m \u001b[32m━━━━━━━━━━━━━━━━━━━━\u001b[0m\u001b[37m\u001b[0m \u001b[1m8s\u001b[0m 6ms/step - loss: 0.0028 - micro_f2: 0.9559 - val_loss: 0.0018 - val_micro_f2: 0.9691\n",
      "Epoch 14/20\n",
      "\u001b[1m1352/1352\u001b[0m \u001b[32m━━━━━━━━━━━━━━━━━━━━\u001b[0m\u001b[37m\u001b[0m \u001b[1m9s\u001b[0m 6ms/step - loss: 0.0026 - micro_f2: 0.9576 - val_loss: 0.0016 - val_micro_f2: 0.9743\n",
      "Epoch 15/20\n",
      "\u001b[1m1352/1352\u001b[0m \u001b[32m━━━━━━━━━━━━━━━━━━━━\u001b[0m\u001b[37m\u001b[0m \u001b[1m8s\u001b[0m 6ms/step - loss: 0.0024 - micro_f2: 0.9627 - val_loss: 0.0016 - val_micro_f2: 0.9751\n",
      "Epoch 16/20\n",
      "\u001b[1m1352/1352\u001b[0m \u001b[32m━━━━━━━━━━━━━━━━━━━━\u001b[0m\u001b[37m\u001b[0m \u001b[1m8s\u001b[0m 6ms/step - loss: 0.0023 - micro_f2: 0.9638 - val_loss: 0.0016 - val_micro_f2: 0.9744\n",
      "Epoch 17/20\n",
      "\u001b[1m1352/1352\u001b[0m \u001b[32m━━━━━━━━━━━━━━━━━━━━\u001b[0m\u001b[37m\u001b[0m \u001b[1m8s\u001b[0m 6ms/step - loss: 0.0024 - micro_f2: 0.9633 - val_loss: 0.0014 - val_micro_f2: 0.9753\n",
      "Epoch 18/20\n",
      "\u001b[1m1352/1352\u001b[0m \u001b[32m━━━━━━━━━━━━━━━━━━━━\u001b[0m\u001b[37m\u001b[0m \u001b[1m8s\u001b[0m 6ms/step - loss: 0.0021 - micro_f2: 0.9669 - val_loss: 0.0016 - val_micro_f2: 0.9735\n",
      "Epoch 19/20\n",
      "\u001b[1m1352/1352\u001b[0m \u001b[32m━━━━━━━━━━━━━━━━━━━━\u001b[0m\u001b[37m\u001b[0m \u001b[1m8s\u001b[0m 6ms/step - loss: 0.0022 - micro_f2: 0.9655 - val_loss: 0.0014 - val_micro_f2: 0.9755\n",
      "Epoch 20/20\n",
      "\u001b[1m1352/1352\u001b[0m \u001b[32m━━━━━━━━━━━━━━━━━━━━\u001b[0m\u001b[37m\u001b[0m \u001b[1m8s\u001b[0m 6ms/step - loss: 0.0021 - micro_f2: 0.9669 - val_loss: 0.0012 - val_micro_f2: 0.9781\n"
     ]
    },
    {
     "name": "stderr",
     "output_type": "stream",
     "text": [
      " 42%|████▏     | 11/26 [10:45<23:47, 95.16s/it]"
     ]
    },
    {
     "name": "stdout",
     "output_type": "stream",
     "text": [
      "L\n",
      "[]\n",
      "Epoch 1/20\n",
      "\u001b[1m309/309\u001b[0m \u001b[32m━━━━━━━━━━━━━━━━━━━━\u001b[0m\u001b[37m\u001b[0m \u001b[1m4s\u001b[0m 7ms/step - loss: 0.1024 - micro_f2: 0.4566 - val_loss: 0.0367 - val_micro_f2: 0.7156\n",
      "Epoch 2/20\n",
      "\u001b[1m309/309\u001b[0m \u001b[32m━━━━━━━━━━━━━━━━━━━━\u001b[0m\u001b[37m\u001b[0m \u001b[1m2s\u001b[0m 7ms/step - loss: 0.0401 - micro_f2: 0.6840 - val_loss: 0.0320 - val_micro_f2: 0.7252\n",
      "Epoch 3/20\n",
      "\u001b[1m309/309\u001b[0m \u001b[32m━━━━━━━━━━━━━━━━━━━━\u001b[0m\u001b[37m\u001b[0m \u001b[1m2s\u001b[0m 6ms/step - loss: 0.0351 - micro_f2: 0.7133 - val_loss: 0.0277 - val_micro_f2: 0.7547\n",
      "Epoch 4/20\n",
      "\u001b[1m309/309\u001b[0m \u001b[32m━━━━━━━━━━━━━━━━━━━━\u001b[0m\u001b[37m\u001b[0m \u001b[1m2s\u001b[0m 6ms/step - loss: 0.0304 - micro_f2: 0.7510 - val_loss: 0.0245 - val_micro_f2: 0.7929\n",
      "Epoch 5/20\n",
      "\u001b[1m309/309\u001b[0m \u001b[32m━━━━━━━━━━━━━━━━━━━━\u001b[0m\u001b[37m\u001b[0m \u001b[1m2s\u001b[0m 7ms/step - loss: 0.0273 - micro_f2: 0.7804 - val_loss: 0.0212 - val_micro_f2: 0.8265\n",
      "Epoch 6/20\n",
      "\u001b[1m309/309\u001b[0m \u001b[32m━━━━━━━━━━━━━━━━━━━━\u001b[0m\u001b[37m\u001b[0m \u001b[1m2s\u001b[0m 6ms/step - loss: 0.0238 - micro_f2: 0.8086 - val_loss: 0.0191 - val_micro_f2: 0.8439\n",
      "Epoch 7/20\n",
      "\u001b[1m309/309\u001b[0m \u001b[32m━━━━━━━━━━━━━━━━━━━━\u001b[0m\u001b[37m\u001b[0m \u001b[1m2s\u001b[0m 6ms/step - loss: 0.0201 - micro_f2: 0.8441 - val_loss: 0.0171 - val_micro_f2: 0.8632\n",
      "Epoch 8/20\n",
      "\u001b[1m309/309\u001b[0m \u001b[32m━━━━━━━━━━━━━━━━━━━━\u001b[0m\u001b[37m\u001b[0m \u001b[1m2s\u001b[0m 6ms/step - loss: 0.0180 - micro_f2: 0.8572 - val_loss: 0.0141 - val_micro_f2: 0.8905\n",
      "Epoch 9/20\n",
      "\u001b[1m309/309\u001b[0m \u001b[32m━━━━━━━━━━━━━━━━━━━━\u001b[0m\u001b[37m\u001b[0m \u001b[1m2s\u001b[0m 6ms/step - loss: 0.0159 - micro_f2: 0.8771 - val_loss: 0.0141 - val_micro_f2: 0.8937\n",
      "Epoch 10/20\n",
      "\u001b[1m309/309\u001b[0m \u001b[32m━━━━━━━━━━━━━━━━━━━━\u001b[0m\u001b[37m\u001b[0m \u001b[1m2s\u001b[0m 6ms/step - loss: 0.0140 - micro_f2: 0.8930 - val_loss: 0.0110 - val_micro_f2: 0.9234\n",
      "Epoch 11/20\n",
      "\u001b[1m309/309\u001b[0m \u001b[32m━━━━━━━━━━━━━━━━━━━━\u001b[0m\u001b[37m\u001b[0m \u001b[1m2s\u001b[0m 6ms/step - loss: 0.0122 - micro_f2: 0.9110 - val_loss: 0.0106 - val_micro_f2: 0.9240\n",
      "Epoch 12/20\n",
      "\u001b[1m309/309\u001b[0m \u001b[32m━━━━━━━━━━━━━━━━━━━━\u001b[0m\u001b[37m\u001b[0m \u001b[1m2s\u001b[0m 6ms/step - loss: 0.0113 - micro_f2: 0.9162 - val_loss: 0.0091 - val_micro_f2: 0.9372\n",
      "Epoch 13/20\n",
      "\u001b[1m309/309\u001b[0m \u001b[32m━━━━━━━━━━━━━━━━━━━━\u001b[0m\u001b[37m\u001b[0m \u001b[1m2s\u001b[0m 6ms/step - loss: 0.0103 - micro_f2: 0.9229 - val_loss: 0.0076 - val_micro_f2: 0.9424\n",
      "Epoch 14/20\n",
      "\u001b[1m309/309\u001b[0m \u001b[32m━━━━━━━━━━━━━━━━━━━━\u001b[0m\u001b[37m\u001b[0m \u001b[1m2s\u001b[0m 6ms/step - loss: 0.0092 - micro_f2: 0.9345 - val_loss: 0.0077 - val_micro_f2: 0.9476\n",
      "Epoch 15/20\n",
      "\u001b[1m309/309\u001b[0m \u001b[32m━━━━━━━━━━━━━━━━━━━━\u001b[0m\u001b[37m\u001b[0m \u001b[1m2s\u001b[0m 6ms/step - loss: 0.0088 - micro_f2: 0.9363 - val_loss: 0.0072 - val_micro_f2: 0.9470\n",
      "Epoch 16/20\n",
      "\u001b[1m309/309\u001b[0m \u001b[32m━━━━━━━━━━━━━━━━━━━━\u001b[0m\u001b[37m\u001b[0m \u001b[1m2s\u001b[0m 6ms/step - loss: 0.0082 - micro_f2: 0.9412 - val_loss: 0.0061 - val_micro_f2: 0.9620\n",
      "Epoch 17/20\n",
      "\u001b[1m309/309\u001b[0m \u001b[32m━━━━━━━━━━━━━━━━━━━━\u001b[0m\u001b[37m\u001b[0m \u001b[1m2s\u001b[0m 6ms/step - loss: 0.0078 - micro_f2: 0.9437 - val_loss: 0.0055 - val_micro_f2: 0.9625\n",
      "Epoch 18/20\n",
      "\u001b[1m309/309\u001b[0m \u001b[32m━━━━━━━━━━━━━━━━━━━━\u001b[0m\u001b[37m\u001b[0m \u001b[1m2s\u001b[0m 7ms/step - loss: 0.0066 - micro_f2: 0.9496 - val_loss: 0.0054 - val_micro_f2: 0.9574\n",
      "Epoch 19/20\n",
      "\u001b[1m309/309\u001b[0m \u001b[32m━━━━━━━━━━━━━━━━━━━━\u001b[0m\u001b[37m\u001b[0m \u001b[1m2s\u001b[0m 6ms/step - loss: 0.0066 - micro_f2: 0.9533 - val_loss: 0.0069 - val_micro_f2: 0.9495\n",
      "Epoch 20/20\n",
      "\u001b[1m309/309\u001b[0m \u001b[32m━━━━━━━━━━━━━━━━━━━━\u001b[0m\u001b[37m\u001b[0m \u001b[1m2s\u001b[0m 6ms/step - loss: 0.0072 - micro_f2: 0.9498 - val_loss: 0.0060 - val_micro_f2: 0.9665\n"
     ]
    },
    {
     "name": "stderr",
     "output_type": "stream",
     "text": [
      " 46%|████▌     | 12/26 [11:27<18:57, 81.22s/it]"
     ]
    },
    {
     "name": "stdout",
     "output_type": "stream",
     "text": [
      "M\n",
      "[]\n",
      "Epoch 1/20\n",
      "\u001b[1m518/518\u001b[0m \u001b[32m━━━━━━━━━━━━━━━━━━━━\u001b[0m\u001b[37m\u001b[0m \u001b[1m6s\u001b[0m 7ms/step - loss: 0.0532 - micro_f2: 0.4071 - val_loss: 0.0056 - val_micro_f2: 0.8008\n",
      "Epoch 2/20\n",
      "\u001b[1m518/518\u001b[0m \u001b[32m━━━━━━━━━━━━━━━━━━━━\u001b[0m\u001b[37m\u001b[0m \u001b[1m3s\u001b[0m 6ms/step - loss: 0.0058 - micro_f2: 0.7838 - val_loss: 0.0039 - val_micro_f2: 0.8580\n",
      "Epoch 3/20\n",
      "\u001b[1m518/518\u001b[0m \u001b[32m━━━━━━━━━━━━━━━━━━━━\u001b[0m\u001b[37m\u001b[0m \u001b[1m3s\u001b[0m 6ms/step - loss: 0.0043 - micro_f2: 0.8369 - val_loss: 0.0032 - val_micro_f2: 0.8789\n",
      "Epoch 4/20\n",
      "\u001b[1m518/518\u001b[0m \u001b[32m━━━━━━━━━━━━━━━━━━━━\u001b[0m\u001b[37m\u001b[0m \u001b[1m3s\u001b[0m 6ms/step - loss: 0.0036 - micro_f2: 0.8624 - val_loss: 0.0028 - val_micro_f2: 0.8996\n",
      "Epoch 5/20\n",
      "\u001b[1m518/518\u001b[0m \u001b[32m━━━━━━━━━━━━━━━━━━━━\u001b[0m\u001b[37m\u001b[0m \u001b[1m3s\u001b[0m 6ms/step - loss: 0.0029 - micro_f2: 0.8908 - val_loss: 0.0022 - val_micro_f2: 0.9237\n",
      "Epoch 6/20\n",
      "\u001b[1m518/518\u001b[0m \u001b[32m━━━━━━━━━━━━━━━━━━━━\u001b[0m\u001b[37m\u001b[0m \u001b[1m5s\u001b[0m 6ms/step - loss: 0.0024 - micro_f2: 0.9126 - val_loss: 0.0019 - val_micro_f2: 0.9334\n",
      "Epoch 7/20\n",
      "\u001b[1m518/518\u001b[0m \u001b[32m━━━━━━━━━━━━━━━━━━━━\u001b[0m\u001b[37m\u001b[0m \u001b[1m3s\u001b[0m 6ms/step - loss: 0.0021 - micro_f2: 0.9256 - val_loss: 0.0016 - val_micro_f2: 0.9448\n",
      "Epoch 8/20\n",
      "\u001b[1m518/518\u001b[0m \u001b[32m━━━━━━━━━━━━━━━━━━━━\u001b[0m\u001b[37m\u001b[0m \u001b[1m3s\u001b[0m 6ms/step - loss: 0.0017 - micro_f2: 0.9390 - val_loss: 0.0013 - val_micro_f2: 0.9523\n",
      "Epoch 9/20\n",
      "\u001b[1m518/518\u001b[0m \u001b[32m━━━━━━━━━━━━━━━━━━━━\u001b[0m\u001b[37m\u001b[0m \u001b[1m3s\u001b[0m 6ms/step - loss: 0.0015 - micro_f2: 0.9487 - val_loss: 0.0011 - val_micro_f2: 0.9624\n",
      "Epoch 10/20\n",
      "\u001b[1m518/518\u001b[0m \u001b[32m━━━━━━━━━━━━━━━━━━━━\u001b[0m\u001b[37m\u001b[0m \u001b[1m3s\u001b[0m 6ms/step - loss: 0.0013 - micro_f2: 0.9562 - val_loss: 0.0011 - val_micro_f2: 0.9665\n",
      "Epoch 11/20\n",
      "\u001b[1m518/518\u001b[0m \u001b[32m━━━━━━━━━━━━━━━━━━━━\u001b[0m\u001b[37m\u001b[0m \u001b[1m3s\u001b[0m 6ms/step - loss: 0.0012 - micro_f2: 0.9623 - val_loss: 8.6245e-04 - val_micro_f2: 0.9701\n",
      "Epoch 12/20\n",
      "\u001b[1m518/518\u001b[0m \u001b[32m━━━━━━━━━━━━━━━━━━━━\u001b[0m\u001b[37m\u001b[0m \u001b[1m3s\u001b[0m 6ms/step - loss: 0.0011 - micro_f2: 0.9653 - val_loss: 7.2704e-04 - val_micro_f2: 0.9788\n",
      "Epoch 13/20\n",
      "\u001b[1m518/518\u001b[0m \u001b[32m━━━━━━━━━━━━━━━━━━━━\u001b[0m\u001b[37m\u001b[0m \u001b[1m3s\u001b[0m 6ms/step - loss: 9.8248e-04 - micro_f2: 0.9698 - val_loss: 7.2505e-04 - val_micro_f2: 0.9781\n",
      "Epoch 14/20\n",
      "\u001b[1m518/518\u001b[0m \u001b[32m━━━━━━━━━━━━━━━━━━━━\u001b[0m\u001b[37m\u001b[0m \u001b[1m3s\u001b[0m 6ms/step - loss: 9.0944e-04 - micro_f2: 0.9709 - val_loss: 7.5202e-04 - val_micro_f2: 0.9811\n",
      "Epoch 15/20\n",
      "\u001b[1m518/518\u001b[0m \u001b[32m━━━━━━━━━━━━━━━━━━━━\u001b[0m\u001b[37m\u001b[0m \u001b[1m3s\u001b[0m 6ms/step - loss: 9.5305e-04 - micro_f2: 0.9707 - val_loss: 6.3930e-04 - val_micro_f2: 0.9798\n",
      "Epoch 16/20\n",
      "\u001b[1m518/518\u001b[0m \u001b[32m━━━━━━━━━━━━━━━━━━━━\u001b[0m\u001b[37m\u001b[0m \u001b[1m3s\u001b[0m 6ms/step - loss: 7.5167e-04 - micro_f2: 0.9762 - val_loss: 5.7966e-04 - val_micro_f2: 0.9817\n",
      "Epoch 17/20\n",
      "\u001b[1m518/518\u001b[0m \u001b[32m━━━━━━━━━━━━━━━━━━━━\u001b[0m\u001b[37m\u001b[0m \u001b[1m3s\u001b[0m 6ms/step - loss: 7.9956e-04 - micro_f2: 0.9766 - val_loss: 6.3453e-04 - val_micro_f2: 0.9811\n",
      "Epoch 18/20\n",
      "\u001b[1m518/518\u001b[0m \u001b[32m━━━━━━━━━━━━━━━━━━━━\u001b[0m\u001b[37m\u001b[0m \u001b[1m3s\u001b[0m 6ms/step - loss: 7.6821e-04 - micro_f2: 0.9754 - val_loss: 6.2379e-04 - val_micro_f2: 0.9827\n",
      "Epoch 19/20\n",
      "\u001b[1m518/518\u001b[0m \u001b[32m━━━━━━━━━━━━━━━━━━━━\u001b[0m\u001b[37m\u001b[0m \u001b[1m3s\u001b[0m 6ms/step - loss: 7.8748e-04 - micro_f2: 0.9761 - val_loss: 5.1321e-04 - val_micro_f2: 0.9825\n",
      "Epoch 20/20\n",
      "\u001b[1m518/518\u001b[0m \u001b[32m━━━━━━━━━━━━━━━━━━━━\u001b[0m\u001b[37m\u001b[0m \u001b[1m3s\u001b[0m 6ms/step - loss: 6.5962e-04 - micro_f2: 0.9793 - val_loss: 4.4262e-04 - val_micro_f2: 0.9851\n"
     ]
    },
    {
     "name": "stderr",
     "output_type": "stream",
     "text": [
      " 50%|█████     | 13/26 [12:37<16:57, 78.28s/it]"
     ]
    },
    {
     "name": "stdout",
     "output_type": "stream",
     "text": [
      "N\n",
      "['A']\n",
      "Epoch 1/20\n",
      "\u001b[1m1004/1004\u001b[0m \u001b[32m━━━━━━━━━━━━━━━━━━━━\u001b[0m\u001b[37m\u001b[0m \u001b[1m9s\u001b[0m 6ms/step - loss: 0.0436 - micro_f2: 0.5804 - val_loss: 0.0116 - val_micro_f2: 0.8257\n",
      "Epoch 2/20\n",
      "\u001b[1m1004/1004\u001b[0m \u001b[32m━━━━━━━━━━━━━━━━━━━━\u001b[0m\u001b[37m\u001b[0m \u001b[1m6s\u001b[0m 6ms/step - loss: 0.0118 - micro_f2: 0.8152 - val_loss: 0.0099 - val_micro_f2: 0.8404\n",
      "Epoch 3/20\n",
      "\u001b[1m1004/1004\u001b[0m \u001b[32m━━━━━━━━━━━━━━━━━━━━\u001b[0m\u001b[37m\u001b[0m \u001b[1m6s\u001b[0m 6ms/step - loss: 0.0103 - micro_f2: 0.8365 - val_loss: 0.0089 - val_micro_f2: 0.8545\n",
      "Epoch 4/20\n",
      "\u001b[1m1004/1004\u001b[0m \u001b[32m━━━━━━━━━━━━━━━━━━━━\u001b[0m\u001b[37m\u001b[0m \u001b[1m6s\u001b[0m 6ms/step - loss: 0.0091 - micro_f2: 0.8567 - val_loss: 0.0080 - val_micro_f2: 0.8662\n",
      "Epoch 5/20\n",
      "\u001b[1m1004/1004\u001b[0m \u001b[32m━━━━━━━━━━━━━━━━━━━━\u001b[0m\u001b[37m\u001b[0m \u001b[1m6s\u001b[0m 6ms/step - loss: 0.0080 - micro_f2: 0.8731 - val_loss: 0.0066 - val_micro_f2: 0.8955\n",
      "Epoch 6/20\n",
      "\u001b[1m1004/1004\u001b[0m \u001b[32m━━━━━━━━━━━━━━━━━━━━\u001b[0m\u001b[37m\u001b[0m \u001b[1m6s\u001b[0m 6ms/step - loss: 0.0074 - micro_f2: 0.8846 - val_loss: 0.0058 - val_micro_f2: 0.9040\n",
      "Epoch 7/20\n",
      "\u001b[1m1004/1004\u001b[0m \u001b[32m━━━━━━━━━━━━━━━━━━━━\u001b[0m\u001b[37m\u001b[0m \u001b[1m6s\u001b[0m 6ms/step - loss: 0.0066 - micro_f2: 0.8959 - val_loss: 0.0054 - val_micro_f2: 0.9163\n",
      "Epoch 8/20\n",
      "\u001b[1m1004/1004\u001b[0m \u001b[32m━━━━━━━━━━━━━━━━━━━━\u001b[0m\u001b[37m\u001b[0m \u001b[1m6s\u001b[0m 6ms/step - loss: 0.0059 - micro_f2: 0.9071 - val_loss: 0.0048 - val_micro_f2: 0.9254\n",
      "Epoch 9/20\n",
      "\u001b[1m1004/1004\u001b[0m \u001b[32m━━━━━━━━━━━━━━━━━━━━\u001b[0m\u001b[37m\u001b[0m \u001b[1m6s\u001b[0m 6ms/step - loss: 0.0053 - micro_f2: 0.9194 - val_loss: 0.0041 - val_micro_f2: 0.9312\n",
      "Epoch 10/20\n",
      "\u001b[1m1004/1004\u001b[0m \u001b[32m━━━━━━━━━━━━━━━━━━━━\u001b[0m\u001b[37m\u001b[0m \u001b[1m6s\u001b[0m 6ms/step - loss: 0.0046 - micro_f2: 0.9281 - val_loss: 0.0036 - val_micro_f2: 0.9442\n",
      "Epoch 11/20\n",
      "\u001b[1m1004/1004\u001b[0m \u001b[32m━━━━━━━━━━━━━━━━━━━━\u001b[0m\u001b[37m\u001b[0m \u001b[1m6s\u001b[0m 6ms/step - loss: 0.0042 - micro_f2: 0.9356 - val_loss: 0.0034 - val_micro_f2: 0.9469\n",
      "Epoch 12/20\n",
      "\u001b[1m1004/1004\u001b[0m \u001b[32m━━━━━━━━━━━━━━━━━━━━\u001b[0m\u001b[37m\u001b[0m \u001b[1m6s\u001b[0m 6ms/step - loss: 0.0039 - micro_f2: 0.9425 - val_loss: 0.0030 - val_micro_f2: 0.9511\n",
      "Epoch 13/20\n",
      "\u001b[1m1004/1004\u001b[0m \u001b[32m━━━━━━━━━━━━━━━━━━━━\u001b[0m\u001b[37m\u001b[0m \u001b[1m6s\u001b[0m 6ms/step - loss: 0.0036 - micro_f2: 0.9471 - val_loss: 0.0029 - val_micro_f2: 0.9572\n",
      "Epoch 14/20\n",
      "\u001b[1m1004/1004\u001b[0m \u001b[32m━━━━━━━━━━━━━━━━━━━━\u001b[0m\u001b[37m\u001b[0m \u001b[1m6s\u001b[0m 6ms/step - loss: 0.0033 - micro_f2: 0.9518 - val_loss: 0.0026 - val_micro_f2: 0.9639\n",
      "Epoch 15/20\n",
      "\u001b[1m1004/1004\u001b[0m \u001b[32m━━━━━━━━━━━━━━━━━━━━\u001b[0m\u001b[37m\u001b[0m \u001b[1m6s\u001b[0m 6ms/step - loss: 0.0032 - micro_f2: 0.9519 - val_loss: 0.0023 - val_micro_f2: 0.9674\n",
      "Epoch 16/20\n",
      "\u001b[1m1004/1004\u001b[0m \u001b[32m━━━━━━━━━━━━━━━━━━━━\u001b[0m\u001b[37m\u001b[0m \u001b[1m6s\u001b[0m 6ms/step - loss: 0.0030 - micro_f2: 0.9555 - val_loss: 0.0023 - val_micro_f2: 0.9658\n",
      "Epoch 17/20\n",
      "\u001b[1m1004/1004\u001b[0m \u001b[32m━━━━━━━━━━━━━━━━━━━━\u001b[0m\u001b[37m\u001b[0m \u001b[1m6s\u001b[0m 6ms/step - loss: 0.0027 - micro_f2: 0.9599 - val_loss: 0.0021 - val_micro_f2: 0.9699\n",
      "Epoch 18/20\n",
      "\u001b[1m1004/1004\u001b[0m \u001b[32m━━━━━━━━━━━━━━━━━━━━\u001b[0m\u001b[37m\u001b[0m \u001b[1m10s\u001b[0m 6ms/step - loss: 0.0027 - micro_f2: 0.9606 - val_loss: 0.0020 - val_micro_f2: 0.9731\n",
      "Epoch 19/20\n",
      "\u001b[1m1004/1004\u001b[0m \u001b[32m━━━━━━━━━━━━━━━━━━━━\u001b[0m\u001b[37m\u001b[0m \u001b[1m6s\u001b[0m 6ms/step - loss: 0.0026 - micro_f2: 0.9630 - val_loss: 0.0017 - val_micro_f2: 0.9751\n",
      "Epoch 20/20\n",
      "\u001b[1m1004/1004\u001b[0m \u001b[32m━━━━━━━━━━━━━━━━━━━━\u001b[0m\u001b[37m\u001b[0m \u001b[1m6s\u001b[0m 6ms/step - loss: 0.0025 - micro_f2: 0.9650 - val_loss: 0.0019 - val_micro_f2: 0.9744\n"
     ]
    },
    {
     "name": "stderr",
     "output_type": "stream",
     "text": [
      " 54%|█████▍    | 14/26 [14:50<18:41, 93.43s/it]"
     ]
    },
    {
     "name": "stdout",
     "output_type": "stream",
     "text": [
      "O\n",
      "[]\n",
      "Epoch 1/20\n",
      "\u001b[1m58/58\u001b[0m \u001b[32m━━━━━━━━━━━━━━━━━━━━\u001b[0m\u001b[37m\u001b[0m \u001b[1m3s\u001b[0m 12ms/step - loss: 0.1563 - micro_f2: 0.8936 - val_loss: 0.0663 - val_micro_f2: 0.9797\n",
      "Epoch 2/20\n",
      "\u001b[1m58/58\u001b[0m \u001b[32m━━━━━━━━━━━━━━━━━━━━\u001b[0m\u001b[37m\u001b[0m \u001b[1m0s\u001b[0m 6ms/step - loss: 0.0598 - micro_f2: 0.9820 - val_loss: 0.0615 - val_micro_f2: 0.9828\n",
      "Epoch 3/20\n",
      "\u001b[1m58/58\u001b[0m \u001b[32m━━━━━━━━━━━━━━━━━━━━\u001b[0m\u001b[37m\u001b[0m \u001b[1m0s\u001b[0m 7ms/step - loss: 0.0513 - micro_f2: 0.9837 - val_loss: 0.0635 - val_micro_f2: 0.9849\n",
      "Epoch 4/20\n",
      "\u001b[1m58/58\u001b[0m \u001b[32m━━━━━━━━━━━━━━━━━━━━\u001b[0m\u001b[37m\u001b[0m \u001b[1m0s\u001b[0m 6ms/step - loss: 0.0559 - micro_f2: 0.9777 - val_loss: 0.0591 - val_micro_f2: 0.9844\n",
      "Epoch 5/20\n",
      "\u001b[1m58/58\u001b[0m \u001b[32m━━━━━━━━━━━━━━━━━━━━\u001b[0m\u001b[37m\u001b[0m \u001b[1m0s\u001b[0m 6ms/step - loss: 0.0463 - micro_f2: 0.9812 - val_loss: 0.0591 - val_micro_f2: 0.9813\n",
      "Epoch 6/20\n",
      "\u001b[1m58/58\u001b[0m \u001b[32m━━━━━━━━━━━━━━━━━━━━\u001b[0m\u001b[37m\u001b[0m \u001b[1m0s\u001b[0m 7ms/step - loss: 0.0519 - micro_f2: 0.9791 - val_loss: 0.0556 - val_micro_f2: 0.9849\n",
      "Epoch 7/20\n",
      "\u001b[1m58/58\u001b[0m \u001b[32m━━━━━━━━━━━━━━━━━━━━\u001b[0m\u001b[37m\u001b[0m \u001b[1m0s\u001b[0m 6ms/step - loss: 0.0531 - micro_f2: 0.9814 - val_loss: 0.0498 - val_micro_f2: 0.9896\n",
      "Epoch 8/20\n",
      "\u001b[1m58/58\u001b[0m \u001b[32m━━━━━━━━━━━━━━━━━━━━\u001b[0m\u001b[37m\u001b[0m \u001b[1m0s\u001b[0m 6ms/step - loss: 0.0508 - micro_f2: 0.9825 - val_loss: 0.0571 - val_micro_f2: 0.9896\n",
      "Epoch 9/20\n",
      "\u001b[1m58/58\u001b[0m \u001b[32m━━━━━━━━━━━━━━━━━━━━\u001b[0m\u001b[37m\u001b[0m \u001b[1m0s\u001b[0m 7ms/step - loss: 0.0455 - micro_f2: 0.9852 - val_loss: 0.0607 - val_micro_f2: 0.9823\n",
      "Epoch 10/20\n",
      "\u001b[1m58/58\u001b[0m \u001b[32m━━━━━━━━━━━━━━━━━━━━\u001b[0m\u001b[37m\u001b[0m \u001b[1m0s\u001b[0m 7ms/step - loss: 0.0395 - micro_f2: 0.9859 - val_loss: 0.0501 - val_micro_f2: 0.9844\n",
      "Epoch 11/20\n",
      "\u001b[1m58/58\u001b[0m \u001b[32m━━━━━━━━━━━━━━━━━━━━\u001b[0m\u001b[37m\u001b[0m \u001b[1m0s\u001b[0m 6ms/step - loss: 0.0431 - micro_f2: 0.9860 - val_loss: 0.0447 - val_micro_f2: 0.9844\n",
      "Epoch 12/20\n",
      "\u001b[1m58/58\u001b[0m \u001b[32m━━━━━━━━━━━━━━━━━━━━\u001b[0m\u001b[37m\u001b[0m \u001b[1m0s\u001b[0m 7ms/step - loss: 0.0343 - micro_f2: 0.9879 - val_loss: 0.0439 - val_micro_f2: 0.9886\n",
      "Epoch 13/20\n",
      "\u001b[1m58/58\u001b[0m \u001b[32m━━━━━━━━━━━━━━━━━━━━\u001b[0m\u001b[37m\u001b[0m \u001b[1m0s\u001b[0m 6ms/step - loss: 0.0439 - micro_f2: 0.9862 - val_loss: 0.0418 - val_micro_f2: 0.9896\n",
      "Epoch 14/20\n",
      "\u001b[1m58/58\u001b[0m \u001b[32m━━━━━━━━━━━━━━━━━━━━\u001b[0m\u001b[37m\u001b[0m \u001b[1m0s\u001b[0m 6ms/step - loss: 0.0368 - micro_f2: 0.9842 - val_loss: 0.0370 - val_micro_f2: 0.9896\n",
      "Epoch 15/20\n",
      "\u001b[1m58/58\u001b[0m \u001b[32m━━━━━━━━━━━━━━━━━━━━\u001b[0m\u001b[37m\u001b[0m \u001b[1m0s\u001b[0m 7ms/step - loss: 0.0318 - micro_f2: 0.9893 - val_loss: 0.0469 - val_micro_f2: 0.9844\n",
      "Epoch 16/20\n",
      "\u001b[1m58/58\u001b[0m \u001b[32m━━━━━━━━━━━━━━━━━━━━\u001b[0m\u001b[37m\u001b[0m \u001b[1m0s\u001b[0m 7ms/step - loss: 0.0416 - micro_f2: 0.9859 - val_loss: 0.0321 - val_micro_f2: 0.9922\n",
      "Epoch 17/20\n",
      "\u001b[1m58/58\u001b[0m \u001b[32m━━━━━━━━━━━━━━━━━━━━\u001b[0m\u001b[37m\u001b[0m \u001b[1m0s\u001b[0m 6ms/step - loss: 0.0312 - micro_f2: 0.9900 - val_loss: 0.0345 - val_micro_f2: 0.9896\n",
      "Epoch 18/20\n",
      "\u001b[1m58/58\u001b[0m \u001b[32m━━━━━━━━━━━━━━━━━━━━\u001b[0m\u001b[37m\u001b[0m \u001b[1m0s\u001b[0m 7ms/step - loss: 0.0441 - micro_f2: 0.9851 - val_loss: 0.0342 - val_micro_f2: 0.9891\n",
      "Epoch 19/20\n",
      "\u001b[1m58/58\u001b[0m \u001b[32m━━━━━━━━━━━━━━━━━━━━\u001b[0m\u001b[37m\u001b[0m \u001b[1m0s\u001b[0m 6ms/step - loss: 0.0204 - micro_f2: 0.9932 - val_loss: 0.0262 - val_micro_f2: 0.9948\n",
      "Epoch 20/20\n",
      "\u001b[1m58/58\u001b[0m \u001b[32m━━━━━━━━━━━━━━━━━━━━\u001b[0m\u001b[37m\u001b[0m \u001b[1m0s\u001b[0m 7ms/step - loss: 0.0193 - micro_f2: 0.9941 - val_loss: 0.0362 - val_micro_f2: 0.9844\n"
     ]
    },
    {
     "name": "stderr",
     "output_type": "stream",
     "text": [
      " 58%|█████▊    | 15/26 [15:00<12:46, 69.72s/it]"
     ]
    },
    {
     "name": "stdout",
     "output_type": "stream",
     "text": [
      "Q\n",
      "[]\n",
      "Epoch 1/20\n",
      "\u001b[1m92/92\u001b[0m \u001b[32m━━━━━━━━━━━━━━━━━━━━\u001b[0m\u001b[37m\u001b[0m \u001b[1m3s\u001b[0m 10ms/step - loss: 0.1407 - micro_f2: 0.5970 - val_loss: 0.0103 - val_micro_f2: 0.9575\n",
      "Epoch 2/20\n",
      "\u001b[1m92/92\u001b[0m \u001b[32m━━━━━━━━━━━━━━━━━━━━\u001b[0m\u001b[37m\u001b[0m \u001b[1m1s\u001b[0m 7ms/step - loss: 0.0126 - micro_f2: 0.9322 - val_loss: 0.0071 - val_micro_f2: 0.9685\n",
      "Epoch 3/20\n",
      "\u001b[1m92/92\u001b[0m \u001b[32m━━━━━━━━━━━━━━━━━━━━\u001b[0m\u001b[37m\u001b[0m \u001b[1m1s\u001b[0m 7ms/step - loss: 0.0090 - micro_f2: 0.9544 - val_loss: 0.0044 - val_micro_f2: 0.9715\n",
      "Epoch 4/20\n",
      "\u001b[1m92/92\u001b[0m \u001b[32m━━━━━━━━━━━━━━━━━━━━\u001b[0m\u001b[37m\u001b[0m \u001b[1m1s\u001b[0m 6ms/step - loss: 0.0051 - micro_f2: 0.9756 - val_loss: 0.0043 - val_micro_f2: 0.9801\n",
      "Epoch 5/20\n",
      "\u001b[1m92/92\u001b[0m \u001b[32m━━━━━━━━━━━━━━━━━━━━\u001b[0m\u001b[37m\u001b[0m \u001b[1m1s\u001b[0m 7ms/step - loss: 0.0049 - micro_f2: 0.9764 - val_loss: 0.0036 - val_micro_f2: 0.9866\n",
      "Epoch 6/20\n",
      "\u001b[1m92/92\u001b[0m \u001b[32m━━━━━━━━━━━━━━━━━━━━\u001b[0m\u001b[37m\u001b[0m \u001b[1m1s\u001b[0m 7ms/step - loss: 0.0049 - micro_f2: 0.9753 - val_loss: 0.0029 - val_micro_f2: 0.9851\n",
      "Epoch 7/20\n",
      "\u001b[1m92/92\u001b[0m \u001b[32m━━━━━━━━━━━━━━━━━━━━\u001b[0m\u001b[37m\u001b[0m \u001b[1m1s\u001b[0m 6ms/step - loss: 0.0033 - micro_f2: 0.9820 - val_loss: 0.0028 - val_micro_f2: 0.9843\n",
      "Epoch 8/20\n",
      "\u001b[1m92/92\u001b[0m \u001b[32m━━━━━━━━━━━━━━━━━━━━\u001b[0m\u001b[37m\u001b[0m \u001b[1m1s\u001b[0m 7ms/step - loss: 0.0037 - micro_f2: 0.9814 - val_loss: 0.0024 - val_micro_f2: 0.9927\n",
      "Epoch 9/20\n",
      "\u001b[1m92/92\u001b[0m \u001b[32m━━━━━━━━━━━━━━━━━━━━\u001b[0m\u001b[37m\u001b[0m \u001b[1m1s\u001b[0m 6ms/step - loss: 0.0033 - micro_f2: 0.9853 - val_loss: 0.0012 - val_micro_f2: 0.9959\n",
      "Epoch 10/20\n",
      "\u001b[1m92/92\u001b[0m \u001b[32m━━━━━━━━━━━━━━━━━━━━\u001b[0m\u001b[37m\u001b[0m \u001b[1m1s\u001b[0m 6ms/step - loss: 0.0029 - micro_f2: 0.9884 - val_loss: 0.0024 - val_micro_f2: 0.9918\n",
      "Epoch 11/20\n",
      "\u001b[1m92/92\u001b[0m \u001b[32m━━━━━━━━━━━━━━━━━━━━\u001b[0m\u001b[37m\u001b[0m \u001b[1m1s\u001b[0m 6ms/step - loss: 0.0027 - micro_f2: 0.9876 - val_loss: 0.0016 - val_micro_f2: 0.9869\n",
      "Epoch 12/20\n",
      "\u001b[1m92/92\u001b[0m \u001b[32m━━━━━━━━━━━━━━━━━━━━\u001b[0m\u001b[37m\u001b[0m \u001b[1m1s\u001b[0m 6ms/step - loss: 0.0018 - micro_f2: 0.9902 - val_loss: 0.0026 - val_micro_f2: 0.9854\n",
      "Epoch 13/20\n",
      "\u001b[1m92/92\u001b[0m \u001b[32m━━━━━━━━━━━━━━━━━━━━\u001b[0m\u001b[37m\u001b[0m \u001b[1m1s\u001b[0m 6ms/step - loss: 0.0018 - micro_f2: 0.9909 - val_loss: 0.0011 - val_micro_f2: 0.9956\n",
      "Epoch 14/20\n",
      "\u001b[1m92/92\u001b[0m \u001b[32m━━━━━━━━━━━━━━━━━━━━\u001b[0m\u001b[37m\u001b[0m \u001b[1m1s\u001b[0m 6ms/step - loss: 0.0018 - micro_f2: 0.9924 - val_loss: 0.0030 - val_micro_f2: 0.9894\n",
      "Epoch 15/20\n",
      "\u001b[1m92/92\u001b[0m \u001b[32m━━━━━━━━━━━━━━━━━━━━\u001b[0m\u001b[37m\u001b[0m \u001b[1m1s\u001b[0m 6ms/step - loss: 0.0040 - micro_f2: 0.9833 - val_loss: 0.0016 - val_micro_f2: 0.9936\n",
      "Epoch 16/20\n",
      "\u001b[1m92/92\u001b[0m \u001b[32m━━━━━━━━━━━━━━━━━━━━\u001b[0m\u001b[37m\u001b[0m \u001b[1m1s\u001b[0m 7ms/step - loss: 0.0016 - micro_f2: 0.9921 - val_loss: 0.0018 - val_micro_f2: 0.9947\n",
      "Epoch 17/20\n",
      "\u001b[1m92/92\u001b[0m \u001b[32m━━━━━━━━━━━━━━━━━━━━\u001b[0m\u001b[37m\u001b[0m \u001b[1m1s\u001b[0m 7ms/step - loss: 0.0016 - micro_f2: 0.9918 - val_loss: 0.0011 - val_micro_f2: 0.9938\n",
      "Epoch 18/20\n",
      "\u001b[1m92/92\u001b[0m \u001b[32m━━━━━━━━━━━━━━━━━━━━\u001b[0m\u001b[37m\u001b[0m \u001b[1m1s\u001b[0m 7ms/step - loss: 0.0018 - micro_f2: 0.9904 - val_loss: 0.0016 - val_micro_f2: 0.9922\n",
      "Epoch 19/20\n",
      "\u001b[1m92/92\u001b[0m \u001b[32m━━━━━━━━━━━━━━━━━━━━\u001b[0m\u001b[37m\u001b[0m \u001b[1m1s\u001b[0m 7ms/step - loss: 0.0027 - micro_f2: 0.9867 - val_loss: 0.0013 - val_micro_f2: 0.9959\n",
      "Epoch 20/20\n",
      "\u001b[1m92/92\u001b[0m \u001b[32m━━━━━━━━━━━━━━━━━━━━\u001b[0m\u001b[37m\u001b[0m \u001b[1m1s\u001b[0m 6ms/step - loss: 0.0015 - micro_f2: 0.9922 - val_loss: 0.0010 - val_micro_f2: 0.9963\n"
     ]
    },
    {
     "name": "stderr",
     "output_type": "stream",
     "text": [
      " 65%|██████▌   | 17/26 [15:16<06:16, 41.83s/it]"
     ]
    },
    {
     "name": "stdout",
     "output_type": "stream",
     "text": [
      "R\n",
      "[]\n",
      "Epoch 1/20\n",
      "\u001b[1m387/387\u001b[0m \u001b[32m━━━━━━━━━━━━━━━━━━━━\u001b[0m\u001b[37m\u001b[0m \u001b[1m5s\u001b[0m 7ms/step - loss: 0.0788 - micro_f2: 0.5147 - val_loss: 0.0112 - val_micro_f2: 0.8874\n",
      "Epoch 2/20\n",
      "\u001b[1m387/387\u001b[0m \u001b[32m━━━━━━━━━━━━━━━━━━━━\u001b[0m\u001b[37m\u001b[0m \u001b[1m2s\u001b[0m 6ms/step - loss: 0.0124 - micro_f2: 0.8741 - val_loss: 0.0077 - val_micro_f2: 0.9228\n",
      "Epoch 3/20\n",
      "\u001b[1m387/387\u001b[0m \u001b[32m━━━━━━━━━━━━━━━━━━━━\u001b[0m\u001b[37m\u001b[0m \u001b[1m2s\u001b[0m 6ms/step - loss: 0.0089 - micro_f2: 0.9081 - val_loss: 0.0068 - val_micro_f2: 0.9329\n",
      "Epoch 4/20\n",
      "\u001b[1m387/387\u001b[0m \u001b[32m━━━━━━━━━━━━━━━━━━━━\u001b[0m\u001b[37m\u001b[0m \u001b[1m2s\u001b[0m 6ms/step - loss: 0.0070 - micro_f2: 0.9297 - val_loss: 0.0046 - val_micro_f2: 0.9537\n",
      "Epoch 5/20\n",
      "\u001b[1m387/387\u001b[0m \u001b[32m━━━━━━━━━━━━━━━━━━━━\u001b[0m\u001b[37m\u001b[0m \u001b[1m2s\u001b[0m 6ms/step - loss: 0.0058 - micro_f2: 0.9404 - val_loss: 0.0040 - val_micro_f2: 0.9642\n",
      "Epoch 6/20\n",
      "\u001b[1m387/387\u001b[0m \u001b[32m━━━━━━━━━━━━━━━━━━━━\u001b[0m\u001b[37m\u001b[0m \u001b[1m2s\u001b[0m 6ms/step - loss: 0.0046 - micro_f2: 0.9561 - val_loss: 0.0035 - val_micro_f2: 0.9687\n",
      "Epoch 7/20\n",
      "\u001b[1m387/387\u001b[0m \u001b[32m━━━━━━━━━━━━━━━━━━━━\u001b[0m\u001b[37m\u001b[0m \u001b[1m3s\u001b[0m 6ms/step - loss: 0.0040 - micro_f2: 0.9611 - val_loss: 0.0033 - val_micro_f2: 0.9695\n",
      "Epoch 8/20\n",
      "\u001b[1m387/387\u001b[0m \u001b[32m━━━━━━━━━━━━━━━━━━━━\u001b[0m\u001b[37m\u001b[0m \u001b[1m2s\u001b[0m 6ms/step - loss: 0.0035 - micro_f2: 0.9670 - val_loss: 0.0029 - val_micro_f2: 0.9712\n",
      "Epoch 9/20\n",
      "\u001b[1m387/387\u001b[0m \u001b[32m━━━━━━━━━━━━━━━━━━━━\u001b[0m\u001b[37m\u001b[0m \u001b[1m2s\u001b[0m 6ms/step - loss: 0.0029 - micro_f2: 0.9725 - val_loss: 0.0024 - val_micro_f2: 0.9793\n",
      "Epoch 10/20\n",
      "\u001b[1m387/387\u001b[0m \u001b[32m━━━━━━━━━━━━━━━━━━━━\u001b[0m\u001b[37m\u001b[0m \u001b[1m2s\u001b[0m 6ms/step - loss: 0.0028 - micro_f2: 0.9754 - val_loss: 0.0022 - val_micro_f2: 0.9777\n",
      "Epoch 11/20\n",
      "\u001b[1m387/387\u001b[0m \u001b[32m━━━━━━━━━━━━━━━━━━━━\u001b[0m\u001b[37m\u001b[0m \u001b[1m2s\u001b[0m 6ms/step - loss: 0.0026 - micro_f2: 0.9732 - val_loss: 0.0023 - val_micro_f2: 0.9775\n",
      "Epoch 12/20\n",
      "\u001b[1m387/387\u001b[0m \u001b[32m━━━━━━━━━━━━━━━━━━━━\u001b[0m\u001b[37m\u001b[0m \u001b[1m3s\u001b[0m 7ms/step - loss: 0.0024 - micro_f2: 0.9774 - val_loss: 0.0021 - val_micro_f2: 0.9798\n",
      "Epoch 13/20\n",
      "\u001b[1m387/387\u001b[0m \u001b[32m━━━━━━━━━━━━━━━━━━━━\u001b[0m\u001b[37m\u001b[0m \u001b[1m2s\u001b[0m 6ms/step - loss: 0.0023 - micro_f2: 0.9782 - val_loss: 0.0020 - val_micro_f2: 0.9809\n",
      "Epoch 14/20\n",
      "\u001b[1m387/387\u001b[0m \u001b[32m━━━━━━━━━━━━━━━━━━━━\u001b[0m\u001b[37m\u001b[0m \u001b[1m2s\u001b[0m 6ms/step - loss: 0.0023 - micro_f2: 0.9804 - val_loss: 0.0022 - val_micro_f2: 0.9738\n",
      "Epoch 15/20\n",
      "\u001b[1m387/387\u001b[0m \u001b[32m━━━━━━━━━━━━━━━━━━━━\u001b[0m\u001b[37m\u001b[0m \u001b[1m2s\u001b[0m 6ms/step - loss: 0.0023 - micro_f2: 0.9772 - val_loss: 0.0019 - val_micro_f2: 0.9796\n",
      "Epoch 16/20\n",
      "\u001b[1m387/387\u001b[0m \u001b[32m━━━━━━━━━━━━━━━━━━━━\u001b[0m\u001b[37m\u001b[0m \u001b[1m2s\u001b[0m 6ms/step - loss: 0.0022 - micro_f2: 0.9789 - val_loss: 0.0016 - val_micro_f2: 0.9855\n",
      "Epoch 17/20\n",
      "\u001b[1m387/387\u001b[0m \u001b[32m━━━━━━━━━━━━━━━━━━━━\u001b[0m\u001b[37m\u001b[0m \u001b[1m2s\u001b[0m 6ms/step - loss: 0.0020 - micro_f2: 0.9815 - val_loss: 0.0020 - val_micro_f2: 0.9833\n",
      "Epoch 18/20\n",
      "\u001b[1m387/387\u001b[0m \u001b[32m━━━━━━━━━━━━━━━━━━━━\u001b[0m\u001b[37m\u001b[0m \u001b[1m2s\u001b[0m 6ms/step - loss: 0.0019 - micro_f2: 0.9831 - val_loss: 0.0013 - val_micro_f2: 0.9858\n",
      "Epoch 19/20\n",
      "\u001b[1m387/387\u001b[0m \u001b[32m━━━━━━━━━━━━━━━━━━━━\u001b[0m\u001b[37m\u001b[0m \u001b[1m2s\u001b[0m 6ms/step - loss: 0.0018 - micro_f2: 0.9837 - val_loss: 0.0014 - val_micro_f2: 0.9873\n",
      "Epoch 20/20\n",
      "\u001b[1m387/387\u001b[0m \u001b[32m━━━━━━━━━━━━━━━━━━━━\u001b[0m\u001b[37m\u001b[0m \u001b[1m3s\u001b[0m 7ms/step - loss: 0.0016 - micro_f2: 0.9853 - val_loss: 0.0013 - val_micro_f2: 0.9865\n"
     ]
    },
    {
     "name": "stderr",
     "output_type": "stream",
     "text": [
      " 69%|██████▉   | 18/26 [16:10<05:59, 44.95s/it]"
     ]
    },
    {
     "name": "stdout",
     "output_type": "stream",
     "text": [
      "S\n",
      "['V', 'W', 'X']\n",
      "Epoch 1/20\n",
      "\u001b[1m102/102\u001b[0m \u001b[32m━━━━━━━━━━━━━━━━━━━━\u001b[0m\u001b[37m\u001b[0m \u001b[1m3s\u001b[0m 9ms/step - loss: 0.1512 - micro_f2: 0.2771 - val_loss: 0.0152 - val_micro_f2: 0.6979\n",
      "Epoch 2/20\n",
      "\u001b[1m102/102\u001b[0m \u001b[32m━━━━━━━━━━━━━━━━━━━━\u001b[0m\u001b[37m\u001b[0m \u001b[1m1s\u001b[0m 6ms/step - loss: 0.0146 - micro_f2: 0.7545 - val_loss: 0.0092 - val_micro_f2: 0.8549\n",
      "Epoch 3/20\n",
      "\u001b[1m102/102\u001b[0m \u001b[32m━━━━━━━━━━━━━━━━━━━━\u001b[0m\u001b[37m\u001b[0m \u001b[1m1s\u001b[0m 6ms/step - loss: 0.0094 - micro_f2: 0.8542 - val_loss: 0.0068 - val_micro_f2: 0.8937\n",
      "Epoch 4/20\n",
      "\u001b[1m102/102\u001b[0m \u001b[32m━━━━━━━━━━━━━━━━━━━━\u001b[0m\u001b[37m\u001b[0m \u001b[1m1s\u001b[0m 6ms/step - loss: 0.0077 - micro_f2: 0.8870 - val_loss: 0.0056 - val_micro_f2: 0.9253\n",
      "Epoch 5/20\n",
      "\u001b[1m102/102\u001b[0m \u001b[32m━━━━━━━━━━━━━━━━━━━━\u001b[0m\u001b[37m\u001b[0m \u001b[1m1s\u001b[0m 6ms/step - loss: 0.0066 - micro_f2: 0.9028 - val_loss: 0.0045 - val_micro_f2: 0.9459\n",
      "Epoch 6/20\n",
      "\u001b[1m102/102\u001b[0m \u001b[32m━━━━━━━━━━━━━━━━━━━━\u001b[0m\u001b[37m\u001b[0m \u001b[1m1s\u001b[0m 7ms/step - loss: 0.0051 - micro_f2: 0.9298 - val_loss: 0.0041 - val_micro_f2: 0.9326\n",
      "Epoch 7/20\n",
      "\u001b[1m102/102\u001b[0m \u001b[32m━━━━━━━━━━━━━━━━━━━━\u001b[0m\u001b[37m\u001b[0m \u001b[1m1s\u001b[0m 7ms/step - loss: 0.0046 - micro_f2: 0.9372 - val_loss: 0.0030 - val_micro_f2: 0.9536\n",
      "Epoch 8/20\n",
      "\u001b[1m102/102\u001b[0m \u001b[32m━━━━━━━━━━━━━━━━━━━━\u001b[0m\u001b[37m\u001b[0m \u001b[1m1s\u001b[0m 7ms/step - loss: 0.0036 - micro_f2: 0.9536 - val_loss: 0.0025 - val_micro_f2: 0.9659\n",
      "Epoch 9/20\n",
      "\u001b[1m102/102\u001b[0m \u001b[32m━━━━━━━━━━━━━━━━━━━━\u001b[0m\u001b[37m\u001b[0m \u001b[1m1s\u001b[0m 7ms/step - loss: 0.0031 - micro_f2: 0.9579 - val_loss: 0.0019 - val_micro_f2: 0.9802\n",
      "Epoch 10/20\n",
      "\u001b[1m102/102\u001b[0m \u001b[32m━━━━━━━━━━━━━━━━━━━━\u001b[0m\u001b[37m\u001b[0m \u001b[1m1s\u001b[0m 6ms/step - loss: 0.0025 - micro_f2: 0.9719 - val_loss: 0.0016 - val_micro_f2: 0.9819\n",
      "Epoch 11/20\n",
      "\u001b[1m102/102\u001b[0m \u001b[32m━━━━━━━━━━━━━━━━━━━━\u001b[0m\u001b[37m\u001b[0m \u001b[1m1s\u001b[0m 6ms/step - loss: 0.0019 - micro_f2: 0.9773 - val_loss: 0.0014 - val_micro_f2: 0.9805\n",
      "Epoch 12/20\n",
      "\u001b[1m102/102\u001b[0m \u001b[32m━━━━━━━━━━━━━━━━━━━━\u001b[0m\u001b[37m\u001b[0m \u001b[1m1s\u001b[0m 6ms/step - loss: 0.0019 - micro_f2: 0.9738 - val_loss: 0.0015 - val_micro_f2: 0.9819\n",
      "Epoch 13/20\n",
      "\u001b[1m102/102\u001b[0m \u001b[32m━━━━━━━━━━━━━━━━━━━━\u001b[0m\u001b[37m\u001b[0m \u001b[1m1s\u001b[0m 6ms/step - loss: 0.0018 - micro_f2: 0.9780 - val_loss: 0.0012 - val_micro_f2: 0.9855\n",
      "Epoch 14/20\n",
      "\u001b[1m102/102\u001b[0m \u001b[32m━━━━━━━━━━━━━━━━━━━━\u001b[0m\u001b[37m\u001b[0m \u001b[1m1s\u001b[0m 6ms/step - loss: 0.0017 - micro_f2: 0.9782 - val_loss: 0.0014 - val_micro_f2: 0.9850\n",
      "Epoch 15/20\n",
      "\u001b[1m102/102\u001b[0m \u001b[32m━━━━━━━━━━━━━━━━━━━━\u001b[0m\u001b[37m\u001b[0m \u001b[1m1s\u001b[0m 6ms/step - loss: 0.0019 - micro_f2: 0.9734 - val_loss: 8.7729e-04 - val_micro_f2: 0.9909\n",
      "Epoch 16/20\n",
      "\u001b[1m102/102\u001b[0m \u001b[32m━━━━━━━━━━━━━━━━━━━━\u001b[0m\u001b[37m\u001b[0m \u001b[1m1s\u001b[0m 6ms/step - loss: 0.0012 - micro_f2: 0.9859 - val_loss: 9.3070e-04 - val_micro_f2: 0.9911\n",
      "Epoch 17/20\n",
      "\u001b[1m102/102\u001b[0m \u001b[32m━━━━━━━━━━━━━━━━━━━━\u001b[0m\u001b[37m\u001b[0m \u001b[1m1s\u001b[0m 6ms/step - loss: 0.0013 - micro_f2: 0.9837 - val_loss: 9.3500e-04 - val_micro_f2: 0.9854\n",
      "Epoch 18/20\n",
      "\u001b[1m102/102\u001b[0m \u001b[32m━━━━━━━━━━━━━━━━━━━━\u001b[0m\u001b[37m\u001b[0m \u001b[1m1s\u001b[0m 6ms/step - loss: 0.0011 - micro_f2: 0.9860 - val_loss: 7.6337e-04 - val_micro_f2: 0.9897\n",
      "Epoch 19/20\n",
      "\u001b[1m102/102\u001b[0m \u001b[32m━━━━━━━━━━━━━━━━━━━━\u001b[0m\u001b[37m\u001b[0m \u001b[1m1s\u001b[0m 6ms/step - loss: 0.0011 - micro_f2: 0.9868 - val_loss: 0.0015 - val_micro_f2: 0.9869\n",
      "Epoch 20/20\n",
      "\u001b[1m102/102\u001b[0m \u001b[32m━━━━━━━━━━━━━━━━━━━━\u001b[0m\u001b[37m\u001b[0m \u001b[1m1s\u001b[0m 7ms/step - loss: 0.0013 - micro_f2: 0.9887 - val_loss: 8.5033e-04 - val_micro_f2: 0.9880\n"
     ]
    },
    {
     "name": "stderr",
     "output_type": "stream",
     "text": [
      " 73%|███████▎  | 19/26 [16:28<04:25, 37.92s/it]"
     ]
    },
    {
     "name": "stdout",
     "output_type": "stream",
     "text": [
      "T\n",
      "['Y']\n",
      "Epoch 1/20\n",
      "\u001b[1m140/140\u001b[0m \u001b[32m━━━━━━━━━━━━━━━━━━━━\u001b[0m\u001b[37m\u001b[0m \u001b[1m3s\u001b[0m 8ms/step - loss: 0.1424 - micro_f2: 0.4588 - val_loss: 0.0417 - val_micro_f2: 0.7638\n",
      "Epoch 2/20\n",
      "\u001b[1m140/140\u001b[0m \u001b[32m━━━━━━━━━━━━━━━━━━━━\u001b[0m\u001b[37m\u001b[0m \u001b[1m1s\u001b[0m 6ms/step - loss: 0.0414 - micro_f2: 0.7530 - val_loss: 0.0318 - val_micro_f2: 0.8399\n",
      "Epoch 3/20\n",
      "\u001b[1m140/140\u001b[0m \u001b[32m━━━━━━━━━━━━━━━━━━━━\u001b[0m\u001b[37m\u001b[0m \u001b[1m1s\u001b[0m 6ms/step - loss: 0.0350 - micro_f2: 0.7846 - val_loss: 0.0274 - val_micro_f2: 0.8393\n",
      "Epoch 4/20\n",
      "\u001b[1m140/140\u001b[0m \u001b[32m━━━━━━━━━━━━━━━━━━━━\u001b[0m\u001b[37m\u001b[0m \u001b[1m1s\u001b[0m 6ms/step - loss: 0.0301 - micro_f2: 0.8261 - val_loss: 0.0246 - val_micro_f2: 0.8507\n",
      "Epoch 5/20\n",
      "\u001b[1m140/140\u001b[0m \u001b[32m━━━━━━━━━━━━━━━━━━━━\u001b[0m\u001b[37m\u001b[0m \u001b[1m1s\u001b[0m 6ms/step - loss: 0.0266 - micro_f2: 0.8474 - val_loss: 0.0199 - val_micro_f2: 0.8926\n",
      "Epoch 6/20\n",
      "\u001b[1m140/140\u001b[0m \u001b[32m━━━━━━━━━━━━━━━━━━━━\u001b[0m\u001b[37m\u001b[0m \u001b[1m1s\u001b[0m 6ms/step - loss: 0.0229 - micro_f2: 0.8718 - val_loss: 0.0158 - val_micro_f2: 0.9073\n",
      "Epoch 7/20\n",
      "\u001b[1m140/140\u001b[0m \u001b[32m━━━━━━━━━━━━━━━━━━━━\u001b[0m\u001b[37m\u001b[0m \u001b[1m1s\u001b[0m 6ms/step - loss: 0.0193 - micro_f2: 0.8931 - val_loss: 0.0154 - val_micro_f2: 0.9243\n",
      "Epoch 8/20\n",
      "\u001b[1m140/140\u001b[0m \u001b[32m━━━━━━━━━━━━━━━━━━━━\u001b[0m\u001b[37m\u001b[0m \u001b[1m1s\u001b[0m 6ms/step - loss: 0.0174 - micro_f2: 0.9045 - val_loss: 0.0105 - val_micro_f2: 0.9423\n",
      "Epoch 9/20\n",
      "\u001b[1m140/140\u001b[0m \u001b[32m━━━━━━━━━━━━━━━━━━━━\u001b[0m\u001b[37m\u001b[0m \u001b[1m1s\u001b[0m 7ms/step - loss: 0.0140 - micro_f2: 0.9259 - val_loss: 0.0108 - val_micro_f2: 0.9433\n",
      "Epoch 10/20\n",
      "\u001b[1m140/140\u001b[0m \u001b[32m━━━━━━━━━━━━━━━━━━━━\u001b[0m\u001b[37m\u001b[0m \u001b[1m1s\u001b[0m 7ms/step - loss: 0.0125 - micro_f2: 0.9378 - val_loss: 0.0089 - val_micro_f2: 0.9506\n",
      "Epoch 11/20\n",
      "\u001b[1m140/140\u001b[0m \u001b[32m━━━━━━━━━━━━━━━━━━━━\u001b[0m\u001b[37m\u001b[0m \u001b[1m1s\u001b[0m 6ms/step - loss: 0.0102 - micro_f2: 0.9526 - val_loss: 0.0097 - val_micro_f2: 0.9555\n",
      "Epoch 12/20\n",
      "\u001b[1m140/140\u001b[0m \u001b[32m━━━━━━━━━━━━━━━━━━━━\u001b[0m\u001b[37m\u001b[0m \u001b[1m1s\u001b[0m 6ms/step - loss: 0.0103 - micro_f2: 0.9490 - val_loss: 0.0068 - val_micro_f2: 0.9669\n",
      "Epoch 13/20\n",
      "\u001b[1m140/140\u001b[0m \u001b[32m━━━━━━━━━━━━━━━━━━━━\u001b[0m\u001b[37m\u001b[0m \u001b[1m1s\u001b[0m 6ms/step - loss: 0.0080 - micro_f2: 0.9600 - val_loss: 0.0062 - val_micro_f2: 0.9694\n",
      "Epoch 14/20\n",
      "\u001b[1m140/140\u001b[0m \u001b[32m━━━━━━━━━━━━━━━━━━━━\u001b[0m\u001b[37m\u001b[0m \u001b[1m1s\u001b[0m 6ms/step - loss: 0.0068 - micro_f2: 0.9663 - val_loss: 0.0067 - val_micro_f2: 0.9696\n",
      "Epoch 15/20\n",
      "\u001b[1m140/140\u001b[0m \u001b[32m━━━━━━━━━━━━━━━━━━━━\u001b[0m\u001b[37m\u001b[0m \u001b[1m1s\u001b[0m 6ms/step - loss: 0.0072 - micro_f2: 0.9670 - val_loss: 0.0074 - val_micro_f2: 0.9605\n",
      "Epoch 16/20\n",
      "\u001b[1m140/140\u001b[0m \u001b[32m━━━━━━━━━━━━━━━━━━━━\u001b[0m\u001b[37m\u001b[0m \u001b[1m1s\u001b[0m 6ms/step - loss: 0.0069 - micro_f2: 0.9665 - val_loss: 0.0062 - val_micro_f2: 0.9697\n",
      "Epoch 17/20\n",
      "\u001b[1m140/140\u001b[0m \u001b[32m━━━━━━━━━━━━━━━━━━━━\u001b[0m\u001b[37m\u001b[0m \u001b[1m1s\u001b[0m 6ms/step - loss: 0.0069 - micro_f2: 0.9655 - val_loss: 0.0048 - val_micro_f2: 0.9811\n",
      "Epoch 18/20\n",
      "\u001b[1m140/140\u001b[0m \u001b[32m━━━━━━━━━━━━━━━━━━━━\u001b[0m\u001b[37m\u001b[0m \u001b[1m1s\u001b[0m 7ms/step - loss: 0.0059 - micro_f2: 0.9742 - val_loss: 0.0041 - val_micro_f2: 0.9823\n",
      "Epoch 19/20\n",
      "\u001b[1m140/140\u001b[0m \u001b[32m━━━━━━━━━━━━━━━━━━━━\u001b[0m\u001b[37m\u001b[0m \u001b[1m1s\u001b[0m 6ms/step - loss: 0.0045 - micro_f2: 0.9779 - val_loss: 0.0051 - val_micro_f2: 0.9751\n",
      "Epoch 20/20\n",
      "\u001b[1m140/140\u001b[0m \u001b[32m━━━━━━━━━━━━━━━━━━━━\u001b[0m\u001b[37m\u001b[0m \u001b[1m1s\u001b[0m 6ms/step - loss: 0.0049 - micro_f2: 0.9768 - val_loss: 0.0036 - val_micro_f2: 0.9817\n"
     ]
    },
    {
     "name": "stderr",
     "output_type": "stream",
     "text": [
      " 77%|███████▋  | 20/26 [16:49<03:20, 33.37s/it]"
     ]
    },
    {
     "name": "stdout",
     "output_type": "stream",
     "text": [
      "Z\n",
      "[]\n",
      "Epoch 1/20\n",
      "\u001b[1m1100/1100\u001b[0m \u001b[32m━━━━━━━━━━━━━━━━━━━━\u001b[0m\u001b[37m\u001b[0m \u001b[1m9s\u001b[0m 6ms/step - loss: 0.0356 - micro_f2: 0.7316 - val_loss: 0.0079 - val_micro_f2: 0.8865\n",
      "Epoch 2/20\n",
      "\u001b[1m1100/1100\u001b[0m \u001b[32m━━━━━━━━━━━━━━━━━━━━\u001b[0m\u001b[37m\u001b[0m \u001b[1m7s\u001b[0m 6ms/step - loss: 0.0084 - micro_f2: 0.8863 - val_loss: 0.0064 - val_micro_f2: 0.9027\n",
      "Epoch 3/20\n",
      "\u001b[1m1100/1100\u001b[0m \u001b[32m━━━━━━━━━━━━━━━━━━━━\u001b[0m\u001b[37m\u001b[0m \u001b[1m7s\u001b[0m 6ms/step - loss: 0.0066 - micro_f2: 0.9078 - val_loss: 0.0052 - val_micro_f2: 0.9267\n",
      "Epoch 4/20\n",
      "\u001b[1m1100/1100\u001b[0m \u001b[32m━━━━━━━━━━━━━━━━━━━━\u001b[0m\u001b[37m\u001b[0m \u001b[1m7s\u001b[0m 6ms/step - loss: 0.0055 - micro_f2: 0.9242 - val_loss: 0.0043 - val_micro_f2: 0.9414\n",
      "Epoch 5/20\n",
      "\u001b[1m1100/1100\u001b[0m \u001b[32m━━━━━━━━━━━━━━━━━━━━\u001b[0m\u001b[37m\u001b[0m \u001b[1m7s\u001b[0m 6ms/step - loss: 0.0046 - micro_f2: 0.9376 - val_loss: 0.0034 - val_micro_f2: 0.9549\n",
      "Epoch 6/20\n",
      "\u001b[1m1100/1100\u001b[0m \u001b[32m━━━━━━━━━━━━━━━━━━━━\u001b[0m\u001b[37m\u001b[0m \u001b[1m7s\u001b[0m 6ms/step - loss: 0.0039 - micro_f2: 0.9481 - val_loss: 0.0032 - val_micro_f2: 0.9567\n",
      "Epoch 7/20\n",
      "\u001b[1m1100/1100\u001b[0m \u001b[32m━━━━━━━━━━━━━━━━━━━━\u001b[0m\u001b[37m\u001b[0m \u001b[1m7s\u001b[0m 6ms/step - loss: 0.0034 - micro_f2: 0.9546 - val_loss: 0.0025 - val_micro_f2: 0.9683\n",
      "Epoch 8/20\n",
      "\u001b[1m1100/1100\u001b[0m \u001b[32m━━━━━━━━━━━━━━━━━━━━\u001b[0m\u001b[37m\u001b[0m \u001b[1m7s\u001b[0m 6ms/step - loss: 0.0029 - micro_f2: 0.9629 - val_loss: 0.0023 - val_micro_f2: 0.9714\n",
      "Epoch 9/20\n",
      "\u001b[1m1100/1100\u001b[0m \u001b[32m━━━━━━━━━━━━━━━━━━━━\u001b[0m\u001b[37m\u001b[0m \u001b[1m7s\u001b[0m 6ms/step - loss: 0.0028 - micro_f2: 0.9643 - val_loss: 0.0021 - val_micro_f2: 0.9703\n",
      "Epoch 10/20\n",
      "\u001b[1m1100/1100\u001b[0m \u001b[32m━━━━━━━━━━━━━━━━━━━━\u001b[0m\u001b[37m\u001b[0m \u001b[1m7s\u001b[0m 6ms/step - loss: 0.0024 - micro_f2: 0.9691 - val_loss: 0.0020 - val_micro_f2: 0.9697\n",
      "Epoch 11/20\n",
      "\u001b[1m1100/1100\u001b[0m \u001b[32m━━━━━━━━━━━━━━━━━━━━\u001b[0m\u001b[37m\u001b[0m \u001b[1m7s\u001b[0m 6ms/step - loss: 0.0023 - micro_f2: 0.9715 - val_loss: 0.0016 - val_micro_f2: 0.9772\n",
      "Epoch 12/20\n",
      "\u001b[1m1100/1100\u001b[0m \u001b[32m━━━━━━━━━━━━━━━━━━━━\u001b[0m\u001b[37m\u001b[0m \u001b[1m7s\u001b[0m 6ms/step - loss: 0.0019 - micro_f2: 0.9760 - val_loss: 0.0017 - val_micro_f2: 0.9758\n",
      "Epoch 13/20\n",
      "\u001b[1m1100/1100\u001b[0m \u001b[32m━━━━━━━━━━━━━━━━━━━━\u001b[0m\u001b[37m\u001b[0m \u001b[1m7s\u001b[0m 6ms/step - loss: 0.0020 - micro_f2: 0.9750 - val_loss: 0.0013 - val_micro_f2: 0.9858\n",
      "Epoch 14/20\n",
      "\u001b[1m1100/1100\u001b[0m \u001b[32m━━━━━━━━━━━━━━━━━━━━\u001b[0m\u001b[37m\u001b[0m \u001b[1m7s\u001b[0m 6ms/step - loss: 0.0019 - micro_f2: 0.9767 - val_loss: 0.0014 - val_micro_f2: 0.9804\n",
      "Epoch 15/20\n",
      "\u001b[1m1100/1100\u001b[0m \u001b[32m━━━━━━━━━━━━━━━━━━━━\u001b[0m\u001b[37m\u001b[0m \u001b[1m7s\u001b[0m 6ms/step - loss: 0.0017 - micro_f2: 0.9787 - val_loss: 0.0013 - val_micro_f2: 0.9827\n",
      "Epoch 16/20\n",
      "\u001b[1m1100/1100\u001b[0m \u001b[32m━━━━━━━━━━━━━━━━━━━━\u001b[0m\u001b[37m\u001b[0m \u001b[1m7s\u001b[0m 6ms/step - loss: 0.0016 - micro_f2: 0.9799 - val_loss: 0.0011 - val_micro_f2: 0.9878\n",
      "Epoch 17/20\n",
      "\u001b[1m1100/1100\u001b[0m \u001b[32m━━━━━━━━━━━━━━━━━━━━\u001b[0m\u001b[37m\u001b[0m \u001b[1m7s\u001b[0m 6ms/step - loss: 0.0015 - micro_f2: 0.9822 - val_loss: 0.0013 - val_micro_f2: 0.9855\n",
      "Epoch 18/20\n",
      "\u001b[1m1100/1100\u001b[0m \u001b[32m━━━━━━━━━━━━━━━━━━━━\u001b[0m\u001b[37m\u001b[0m \u001b[1m7s\u001b[0m 6ms/step - loss: 0.0015 - micro_f2: 0.9815 - val_loss: 8.9432e-04 - val_micro_f2: 0.9885\n",
      "Epoch 19/20\n",
      "\u001b[1m1100/1100\u001b[0m \u001b[32m━━━━━━━━━━━━━━━━━━━━\u001b[0m\u001b[37m\u001b[0m \u001b[1m7s\u001b[0m 6ms/step - loss: 0.0013 - micro_f2: 0.9834 - val_loss: 0.0012 - val_micro_f2: 0.9859\n",
      "Epoch 20/20\n",
      "\u001b[1m1100/1100\u001b[0m \u001b[32m━━━━━━━━━━━━━━━━━━━━\u001b[0m\u001b[37m\u001b[0m \u001b[1m7s\u001b[0m 6ms/step - loss: 0.0015 - micro_f2: 0.9826 - val_loss: 8.5896e-04 - val_micro_f2: 0.9885\n"
     ]
    },
    {
     "name": "stderr",
     "output_type": "stream",
     "text": [
      "100%|██████████| 26/26 [19:08<00:00, 44.19s/it]\n"
     ]
    }
   ],
   "source": [
    "#Training a model for each alphabet\n",
    "\n",
    "models2 = {}\n",
    "for letter in tqdm(alphabets):\n",
    "    # X should be embeddings, y should be multilabels\n",
    "    indices  = [ind for ind,s in enumerate(mlabels) if s.startswith(letter)]\n",
    "    if len(indices) == 0 or letter in coupled:\n",
    "        models2[letter] = []\n",
    "        continue\n",
    "    else:\n",
    "        for sec_letter in coupler[letter]:\n",
    "            sec_indices = [ind for ind,s in enumerate(mlabels) if s.startswith(sec_letter)]\n",
    "            indices.extend(sec_indices)\n",
    "        print(letter)\n",
    "        print(coupler[letter])\n",
    "        filtered_data,filtered_labels = filter_data_points(X_train,y_train,indices)\n",
    "    \n",
    "        filtered_valid_data,filtered_valid_labels = filter_data_points(X_test,y_test,indices)\n",
    "        model = build_model(filtered_data.shape[1],len(indices))\n",
    "        model.fit(filtered_data.reshape(filtered_data.shape[0],1,filtered_data.shape[1]),filtered_labels[:,indices],epochs = 20,\n",
    "                  validation_data = (filtered_valid_data.reshape(filtered_valid_data.shape[0],1,filtered_valid_data.shape[1]),filtered_valid_labels[:,indices]))\n",
    "        models2[letter] = model"
   ]
  },
  {
   "cell_type": "code",
   "execution_count": 21,
   "id": "afa8990c",
   "metadata": {
    "execution": {
     "iopub.execute_input": "2024-11-07T19:50:52.787402Z",
     "iopub.status.busy": "2024-11-07T19:50:52.787028Z",
     "iopub.status.idle": "2024-11-07T19:50:52.796645Z",
     "shell.execute_reply": "2024-11-07T19:50:52.795820Z"
    },
    "papermill": {
     "duration": 2.29778,
     "end_time": "2024-11-07T19:50:52.798581",
     "exception": false,
     "start_time": "2024-11-07T19:50:50.500801",
     "status": "completed"
    },
    "tags": []
   },
   "outputs": [],
   "source": [
    "def final_pred(X_test,pred_1,mlabels,models):\n",
    "    pred_2 = np.zeros((X_test.shape[0],len(mlabels)))\n",
    "    ind = 0\n",
    "    coupled = list(let for set in coupler.values() for let in set)\n",
    "    for letter in tqdm(alphabets):\n",
    "        indices  = [ind for ind,s in enumerate(mlabels) if s.startswith(letter)]\n",
    "\n",
    "        if letter == 'P' or letter == 'U':\n",
    "            continue\n",
    "        reqd_data = np.any(pred_1[:,ind].reshape(-1,1),axis = 1)  #all rows where the pred_1 is 1 for the given letter\n",
    "        reqd_model = models[letter]\n",
    "        X_reqd = X_test[reqd_data,:]\n",
    "        ind +=1\n",
    "        if np.sum(reqd_data) == 0:\n",
    "            continue\n",
    "        elif letter in coupled:\n",
    "            continue\n",
    "        else:\n",
    "            for sec_letter in coupler[letter]:\n",
    "                sec_indices = [ind for ind,s in enumerate(mlabels) if s.startswith(sec_letter)]\n",
    "                indices.extend(sec_indices)\n",
    "\n",
    "            pred_2[np.ix_(reqd_data,indices)] += reqd_model.predict(X_reqd)>0.5               \n",
    "                \n",
    "    return pred_2"
   ]
  },
  {
   "cell_type": "code",
   "execution_count": 22,
   "id": "a7d30167",
   "metadata": {
    "execution": {
     "iopub.execute_input": "2024-11-07T19:50:57.308417Z",
     "iopub.status.busy": "2024-11-07T19:50:57.307951Z",
     "iopub.status.idle": "2024-11-07T19:50:57.799640Z",
     "shell.execute_reply": "2024-11-07T19:50:57.798518Z"
    },
    "papermill": {
     "duration": 2.789619,
     "end_time": "2024-11-07T19:50:57.802266",
     "exception": false,
     "start_time": "2024-11-07T19:50:55.012647",
     "status": "completed"
    },
    "tags": []
   },
   "outputs": [
    {
     "data": {
      "text/plain": [
       "2254"
      ]
     },
     "execution_count": 22,
     "metadata": {},
     "output_type": "execute_result"
    }
   ],
   "source": [
    "gc.collect()"
   ]
  },
  {
   "cell_type": "code",
   "execution_count": 23,
   "id": "8b70f0e6",
   "metadata": {
    "execution": {
     "iopub.execute_input": "2024-11-07T19:51:02.242687Z",
     "iopub.status.busy": "2024-11-07T19:51:02.242298Z",
     "iopub.status.idle": "2024-11-07T19:51:04.731107Z",
     "shell.execute_reply": "2024-11-07T19:51:04.730025Z"
    },
    "papermill": {
     "duration": 4.720488,
     "end_time": "2024-11-07T19:51:04.733600",
     "exception": false,
     "start_time": "2024-11-07T19:51:00.013112",
     "status": "completed"
    },
    "tags": []
   },
   "outputs": [],
   "source": [
    "real_test = np.load('/kaggle/input/dal-train/test_data.npy')"
   ]
  },
  {
   "cell_type": "code",
   "execution_count": 24,
   "id": "a31856ee",
   "metadata": {
    "execution": {
     "iopub.execute_input": "2024-11-07T19:51:09.221222Z",
     "iopub.status.busy": "2024-11-07T19:51:09.220542Z",
     "iopub.status.idle": "2024-11-07T19:51:17.246767Z",
     "shell.execute_reply": "2024-11-07T19:51:17.245862Z"
    },
    "papermill": {
     "duration": 10.280898,
     "end_time": "2024-11-07T19:51:17.249064",
     "exception": false,
     "start_time": "2024-11-07T19:51:06.968166",
     "status": "completed"
    },
    "tags": []
   },
   "outputs": [
    {
     "name": "stdout",
     "output_type": "stream",
     "text": [
      "\u001b[1m3110/3110\u001b[0m \u001b[32m━━━━━━━━━━━━━━━━━━━━\u001b[0m\u001b[37m\u001b[0m \u001b[1m5s\u001b[0m 2ms/step\n"
     ]
    }
   ],
   "source": [
    "pred_1 = model1.predict(real_test.reshape(real_test.shape[0],1,real_test.shape[1]))>0.5"
   ]
  },
  {
   "cell_type": "code",
   "execution_count": 25,
   "id": "75770aa5",
   "metadata": {
    "execution": {
     "iopub.execute_input": "2024-11-07T19:51:21.716662Z",
     "iopub.status.busy": "2024-11-07T19:51:21.716275Z",
     "iopub.status.idle": "2024-11-07T19:51:52.067749Z",
     "shell.execute_reply": "2024-11-07T19:51:52.066899Z"
    },
    "papermill": {
     "duration": 32.577447,
     "end_time": "2024-11-07T19:51:52.069958",
     "exception": false,
     "start_time": "2024-11-07T19:51:19.492511",
     "status": "completed"
    },
    "tags": []
   },
   "outputs": [
    {
     "name": "stderr",
     "output_type": "stream",
     "text": [
      "  0%|          | 0/26 [00:00<?, ?it/s]"
     ]
    },
    {
     "name": "stdout",
     "output_type": "stream",
     "text": [
      "\u001b[1m12/12\u001b[0m \u001b[32m━━━━━━━━━━━━━━━━━━━━\u001b[0m\u001b[37m\u001b[0m \u001b[1m0s\u001b[0m 15ms/step\n"
     ]
    },
    {
     "name": "stderr",
     "output_type": "stream",
     "text": [
      " 12%|█▏        | 3/26 [00:00<00:02,  8.10it/s]"
     ]
    },
    {
     "name": "stdout",
     "output_type": "stream",
     "text": [
      "\u001b[1m508/508\u001b[0m \u001b[32m━━━━━━━━━━━━━━━━━━━━\u001b[0m\u001b[37m\u001b[0m \u001b[1m1s\u001b[0m 2ms/step\n"
     ]
    },
    {
     "name": "stderr",
     "output_type": "stream",
     "text": [
      " 15%|█▌        | 4/26 [00:02<00:13,  1.59it/s]"
     ]
    },
    {
     "name": "stdout",
     "output_type": "stream",
     "text": [
      "\u001b[1m20/20\u001b[0m \u001b[32m━━━━━━━━━━━━━━━━━━━━\u001b[0m\u001b[37m\u001b[0m \u001b[1m0s\u001b[0m 9ms/step\n"
     ]
    },
    {
     "name": "stderr",
     "output_type": "stream",
     "text": [
      " 19%|█▉        | 5/26 [00:02<00:11,  1.81it/s]"
     ]
    },
    {
     "name": "stdout",
     "output_type": "stream",
     "text": [
      "\u001b[1m2/2\u001b[0m \u001b[32m━━━━━━━━━━━━━━━━━━━━\u001b[0m\u001b[37m\u001b[0m \u001b[1m0s\u001b[0m 145ms/step\n"
     ]
    },
    {
     "name": "stderr",
     "output_type": "stream",
     "text": [
      " 23%|██▎       | 6/26 [00:02<00:09,  2.06it/s]"
     ]
    },
    {
     "name": "stdout",
     "output_type": "stream",
     "text": [
      "\u001b[1m214/214\u001b[0m \u001b[32m━━━━━━━━━━━━━━━━━━━━\u001b[0m\u001b[37m\u001b[0m \u001b[1m1s\u001b[0m 2ms/step\n"
     ]
    },
    {
     "name": "stderr",
     "output_type": "stream",
     "text": [
      " 27%|██▋       | 7/26 [00:03<00:11,  1.64it/s]"
     ]
    },
    {
     "name": "stdout",
     "output_type": "stream",
     "text": [
      "\u001b[1m4/4\u001b[0m \u001b[32m━━━━━━━━━━━━━━━━━━━━\u001b[0m\u001b[37m\u001b[0m \u001b[1m0s\u001b[0m 51ms/step\n"
     ]
    },
    {
     "name": "stderr",
     "output_type": "stream",
     "text": [
      " 31%|███       | 8/26 [00:04<00:09,  1.88it/s]"
     ]
    },
    {
     "name": "stdout",
     "output_type": "stream",
     "text": [
      "\u001b[1m9/9\u001b[0m \u001b[32m━━━━━━━━━━━━━━━━━━━━\u001b[0m\u001b[37m\u001b[0m \u001b[1m0s\u001b[0m 20ms/step\n"
     ]
    },
    {
     "name": "stderr",
     "output_type": "stream",
     "text": [
      " 38%|███▊      | 10/26 [00:04<00:05,  2.72it/s]"
     ]
    },
    {
     "name": "stdout",
     "output_type": "stream",
     "text": [
      "\u001b[1m1353/1353\u001b[0m \u001b[32m━━━━━━━━━━━━━━━━━━━━\u001b[0m\u001b[37m\u001b[0m \u001b[1m3s\u001b[0m 2ms/step\n"
     ]
    },
    {
     "name": "stderr",
     "output_type": "stream",
     "text": [
      " 42%|████▏     | 11/26 [00:08<00:20,  1.35s/it]"
     ]
    },
    {
     "name": "stdout",
     "output_type": "stream",
     "text": [
      "\u001b[1m28/28\u001b[0m \u001b[32m━━━━━━━━━━━━━━━━━━━━\u001b[0m\u001b[37m\u001b[0m \u001b[1m0s\u001b[0m 7ms/step\n"
     ]
    },
    {
     "name": "stderr",
     "output_type": "stream",
     "text": [
      " 46%|████▌     | 12/26 [00:09<00:15,  1.10s/it]"
     ]
    },
    {
     "name": "stdout",
     "output_type": "stream",
     "text": [
      "\u001b[1m975/975\u001b[0m \u001b[32m━━━━━━━━━━━━━━━━━━━━\u001b[0m\u001b[37m\u001b[0m \u001b[1m2s\u001b[0m 2ms/step\n"
     ]
    },
    {
     "name": "stderr",
     "output_type": "stream",
     "text": [
      " 50%|█████     | 13/26 [00:12<00:21,  1.67s/it]"
     ]
    },
    {
     "name": "stdout",
     "output_type": "stream",
     "text": [
      "\u001b[1m171/171\u001b[0m \u001b[32m━━━━━━━━━━━━━━━━━━━━\u001b[0m\u001b[37m\u001b[0m \u001b[1m1s\u001b[0m 2ms/step\n"
     ]
    },
    {
     "name": "stderr",
     "output_type": "stream",
     "text": [
      " 54%|█████▍    | 14/26 [00:13<00:17,  1.43s/it]"
     ]
    },
    {
     "name": "stdout",
     "output_type": "stream",
     "text": [
      "\u001b[1m32/32\u001b[0m \u001b[32m━━━━━━━━━━━━━━━━━━━━\u001b[0m\u001b[37m\u001b[0m \u001b[1m0s\u001b[0m 6ms/step\n"
     ]
    },
    {
     "name": "stderr",
     "output_type": "stream",
     "text": [
      " 65%|██████▌   | 17/26 [00:13<00:06,  1.38it/s]"
     ]
    },
    {
     "name": "stdout",
     "output_type": "stream",
     "text": [
      "\u001b[1m67/67\u001b[0m \u001b[32m━━━━━━━━━━━━━━━━━━━━\u001b[0m\u001b[37m\u001b[0m \u001b[1m0s\u001b[0m 4ms/step\n"
     ]
    },
    {
     "name": "stderr",
     "output_type": "stream",
     "text": [
      " 69%|██████▉   | 18/26 [00:14<00:05,  1.47it/s]"
     ]
    },
    {
     "name": "stdout",
     "output_type": "stream",
     "text": [
      "\u001b[1m481/481\u001b[0m \u001b[32m━━━━━━━━━━━━━━━━━━━━\u001b[0m\u001b[37m\u001b[0m \u001b[1m1s\u001b[0m 2ms/step\n"
     ]
    },
    {
     "name": "stderr",
     "output_type": "stream",
     "text": [
      " 73%|███████▎  | 19/26 [00:15<00:06,  1.10it/s]"
     ]
    },
    {
     "name": "stdout",
     "output_type": "stream",
     "text": [
      "\u001b[1m43/43\u001b[0m \u001b[32m━━━━━━━━━━━━━━━━━━━━\u001b[0m\u001b[37m\u001b[0m \u001b[1m0s\u001b[0m 5ms/step\n"
     ]
    },
    {
     "name": "stderr",
     "output_type": "stream",
     "text": [
      " 77%|███████▋  | 20/26 [00:16<00:04,  1.26it/s]"
     ]
    },
    {
     "name": "stdout",
     "output_type": "stream",
     "text": [
      "\u001b[1m956/956\u001b[0m \u001b[32m━━━━━━━━━━━━━━━━━━━━\u001b[0m\u001b[37m\u001b[0m \u001b[1m2s\u001b[0m 2ms/step\n"
     ]
    },
    {
     "name": "stderr",
     "output_type": "stream",
     "text": [
      "100%|██████████| 26/26 [00:18<00:00,  1.38it/s]\n"
     ]
    }
   ],
   "source": [
    "pred_2 = mlb.inverse_transform(final_pred(real_test.reshape(real_test.shape[0],1,real_test.shape[1]),pred_1,mlabels,models2))"
   ]
  },
  {
   "cell_type": "code",
   "execution_count": 26,
   "id": "912645d2",
   "metadata": {
    "execution": {
     "iopub.execute_input": "2024-11-07T19:51:56.543771Z",
     "iopub.status.busy": "2024-11-07T19:51:56.543375Z",
     "iopub.status.idle": "2024-11-07T19:51:56.556776Z",
     "shell.execute_reply": "2024-11-07T19:51:56.556052Z"
    },
    "papermill": {
     "duration": 2.246438,
     "end_time": "2024-11-07T19:51:56.558644",
     "exception": false,
     "start_time": "2024-11-07T19:51:54.312206",
     "status": "completed"
    },
    "tags": []
   },
   "outputs": [],
   "source": [
    "empty_pred = [i for i,pred in enumerate(pred_2) if pred == ()]"
   ]
  },
  {
   "cell_type": "code",
   "execution_count": 27,
   "id": "943ffd4d",
   "metadata": {
    "execution": {
     "iopub.execute_input": "2024-11-07T19:52:01.037950Z",
     "iopub.status.busy": "2024-11-07T19:52:01.036958Z",
     "iopub.status.idle": "2024-11-07T19:52:01.043453Z",
     "shell.execute_reply": "2024-11-07T19:52:01.042485Z"
    },
    "papermill": {
     "duration": 2.237361,
     "end_time": "2024-11-07T19:52:01.045422",
     "exception": false,
     "start_time": "2024-11-07T19:51:58.808061",
     "status": "completed"
    },
    "tags": []
   },
   "outputs": [
    {
     "data": {
      "text/plain": [
       "3259"
      ]
     },
     "execution_count": 27,
     "metadata": {},
     "output_type": "execute_result"
    }
   ],
   "source": [
    "len(empty_pred)"
   ]
  },
  {
   "cell_type": "code",
   "execution_count": 28,
   "id": "e61fd662",
   "metadata": {
    "execution": {
     "iopub.execute_input": "2024-11-07T19:52:05.592150Z",
     "iopub.status.busy": "2024-11-07T19:52:05.591321Z",
     "iopub.status.idle": "2024-11-07T19:52:05.777889Z",
     "shell.execute_reply": "2024-11-07T19:52:05.776892Z"
    },
    "papermill": {
     "duration": 2.428165,
     "end_time": "2024-11-07T19:52:05.779894",
     "exception": false,
     "start_time": "2024-11-07T19:52:03.351729",
     "status": "completed"
    },
    "tags": []
   },
   "outputs": [
    {
     "name": "stdout",
     "output_type": "stream",
     "text": [
      "Data saved to output_29.csv\n"
     ]
    }
   ],
   "source": [
    "import csv\n",
    "\n",
    "filename = \"output_29.csv\"\n",
    "\n",
    "\n",
    "\n",
    "# Write the list of tuples to the CSV file\n",
    "\n",
    "with open(filename, mode='w', newline='') as file:\n",
    "\n",
    "    writer = csv.writer(file)\n",
    "\n",
    "    # Write the header\n",
    "\n",
    "    writer.writerow([\"id\", \"labels\"])\n",
    "\n",
    "    \n",
    "\n",
    "    # Write each row with sequential ID\n",
    "\n",
    "    for idx, labels in enumerate(pred_2, start=1):\n",
    "\n",
    "        # Join labels with ';' and write to file\n",
    "\n",
    "        writer.writerow([idx, \";\".join(labels)])\n",
    "\n",
    "\n",
    "\n",
    "print(f\"Data saved to {filename}\")"
   ]
  },
  {
   "cell_type": "code",
   "execution_count": 29,
   "id": "6397f300",
   "metadata": {
    "execution": {
     "iopub.execute_input": "2024-11-07T19:52:10.319499Z",
     "iopub.status.busy": "2024-11-07T19:52:10.319097Z",
     "iopub.status.idle": "2024-11-07T19:52:10.325246Z",
     "shell.execute_reply": "2024-11-07T19:52:10.324354Z"
    },
    "papermill": {
     "duration": 2.28762,
     "end_time": "2024-11-07T19:52:10.327203",
     "exception": false,
     "start_time": "2024-11-07T19:52:08.039583",
     "status": "completed"
    },
    "tags": []
   },
   "outputs": [
    {
     "data": {
      "text/plain": [
       "<function __main__.final_pred(X_test, pred_1, mlabels, models)>"
      ]
     },
     "execution_count": 29,
     "metadata": {},
     "output_type": "execute_result"
    }
   ],
   "source": [
    "final_pred"
   ]
  },
  {
   "cell_type": "code",
   "execution_count": 30,
   "id": "dce6354e",
   "metadata": {
    "execution": {
     "iopub.execute_input": "2024-11-07T19:52:14.817505Z",
     "iopub.status.busy": "2024-11-07T19:52:14.817106Z",
     "iopub.status.idle": "2024-11-07T19:52:15.317254Z",
     "shell.execute_reply": "2024-11-07T19:52:15.316353Z"
    },
    "papermill": {
     "duration": 2.750474,
     "end_time": "2024-11-07T19:52:15.319152",
     "exception": false,
     "start_time": "2024-11-07T19:52:12.568678",
     "status": "completed"
    },
    "tags": []
   },
   "outputs": [
    {
     "data": {
      "text/plain": [
       "3474"
      ]
     },
     "execution_count": 30,
     "metadata": {},
     "output_type": "execute_result"
    }
   ],
   "source": [
    "gc.collect()"
   ]
  },
  {
   "cell_type": "code",
   "execution_count": 31,
   "id": "6faf867d",
   "metadata": {
    "execution": {
     "iopub.execute_input": "2024-11-07T19:52:19.887752Z",
     "iopub.status.busy": "2024-11-07T19:52:19.887103Z",
     "iopub.status.idle": "2024-11-07T19:52:19.891565Z",
     "shell.execute_reply": "2024-11-07T19:52:19.890484Z"
    },
    "papermill": {
     "duration": 2.31809,
     "end_time": "2024-11-07T19:52:19.893373",
     "exception": false,
     "start_time": "2024-11-07T19:52:17.575283",
     "status": "completed"
    },
    "tags": []
   },
   "outputs": [],
   "source": [
    "# pred_2 = final_pred(X_test[:n_test],y_cluster_no,means,mlabels,models_dict)"
   ]
  },
  {
   "cell_type": "code",
   "execution_count": 32,
   "id": "1f006fea",
   "metadata": {
    "execution": {
     "iopub.execute_input": "2024-11-07T19:52:24.422667Z",
     "iopub.status.busy": "2024-11-07T19:52:24.422280Z",
     "iopub.status.idle": "2024-11-07T19:52:24.426734Z",
     "shell.execute_reply": "2024-11-07T19:52:24.425776Z"
    },
    "papermill": {
     "duration": 2.241351,
     "end_time": "2024-11-07T19:52:24.428689",
     "exception": false,
     "start_time": "2024-11-07T19:52:22.187338",
     "status": "completed"
    },
    "tags": []
   },
   "outputs": [],
   "source": [
    "# print(f\"Score is {fbeta_score(pred_2,y_test[:n_test],beta = 2,average = 'micro')}\")"
   ]
  },
  {
   "cell_type": "code",
   "execution_count": 33,
   "id": "907b3f0f",
   "metadata": {
    "execution": {
     "iopub.execute_input": "2024-11-07T19:52:28.930454Z",
     "iopub.status.busy": "2024-11-07T19:52:28.930065Z",
     "iopub.status.idle": "2024-11-07T19:52:28.934330Z",
     "shell.execute_reply": "2024-11-07T19:52:28.933403Z"
    },
    "papermill": {
     "duration": 2.270255,
     "end_time": "2024-11-07T19:52:28.936405",
     "exception": false,
     "start_time": "2024-11-07T19:52:26.666150",
     "status": "completed"
    },
    "tags": []
   },
   "outputs": [],
   "source": [
    "### A few comparisons ###"
   ]
  },
  {
   "cell_type": "code",
   "execution_count": 34,
   "id": "c718fb97",
   "metadata": {
    "execution": {
     "iopub.execute_input": "2024-11-07T19:52:33.482459Z",
     "iopub.status.busy": "2024-11-07T19:52:33.482077Z",
     "iopub.status.idle": "2024-11-07T19:52:34.231432Z",
     "shell.execute_reply": "2024-11-07T19:52:34.230074Z"
    },
    "papermill": {
     "duration": 3.07399,
     "end_time": "2024-11-07T19:52:34.232931",
     "exception": true,
     "start_time": "2024-11-07T19:52:31.158941",
     "status": "failed"
    },
    "tags": []
   },
   "outputs": [
    {
     "ename": "AttributeError",
     "evalue": "'list' object has no attribute 'shape'",
     "output_type": "error",
     "traceback": [
      "\u001b[0;31m---------------------------------------------------------------------------\u001b[0m",
      "\u001b[0;31mAttributeError\u001b[0m                            Traceback (most recent call last)",
      "Cell \u001b[0;32mIn[34], line 1\u001b[0m\n\u001b[0;32m----> 1\u001b[0m \u001b[43mmlb\u001b[49m\u001b[38;5;241;43m.\u001b[39;49m\u001b[43minverse_transform\u001b[49m\u001b[43m(\u001b[49m\u001b[43mpred_2\u001b[49m\u001b[43m[\u001b[49m\u001b[43m:\u001b[49m\u001b[38;5;241;43m5\u001b[39;49m\u001b[43m]\u001b[49m\u001b[43m)\u001b[49m\n",
      "File \u001b[0;32m/opt/conda/lib/python3.10/site-packages/sklearn/preprocessing/_label.py:920\u001b[0m, in \u001b[0;36mMultiLabelBinarizer.inverse_transform\u001b[0;34m(self, yt)\u001b[0m\n\u001b[1;32m    905\u001b[0m \u001b[38;5;250m\u001b[39m\u001b[38;5;124;03m\"\"\"Transform the given indicator matrix into label sets.\u001b[39;00m\n\u001b[1;32m    906\u001b[0m \n\u001b[1;32m    907\u001b[0m \u001b[38;5;124;03mParameters\u001b[39;00m\n\u001b[0;32m   (...)\u001b[0m\n\u001b[1;32m    916\u001b[0m \u001b[38;5;124;03m    `classes_[j]` for each `yt[i, j] == 1`.\u001b[39;00m\n\u001b[1;32m    917\u001b[0m \u001b[38;5;124;03m\"\"\"\u001b[39;00m\n\u001b[1;32m    918\u001b[0m check_is_fitted(\u001b[38;5;28mself\u001b[39m)\n\u001b[0;32m--> 920\u001b[0m \u001b[38;5;28;01mif\u001b[39;00m \u001b[43myt\u001b[49m\u001b[38;5;241;43m.\u001b[39;49m\u001b[43mshape\u001b[49m[\u001b[38;5;241m1\u001b[39m] \u001b[38;5;241m!=\u001b[39m \u001b[38;5;28mlen\u001b[39m(\u001b[38;5;28mself\u001b[39m\u001b[38;5;241m.\u001b[39mclasses_):\n\u001b[1;32m    921\u001b[0m     \u001b[38;5;28;01mraise\u001b[39;00m \u001b[38;5;167;01mValueError\u001b[39;00m(\n\u001b[1;32m    922\u001b[0m         \u001b[38;5;124m\"\u001b[39m\u001b[38;5;124mExpected indicator for \u001b[39m\u001b[38;5;132;01m{0}\u001b[39;00m\u001b[38;5;124m classes, but got \u001b[39m\u001b[38;5;132;01m{1}\u001b[39;00m\u001b[38;5;124m\"\u001b[39m\u001b[38;5;241m.\u001b[39mformat(\n\u001b[1;32m    923\u001b[0m             \u001b[38;5;28mlen\u001b[39m(\u001b[38;5;28mself\u001b[39m\u001b[38;5;241m.\u001b[39mclasses_), yt\u001b[38;5;241m.\u001b[39mshape[\u001b[38;5;241m1\u001b[39m]\n\u001b[1;32m    924\u001b[0m         )\n\u001b[1;32m    925\u001b[0m     )\n\u001b[1;32m    927\u001b[0m \u001b[38;5;28;01mif\u001b[39;00m sp\u001b[38;5;241m.\u001b[39missparse(yt):\n",
      "\u001b[0;31mAttributeError\u001b[0m: 'list' object has no attribute 'shape'"
     ]
    }
   ],
   "source": [
    "mlb.inverse_transform(pred_2[:5])"
   ]
  },
  {
   "cell_type": "code",
   "execution_count": null,
   "id": "a4126dc6",
   "metadata": {
    "execution": {
     "iopub.status.busy": "2024-11-07T06:28:43.653413Z",
     "iopub.status.idle": "2024-11-07T06:28:43.653740Z",
     "shell.execute_reply": "2024-11-07T06:28:43.653592Z",
     "shell.execute_reply.started": "2024-11-07T06:28:43.653575Z"
    },
    "papermill": {
     "duration": null,
     "end_time": null,
     "exception": null,
     "start_time": null,
     "status": "pending"
    },
    "tags": []
   },
   "outputs": [],
   "source": [
    "y_labels_test[:5]"
   ]
  },
  {
   "cell_type": "code",
   "execution_count": null,
   "id": "eac51d6d",
   "metadata": {
    "execution": {
     "iopub.status.busy": "2024-11-07T06:28:43.654781Z",
     "iopub.status.idle": "2024-11-07T06:28:43.655153Z",
     "shell.execute_reply": "2024-11-07T06:28:43.654967Z",
     "shell.execute_reply.started": "2024-11-07T06:28:43.654948Z"
    },
    "papermill": {
     "duration": null,
     "end_time": null,
     "exception": null,
     "start_time": null,
     "status": "pending"
    },
    "tags": []
   },
   "outputs": [],
   "source": [
    "# means[np.where((means>=0.1) * (means<=1.00))[0],np.where((means>=0.1) * (means<=1.00))[1]] = 1\n",
    "\n",
    "# means[np.where(means!=1)] = 0"
   ]
  }
 ],
 "metadata": {
  "kaggle": {
   "accelerator": "nvidiaTeslaT4",
   "dataSources": [
    {
     "datasetId": 6017693,
     "sourceId": 9815294,
     "sourceType": "datasetVersion"
    }
   ],
   "dockerImageVersionId": 30787,
   "isGpuEnabled": true,
   "isInternetEnabled": false,
   "language": "python",
   "sourceType": "notebook"
  },
  "kernelspec": {
   "display_name": "Python 3",
   "language": "python",
   "name": "python3"
  },
  "language_info": {
   "codemirror_mode": {
    "name": "ipython",
    "version": 3
   },
   "file_extension": ".py",
   "mimetype": "text/x-python",
   "name": "python",
   "nbconvert_exporter": "python",
   "pygments_lexer": "ipython3",
   "version": "3.10.14"
  },
  "papermill": {
   "default_parameters": {},
   "duration": 1670.118566,
   "end_time": "2024-11-07T19:52:39.707570",
   "environment_variables": {},
   "exception": true,
   "input_path": "__notebook__.ipynb",
   "output_path": "__notebook__.ipynb",
   "parameters": {},
   "start_time": "2024-11-07T19:24:49.589004",
   "version": "2.6.0"
  }
 },
 "nbformat": 4,
 "nbformat_minor": 5
}
