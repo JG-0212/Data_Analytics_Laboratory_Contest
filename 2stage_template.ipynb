{
 "cells": [
  {
   "cell_type": "code",
   "execution_count": null,
   "id": "8b213ba3-954d-436b-9017-2b3ed6446fcf",
   "metadata": {},
   "outputs": [],
   "source": [
    "import numpy as np\n",
    "import pandas as pd\n",
    "import matplotlib.pyplot as plt\n",
    "import gc\n",
    "import string\n",
    "from tqdm import tqdm\n",
    "from sklearn.ensemble import RandomForestClassifier\n",
    "from sklearn.multioutput import MultiOutputClassifier"
   ]
  },
  {
   "cell_type": "code",
   "execution_count": null,
   "id": "6c758009-0f71-47cd-9128-bfaa7696d02b",
   "metadata": {},
   "outputs": [],
   "source": [
    "## store the embeddings and one hot encodings using np.save()"
   ]
  },
  {
   "cell_type": "code",
   "execution_count": null,
   "id": "1703f5a0-5d01-4972-b96e-3d9a1173a09a",
   "metadata": {},
   "outputs": [],
   "source": [
    "X_train,y_train,X_test,y_test = np.load('embed_train.npy'),np.load('labels_train.npy'),np.load('embed_test.npy'),np.load('labels_test.npy')"
   ]
  },
  {
   "cell_type": "code",
   "execution_count": null,
   "id": "18d18562-56ff-4420-ba49-a4f2ede7278d",
   "metadata": {},
   "outputs": [],
   "source": [
    "alphabets = list(string.ascii_uppercase)"
   ]
  },
  {
   "cell_type": "code",
   "execution_count": null,
   "id": "15a2e9e7-7b56-45b5-9192-cb2b296ca737",
   "metadata": {},
   "outputs": [],
   "source": [
    "# store both the multi label binarizer models"
   ]
  },
  {
   "cell_type": "code",
   "execution_count": null,
   "id": "c0e2efcb-42fd-48aa-bed4-6c99faed2e37",
   "metadata": {},
   "outputs": [],
   "source": [
    "with open('mlb.pkl','rb') as file:\n",
    "    mlb = pickle.load(file)\n",
    "with open('mlb_letter.pkl','rb') as file:\n",
    "    mlb_letter = pickle.load(file)"
   ]
  },
  {
   "cell_type": "code",
   "execution_count": null,
   "id": "a4cb070b-b34c-4541-b219-86a8aecc62f7",
   "metadata": {},
   "outputs": [],
   "source": [
    "#y_train_letter\n",
    "y_labels_train = mlb.inverse_transform(y_train)\n",
    "y_labels_test = mlb.inverse_transform(y_test)"
   ]
  },
  {
   "cell_type": "code",
   "execution_count": null,
   "id": "fdff3bb9-6a45-4dae-b7a4-021bb290f248",
   "metadata": {},
   "outputs": [],
   "source": [
    "y_starter_train = [tuple(s[0] for s in tup) for tup in y_labels_train]\n",
    "y_starter_test = [tuple(s[0] for s in tup) for tup in y_labels_test]"
   ]
  },
  {
   "cell_type": "code",
   "execution_count": null,
   "id": "eb3b81a9-6ac0-45f8-bd8e-9f0b513248da",
   "metadata": {},
   "outputs": [],
   "source": [
    "y_train_letter = mlb_letter.transform(y_starter_train)\n",
    "y_test_letter = mlb_letter.transform(y_starter_test)"
   ]
  },
  {
   "cell_type": "code",
   "execution_count": null,
   "id": "fbb19003-1c0a-4734-a904-d3a74cf078a4",
   "metadata": {},
   "outputs": [],
   "source": [
    "gc.collect()"
   ]
  },
  {
   "cell_type": "code",
   "execution_count": null,
   "id": "922cabc4-d819-4cb6-acc6-cb4556e1ddea",
   "metadata": {},
   "outputs": [],
   "source": [
    "###  The first stage begins ###\n",
    "from skmultilearn.adapt import MLARAM\n",
    "\n",
    "classifier = MLARAM(threshold=0.05, vigilance=0.95)\n",
    "classifier.fit(X_train, y_train_letter)"
   ]
  },
  {
   "cell_type": "code",
   "execution_count": null,
   "id": "725eac73-4bbf-429e-a9bc-d5a274d05093",
   "metadata": {},
   "outputs": [],
   "source": [
    "prediction = classifier.predict(X_test[:100])"
   ]
  },
  {
   "cell_type": "code",
   "execution_count": null,
   "id": "ac8a96b6-2436-477b-a49b-0a1d6d28be65",
   "metadata": {},
   "outputs": [],
   "source": [
    "pred_1 = prediction"
   ]
  },
  {
   "cell_type": "code",
   "execution_count": null,
   "id": "ba801ea5-0139-4f2b-9fc0-dd829e88e051",
   "metadata": {},
   "outputs": [],
   "source": [
    "from sklearn.metrics import fbeta_score\n",
    "print(f\"Score is {fbeta_score(prediction,y_test_letter[:100],beta = 2,average = 'macro')}\")"
   ]
  },
  {
   "cell_type": "code",
   "execution_count": null,
   "id": "e0a5509a-bde1-4f00-9193-f94966cb5e81",
   "metadata": {},
   "outputs": [],
   "source": [
    "### The first stage ends ###"
   ]
  },
  {
   "cell_type": "code",
   "execution_count": null,
   "id": "2f361ded-149e-4b74-a187-43e823556177",
   "metadata": {},
   "outputs": [],
   "source": [
    "### The second stage begins ###"
   ]
  },
  {
   "cell_type": "code",
   "execution_count": null,
   "id": "3dd7994a-4fc0-4099-9a60-413cc9150ca0",
   "metadata": {},
   "outputs": [],
   "source": [
    "def filter_data_points(embeddings,labels, labels_to_check):\n",
    "    #choose rows who have atleast one entry in 'labels_to_check' and choose labels data only from 'labels_to_check' columns\n",
    "    interested_rows = np.any(labels[:, labels_to_check], axis=1)\n",
    "    interested_labels = labels[interested_rows]\n",
    "    filtered_labels = np.zeros((np.sum(interested_rows),labels.shape[1]))\n",
    "    filtered_labels[:,labels_to_check] += interested_labels[:,labels_to_check] \n",
    "    filtered_embeddings = embeddings[interested_rows]\n",
    "    return filtered_embeddings, filtered_labels"
   ]
  },
  {
   "cell_type": "code",
   "execution_count": null,
   "id": "ebad882a-d5fb-4f4b-9343-26ebbba11f4f",
   "metadata": {},
   "outputs": [],
   "source": [
    "#Training a model for each alphabet\n",
    "mlabels = mlb.classes_\n",
    "models = {}\n",
    "for letter in tqdm(alphabets):\n",
    "    # X should be embeddings, y should be multilabels\n",
    "    indices  = [ind for ind,s in enumerate(mlabels) if s.startswith(letter)]\n",
    "    filtered_data,filtered_labels = filter_data_points(X_train,y_train,indices)\n",
    "    if len(indices) == 0:\n",
    "        models[letter] = []\n",
    "        continue\n",
    "    elif len(indices) == 1:\n",
    "        mask = np.zeros((1,len(mlabels)))\n",
    "        mask[0,indices[0]] = 1\n",
    "        models[letter] = mask\n",
    "    else:\n",
    "        model = MultiOutputClassifier(RandomForestClassifier(n_estimators = 5,verbose = 1))\n",
    "        model.fit(filtered_data,filtered_labels)\n",
    "        models[letter] = model"
   ]
  },
  {
   "cell_type": "code",
   "execution_count": null,
   "id": "63f575f4-3802-4f02-a86b-b970dfe9bb8d",
   "metadata": {},
   "outputs": [],
   "source": [
    "### second stage ends ###"
   ]
  },
  {
   "cell_type": "code",
   "execution_count": null,
   "id": "b24455ba-12bc-4f00-831c-533c3224753c",
   "metadata": {},
   "outputs": [],
   "source": [
    "### The final prediction ###"
   ]
  },
  {
   "cell_type": "code",
   "execution_count": null,
   "id": "54be57e9-1510-4d89-bbad-6692d3f1fedb",
   "metadata": {},
   "outputs": [],
   "source": [
    "def final_pred(X_test,y_actual,pred_1,models):\n",
    "    pred_2 = np.zeros((X_test.shape[0],len(mlabels)))\n",
    "    ind = 0\n",
    "    for letter in tqdm(alphabets):\n",
    "        if letter == 'P' or letter == 'U':\n",
    "            continue\n",
    "        reqd_data = np.any(pred_1[:,ind].reshape(-1,1),axis = 1)  #all rows where the pred_1 is 1 for the given letter\n",
    "        reqd_model = models[letter]\n",
    "        ind +=1\n",
    "        if reqd_model == [] or np.sum(reqd_data) == 0:\n",
    "            continue\n",
    "        elif isinstance(reqd_model,type([])):\n",
    "            pred_2[reqd_data,:] +=reqd_model\n",
    "        else:\n",
    "            pred_2[reqd_data,:] += reqd_model.predict(X_test[reqd_data,:])\n",
    "    return pred_2"
   ]
  },
  {
   "cell_type": "code",
   "execution_count": null,
   "id": "f4162294-1e03-46ac-b192-de0242e494a1",
   "metadata": {},
   "outputs": [],
   "source": [
    "pred_2 = final_pred(X_test[:100],y_test[:100],pred_1,models)"
   ]
  },
  {
   "cell_type": "code",
   "execution_count": null,
   "id": "b88f6931-4170-4003-83d9-6fe7e451052b",
   "metadata": {},
   "outputs": [],
   "source": [
    "print(f\"Score is {fbeta_score(pred_2,y_test[:100],beta = 2,average = 'macro')}\")"
   ]
  },
  {
   "cell_type": "code",
   "execution_count": null,
   "id": "5724b183-dcab-491c-ae48-f723e7d744d9",
   "metadata": {},
   "outputs": [],
   "source": [
    "### A few comparisons ###"
   ]
  },
  {
   "cell_type": "code",
   "execution_count": null,
   "id": "0065632a-5d97-4c23-989c-ed07ddcc8f22",
   "metadata": {},
   "outputs": [],
   "source": [
    "mlb.inverse_transform(pred_2[:5])"
   ]
  },
  {
   "cell_type": "code",
   "execution_count": null,
   "id": "c96b0152-ef8f-457c-86e9-c3bb91d7a66e",
   "metadata": {},
   "outputs": [],
   "source": [
    "y_labels_test[:5]"
   ]
  }
 ],
 "metadata": {
  "kernelspec": {
   "display_name": "Python 3 (ipykernel)",
   "language": "python",
   "name": "python3"
  },
  "language_info": {
   "codemirror_mode": {
    "name": "ipython",
    "version": 3
   },
   "file_extension": ".py",
   "mimetype": "text/x-python",
   "name": "python",
   "nbconvert_exporter": "python",
   "pygments_lexer": "ipython3",
   "version": "3.12.4"
  }
 },
 "nbformat": 4,
 "nbformat_minor": 5
}
