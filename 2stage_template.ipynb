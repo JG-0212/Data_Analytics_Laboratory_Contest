{
 "cells": [
  {
   "cell_type": "code",
   "execution_count": 1,
   "id": "8b213ba3-954d-436b-9017-2b3ed6446fcf",
   "metadata": {},
   "outputs": [],
   "source": [
    "import numpy as np\n",
    "import pandas as pd\n",
    "import matplotlib.pyplot as plt\n",
    "import gc\n",
    "import string\n",
    "from tqdm import tqdm\n",
    "from sklearn.ensemble import RandomForestClassifier\n",
    "from sklearn.multioutput import MultiOutputClassifier\n",
    "import pickle"
   ]
  },
  {
   "cell_type": "code",
   "execution_count": 2,
   "id": "6c758009-0f71-47cd-9128-bfaa7696d02b",
   "metadata": {},
   "outputs": [],
   "source": [
    "## store the embeddings and one hot encodings using np.save()"
   ]
  },
  {
   "cell_type": "code",
   "execution_count": 3,
   "id": "1703f5a0-5d01-4972-b96e-3d9a1173a09a",
   "metadata": {},
   "outputs": [],
   "source": [
    "X_train,y_train,X_test,y_test = np.load('embed_train.npy'),np.load('labels_train.npy'),np.load('embed_test.npy'),np.load('labels_test.npy')"
   ]
  },
  {
   "cell_type": "code",
   "execution_count": 4,
   "id": "18d18562-56ff-4420-ba49-a4f2ede7278d",
   "metadata": {},
   "outputs": [],
   "source": [
    "alphabets = list(string.ascii_uppercase)"
   ]
  },
  {
   "cell_type": "code",
   "execution_count": 5,
   "id": "15a2e9e7-7b56-45b5-9192-cb2b296ca737",
   "metadata": {},
   "outputs": [],
   "source": [
    "# store both the multi label binarizer models"
   ]
  },
  {
   "cell_type": "code",
   "execution_count": 6,
   "id": "c0e2efcb-42fd-48aa-bed4-6c99faed2e37",
   "metadata": {},
   "outputs": [],
   "source": [
    "with open('mlb.pkl','rb') as file:\n",
    "    mlb = pickle.load(file)\n",
    "with open('mlb_letter.pkl','rb') as file:\n",
    "    mlb_letter = pickle.load(file)"
   ]
  },
  {
   "cell_type": "code",
   "execution_count": 7,
   "id": "a4cb070b-b34c-4541-b219-86a8aecc62f7",
   "metadata": {},
   "outputs": [],
   "source": [
    "#y_train_letter\n",
    "y_labels_train = mlb.inverse_transform(y_train)\n",
    "y_labels_test = mlb.inverse_transform(y_test)"
   ]
  },
  {
   "cell_type": "code",
   "execution_count": 8,
   "id": "fdff3bb9-6a45-4dae-b7a4-021bb290f248",
   "metadata": {},
   "outputs": [],
   "source": [
    "y_starter_train = [tuple(s[0] for s in tup) for tup in y_labels_train]\n",
    "y_starter_test = [tuple(s[0] for s in tup) for tup in y_labels_test]"
   ]
  },
  {
   "cell_type": "code",
   "execution_count": 9,
   "id": "eb3b81a9-6ac0-45f8-bd8e-9f0b513248da",
   "metadata": {},
   "outputs": [],
   "source": [
    "y_train_letter = mlb_letter.transform(y_starter_train)\n",
    "y_test_letter = mlb_letter.transform(y_starter_test)"
   ]
  },
  {
   "cell_type": "code",
   "execution_count": 10,
   "id": "fbb19003-1c0a-4734-a904-d3a74cf078a4",
   "metadata": {},
   "outputs": [
    {
     "data": {
      "text/plain": [
       "0"
      ]
     },
     "execution_count": 10,
     "metadata": {},
     "output_type": "execute_result"
    }
   ],
   "source": [
    "gc.collect()"
   ]
  },
  {
   "cell_type": "code",
   "execution_count": 11,
   "id": "922cabc4-d819-4cb6-acc6-cb4556e1ddea",
   "metadata": {},
   "outputs": [
    {
     "data": {
      "text/html": [
       "<style>#sk-container-id-1 {\n",
       "  /* Definition of color scheme common for light and dark mode */\n",
       "  --sklearn-color-text: black;\n",
       "  --sklearn-color-line: gray;\n",
       "  /* Definition of color scheme for unfitted estimators */\n",
       "  --sklearn-color-unfitted-level-0: #fff5e6;\n",
       "  --sklearn-color-unfitted-level-1: #f6e4d2;\n",
       "  --sklearn-color-unfitted-level-2: #ffe0b3;\n",
       "  --sklearn-color-unfitted-level-3: chocolate;\n",
       "  /* Definition of color scheme for fitted estimators */\n",
       "  --sklearn-color-fitted-level-0: #f0f8ff;\n",
       "  --sklearn-color-fitted-level-1: #d4ebff;\n",
       "  --sklearn-color-fitted-level-2: #b3dbfd;\n",
       "  --sklearn-color-fitted-level-3: cornflowerblue;\n",
       "\n",
       "  /* Specific color for light theme */\n",
       "  --sklearn-color-text-on-default-background: var(--sg-text-color, var(--theme-code-foreground, var(--jp-content-font-color1, black)));\n",
       "  --sklearn-color-background: var(--sg-background-color, var(--theme-background, var(--jp-layout-color0, white)));\n",
       "  --sklearn-color-border-box: var(--sg-text-color, var(--theme-code-foreground, var(--jp-content-font-color1, black)));\n",
       "  --sklearn-color-icon: #696969;\n",
       "\n",
       "  @media (prefers-color-scheme: dark) {\n",
       "    /* Redefinition of color scheme for dark theme */\n",
       "    --sklearn-color-text-on-default-background: var(--sg-text-color, var(--theme-code-foreground, var(--jp-content-font-color1, white)));\n",
       "    --sklearn-color-background: var(--sg-background-color, var(--theme-background, var(--jp-layout-color0, #111)));\n",
       "    --sklearn-color-border-box: var(--sg-text-color, var(--theme-code-foreground, var(--jp-content-font-color1, white)));\n",
       "    --sklearn-color-icon: #878787;\n",
       "  }\n",
       "}\n",
       "\n",
       "#sk-container-id-1 {\n",
       "  color: var(--sklearn-color-text);\n",
       "}\n",
       "\n",
       "#sk-container-id-1 pre {\n",
       "  padding: 0;\n",
       "}\n",
       "\n",
       "#sk-container-id-1 input.sk-hidden--visually {\n",
       "  border: 0;\n",
       "  clip: rect(1px 1px 1px 1px);\n",
       "  clip: rect(1px, 1px, 1px, 1px);\n",
       "  height: 1px;\n",
       "  margin: -1px;\n",
       "  overflow: hidden;\n",
       "  padding: 0;\n",
       "  position: absolute;\n",
       "  width: 1px;\n",
       "}\n",
       "\n",
       "#sk-container-id-1 div.sk-dashed-wrapped {\n",
       "  border: 1px dashed var(--sklearn-color-line);\n",
       "  margin: 0 0.4em 0.5em 0.4em;\n",
       "  box-sizing: border-box;\n",
       "  padding-bottom: 0.4em;\n",
       "  background-color: var(--sklearn-color-background);\n",
       "}\n",
       "\n",
       "#sk-container-id-1 div.sk-container {\n",
       "  /* jupyter's `normalize.less` sets `[hidden] { display: none; }`\n",
       "     but bootstrap.min.css set `[hidden] { display: none !important; }`\n",
       "     so we also need the `!important` here to be able to override the\n",
       "     default hidden behavior on the sphinx rendered scikit-learn.org.\n",
       "     See: https://github.com/scikit-learn/scikit-learn/issues/21755 */\n",
       "  display: inline-block !important;\n",
       "  position: relative;\n",
       "}\n",
       "\n",
       "#sk-container-id-1 div.sk-text-repr-fallback {\n",
       "  display: none;\n",
       "}\n",
       "\n",
       "div.sk-parallel-item,\n",
       "div.sk-serial,\n",
       "div.sk-item {\n",
       "  /* draw centered vertical line to link estimators */\n",
       "  background-image: linear-gradient(var(--sklearn-color-text-on-default-background), var(--sklearn-color-text-on-default-background));\n",
       "  background-size: 2px 100%;\n",
       "  background-repeat: no-repeat;\n",
       "  background-position: center center;\n",
       "}\n",
       "\n",
       "/* Parallel-specific style estimator block */\n",
       "\n",
       "#sk-container-id-1 div.sk-parallel-item::after {\n",
       "  content: \"\";\n",
       "  width: 100%;\n",
       "  border-bottom: 2px solid var(--sklearn-color-text-on-default-background);\n",
       "  flex-grow: 1;\n",
       "}\n",
       "\n",
       "#sk-container-id-1 div.sk-parallel {\n",
       "  display: flex;\n",
       "  align-items: stretch;\n",
       "  justify-content: center;\n",
       "  background-color: var(--sklearn-color-background);\n",
       "  position: relative;\n",
       "}\n",
       "\n",
       "#sk-container-id-1 div.sk-parallel-item {\n",
       "  display: flex;\n",
       "  flex-direction: column;\n",
       "}\n",
       "\n",
       "#sk-container-id-1 div.sk-parallel-item:first-child::after {\n",
       "  align-self: flex-end;\n",
       "  width: 50%;\n",
       "}\n",
       "\n",
       "#sk-container-id-1 div.sk-parallel-item:last-child::after {\n",
       "  align-self: flex-start;\n",
       "  width: 50%;\n",
       "}\n",
       "\n",
       "#sk-container-id-1 div.sk-parallel-item:only-child::after {\n",
       "  width: 0;\n",
       "}\n",
       "\n",
       "/* Serial-specific style estimator block */\n",
       "\n",
       "#sk-container-id-1 div.sk-serial {\n",
       "  display: flex;\n",
       "  flex-direction: column;\n",
       "  align-items: center;\n",
       "  background-color: var(--sklearn-color-background);\n",
       "  padding-right: 1em;\n",
       "  padding-left: 1em;\n",
       "}\n",
       "\n",
       "\n",
       "/* Toggleable style: style used for estimator/Pipeline/ColumnTransformer box that is\n",
       "clickable and can be expanded/collapsed.\n",
       "- Pipeline and ColumnTransformer use this feature and define the default style\n",
       "- Estimators will overwrite some part of the style using the `sk-estimator` class\n",
       "*/\n",
       "\n",
       "/* Pipeline and ColumnTransformer style (default) */\n",
       "\n",
       "#sk-container-id-1 div.sk-toggleable {\n",
       "  /* Default theme specific background. It is overwritten whether we have a\n",
       "  specific estimator or a Pipeline/ColumnTransformer */\n",
       "  background-color: var(--sklearn-color-background);\n",
       "}\n",
       "\n",
       "/* Toggleable label */\n",
       "#sk-container-id-1 label.sk-toggleable__label {\n",
       "  cursor: pointer;\n",
       "  display: block;\n",
       "  width: 100%;\n",
       "  margin-bottom: 0;\n",
       "  padding: 0.5em;\n",
       "  box-sizing: border-box;\n",
       "  text-align: center;\n",
       "}\n",
       "\n",
       "#sk-container-id-1 label.sk-toggleable__label-arrow:before {\n",
       "  /* Arrow on the left of the label */\n",
       "  content: \"▸\";\n",
       "  float: left;\n",
       "  margin-right: 0.25em;\n",
       "  color: var(--sklearn-color-icon);\n",
       "}\n",
       "\n",
       "#sk-container-id-1 label.sk-toggleable__label-arrow:hover:before {\n",
       "  color: var(--sklearn-color-text);\n",
       "}\n",
       "\n",
       "/* Toggleable content - dropdown */\n",
       "\n",
       "#sk-container-id-1 div.sk-toggleable__content {\n",
       "  max-height: 0;\n",
       "  max-width: 0;\n",
       "  overflow: hidden;\n",
       "  text-align: left;\n",
       "  /* unfitted */\n",
       "  background-color: var(--sklearn-color-unfitted-level-0);\n",
       "}\n",
       "\n",
       "#sk-container-id-1 div.sk-toggleable__content.fitted {\n",
       "  /* fitted */\n",
       "  background-color: var(--sklearn-color-fitted-level-0);\n",
       "}\n",
       "\n",
       "#sk-container-id-1 div.sk-toggleable__content pre {\n",
       "  margin: 0.2em;\n",
       "  border-radius: 0.25em;\n",
       "  color: var(--sklearn-color-text);\n",
       "  /* unfitted */\n",
       "  background-color: var(--sklearn-color-unfitted-level-0);\n",
       "}\n",
       "\n",
       "#sk-container-id-1 div.sk-toggleable__content.fitted pre {\n",
       "  /* unfitted */\n",
       "  background-color: var(--sklearn-color-fitted-level-0);\n",
       "}\n",
       "\n",
       "#sk-container-id-1 input.sk-toggleable__control:checked~div.sk-toggleable__content {\n",
       "  /* Expand drop-down */\n",
       "  max-height: 200px;\n",
       "  max-width: 100%;\n",
       "  overflow: auto;\n",
       "}\n",
       "\n",
       "#sk-container-id-1 input.sk-toggleable__control:checked~label.sk-toggleable__label-arrow:before {\n",
       "  content: \"▾\";\n",
       "}\n",
       "\n",
       "/* Pipeline/ColumnTransformer-specific style */\n",
       "\n",
       "#sk-container-id-1 div.sk-label input.sk-toggleable__control:checked~label.sk-toggleable__label {\n",
       "  color: var(--sklearn-color-text);\n",
       "  background-color: var(--sklearn-color-unfitted-level-2);\n",
       "}\n",
       "\n",
       "#sk-container-id-1 div.sk-label.fitted input.sk-toggleable__control:checked~label.sk-toggleable__label {\n",
       "  background-color: var(--sklearn-color-fitted-level-2);\n",
       "}\n",
       "\n",
       "/* Estimator-specific style */\n",
       "\n",
       "/* Colorize estimator box */\n",
       "#sk-container-id-1 div.sk-estimator input.sk-toggleable__control:checked~label.sk-toggleable__label {\n",
       "  /* unfitted */\n",
       "  background-color: var(--sklearn-color-unfitted-level-2);\n",
       "}\n",
       "\n",
       "#sk-container-id-1 div.sk-estimator.fitted input.sk-toggleable__control:checked~label.sk-toggleable__label {\n",
       "  /* fitted */\n",
       "  background-color: var(--sklearn-color-fitted-level-2);\n",
       "}\n",
       "\n",
       "#sk-container-id-1 div.sk-label label.sk-toggleable__label,\n",
       "#sk-container-id-1 div.sk-label label {\n",
       "  /* The background is the default theme color */\n",
       "  color: var(--sklearn-color-text-on-default-background);\n",
       "}\n",
       "\n",
       "/* On hover, darken the color of the background */\n",
       "#sk-container-id-1 div.sk-label:hover label.sk-toggleable__label {\n",
       "  color: var(--sklearn-color-text);\n",
       "  background-color: var(--sklearn-color-unfitted-level-2);\n",
       "}\n",
       "\n",
       "/* Label box, darken color on hover, fitted */\n",
       "#sk-container-id-1 div.sk-label.fitted:hover label.sk-toggleable__label.fitted {\n",
       "  color: var(--sklearn-color-text);\n",
       "  background-color: var(--sklearn-color-fitted-level-2);\n",
       "}\n",
       "\n",
       "/* Estimator label */\n",
       "\n",
       "#sk-container-id-1 div.sk-label label {\n",
       "  font-family: monospace;\n",
       "  font-weight: bold;\n",
       "  display: inline-block;\n",
       "  line-height: 1.2em;\n",
       "}\n",
       "\n",
       "#sk-container-id-1 div.sk-label-container {\n",
       "  text-align: center;\n",
       "}\n",
       "\n",
       "/* Estimator-specific */\n",
       "#sk-container-id-1 div.sk-estimator {\n",
       "  font-family: monospace;\n",
       "  border: 1px dotted var(--sklearn-color-border-box);\n",
       "  border-radius: 0.25em;\n",
       "  box-sizing: border-box;\n",
       "  margin-bottom: 0.5em;\n",
       "  /* unfitted */\n",
       "  background-color: var(--sklearn-color-unfitted-level-0);\n",
       "}\n",
       "\n",
       "#sk-container-id-1 div.sk-estimator.fitted {\n",
       "  /* fitted */\n",
       "  background-color: var(--sklearn-color-fitted-level-0);\n",
       "}\n",
       "\n",
       "/* on hover */\n",
       "#sk-container-id-1 div.sk-estimator:hover {\n",
       "  /* unfitted */\n",
       "  background-color: var(--sklearn-color-unfitted-level-2);\n",
       "}\n",
       "\n",
       "#sk-container-id-1 div.sk-estimator.fitted:hover {\n",
       "  /* fitted */\n",
       "  background-color: var(--sklearn-color-fitted-level-2);\n",
       "}\n",
       "\n",
       "/* Specification for estimator info (e.g. \"i\" and \"?\") */\n",
       "\n",
       "/* Common style for \"i\" and \"?\" */\n",
       "\n",
       ".sk-estimator-doc-link,\n",
       "a:link.sk-estimator-doc-link,\n",
       "a:visited.sk-estimator-doc-link {\n",
       "  float: right;\n",
       "  font-size: smaller;\n",
       "  line-height: 1em;\n",
       "  font-family: monospace;\n",
       "  background-color: var(--sklearn-color-background);\n",
       "  border-radius: 1em;\n",
       "  height: 1em;\n",
       "  width: 1em;\n",
       "  text-decoration: none !important;\n",
       "  margin-left: 1ex;\n",
       "  /* unfitted */\n",
       "  border: var(--sklearn-color-unfitted-level-1) 1pt solid;\n",
       "  color: var(--sklearn-color-unfitted-level-1);\n",
       "}\n",
       "\n",
       ".sk-estimator-doc-link.fitted,\n",
       "a:link.sk-estimator-doc-link.fitted,\n",
       "a:visited.sk-estimator-doc-link.fitted {\n",
       "  /* fitted */\n",
       "  border: var(--sklearn-color-fitted-level-1) 1pt solid;\n",
       "  color: var(--sklearn-color-fitted-level-1);\n",
       "}\n",
       "\n",
       "/* On hover */\n",
       "div.sk-estimator:hover .sk-estimator-doc-link:hover,\n",
       ".sk-estimator-doc-link:hover,\n",
       "div.sk-label-container:hover .sk-estimator-doc-link:hover,\n",
       ".sk-estimator-doc-link:hover {\n",
       "  /* unfitted */\n",
       "  background-color: var(--sklearn-color-unfitted-level-3);\n",
       "  color: var(--sklearn-color-background);\n",
       "  text-decoration: none;\n",
       "}\n",
       "\n",
       "div.sk-estimator.fitted:hover .sk-estimator-doc-link.fitted:hover,\n",
       ".sk-estimator-doc-link.fitted:hover,\n",
       "div.sk-label-container:hover .sk-estimator-doc-link.fitted:hover,\n",
       ".sk-estimator-doc-link.fitted:hover {\n",
       "  /* fitted */\n",
       "  background-color: var(--sklearn-color-fitted-level-3);\n",
       "  color: var(--sklearn-color-background);\n",
       "  text-decoration: none;\n",
       "}\n",
       "\n",
       "/* Span, style for the box shown on hovering the info icon */\n",
       ".sk-estimator-doc-link span {\n",
       "  display: none;\n",
       "  z-index: 9999;\n",
       "  position: relative;\n",
       "  font-weight: normal;\n",
       "  right: .2ex;\n",
       "  padding: .5ex;\n",
       "  margin: .5ex;\n",
       "  width: min-content;\n",
       "  min-width: 20ex;\n",
       "  max-width: 50ex;\n",
       "  color: var(--sklearn-color-text);\n",
       "  box-shadow: 2pt 2pt 4pt #999;\n",
       "  /* unfitted */\n",
       "  background: var(--sklearn-color-unfitted-level-0);\n",
       "  border: .5pt solid var(--sklearn-color-unfitted-level-3);\n",
       "}\n",
       "\n",
       ".sk-estimator-doc-link.fitted span {\n",
       "  /* fitted */\n",
       "  background: var(--sklearn-color-fitted-level-0);\n",
       "  border: var(--sklearn-color-fitted-level-3);\n",
       "}\n",
       "\n",
       ".sk-estimator-doc-link:hover span {\n",
       "  display: block;\n",
       "}\n",
       "\n",
       "/* \"?\"-specific style due to the `<a>` HTML tag */\n",
       "\n",
       "#sk-container-id-1 a.estimator_doc_link {\n",
       "  float: right;\n",
       "  font-size: 1rem;\n",
       "  line-height: 1em;\n",
       "  font-family: monospace;\n",
       "  background-color: var(--sklearn-color-background);\n",
       "  border-radius: 1rem;\n",
       "  height: 1rem;\n",
       "  width: 1rem;\n",
       "  text-decoration: none;\n",
       "  /* unfitted */\n",
       "  color: var(--sklearn-color-unfitted-level-1);\n",
       "  border: var(--sklearn-color-unfitted-level-1) 1pt solid;\n",
       "}\n",
       "\n",
       "#sk-container-id-1 a.estimator_doc_link.fitted {\n",
       "  /* fitted */\n",
       "  border: var(--sklearn-color-fitted-level-1) 1pt solid;\n",
       "  color: var(--sklearn-color-fitted-level-1);\n",
       "}\n",
       "\n",
       "/* On hover */\n",
       "#sk-container-id-1 a.estimator_doc_link:hover {\n",
       "  /* unfitted */\n",
       "  background-color: var(--sklearn-color-unfitted-level-3);\n",
       "  color: var(--sklearn-color-background);\n",
       "  text-decoration: none;\n",
       "}\n",
       "\n",
       "#sk-container-id-1 a.estimator_doc_link.fitted:hover {\n",
       "  /* fitted */\n",
       "  background-color: var(--sklearn-color-fitted-level-3);\n",
       "}\n",
       "</style><div id=\"sk-container-id-1\" class=\"sk-top-container\"><div class=\"sk-text-repr-fallback\"><pre>MLARAM(neurons=[&lt;skmultilearn.adapt.mlaram.Neuron object at 0x00000206A16E4680&gt;,\n",
       "                &lt;skmultilearn.adapt.mlaram.Neuron object at 0x000002062F4C7CB0&gt;,\n",
       "                &lt;skmultilearn.adapt.mlaram.Neuron object at 0x000002062F4E8680&gt;,\n",
       "                &lt;skmultilearn.adapt.mlaram.Neuron object at 0x000002062F4E8AD0&gt;,\n",
       "                &lt;skmultilearn.adapt.mlaram.Neuron object at 0x00000206A1ED2CF0&gt;,\n",
       "                &lt;skmultilearn.adapt.mlaram.Ne...\n",
       "                &lt;skmultilearn.adapt.mlaram.Neuron object at 0x00000206A1ED2F30&gt;,\n",
       "                &lt;skmultilearn.adapt.mlaram.Neuron object at 0x00000206A1ED2F00&gt;,\n",
       "                &lt;skmultilearn.adapt.mlaram.Neuron object at 0x00000206A1ED2FC0&gt;,\n",
       "                &lt;skmultilearn.adapt.mlaram.Neuron object at 0x00000206A1ED3020&gt;,\n",
       "                &lt;skmultilearn.adapt.mlaram.Neuron object at 0x00000206A1ED3080&gt;,\n",
       "                &lt;skmultilearn.adapt.mlaram.Neuron object at 0x00000206A1ED30B0&gt;, ...],\n",
       "       threshold=0.05, vigilance=0.95)</pre><b>In a Jupyter environment, please rerun this cell to show the HTML representation or trust the notebook. <br />On GitHub, the HTML representation is unable to render, please try loading this page with nbviewer.org.</b></div><div class=\"sk-container\" hidden><div class=\"sk-item\"><div class=\"sk-estimator  sk-toggleable\"><input class=\"sk-toggleable__control sk-hidden--visually\" id=\"sk-estimator-id-1\" type=\"checkbox\" checked><label for=\"sk-estimator-id-1\" class=\"sk-toggleable__label  sk-toggleable__label-arrow \">&nbsp;MLARAM<span class=\"sk-estimator-doc-link \">i<span>Not fitted</span></span></label><div class=\"sk-toggleable__content \"><pre>MLARAM(neurons=[&lt;skmultilearn.adapt.mlaram.Neuron object at 0x00000206A16E4680&gt;,\n",
       "                &lt;skmultilearn.adapt.mlaram.Neuron object at 0x000002062F4C7CB0&gt;,\n",
       "                &lt;skmultilearn.adapt.mlaram.Neuron object at 0x000002062F4E8680&gt;,\n",
       "                &lt;skmultilearn.adapt.mlaram.Neuron object at 0x000002062F4E8AD0&gt;,\n",
       "                &lt;skmultilearn.adapt.mlaram.Neuron object at 0x00000206A1ED2CF0&gt;,\n",
       "                &lt;skmultilearn.adapt.mlaram.Ne...\n",
       "                &lt;skmultilearn.adapt.mlaram.Neuron object at 0x00000206A1ED2F30&gt;,\n",
       "                &lt;skmultilearn.adapt.mlaram.Neuron object at 0x00000206A1ED2F00&gt;,\n",
       "                &lt;skmultilearn.adapt.mlaram.Neuron object at 0x00000206A1ED2FC0&gt;,\n",
       "                &lt;skmultilearn.adapt.mlaram.Neuron object at 0x00000206A1ED3020&gt;,\n",
       "                &lt;skmultilearn.adapt.mlaram.Neuron object at 0x00000206A1ED3080&gt;,\n",
       "                &lt;skmultilearn.adapt.mlaram.Neuron object at 0x00000206A1ED30B0&gt;, ...],\n",
       "       threshold=0.05, vigilance=0.95)</pre></div> </div></div></div></div>"
      ],
      "text/plain": [
       "MLARAM(neurons=[<skmultilearn.adapt.mlaram.Neuron object at 0x00000206A16E4680>,\n",
       "                <skmultilearn.adapt.mlaram.Neuron object at 0x000002062F4C7CB0>,\n",
       "                <skmultilearn.adapt.mlaram.Neuron object at 0x000002062F4E8680>,\n",
       "                <skmultilearn.adapt.mlaram.Neuron object at 0x000002062F4E8AD0>,\n",
       "                <skmultilearn.adapt.mlaram.Neuron object at 0x00000206A1ED2CF0>,\n",
       "                <skmultilearn.adapt.mlaram.Ne...\n",
       "                <skmultilearn.adapt.mlaram.Neuron object at 0x00000206A1ED2F30>,\n",
       "                <skmultilearn.adapt.mlaram.Neuron object at 0x00000206A1ED2F00>,\n",
       "                <skmultilearn.adapt.mlaram.Neuron object at 0x00000206A1ED2FC0>,\n",
       "                <skmultilearn.adapt.mlaram.Neuron object at 0x00000206A1ED3020>,\n",
       "                <skmultilearn.adapt.mlaram.Neuron object at 0x00000206A1ED3080>,\n",
       "                <skmultilearn.adapt.mlaram.Neuron object at 0x00000206A1ED30B0>, ...],\n",
       "       threshold=0.05, vigilance=0.95)"
      ]
     },
     "execution_count": 11,
     "metadata": {},
     "output_type": "execute_result"
    }
   ],
   "source": [
    "###  The first stage begins ###\n",
    "from skmultilearn.adapt import MLARAM\n",
    "\n",
    "classifier = MLARAM(threshold=0.05, vigilance=0.95)\n",
    "classifier.fit(X_train, y_train_letter)"
   ]
  },
  {
   "cell_type": "code",
   "execution_count": 12,
   "id": "725eac73-4bbf-429e-a9bc-d5a274d05093",
   "metadata": {},
   "outputs": [],
   "source": [
    "prediction = classifier.predict(X_test[:100])"
   ]
  },
  {
   "cell_type": "code",
   "execution_count": 13,
   "id": "ac8a96b6-2436-477b-a49b-0a1d6d28be65",
   "metadata": {},
   "outputs": [],
   "source": [
    "pred_1 = prediction"
   ]
  },
  {
   "cell_type": "code",
   "execution_count": 14,
   "id": "ba801ea5-0139-4f2b-9fc0-dd829e88e051",
   "metadata": {},
   "outputs": [
    {
     "name": "stdout",
     "output_type": "stream",
     "text": [
      "Score is 0.9096385542168675\n"
     ]
    }
   ],
   "source": [
    "from sklearn.metrics import fbeta_score\n",
    "print(f\"Score is {fbeta_score(prediction,y_test_letter[:100],beta = 2,average = 'micro')}\")"
   ]
  },
  {
   "cell_type": "code",
   "execution_count": null,
   "id": "e0a5509a-bde1-4f00-9193-f94966cb5e81",
   "metadata": {},
   "outputs": [],
   "source": [
    "### The first stage ends ###"
   ]
  },
  {
   "cell_type": "code",
   "execution_count": null,
   "id": "2f361ded-149e-4b74-a187-43e823556177",
   "metadata": {},
   "outputs": [],
   "source": [
    "### The second stage begins ###"
   ]
  },
  {
   "cell_type": "code",
   "execution_count": 15,
   "id": "3dd7994a-4fc0-4099-9a60-413cc9150ca0",
   "metadata": {},
   "outputs": [],
   "source": [
    "def filter_data_points(embeddings,labels, labels_to_check):\n",
    "    #choose rows who have atleast one entry in 'labels_to_check' and choose labels data only from 'labels_to_check' columns\n",
    "    interested_rows = np.any(labels[:, labels_to_check], axis=1)\n",
    "    interested_labels = labels[interested_rows]\n",
    "    filtered_labels = np.zeros((np.sum(interested_rows),labels.shape[1]))\n",
    "    filtered_labels[:,labels_to_check] += interested_labels[:,labels_to_check] \n",
    "    filtered_embeddings = embeddings[interested_rows]\n",
    "    return filtered_embeddings, filtered_labels"
   ]
  },
  {
   "cell_type": "code",
   "execution_count": 16,
   "id": "ebad882a-d5fb-4f4b-9343-26ebbba11f4f",
   "metadata": {},
   "outputs": [
    {
     "name": "stderr",
     "output_type": "stream",
     "text": [
      "100%|██████████████████████████████████████████████████████████████████████████████████| 26/26 [30:36<00:00, 70.64s/it]\n"
     ]
    }
   ],
   "source": [
    "#Training a model for each alphabet\n",
    "mlabels = mlb.classes_\n",
    "models = {}\n",
    "for letter in tqdm(alphabets):\n",
    "    # X should be embeddings, y should be multilabels\n",
    "    indices  = [ind for ind,s in enumerate(mlabels) if s.startswith(letter)]\n",
    "    filtered_data,filtered_labels = filter_data_points(X_train,y_train,indices)\n",
    "    if len(indices) == 0:\n",
    "        models[letter] = []\n",
    "        continue\n",
    "    elif len(indices) == 1:\n",
    "        mask = np.zeros((1,len(mlabels)))\n",
    "        mask[0,indices[0]] = 1\n",
    "        models[letter] = mask\n",
    "    else:\n",
    "        model = MultiOutputClassifier(RandomForestClassifier(n_estimators = 5,verbose = 1))\n",
    "        model.fit(filtered_data,filtered_labels)\n",
    "        models[letter] = model"
   ]
  },
  {
   "cell_type": "code",
   "execution_count": 17,
   "id": "63f575f4-3802-4f02-a86b-b970dfe9bb8d",
   "metadata": {},
   "outputs": [],
   "source": [
    "### second stage ends ###"
   ]
  },
  {
   "cell_type": "code",
   "execution_count": 18,
   "id": "b24455ba-12bc-4f00-831c-533c3224753c",
   "metadata": {},
   "outputs": [],
   "source": [
    "### The final prediction ###"
   ]
  },
  {
   "cell_type": "code",
   "execution_count": 31,
   "id": "54be57e9-1510-4d89-bbad-6692d3f1fedb",
   "metadata": {},
   "outputs": [],
   "source": [
    "def final_pred(X_test,y_actual,pred_1,models):\n",
    "    pred_2 = np.zeros((X_test.shape[0],len(mlabels)))\n",
    "    ind = 0\n",
    "    for letter in tqdm(alphabets):\n",
    "        if letter == 'P' or letter == 'U':\n",
    "            continue\n",
    "        reqd_data = np.any(pred_1[:,ind].reshape(-1,1),axis = 1)  #all rows where the pred_1 is 1 for the given letter\n",
    "        reqd_model = models[letter]\n",
    "        ind +=1\n",
    "        if np.sum(reqd_data) == 0:\n",
    "            continue\n",
    "        elif isinstance(reqd_model,type([])):\n",
    "            pred_2[reqd_data,:] +=reqd_model\n",
    "        else:\n",
    "            pred_2[reqd_data,:] += reqd_model.predict(X_test[reqd_data,:])\n",
    "    return pred_2"
   ]
  },
  {
   "cell_type": "code",
   "execution_count": 32,
   "id": "f4162294-1e03-46ac-b192-de0242e494a1",
   "metadata": {},
   "outputs": [
    {
     "name": "stderr",
     "output_type": "stream",
     "text": [
      "100%|██████████████████████████████████████████████████████████████████████████████████| 26/26 [00:07<00:00,  3.51it/s]\n"
     ]
    }
   ],
   "source": [
    "pred_2 = final_pred(X_test[:100],y_test[:100],pred_1,models)"
   ]
  },
  {
   "cell_type": "code",
   "execution_count": 33,
   "id": "b88f6931-4170-4003-83d9-6fe7e451052b",
   "metadata": {},
   "outputs": [
    {
     "name": "stdout",
     "output_type": "stream",
     "text": [
      "Score is 0.7111834961997828\n"
     ]
    }
   ],
   "source": [
    "print(f\"Score is {fbeta_score(pred_2,y_test[:100],beta = 2,average = 'micro')}\")"
   ]
  },
  {
   "cell_type": "code",
   "execution_count": 34,
   "id": "5724b183-dcab-491c-ae48-f723e7d744d9",
   "metadata": {},
   "outputs": [],
   "source": [
    "### A few comparisons ###"
   ]
  },
  {
   "cell_type": "code",
   "execution_count": 35,
   "id": "0065632a-5d97-4c23-989c-ed07ddcc8f22",
   "metadata": {},
   "outputs": [
    {
     "data": {
      "text/plain": [
       "[('H65.23', 'H69.83'),\n",
       " ('K57.30', 'Z12.11', 'Z86.010'),\n",
       " ('M48.061', 'M51.16', 'M54.50'),\n",
       " ('K22.70',),\n",
       " ()]"
      ]
     },
     "execution_count": 35,
     "metadata": {},
     "output_type": "execute_result"
    }
   ],
   "source": [
    "mlb.inverse_transform(pred_2[:5])"
   ]
  },
  {
   "cell_type": "code",
   "execution_count": 36,
   "id": "c96b0152-ef8f-457c-86e9-c3bb91d7a66e",
   "metadata": {},
   "outputs": [
    {
     "data": {
      "text/plain": [
       "[('H65.06', 'H65.23', 'H65.33', 'H69.83'),\n",
       " ('D12.2', 'D12.4', 'K57.30', 'K62.1', 'Z12.11', 'Z86.010'),\n",
       " ('M25.551', 'M25.561', 'M47.816', 'M48.061', 'M51.16', 'M54.50', 'M79.651'),\n",
       " ('K21.00', 'K22.70', 'K29.50', 'K31.89'),\n",
       " ('N84.1', 'N93.8', 'N93.9', 'Z30.430')]"
      ]
     },
     "execution_count": 36,
     "metadata": {},
     "output_type": "execute_result"
    }
   ],
   "source": [
    "y_labels_test[:5]"
   ]
  }
 ],
 "metadata": {
  "kernelspec": {
   "display_name": "Python 3 (ipykernel)",
   "language": "python",
   "name": "python3"
  },
  "language_info": {
   "codemirror_mode": {
    "name": "ipython",
    "version": 3
   },
   "file_extension": ".py",
   "mimetype": "text/x-python",
   "name": "python",
   "nbconvert_exporter": "python",
   "pygments_lexer": "ipython3",
   "version": "3.12.4"
  }
 },
 "nbformat": 4,
 "nbformat_minor": 5
}
